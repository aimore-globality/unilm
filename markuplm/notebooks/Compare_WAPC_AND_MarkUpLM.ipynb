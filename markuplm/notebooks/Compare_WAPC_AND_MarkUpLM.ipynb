{
 "cells": [
  {
   "cell_type": "markdown",
   "id": "b51a093a",
   "metadata": {},
   "source": [
    "# Compare WAPC in production with a MarkUpLM"
   ]
  },
  {
   "cell_type": "code",
   "execution_count": 1,
   "id": "702e8eec-7e3d-481e-8bdb-fe035f119738",
   "metadata": {
    "execution": {
     "iopub.execute_input": "2022-03-02T16:32:07.996729Z",
     "iopub.status.busy": "2022-03-02T16:32:07.996240Z",
     "iopub.status.idle": "2022-03-02T16:32:22.148211Z",
     "shell.execute_reply": "2022-03-02T16:32:22.147604Z",
     "shell.execute_reply.started": "2022-03-02T16:32:07.996651Z"
    },
    "tags": []
   },
   "outputs": [
    {
     "name": "stderr",
     "output_type": "stream",
     "text": [
      "/Users/aimoredutra/miniconda3/envs/wae/lib/python3.7/site-packages/torchtext/data/field.py:150: UserWarning: Field class will be retired soon and moved to torchtext.legacy. Please see the most recent release notes for further information.\n",
      "  warnings.warn('{} class will be retired soon and moved to torchtext.legacy. Please see the most recent release notes for further information.'.format(self.__class__.__name__), UserWarning)\n"
     ]
    }
   ],
   "source": [
    "import pandas as pd\n",
    "from web_annotation_extractor.bundles.past_client.bundle import PastClientBundle\n",
    "from microcosm.api import create_object_graph\n",
    "from microcosm_sagemaker.bundle import Bundle, BundleInputArtifact, BundleOutputArtifact"
   ]
  },
  {
   "cell_type": "markdown",
   "id": "0d804bc4",
   "metadata": {},
   "source": [
    "## Load the SWDE-CF data"
   ]
  },
  {
   "cell_type": "code",
   "execution_count": 2,
   "id": "77f38bc7-6d88-4a22-abba-819503ea0071",
   "metadata": {
    "execution": {
     "iopub.execute_input": "2022-03-02T16:32:22.154726Z",
     "iopub.status.busy": "2022-03-02T16:32:22.154395Z",
     "iopub.status.idle": "2022-03-02T16:32:22.162622Z",
     "shell.execute_reply": "2022-03-02T16:32:22.161815Z",
     "shell.execute_reply.started": "2022-03-02T16:32:22.154699Z"
    },
    "tags": []
   },
   "outputs": [],
   "source": [
    "import pandas as pd\n",
    "from pathlib import Path\n",
    "dataset = 'develop'"
   ]
  },
  {
   "cell_type": "code",
   "execution_count": 3,
   "id": "21cf171a-fbdb-4812-85ac-8b7e5d1be15a",
   "metadata": {
    "execution": {
     "iopub.execute_input": "2022-03-02T16:32:22.165313Z",
     "iopub.status.busy": "2022-03-02T16:32:22.165059Z",
     "iopub.status.idle": "2022-03-02T16:32:22.171769Z",
     "shell.execute_reply": "2022-03-02T16:32:22.171140Z",
     "shell.execute_reply.started": "2022-03-02T16:32:22.165282Z"
    },
    "tags": []
   },
   "outputs": [
    {
     "data": {
      "text/plain": [
       "'develop'"
      ]
     },
     "execution_count": 3,
     "metadata": {},
     "output_type": "execute_result"
    }
   ],
   "source": [
    "dataset"
   ]
  },
  {
   "cell_type": "code",
   "execution_count": 4,
   "id": "04830efe-191a-4b51-89e8-f3d96498ef76",
   "metadata": {
    "execution": {
     "iopub.execute_input": "2022-03-02T16:32:22.173097Z",
     "iopub.status.busy": "2022-03-02T16:32:22.172661Z",
     "iopub.status.idle": "2022-03-02T16:32:22.176947Z",
     "shell.execute_reply": "2022-03-02T16:32:22.176131Z",
     "shell.execute_reply.started": "2022-03-02T16:32:22.173068Z"
    },
    "tags": []
   },
   "outputs": [],
   "source": [
    "if dataset == 'develop':\n",
    "    data_path = f\"../../../web-annotation-extractor/data/processed/develop/dataset_pos(1735)_neg(5122)_intermediate.pkl\""
   ]
  },
  {
   "cell_type": "code",
   "execution_count": 5,
   "id": "11e9198a-9fc9-4025-976a-2ba1e6b79c6a",
   "metadata": {
    "execution": {
     "iopub.execute_input": "2022-03-02T16:32:22.178414Z",
     "iopub.status.busy": "2022-03-02T16:32:22.178197Z",
     "iopub.status.idle": "2022-03-02T16:32:24.677179Z",
     "shell.execute_reply": "2022-03-02T16:32:24.676507Z",
     "shell.execute_reply.started": "2022-03-02T16:32:22.178390Z"
    },
    "tags": []
   },
   "outputs": [],
   "source": [
    "df = pd.read_pickle(data_path)"
   ]
  },
  {
   "cell_type": "code",
   "execution_count": 6,
   "id": "9de6b666-7096-45ce-94d5-af3cb11913e0",
   "metadata": {
    "execution": {
     "iopub.execute_input": "2022-03-02T16:32:26.484341Z",
     "iopub.status.busy": "2022-03-02T16:32:26.484051Z",
     "iopub.status.idle": "2022-03-02T16:32:26.534943Z",
     "shell.execute_reply": "2022-03-02T16:32:26.534299Z",
     "shell.execute_reply.started": "2022-03-02T16:32:26.484309Z"
    },
    "tags": []
   },
   "outputs": [
    {
     "name": "stdout",
     "output_type": "stream",
     "text": [
      "6857\n"
     ]
    },
    {
     "data": {
      "text/html": [
       "<div>\n",
       "<style scoped>\n",
       "    .dataframe tbody tr th:only-of-type {\n",
       "        vertical-align: middle;\n",
       "    }\n",
       "\n",
       "    .dataframe tbody tr th {\n",
       "        vertical-align: top;\n",
       "    }\n",
       "\n",
       "    .dataframe thead th {\n",
       "        text-align: right;\n",
       "    }\n",
       "</style>\n",
       "<table border=\"1\" class=\"dataframe\">\n",
       "  <thead>\n",
       "    <tr style=\"text-align: right;\">\n",
       "      <th></th>\n",
       "      <th>url</th>\n",
       "      <th>domain</th>\n",
       "      <th>content_type</th>\n",
       "      <th>annotations</th>\n",
       "      <th>html</th>\n",
       "      <th>crawl_index</th>\n",
       "      <th>source</th>\n",
       "      <th>source_excel</th>\n",
       "      <th>source_batch</th>\n",
       "      <th>annotations_len</th>\n",
       "      <th>annotations-PAST_CLIENT</th>\n",
       "      <th>text-PAST_CLIENT</th>\n",
       "    </tr>\n",
       "  </thead>\n",
       "  <tbody>\n",
       "    <tr>\n",
       "      <th>1</th>\n",
       "      <td>https://1820prod...</td>\n",
       "      <td>1820productions.com</td>\n",
       "      <td>text/html</td>\n",
       "      <td>{'PAST_CLIENT': ...</td>\n",
       "      <td>&lt;!doctype html&gt;\\...</td>\n",
       "      <td>s3://globality-r...</td>\n",
       "      <td>cloudfactory</td>\n",
       "      <td>Batch - 2021-04-...</td>\n",
       "      <td>Batch - 2021-04-...</td>\n",
       "      <td>43</td>\n",
       "      <td>[{'text': 'CBCF'...</td>\n",
       "      <td>[CBCF, Dallas Mo...</td>\n",
       "    </tr>\n",
       "    <tr>\n",
       "      <th>2</th>\n",
       "      <td>https://www.1964...</td>\n",
       "      <td>1964agency.com</td>\n",
       "      <td>text/html</td>\n",
       "      <td>{'PAST_CLIENT': ...</td>\n",
       "      <td>&lt;!doctype html&gt;\\...</td>\n",
       "      <td>s3://globality-r...</td>\n",
       "      <td>cloudfactory</td>\n",
       "      <td>Batch - 2021-04-...</td>\n",
       "      <td>Batch - 2021-04-...</td>\n",
       "      <td>1</td>\n",
       "      <td>[{'text': 'THE B...</td>\n",
       "      <td>[THE BROOKLYN CI...</td>\n",
       "    </tr>\n",
       "  </tbody>\n",
       "</table>\n",
       "</div>"
      ],
      "text/plain": [
       "                   url               domain content_type          annotations  \\\n",
       "1  https://1820prod...  1820productions.com    text/html  {'PAST_CLIENT': ...   \n",
       "2  https://www.1964...       1964agency.com    text/html  {'PAST_CLIENT': ...   \n",
       "\n",
       "                  html          crawl_index        source  \\\n",
       "1  <!doctype html>\\...  s3://globality-r...  cloudfactory   \n",
       "2  <!doctype html>\\...  s3://globality-r...  cloudfactory   \n",
       "\n",
       "          source_excel         source_batch  annotations_len  \\\n",
       "1  Batch - 2021-04-...  Batch - 2021-04-...               43   \n",
       "2  Batch - 2021-04-...  Batch - 2021-04-...                1   \n",
       "\n",
       "  annotations-PAST_CLIENT     text-PAST_CLIENT  \n",
       "1  [{'text': 'CBCF'...     [CBCF, Dallas Mo...  \n",
       "2  [{'text': 'THE B...     [THE BROOKLYN CI...  "
      ]
     },
     "execution_count": 6,
     "metadata": {},
     "output_type": "execute_result"
    }
   ],
   "source": [
    "pd.set_option('max_columns',50, 'max_colwidth',20)\n",
    "print(len(df))\n",
    "df.head(2)"
   ]
  },
  {
   "cell_type": "markdown",
   "id": "f728186e",
   "metadata": {},
   "source": [
    "## Load the WAPC model"
   ]
  },
  {
   "cell_type": "code",
   "execution_count": 7,
   "id": "d9237321-a533-400a-b11b-92593cdee65a",
   "metadata": {
    "execution": {
     "iopub.execute_input": "2022-03-02T16:34:04.999306Z",
     "iopub.status.busy": "2022-03-02T16:34:04.999027Z",
     "iopub.status.idle": "2022-03-02T16:34:05.131501Z",
     "shell.execute_reply": "2022-03-02T16:34:05.130653Z",
     "shell.execute_reply.started": "2022-03-02T16:34:04.999276Z"
    },
    "tags": []
   },
   "outputs": [],
   "source": [
    "graph = create_object_graph('test')\n",
    "pc = PastClientBundle(graph)"
   ]
  },
  {
   "cell_type": "code",
   "execution_count": 8,
   "id": "8c052ac1-a4fc-40c5-83b5-b24d89c30da9",
   "metadata": {
    "execution": {
     "iopub.execute_input": "2022-03-02T16:34:07.050778Z",
     "iopub.status.busy": "2022-03-02T16:34:07.050494Z",
     "iopub.status.idle": "2022-03-02T16:34:26.927582Z",
     "shell.execute_reply": "2022-03-02T16:34:26.926750Z",
     "shell.execute_reply.started": "2022-03-02T16:34:07.050746Z"
    },
    "tags": []
   },
   "outputs": [
    {
     "name": "stderr",
     "output_type": "stream",
     "text": [
      "/Users/aimoredutra/miniconda3/envs/wae/lib/python3.7/site-packages/sklearn/base.py:333: UserWarning: Trying to unpickle estimator SGDClassifier from version 1.0.2 when using version 1.0. This might lead to breaking code or invalid results. Use at your own risk. For more info please refer to:\n",
      "https://scikit-learn.org/stable/modules/model_persistence.html#security-maintainability-limitations\n",
      "  UserWarning,\n",
      "/Users/aimoredutra/miniconda3/envs/wae/lib/python3.7/site-packages/sklearn/base.py:333: UserWarning: Trying to unpickle estimator DecisionTreeClassifier from version 1.0.2 when using version 1.0. This might lead to breaking code or invalid results. Use at your own risk. For more info please refer to:\n",
      "https://scikit-learn.org/stable/modules/model_persistence.html#security-maintainability-limitations\n",
      "  UserWarning,\n",
      "/Users/aimoredutra/miniconda3/envs/wae/lib/python3.7/site-packages/sklearn/base.py:333: UserWarning: Trying to unpickle estimator RandomForestClassifier from version 1.0.2 when using version 1.0. This might lead to breaking code or invalid results. Use at your own risk. For more info please refer to:\n",
      "https://scikit-learn.org/stable/modules/model_persistence.html#security-maintainability-limitations\n",
      "  UserWarning,\n",
      "/Users/aimoredutra/miniconda3/envs/wae/lib/python3.7/site-packages/sklearn/base.py:333: UserWarning: Trying to unpickle estimator TfidfTransformer from version 1.0.2 when using version 1.0. This might lead to breaking code or invalid results. Use at your own risk. For more info please refer to:\n",
      "https://scikit-learn.org/stable/modules/model_persistence.html#security-maintainability-limitations\n",
      "  UserWarning,\n",
      "/Users/aimoredutra/miniconda3/envs/wae/lib/python3.7/site-packages/sklearn/base.py:333: UserWarning: Trying to unpickle estimator TfidfVectorizer from version 1.0.2 when using version 1.0. This might lead to breaking code or invalid results. Use at your own risk. For more info please refer to:\n",
      "https://scikit-learn.org/stable/modules/model_persistence.html#security-maintainability-limitations\n",
      "  UserWarning,\n",
      "/Users/aimoredutra/miniconda3/envs/wae/lib/python3.7/site-packages/sklearn/base.py:333: UserWarning: Trying to unpickle estimator MinMaxScaler from version 1.0.2 when using version 1.0. This might lead to breaking code or invalid results. Use at your own risk. For more info please refer to:\n",
      "https://scikit-learn.org/stable/modules/model_persistence.html#security-maintainability-limitations\n",
      "  UserWarning,\n",
      "/Users/aimoredutra/miniconda3/envs/wae/lib/python3.7/site-packages/sklearn/base.py:333: UserWarning: Trying to unpickle estimator ColumnTransformer from version 1.0.2 when using version 1.0. This might lead to breaking code or invalid results. Use at your own risk. For more info please refer to:\n",
      "https://scikit-learn.org/stable/modules/model_persistence.html#security-maintainability-limitations\n",
      "  UserWarning,\n"
     ]
    }
   ],
   "source": [
    "pc.load(BundleInputArtifact(\"../../../globality-ml-scripts/wae_models/model/past_client_bundle/\"))"
   ]
  },
  {
   "cell_type": "markdown",
   "id": "c716276f",
   "metadata": {},
   "source": [
    "## Predict WAPC on this data"
   ]
  },
  {
   "cell_type": "code",
   "execution_count": 9,
   "id": "1ef34eba",
   "metadata": {
    "execution": {
     "iopub.execute_input": "2022-03-02T16:34:26.929921Z",
     "iopub.status.busy": "2022-03-02T16:34:26.929613Z",
     "iopub.status.idle": "2022-03-02T16:35:45.110252Z",
     "shell.execute_reply": "2022-03-02T16:35:45.109398Z",
     "shell.execute_reply.started": "2022-03-02T16:34:26.929886Z"
    },
    "tags": []
   },
   "outputs": [
    {
     "name": "stderr",
     "output_type": "stream",
     "text": [
      "/Users/aimoredutra/GIT/web-annotation-extractor/web_annotation_extractor/bundles/past_client/preprocessors.py:120: SettingWithCopyWarning: \n",
      "A value is trying to be set on a copy of a slice from a DataFrame.\n",
      "Try using .loc[row_indexer,col_indexer] = value instead\n",
      "\n",
      "See the caveats in the documentation: https://pandas.pydata.org/pandas-docs/stable/user_guide/indexing.html#returning-a-view-versus-a-copy\n",
      "  df[\"content_type\"] = df[\"content_type\"].apply(ContentType)\n",
      "100%|██████████████████████████████████████████████████████████████████████████████████████████████████████████████████████████████████████████████████████████████████████████████████████████████████████████████████████████████████████████████████████████████████████████████████████| 12/12 [00:00<00:00, 796.54it/s]\n",
      "100%|███████████████████████████████████████████████████████████████████████████████████████████████████████████████████████████████████████████████████████████████████████████████████████████████████████████████████████████████████████████████████████████████████████████████████████| 12/12 [00:38<00:00,  3.17s/it]\n",
      "100%|███████████████████████████████████████████████████████████████████████████████████████████████████████████████████████████████████████████████████████████████████████████████████████████████████████████████████████████████████████████████████████████████████████████████████████| 12/12 [00:02<00:00,  5.31it/s]\n",
      "100%|███████████████████████████████████████████████████████████████████████████████████████████████████████████████████████████████████████████████████████████████████████████████████████████████████████████████████████████████████████████████████████████████████████████████████████| 12/12 [00:01<00:00,  7.41it/s]\n",
      "100%|███████████████████████████████████████████████████████████████████████████████████████████████████████████████████████████████████████████████████████████████████████████████████████████████████████████████████████████████████████████████████████████████████████████████████████| 12/12 [00:17<00:00,  1.46s/it]\n"
     ]
    }
   ],
   "source": [
    "df['extracted_entities'] = pc.predict_batch(df['url'], df['html'], df['content_type'])"
   ]
  },
  {
   "cell_type": "code",
   "execution_count": 10,
   "id": "cba10751-9536-4457-8297-a8650e045b3e",
   "metadata": {
    "execution": {
     "iopub.execute_input": "2022-03-02T16:35:45.112973Z",
     "iopub.status.busy": "2022-03-02T16:35:45.112629Z",
     "iopub.status.idle": "2022-03-02T16:35:45.182716Z",
     "shell.execute_reply": "2022-03-02T16:35:45.182063Z",
     "shell.execute_reply.started": "2022-03-02T16:35:45.112940Z"
    },
    "tags": []
   },
   "outputs": [
    {
     "data": {
      "text/html": [
       "<div>\n",
       "<style scoped>\n",
       "    .dataframe tbody tr th:only-of-type {\n",
       "        vertical-align: middle;\n",
       "    }\n",
       "\n",
       "    .dataframe tbody tr th {\n",
       "        vertical-align: top;\n",
       "    }\n",
       "\n",
       "    .dataframe thead th {\n",
       "        text-align: right;\n",
       "    }\n",
       "</style>\n",
       "<table border=\"1\" class=\"dataframe\">\n",
       "  <thead>\n",
       "    <tr style=\"text-align: right;\">\n",
       "      <th></th>\n",
       "      <th>url</th>\n",
       "      <th>domain</th>\n",
       "      <th>content_type</th>\n",
       "      <th>annotations</th>\n",
       "      <th>html</th>\n",
       "      <th>crawl_index</th>\n",
       "      <th>source</th>\n",
       "      <th>source_excel</th>\n",
       "      <th>source_batch</th>\n",
       "      <th>annotations_len</th>\n",
       "      <th>annotations-PAST_CLIENT</th>\n",
       "      <th>text-PAST_CLIENT</th>\n",
       "      <th>extracted_entities</th>\n",
       "    </tr>\n",
       "  </thead>\n",
       "  <tbody>\n",
       "    <tr>\n",
       "      <th>1</th>\n",
       "      <td>https://1820prod...</td>\n",
       "      <td>1820productions.com</td>\n",
       "      <td>text/html</td>\n",
       "      <td>{'PAST_CLIENT': ...</td>\n",
       "      <td>&lt;!doctype html&gt;\\...</td>\n",
       "      <td>s3://globality-r...</td>\n",
       "      <td>cloudfactory</td>\n",
       "      <td>Batch - 2021-04-...</td>\n",
       "      <td>Batch - 2021-04-...</td>\n",
       "      <td>43</td>\n",
       "      <td>[{'text': 'CBCF'...</td>\n",
       "      <td>[CBCF, Dallas Mo...</td>\n",
       "      <td>[]</td>\n",
       "    </tr>\n",
       "    <tr>\n",
       "      <th>2</th>\n",
       "      <td>https://www.1964...</td>\n",
       "      <td>1964agency.com</td>\n",
       "      <td>text/html</td>\n",
       "      <td>{'PAST_CLIENT': ...</td>\n",
       "      <td>&lt;!doctype html&gt;\\...</td>\n",
       "      <td>s3://globality-r...</td>\n",
       "      <td>cloudfactory</td>\n",
       "      <td>Batch - 2021-04-...</td>\n",
       "      <td>Batch - 2021-04-...</td>\n",
       "      <td>1</td>\n",
       "      <td>[{'text': 'THE B...</td>\n",
       "      <td>[THE BROOKLYN CI...</td>\n",
       "      <td>[]</td>\n",
       "    </tr>\n",
       "    <tr>\n",
       "      <th>4</th>\n",
       "      <td>https://www.4-mo...</td>\n",
       "      <td>4most.co.uk</td>\n",
       "      <td>text/html</td>\n",
       "      <td>{'CASE_STUDY': [...</td>\n",
       "      <td>&lt;!doctype html&gt;\\...</td>\n",
       "      <td>s3://globality-r...</td>\n",
       "      <td>cloudfactory</td>\n",
       "      <td>Batch - 2021-05-...</td>\n",
       "      <td>Batch - 2021-05-...</td>\n",
       "      <td>1</td>\n",
       "      <td>[{'text': 'auxmo...</td>\n",
       "      <td>[auxmoney]</td>\n",
       "      <td>[]</td>\n",
       "    </tr>\n",
       "    <tr>\n",
       "      <th>6</th>\n",
       "      <td>https://www.4-mo...</td>\n",
       "      <td>4most.co.uk</td>\n",
       "      <td>text/html</td>\n",
       "      <td>{'CASE_STUDY': [...</td>\n",
       "      <td>&lt;!doctype html&gt;\\...</td>\n",
       "      <td>s3://globality-r...</td>\n",
       "      <td>cloudfactory</td>\n",
       "      <td>Batch - 2021-05-...</td>\n",
       "      <td>Batch - 2021-05-...</td>\n",
       "      <td>1</td>\n",
       "      <td>[{'text': 'Hamps...</td>\n",
       "      <td>[Hampshire Trust...</td>\n",
       "      <td>[]</td>\n",
       "    </tr>\n",
       "    <tr>\n",
       "      <th>7</th>\n",
       "      <td>https://www.4-mo...</td>\n",
       "      <td>4most.co.uk</td>\n",
       "      <td>text/html</td>\n",
       "      <td>{'PAST_CLIENT': ...</td>\n",
       "      <td>&lt;!doctype html&gt;\\...</td>\n",
       "      <td>s3://globality-r...</td>\n",
       "      <td>cloudfactory</td>\n",
       "      <td>Batch - 2021-05-...</td>\n",
       "      <td>Batch - 2021-05-...</td>\n",
       "      <td>1</td>\n",
       "      <td>[{'text': 'tsB',...</td>\n",
       "      <td>[tsB]</td>\n",
       "      <td>[]</td>\n",
       "    </tr>\n",
       "    <tr>\n",
       "      <th>...</th>\n",
       "      <td>...</td>\n",
       "      <td>...</td>\n",
       "      <td>...</td>\n",
       "      <td>...</td>\n",
       "      <td>...</td>\n",
       "      <td>...</td>\n",
       "      <td>...</td>\n",
       "      <td>...</td>\n",
       "      <td>...</td>\n",
       "      <td>...</td>\n",
       "      <td>...</td>\n",
       "      <td>...</td>\n",
       "      <td>...</td>\n",
       "    </tr>\n",
       "    <tr>\n",
       "      <th>75593</th>\n",
       "      <td>https://www.walk...</td>\n",
       "      <td>walkerhamill.com</td>\n",
       "      <td>text/html</td>\n",
       "      <td>{}</td>\n",
       "      <td>&lt;!DOCTYPE html&gt;\\...</td>\n",
       "      <td>s3://globality-r...</td>\n",
       "      <td>cloudfactory</td>\n",
       "      <td></td>\n",
       "      <td>nan</td>\n",
       "      <td>0</td>\n",
       "      <td>NaN</td>\n",
       "      <td>NaN</td>\n",
       "      <td>[]</td>\n",
       "    </tr>\n",
       "    <tr>\n",
       "      <th>75615</th>\n",
       "      <td>https://www.walk...</td>\n",
       "      <td>walkerhamill.com</td>\n",
       "      <td>text/html</td>\n",
       "      <td>{}</td>\n",
       "      <td>&lt;!DOCTYPE html&gt;\\...</td>\n",
       "      <td>s3://globality-r...</td>\n",
       "      <td>cloudfactory</td>\n",
       "      <td></td>\n",
       "      <td>nan</td>\n",
       "      <td>0</td>\n",
       "      <td>NaN</td>\n",
       "      <td>NaN</td>\n",
       "      <td>[]</td>\n",
       "    </tr>\n",
       "    <tr>\n",
       "      <th>75649</th>\n",
       "      <td>https://www.walk...</td>\n",
       "      <td>walkerhamill.com</td>\n",
       "      <td>text/html</td>\n",
       "      <td>{}</td>\n",
       "      <td>&lt;!DOCTYPE html&gt;\\...</td>\n",
       "      <td>s3://globality-r...</td>\n",
       "      <td>cloudfactory</td>\n",
       "      <td></td>\n",
       "      <td>nan</td>\n",
       "      <td>0</td>\n",
       "      <td>NaN</td>\n",
       "      <td>NaN</td>\n",
       "      <td>[]</td>\n",
       "    </tr>\n",
       "    <tr>\n",
       "      <th>75597</th>\n",
       "      <td>https://www.walk...</td>\n",
       "      <td>walkerhamill.com</td>\n",
       "      <td>text/html</td>\n",
       "      <td>{}</td>\n",
       "      <td>&lt;!DOCTYPE html&gt;\\...</td>\n",
       "      <td>s3://globality-r...</td>\n",
       "      <td>cloudfactory</td>\n",
       "      <td></td>\n",
       "      <td>nan</td>\n",
       "      <td>0</td>\n",
       "      <td>NaN</td>\n",
       "      <td>NaN</td>\n",
       "      <td>[]</td>\n",
       "    </tr>\n",
       "    <tr>\n",
       "      <th>75721</th>\n",
       "      <td>https://www.walk...</td>\n",
       "      <td>walkerhamill.com</td>\n",
       "      <td>text/html</td>\n",
       "      <td>{}</td>\n",
       "      <td>&lt;!DOCTYPE html&gt;\\...</td>\n",
       "      <td>s3://globality-r...</td>\n",
       "      <td>cloudfactory</td>\n",
       "      <td></td>\n",
       "      <td>nan</td>\n",
       "      <td>0</td>\n",
       "      <td>NaN</td>\n",
       "      <td>NaN</td>\n",
       "      <td>[]</td>\n",
       "    </tr>\n",
       "  </tbody>\n",
       "</table>\n",
       "<p>6857 rows × 13 columns</p>\n",
       "</div>"
      ],
      "text/plain": [
       "                       url               domain content_type  \\\n",
       "1      https://1820prod...  1820productions.com    text/html   \n",
       "2      https://www.1964...       1964agency.com    text/html   \n",
       "4      https://www.4-mo...          4most.co.uk    text/html   \n",
       "6      https://www.4-mo...          4most.co.uk    text/html   \n",
       "7      https://www.4-mo...          4most.co.uk    text/html   \n",
       "...                    ...                  ...          ...   \n",
       "75593  https://www.walk...     walkerhamill.com    text/html   \n",
       "75615  https://www.walk...     walkerhamill.com    text/html   \n",
       "75649  https://www.walk...     walkerhamill.com    text/html   \n",
       "75597  https://www.walk...     walkerhamill.com    text/html   \n",
       "75721  https://www.walk...     walkerhamill.com    text/html   \n",
       "\n",
       "               annotations                 html          crawl_index  \\\n",
       "1      {'PAST_CLIENT': ...  <!doctype html>\\...  s3://globality-r...   \n",
       "2      {'PAST_CLIENT': ...  <!doctype html>\\...  s3://globality-r...   \n",
       "4      {'CASE_STUDY': [...  <!doctype html>\\...  s3://globality-r...   \n",
       "6      {'CASE_STUDY': [...  <!doctype html>\\...  s3://globality-r...   \n",
       "7      {'PAST_CLIENT': ...  <!doctype html>\\...  s3://globality-r...   \n",
       "...                    ...                  ...                  ...   \n",
       "75593                   {}  <!DOCTYPE html>\\...  s3://globality-r...   \n",
       "75615                   {}  <!DOCTYPE html>\\...  s3://globality-r...   \n",
       "75649                   {}  <!DOCTYPE html>\\...  s3://globality-r...   \n",
       "75597                   {}  <!DOCTYPE html>\\...  s3://globality-r...   \n",
       "75721                   {}  <!DOCTYPE html>\\...  s3://globality-r...   \n",
       "\n",
       "             source         source_excel         source_batch  \\\n",
       "1      cloudfactory  Batch - 2021-04-...  Batch - 2021-04-...   \n",
       "2      cloudfactory  Batch - 2021-04-...  Batch - 2021-04-...   \n",
       "4      cloudfactory  Batch - 2021-05-...  Batch - 2021-05-...   \n",
       "6      cloudfactory  Batch - 2021-05-...  Batch - 2021-05-...   \n",
       "7      cloudfactory  Batch - 2021-05-...  Batch - 2021-05-...   \n",
       "...             ...                  ...                  ...   \n",
       "75593  cloudfactory                                       nan   \n",
       "75615  cloudfactory                                       nan   \n",
       "75649  cloudfactory                                       nan   \n",
       "75597  cloudfactory                                       nan   \n",
       "75721  cloudfactory                                       nan   \n",
       "\n",
       "       annotations_len annotations-PAST_CLIENT     text-PAST_CLIENT  \\\n",
       "1                   43  [{'text': 'CBCF'...     [CBCF, Dallas Mo...   \n",
       "2                    1  [{'text': 'THE B...     [THE BROOKLYN CI...   \n",
       "4                    1  [{'text': 'auxmo...              [auxmoney]   \n",
       "6                    1  [{'text': 'Hamps...     [Hampshire Trust...   \n",
       "7                    1  [{'text': 'tsB',...                   [tsB]   \n",
       "...                ...                  ...                     ...   \n",
       "75593                0                  NaN                     NaN   \n",
       "75615                0                  NaN                     NaN   \n",
       "75649                0                  NaN                     NaN   \n",
       "75597                0                  NaN                     NaN   \n",
       "75721                0                  NaN                     NaN   \n",
       "\n",
       "      extracted_entities  \n",
       "1                     []  \n",
       "2                     []  \n",
       "4                     []  \n",
       "6                     []  \n",
       "7                     []  \n",
       "...                  ...  \n",
       "75593                 []  \n",
       "75615                 []  \n",
       "75649                 []  \n",
       "75597                 []  \n",
       "75721                 []  \n",
       "\n",
       "[6857 rows x 13 columns]"
      ]
     },
     "execution_count": 10,
     "metadata": {},
     "output_type": "execute_result"
    }
   ],
   "source": [
    "df"
   ]
  },
  {
   "cell_type": "markdown",
   "id": "3882bb56",
   "metadata": {},
   "source": [
    "## Get WAPC metrics"
   ]
  },
  {
   "cell_type": "code",
   "execution_count": 11,
   "id": "c0e34b18-7884-4704-be61-2e0ba2225d25",
   "metadata": {
    "execution": {
     "iopub.execute_input": "2022-03-02T16:35:45.184992Z",
     "iopub.status.busy": "2022-03-02T16:35:45.184755Z",
     "iopub.status.idle": "2022-03-02T16:35:45.188234Z",
     "shell.execute_reply": "2022-03-02T16:35:45.187503Z",
     "shell.execute_reply.started": "2022-03-02T16:35:45.184966Z"
    },
    "tags": []
   },
   "outputs": [],
   "source": [
    "from web_annotation_extractor.evaluations.exact_match_evaluation import ExactMatchEvaluation"
   ]
  },
  {
   "cell_type": "code",
   "execution_count": 16,
   "id": "9f59b925-8892-4141-8777-e8bcb812ba32",
   "metadata": {
    "execution": {
     "iopub.execute_input": "2022-03-02T16:36:42.088109Z",
     "iopub.status.busy": "2022-03-02T16:36:42.087731Z",
     "iopub.status.idle": "2022-03-02T16:36:42.096727Z",
     "shell.execute_reply": "2022-03-02T16:36:42.095967Z",
     "shell.execute_reply.started": "2022-03-02T16:36:42.088075Z"
    },
    "tags": []
   },
   "outputs": [],
   "source": [
    "ground_truth = df['annotations-PAST_CLIENT'].dropna().apply(lambda x: [str(y.get(\"value\")) for y in x if y.get(\"value\") != None])\n",
    "df[\"ground_truth\"] = ground_truth"
   ]
  },
  {
   "cell_type": "code",
   "execution_count": 19,
   "id": "a357ddc4-f45d-4b14-a973-c7b7af36922c",
   "metadata": {
    "execution": {
     "iopub.execute_input": "2022-03-02T16:37:03.320474Z",
     "iopub.status.busy": "2022-03-02T16:37:03.320180Z",
     "iopub.status.idle": "2022-03-02T16:37:03.331185Z",
     "shell.execute_reply": "2022-03-02T16:37:03.330498Z",
     "shell.execute_reply.started": "2022-03-02T16:37:03.320443Z"
    },
    "tags": []
   },
   "outputs": [],
   "source": [
    "predictions = df[\"extracted_entities\"].apply(lambda x: [str(w) for z in [y.taxonomy_uris for y in x] for w in z])\n",
    "df[\"predictions\"] = predictions"
   ]
  },
  {
   "cell_type": "code",
   "execution_count": 20,
   "id": "b9335a64-e9df-4cc8-8aa6-431fbd81246a",
   "metadata": {
    "execution": {
     "iopub.execute_input": "2022-03-02T16:37:04.107642Z",
     "iopub.status.busy": "2022-03-02T16:37:04.107365Z",
     "iopub.status.idle": "2022-03-02T16:37:04.111391Z",
     "shell.execute_reply": "2022-03-02T16:37:04.110605Z",
     "shell.execute_reply.started": "2022-03-02T16:37:04.107614Z"
    },
    "tags": []
   },
   "outputs": [],
   "source": [
    "# Example:\n",
    "# p = {'a', 'b', 'c', '1', '2'}\n",
    "# gt = {'b', 'c', 'd'}\n",
    "\n",
    "# TP = p & gt\n",
    "# FP = p - gt\n",
    "# FN = gt - p\n",
    "\n",
    "# print(f\"TP: {TP} - {len(TP)}, \\\n",
    "#         FP: {FP} - {len(FP)}, \\\n",
    "#         FN: {FN} - {len(FN)}\")"
   ]
  },
  {
   "cell_type": "code",
   "execution_count": 31,
   "id": "aa147eba-a338-4365-885f-fd5d7c3b1b7d",
   "metadata": {
    "execution": {
     "iopub.execute_input": "2022-03-02T16:39:12.349019Z",
     "iopub.status.busy": "2022-03-02T16:39:12.348709Z",
     "iopub.status.idle": "2022-03-02T16:39:12.357443Z",
     "shell.execute_reply": "2022-03-02T16:39:12.356459Z",
     "shell.execute_reply.started": "2022-03-02T16:39:12.348988Z"
    },
    "tags": []
   },
   "outputs": [],
   "source": [
    "def compute_recall_adjusted(ground_truth_set, prediction_set, negative_percentage=1):\n",
    "    fp_scalar = 1/negative_percentage\n",
    "    \n",
    "    TP = len(prediction_set & ground_truth_set)\n",
    "    FN = len(ground_truth_set - prediction_set)\n",
    "    \n",
    "    if TP+FN > 0:\n",
    "        return TP/(TP+FN)\n",
    "    return None\n",
    "\n",
    "def compute_precision_adjusted(ground_truth_set, prediction_set, negative_percentage=1):\n",
    "    fp_scalar = 1/negative_percentage\n",
    "    \n",
    "    TP = len(prediction_set & ground_truth_set)\n",
    "    FP = len(prediction_set - ground_truth_set) * fp_scalar    \n",
    "    \n",
    "    if TP+FP > 0:\n",
    "        return TP/(TP+FP)\n",
    "    return None\n",
    "\n",
    "negative_percentage = 0.10\n",
    "\n",
    "def compute_segmentation_metrics(ground_truth, predictions):\n",
    "    predictions = {str(text) for text in predictions}\n",
    "    ground_truth = {str(text) for text in ground_truth}\n",
    "\n",
    "#     recall = ExactMatchEvaluation.compute_recall(ground_truth, predictions)\n",
    "#     precision = ExactMatchEvaluation.compute_precision(ground_truth, predictions)\n",
    "    \n",
    "    recall = compute_recall_adjusted(ground_truth, predictions, negative_percentage)\n",
    "    precision = compute_precision_adjusted(ground_truth, predictions, negative_percentage)\n",
    "    \n",
    "    f1 = ExactMatchEvaluation.compute_f1(precision, recall)\n",
    "    return pd.Series({\n",
    "            \"segmentation_precision\": precision,\n",
    "            \"segmentation_recall\": recall,\n",
    "            \"segmentation_f1\": f1,\n",
    "        })"
   ]
  },
  {
   "cell_type": "code",
   "execution_count": 33,
   "id": "07c557e3-07a2-4fcf-8c29-3ad959c25fa7",
   "metadata": {
    "execution": {
     "iopub.execute_input": "2022-03-02T16:39:49.060701Z",
     "iopub.status.busy": "2022-03-02T16:39:49.060421Z",
     "iopub.status.idle": "2022-03-02T16:39:49.120793Z",
     "shell.execute_reply": "2022-03-02T16:39:49.120080Z",
     "shell.execute_reply.started": "2022-03-02T16:39:49.060670Z"
    },
    "tags": []
   },
   "outputs": [
    {
     "data": {
      "text/plain": [
       "{'segmentation_precision': 0.5804902366199225,\n",
       " 'segmentation_recall': 0.2529135929355461,\n",
       " 'segmentation_f1': 0.3192272566347526}"
      ]
     },
     "execution_count": 33,
     "metadata": {},
     "output_type": "execute_result"
    }
   ],
   "source": [
    "df_domain_metrics = df.groupby(\"domain\").apply(lambda x: compute_segmentation_metrics(x.ground_truth, x.predictions))\n",
    "df_domain_metrics.mean().to_dict()"
   ]
  },
  {
   "cell_type": "markdown",
   "id": "32cdf0ac-3dc5-4721-9f88-c2af4aef0f7c",
   "metadata": {},
   "source": [
    "# Load SWDE data"
   ]
  },
  {
   "cell_type": "markdown",
   "id": "0bf8666a",
   "metadata": {},
   "source": [
    "## Load the trained MarkUp model "
   ]
  },
  {
   "cell_type": "code",
   "execution_count": 17,
   "id": "295d36a6",
   "metadata": {
    "execution": {
     "iopub.execute_input": "2022-03-01T16:30:35.368186Z",
     "iopub.status.busy": "2022-03-01T16:30:35.367879Z",
     "iopub.status.idle": "2022-03-01T16:30:35.473206Z",
     "shell.execute_reply": "2022-03-01T16:30:35.472540Z",
     "shell.execute_reply.started": "2022-03-01T16:30:35.368158Z"
    },
    "tags": []
   },
   "outputs": [],
   "source": [
    "pc = PastClientBundle(graph)"
   ]
  },
  {
   "cell_type": "code",
   "execution_count": 35,
   "id": "c0855c59-b846-45cf-bc3f-b6cb0704f127",
   "metadata": {
    "execution": {
     "iopub.execute_input": "2022-03-02T16:51:04.221852Z",
     "iopub.status.busy": "2022-03-02T16:51:04.221593Z",
     "iopub.status.idle": "2022-03-02T16:51:47.046882Z",
     "shell.execute_reply": "2022-03-02T16:51:47.045960Z",
     "shell.execute_reply.started": "2022-03-02T16:51:04.221825Z"
    },
    "tags": []
   },
   "outputs": [
    {
     "name": "stderr",
     "output_type": "stream",
     "text": [
      "100%|██████████████████████████████████████████████████████████████████████████████████████████████████████████████████████████████████████████████████████████████████████████████████████████████████████████████████████████████████████████████████████████████████████████████████████| 12/12 [00:00<00:00, 293.79it/s]\n",
      "100%|███████████████████████████████████████████████████████████████████████████████████████████████████████████████████████████████████████████████████████████████████████████████████████████████████████████████████████████████████████████████████████████████████████████████████████| 12/12 [00:37<00:00,  3.09s/it]\n",
      "100%|███████████████████████████████████████████████████████████████████████████████████████████████████████████████████████████████████████████████████████████████████████████████████████████████████████████████████████████████████████████████████████████████████████████████████████| 12/12 [00:02<00:00,  5.19it/s]\n"
     ]
    }
   ],
   "source": [
    "df = pc.simplifier.simplify(df)"
   ]
  },
  {
   "cell_type": "code",
   "execution_count": 36,
   "id": "a16cc9e8-84f6-4eb5-a426-6767a055ed67",
   "metadata": {
    "execution": {
     "iopub.execute_input": "2022-03-02T16:51:47.049277Z",
     "iopub.status.busy": "2022-03-02T16:51:47.049013Z",
     "iopub.status.idle": "2022-03-02T16:52:07.951453Z",
     "shell.execute_reply": "2022-03-02T16:52:07.950634Z",
     "shell.execute_reply.started": "2022-03-02T16:51:47.049245Z"
    },
    "tags": []
   },
   "outputs": [
    {
     "name": "stderr",
     "output_type": "stream",
     "text": [
      "100%|███████████████████████████████████████████████████████████████████████████████████████████████████████████████████████████████████████████████████████████████████████████████████████████████████████████████████████████████████████████████████████████████████████████████████████| 12/12 [00:01<00:00,  7.45it/s]\n",
      "100%|███████████████████████████████████████████████████████████████████████████████████████████████████████████████████████████████████████████████████████████████████████████████████████████████████████████████████████████████████████████████████████████████████████████████████████| 12/12 [00:18<00:00,  1.55s/it]\n"
     ]
    }
   ],
   "source": [
    "df = pc.segmenter_url.segment(df)\n",
    "df = pc.segmenter_html.segment(df)"
   ]
  },
  {
   "cell_type": "code",
   "execution_count": 37,
   "id": "fe1d19bd-870c-404e-90ea-6e3e5b5183c8",
   "metadata": {
    "execution": {
     "iopub.execute_input": "2022-03-02T16:52:07.953473Z",
     "iopub.status.busy": "2022-03-02T16:52:07.953111Z",
     "iopub.status.idle": "2022-03-02T16:52:07.974319Z",
     "shell.execute_reply": "2022-03-02T16:52:07.973575Z",
     "shell.execute_reply.started": "2022-03-02T16:52:07.953440Z"
    },
    "tags": []
   },
   "outputs": [],
   "source": [
    "html_predictions_without_training = df['html_simplified_segmentations'].apply(lambda x: [pc.uri_company_map.get(y[0]) for y in x])"
   ]
  },
  {
   "cell_type": "code",
   "execution_count": 38,
   "id": "f0257691-f984-480c-937d-e0be6e6ef5f8",
   "metadata": {
    "execution": {
     "iopub.execute_input": "2022-03-02T16:52:07.977665Z",
     "iopub.status.busy": "2022-03-02T16:52:07.977410Z",
     "iopub.status.idle": "2022-03-02T16:52:07.985723Z",
     "shell.execute_reply": "2022-03-02T16:52:07.985049Z",
     "shell.execute_reply.started": "2022-03-02T16:52:07.977635Z"
    },
    "tags": []
   },
   "outputs": [],
   "source": [
    "url_predictions_without_training = df['url_simplified_segmentations'].apply(lambda x: [pc.uri_company_map.get(y[0]) for y in x])"
   ]
  },
  {
   "cell_type": "code",
   "execution_count": 39,
   "id": "258377dc-48f6-44ae-8e10-2fbd9027403b",
   "metadata": {
    "execution": {
     "iopub.execute_input": "2022-03-02T16:52:07.989504Z",
     "iopub.status.busy": "2022-03-02T16:52:07.989115Z",
     "iopub.status.idle": "2022-03-02T16:52:08.780440Z",
     "shell.execute_reply": "2022-03-02T16:52:08.779560Z",
     "shell.execute_reply.started": "2022-03-02T16:52:07.989472Z"
    },
    "tags": []
   },
   "outputs": [],
   "source": [
    "predictions_without_training = html_predictions_without_training + url_predictions_without_training"
   ]
  },
  {
   "cell_type": "code",
   "execution_count": 40,
   "id": "292e0c9a-47ae-4b8b-912a-54ed6b5b3872",
   "metadata": {
    "execution": {
     "iopub.execute_input": "2022-03-02T16:52:08.782267Z",
     "iopub.status.busy": "2022-03-02T16:52:08.781995Z",
     "iopub.status.idle": "2022-03-02T16:52:08.854416Z",
     "shell.execute_reply": "2022-03-02T16:52:08.853723Z",
     "shell.execute_reply.started": "2022-03-02T16:52:08.782234Z"
    },
    "tags": []
   },
   "outputs": [
    {
     "data": {
      "text/plain": [
       "{'segmentation_precision': 0.25804146294558367,\n",
       " 'segmentation_recall': 0.2510516754266307,\n",
       " 'segmentation_f1': 0.18578608638647937}"
      ]
     },
     "execution_count": 40,
     "metadata": {},
     "output_type": "execute_result"
    }
   ],
   "source": [
    "df[\"predictions_without_training\"] = predictions_without_training\n",
    "df_domain_metrics = df.groupby(\"domain\").apply(lambda x: compute_segmentation_metrics(x.ground_truth, x.predictions_without_training))\n",
    "df_domain_metrics.mean().to_dict()"
   ]
  },
  {
   "cell_type": "code",
   "execution_count": null,
   "id": "163182c7-2712-4cd9-aad9-8751b3c0d107",
   "metadata": {},
   "outputs": [],
   "source": []
  },
  {
   "cell_type": "markdown",
   "id": "19d87707",
   "metadata": {},
   "source": [
    "## Predict the MarkUp model on the data"
   ]
  },
  {
   "cell_type": "code",
   "execution_count": null,
   "id": "491c0df6",
   "metadata": {
    "execution": {
     "iopub.status.busy": "2022-03-01T14:54:28.132167Z",
     "iopub.status.idle": "2022-03-01T14:54:28.132438Z",
     "shell.execute_reply": "2022-03-01T14:54:28.132296Z",
     "shell.execute_reply.started": "2022-03-01T14:54:28.132282Z"
    }
   },
   "outputs": [],
   "source": [
    "pc = PastClientBundle(graph)\n",
    "pc"
   ]
  },
  {
   "cell_type": "markdown",
   "id": "99c99ffb",
   "metadata": {},
   "source": [
    "## Get MarkupLM metrics"
   ]
  },
  {
   "cell_type": "code",
   "execution_count": null,
   "id": "895f4f54",
   "metadata": {},
   "outputs": [],
   "source": []
  },
  {
   "cell_type": "markdown",
   "id": "e8390536",
   "metadata": {},
   "source": [
    "## Compare Results"
   ]
  },
  {
   "cell_type": "code",
   "execution_count": null,
   "id": "c14f5df6",
   "metadata": {},
   "outputs": [],
   "source": []
  }
 ],
 "metadata": {
  "kernelspec": {
   "display_name": "wae",
   "language": "python",
   "name": "wae"
  },
  "language_info": {
   "codemirror_mode": {
    "name": "ipython",
    "version": 3
   },
   "file_extension": ".py",
   "mimetype": "text/x-python",
   "name": "python",
   "nbconvert_exporter": "python",
   "pygments_lexer": "ipython3",
   "version": "3.7.11"
  },
  "toc-autonumbering": true
 },
 "nbformat": 4,
 "nbformat_minor": 5
}
