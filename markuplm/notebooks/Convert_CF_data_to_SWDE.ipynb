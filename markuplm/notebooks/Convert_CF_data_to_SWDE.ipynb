{
 "cells": [
  {
   "cell_type": "markdown",
   "id": "58164c0f",
   "metadata": {
    "tags": []
   },
   "source": [
    "# Convert the CF data into the SWDE format\n",
    "1. This is done per dataset type (train, develop, test)\n",
    "2. Make sure to select only the positive subset (pages containin at least one PAST CLIENT annotation text)\n",
    "3. Select the Tags (default = PAST_CLIENT)\n",
    "---\n",
    "After that, this notebook will:\n",
    "1. Clean a bit the data\n",
    " - By adjusting the name of domains by removing any hyphen\n",
    " - Making sure the name of the domain doesnt contain parenthesis\n",
    "2. Remove annotations:\n",
    " - Those that don't contain html\n",
    " - Those that cannot be found in the html (using the same processing they do on the html) \n",
    " - Those annotations that are pointing to links (contain http)\n",
    "3. Format and save the data into the appropriate SWDE format\n",
    "---\n",
    "website = domain"
   ]
  },
  {
   "cell_type": "code",
   "execution_count": 1,
   "id": "6e166c89",
   "metadata": {
    "execution": {
     "iopub.execute_input": "2022-03-01T18:29:44.014697Z",
     "iopub.status.busy": "2022-03-01T18:29:44.014485Z",
     "iopub.status.idle": "2022-03-01T18:29:45.596573Z",
     "shell.execute_reply": "2022-03-01T18:29:45.595935Z",
     "shell.execute_reply.started": "2022-03-01T18:29:44.014635Z"
    },
    "tags": []
   },
   "outputs": [],
   "source": [
    "import pandas as pd\n",
    "import pandavro as pdx\n",
    "from ast import literal_eval\n",
    "from pathlib import Path\n",
    "import os   \n",
    "import sys\n",
    "import shutil\n",
    "from tqdm import tqdm\n",
    "from markuplmft.fine_tuning.run_swde.prepare_data import get_dom_tree"
   ]
  },
  {
   "cell_type": "markdown",
   "id": "9fca6f6e",
   "metadata": {
    "tags": []
   },
   "source": [
    "# Load"
   ]
  },
  {
   "cell_type": "code",
   "execution_count": 2,
   "id": "878fa93c",
   "metadata": {
    "execution": {
     "iopub.execute_input": "2022-03-01T18:29:45.598537Z",
     "iopub.status.busy": "2022-03-01T18:29:45.598298Z",
     "iopub.status.idle": "2022-03-01T18:29:45.602305Z",
     "shell.execute_reply": "2022-03-01T18:29:45.601395Z",
     "shell.execute_reply.started": "2022-03-01T18:29:45.598511Z"
    },
    "tags": []
   },
   "outputs": [],
   "source": [
    "dataset = 'develop'"
   ]
  },
  {
   "cell_type": "markdown",
   "id": "a950161c",
   "metadata": {},
   "source": [
    "## Full Data"
   ]
  },
  {
   "cell_type": "code",
   "execution_count": 3,
   "id": "fb985a63",
   "metadata": {
    "execution": {
     "iopub.execute_input": "2022-03-01T18:29:45.603646Z",
     "iopub.status.busy": "2022-03-01T18:29:45.603357Z",
     "iopub.status.idle": "2022-03-01T18:30:42.215258Z",
     "shell.execute_reply": "2022-03-01T18:30:42.214547Z",
     "shell.execute_reply.started": "2022-03-01T18:29:45.603620Z"
    },
    "tags": []
   },
   "outputs": [
    {
     "data": {
      "text/plain": [
       "75825"
      ]
     },
     "execution_count": 3,
     "metadata": {},
     "output_type": "execute_result"
    }
   ],
   "source": [
    "data_path = f\"../../../web-annotation-extractor/data/processed/{dataset}/dataset.avro\"\n",
    "df = pdx.read_avro(data_path)\n",
    "df.annotations = df.annotations.apply(literal_eval)\n",
    "len(df)"
   ]
  },
  {
   "cell_type": "markdown",
   "id": "836fecc3",
   "metadata": {},
   "source": [
    "## Positive Data (containing at least one annotation)"
   ]
  },
  {
   "cell_type": "code",
   "execution_count": 7,
   "id": "d8b3230d-a1b7-498c-a0d9-c8dd578ed374",
   "metadata": {
    "execution": {
     "iopub.execute_input": "2022-03-01T18:31:18.693049Z",
     "iopub.status.busy": "2022-03-01T18:31:18.692744Z",
     "iopub.status.idle": "2022-03-01T18:31:18.921728Z",
     "shell.execute_reply": "2022-03-01T18:31:18.920858Z",
     "shell.execute_reply.started": "2022-03-01T18:31:18.693016Z"
    },
    "tags": []
   },
   "outputs": [],
   "source": [
    "# Count PAST CLIENT annotations\n",
    "df['annotations_len'] = df['annotations'].apply(lambda x: x.get(\"PAST_CLIENT\", [])).apply(len)\n",
    "\n",
    "df_positives = df[df['annotations_len'] > 0]\n",
    "df_negatives = df[df['annotations_len'] == 0]\n",
    "\n",
    "negative_fraction = 0.10\n",
    "df_negatives = df_negatives[df_negatives['domain'].isin(df_positives['domain'])]\n",
    "df_negatives_sample = df_negatives.groupby(\"domain\").sample(frac=negative_fraction, random_state=66)\n",
    "\n",
    "# save_path = data_path.replace('.avro', f'_pos({len(df_positives)}).pkl')\n",
    "# print(f\"Saving file: {save_path}\")\n",
    "# df_positives.to_pickle(save_path)"
   ]
  },
  {
   "cell_type": "code",
   "execution_count": 8,
   "id": "f9943320",
   "metadata": {
    "execution": {
     "iopub.execute_input": "2022-03-01T18:31:19.346429Z",
     "iopub.status.busy": "2022-03-01T18:31:19.346082Z",
     "iopub.status.idle": "2022-03-01T18:31:19.350668Z",
     "shell.execute_reply": "2022-03-01T18:31:19.349909Z",
     "shell.execute_reply.started": "2022-03-01T18:31:19.346396Z"
    },
    "tags": []
   },
   "outputs": [],
   "source": [
    "# # data_path = save_path\n",
    "# if dataset == 'train':\n",
    "#     data_path = \"../../../web-annotation-extractor/data/processed/train/dataset_pos(?)_neg(?).pkl\"\n",
    "# if dataset == 'develop':\n",
    "#     data_path = \"../../../web-annotation-extractor/data/processed/develop/dataset_pos(1986)_neg(5122).pkl\"\n",
    "\n",
    "# df = pd.read_pickle(data_path)\n",
    "# print(f\"{dataset} - {data_path}\")\n",
    "# len(df)"
   ]
  },
  {
   "cell_type": "markdown",
   "id": "e42ac0b7",
   "metadata": {},
   "source": [
    "# Select Tags"
   ]
  },
  {
   "cell_type": "code",
   "execution_count": 9,
   "id": "d215c100",
   "metadata": {
    "execution": {
     "iopub.execute_input": "2022-03-01T18:31:29.912144Z",
     "iopub.status.busy": "2022-03-01T18:31:29.911849Z",
     "iopub.status.idle": "2022-03-01T18:31:29.918556Z",
     "shell.execute_reply": "2022-03-01T18:31:29.917907Z",
     "shell.execute_reply.started": "2022-03-01T18:31:29.912113Z"
    },
    "tags": []
   },
   "outputs": [
    {
     "data": {
      "text/plain": [
       "['PAST_CLIENT']"
      ]
     },
     "execution_count": 9,
     "metadata": {},
     "output_type": "execute_result"
    }
   ],
   "source": [
    "annotation_tags = [\"PAST_CLIENT\", \"OFFICE_LOCATION\", \"CASE_STUDY\"][:1]\n",
    "annotation_tags"
   ]
  },
  {
   "cell_type": "markdown",
   "id": "4966ce6c",
   "metadata": {},
   "source": [
    "# Clean Data"
   ]
  },
  {
   "cell_type": "markdown",
   "id": "f75e2f82",
   "metadata": {},
   "source": [
    "## Remove hiphen from domains"
   ]
  },
  {
   "cell_type": "code",
   "execution_count": 10,
   "id": "5c70d494",
   "metadata": {
    "execution": {
     "iopub.execute_input": "2022-03-01T18:31:32.366484Z",
     "iopub.status.busy": "2022-03-01T18:31:32.366201Z",
     "iopub.status.idle": "2022-03-01T18:31:32.376854Z",
     "shell.execute_reply": "2022-03-01T18:31:32.376149Z",
     "shell.execute_reply.started": "2022-03-01T18:31:32.366451Z"
    },
    "tags": []
   },
   "outputs": [
    {
     "name": "stderr",
     "output_type": "stream",
     "text": [
      "/Users/aimoredutra/miniconda3/envs/markuplmft/lib/python3.7/site-packages/pandas/core/generic.py:5516: SettingWithCopyWarning: \n",
      "A value is trying to be set on a copy of a slice from a DataFrame.\n",
      "Try using .loc[row_indexer,col_indexer] = value instead\n",
      "\n",
      "See the caveats in the documentation: https://pandas.pydata.org/pandas-docs/stable/user_guide/indexing.html#returning-a-view-versus-a-copy\n",
      "  self[name] = value\n"
     ]
    }
   ],
   "source": [
    "df_positives.domain = df_positives.domain.apply(lambda x: x.replace('-', ''))\n",
    "df_positives_initial_len = len(df_positives)"
   ]
  },
  {
   "cell_type": "markdown",
   "id": "8a9eff24",
   "metadata": {},
   "source": [
    "## Assert that domain don't contain parenthesis\n"
   ]
  },
  {
   "cell_type": "code",
   "execution_count": 11,
   "id": "2977fa57",
   "metadata": {
    "execution": {
     "iopub.execute_input": "2022-03-01T18:31:36.333629Z",
     "iopub.status.busy": "2022-03-01T18:31:36.333350Z",
     "iopub.status.idle": "2022-03-01T18:31:36.340550Z",
     "shell.execute_reply": "2022-03-01T18:31:36.339840Z",
     "shell.execute_reply.started": "2022-03-01T18:31:36.333597Z"
    },
    "tags": []
   },
   "outputs": [],
   "source": [
    "assert len(df_positives[df_positives['domain'].apply(lambda x: '(' in x or ')' in x)]) == 0\n",
    "# Remove parenthesis from domain in case there is (assertion above fails)\n",
    "# ... df = df[~df['domain'].apply(lambda x: '(' in x or ')' in x)]"
   ]
  },
  {
   "cell_type": "markdown",
   "id": "b589cac1",
   "metadata": {},
   "source": [
    "# Get text annotations per tag"
   ]
  },
  {
   "cell_type": "code",
   "execution_count": 12,
   "id": "2ad8d773",
   "metadata": {
    "execution": {
     "iopub.execute_input": "2022-03-01T18:31:37.207563Z",
     "iopub.status.busy": "2022-03-01T18:31:37.207293Z",
     "iopub.status.idle": "2022-03-01T18:31:37.225376Z",
     "shell.execute_reply": "2022-03-01T18:31:37.224731Z",
     "shell.execute_reply.started": "2022-03-01T18:31:37.207533Z"
    },
    "tags": []
   },
   "outputs": [
    {
     "name": "stdout",
     "output_type": "stream",
     "text": [
      "- PAST_CLIENT\n"
     ]
    },
    {
     "name": "stderr",
     "output_type": "stream",
     "text": [
      "/Users/aimoredutra/miniconda3/envs/markuplmft/lib/python3.7/site-packages/ipykernel_launcher.py:3: SettingWithCopyWarning: \n",
      "A value is trying to be set on a copy of a slice from a DataFrame.\n",
      "Try using .loc[row_indexer,col_indexer] = value instead\n",
      "\n",
      "See the caveats in the documentation: https://pandas.pydata.org/pandas-docs/stable/user_guide/indexing.html#returning-a-view-versus-a-copy\n",
      "  This is separate from the ipykernel package so we can avoid doing imports until\n",
      "/Users/aimoredutra/miniconda3/envs/markuplmft/lib/python3.7/site-packages/ipykernel_launcher.py:4: SettingWithCopyWarning: \n",
      "A value is trying to be set on a copy of a slice from a DataFrame.\n",
      "Try using .loc[row_indexer,col_indexer] = value instead\n",
      "\n",
      "See the caveats in the documentation: https://pandas.pydata.org/pandas-docs/stable/user_guide/indexing.html#returning-a-view-versus-a-copy\n",
      "  after removing the cwd from sys.path.\n"
     ]
    }
   ],
   "source": [
    "for tag in annotation_tags:\n",
    "    print(f'- {tag}')\n",
    "    df_positives[f'annotations-{tag}'] = df_positives['annotations'].apply(lambda x: x.get(tag))        \n",
    "    df_positives[f'text-{tag}'] = df_positives.dropna(subset=[f'annotations-{tag}'])[f'annotations-{tag}'].apply(lambda x: [y['text'] for y in x])        "
   ]
  },
  {
   "cell_type": "markdown",
   "id": "a14db6f9",
   "metadata": {},
   "source": [
    "# Remove samples that don't have html"
   ]
  },
  {
   "cell_type": "code",
   "execution_count": 13,
   "id": "592535f9",
   "metadata": {
    "execution": {
     "iopub.execute_input": "2022-03-01T18:31:43.642271Z",
     "iopub.status.busy": "2022-03-01T18:31:43.641969Z",
     "iopub.status.idle": "2022-03-01T18:31:43.653374Z",
     "shell.execute_reply": "2022-03-01T18:31:43.652382Z",
     "shell.execute_reply.started": "2022-03-01T18:31:43.642248Z"
    },
    "tags": []
   },
   "outputs": [
    {
     "name": "stdout",
     "output_type": "stream",
     "text": [
      "There are 156 pages and 158 annotations without html - We are loosing these annotations because we don't have the html\n"
     ]
    }
   ],
   "source": [
    "pages_without_html = df_positives[df_positives['html'] == 'PLACEHOLDER_HTML'].dropna(subset=['annotations-PAST_CLIENT'])\n",
    "annotations_without_html = len([y for x in pages_without_html['text-PAST_CLIENT'] for y in x])\n",
    "print(f\"There are {len(pages_without_html)} pages and {annotations_without_html} annotations without html - We are loosing these annotations because we don't have the html\")"
   ]
  },
  {
   "cell_type": "code",
   "execution_count": 14,
   "id": "f89ff422",
   "metadata": {
    "execution": {
     "iopub.execute_input": "2022-03-01T18:31:55.956938Z",
     "iopub.status.busy": "2022-03-01T18:31:55.956642Z",
     "iopub.status.idle": "2022-03-01T18:31:55.963386Z",
     "shell.execute_reply": "2022-03-01T18:31:55.962647Z",
     "shell.execute_reply.started": "2022-03-01T18:31:55.956907Z"
    },
    "tags": []
   },
   "outputs": [],
   "source": [
    "df_positives = df_positives[df_positives['html'] != 'PLACEHOLDER_HTML']"
   ]
  },
  {
   "cell_type": "markdown",
   "id": "d58809ef",
   "metadata": {},
   "source": [
    "# Remove annotations that cannot be found in the xpaths of the html"
   ]
  },
  {
   "cell_type": "code",
   "execution_count": 15,
   "id": "72ec4159-94ee-40ec-9427-df16648e06bb",
   "metadata": {
    "execution": {
     "iopub.execute_input": "2022-03-01T18:32:02.375709Z",
     "iopub.status.busy": "2022-03-01T18:32:02.375440Z",
     "iopub.status.idle": "2022-03-01T18:33:57.444663Z",
     "shell.execute_reply": "2022-03-01T18:33:57.443959Z",
     "shell.execute_reply.started": "2022-03-01T18:32:02.375678Z"
    },
    "scrolled": true,
    "tags": []
   },
   "outputs": [],
   "source": [
    "initial_amount_of_label = len([y for x in df_positives.dropna(subset=[f'text-{tag}'])[f'text-{tag}'].values for y in x])\n",
    "print(f\"Initial amount of labels: {initial_amount_of_label}\")\n",
    "\n",
    "all_new_annotations = []\n",
    "\n",
    "for i, row in tqdm(df_positives.iterrows()):\n",
    "    if not row.isnull()[f'text-{tag}']:\n",
    "        clean_dom_tree = get_dom_tree(row['html'], 'website')\n",
    "        \n",
    "        annotations_that_can_be_found = []\n",
    "        annotations_that_cannot_be_found = []\n",
    "        for text_annotation in row[f'text-{tag}']:\n",
    "            for node in clean_dom_tree.iter():\n",
    "                if node.text:\n",
    "                    if text_annotation in node.text:\n",
    "                        annotations_that_can_be_found.append(text_annotation)\n",
    "                        break\n",
    "                if node.tail:\n",
    "                    if text_annotation in node.tail:\n",
    "                        annotations_that_can_be_found.append(text_annotation)\n",
    "                        break\n",
    "                # for html_tag, xpath_content in node.items():\n",
    "                #     if text_annotation in xpath_content:\n",
    "                #         annotations_that_can_be_found.append(text_annotation)\n",
    "                #         break\n",
    "            annotations_that_cannot_be_found.append(text_annotation)\n",
    "            \n",
    "        if len(annotations_that_cannot_be_found) > 0:\n",
    "            print(f\"Cannot be found in {i} \\t: {annotations_that_cannot_be_found}\")\n",
    "            print()\n",
    "\n",
    "        all_new_annotations.append(annotations_that_can_be_found)\n",
    "    else:\n",
    "        all_new_annotations.append(None)\n",
    "\n",
    "df_positives[f'text-{tag}'] = all_new_annotations\n",
    "\n",
    "final_amount_of_label = len([y for x in df_positives.dropna(subset=[f'text-{tag}'])[f'text-{tag}'].values for y in x])"
   ]
  },
  {
   "cell_type": "code",
   "execution_count": 15,
   "id": "50922928-6c0b-446c-81ef-eda4ec5e0d35",
   "metadata": {
    "execution": {
     "iopub.execute_input": "2022-03-01T18:32:02.375709Z",
     "iopub.status.busy": "2022-03-01T18:32:02.375440Z",
     "iopub.status.idle": "2022-03-01T18:33:57.444663Z",
     "shell.execute_reply": "2022-03-01T18:33:57.443959Z",
     "shell.execute_reply.started": "2022-03-01T18:32:02.375678Z"
    },
    "scrolled": true,
    "tags": []
   },
   "outputs": [
    {
     "name": "stdout",
     "output_type": "stream",
     "text": [
      "Initial amount of labels: 3367\n"
     ]
    },
    {
     "name": "stderr",
     "output_type": "stream",
     "text": [
      "2it [00:00, 12.37it/s]"
     ]
    },
    {
     "name": "stdout",
     "output_type": "stream",
     "text": [
      "Cannot be found in 1 \t: ['CBCF', 'Dallas Morning News', 'BET', 'GoDo Discovery Co.', 'GDC Marketing & Ideation', 'Texas Veterans Land Board', 'Slice', 'Dallas Citizens Council', 'Belmont Icehouse', 'RyanMail', 'TM Advertising', 'Home Matters', 'McCormick Law Firm', 'Good With Everything', 'GCG', 'The Richards Group', 'Schaefer Advertising', 'OCGPR+', 'The Pillow Bar', 'Manpower', '7-Eleven Gameboard', 'Emily', 'TCC', 'Dance', 'TRWD', 'Atmos Energy', 'Embassy City', 'Parkland Foundation', 'Fleet', 'Balfour Beatty', 'DUDA', 'Wingstop', 'St. Philip’s', 'DCVB', 'Sports Dads', 'Source Support', 'Daughter', 'Vizient', 'Mary Kay', 'Freeman AV', 'Boom Boom Satellites', 'Rodeo', 'Mega Kids']\n",
      "\n",
      "Cannot be found in 2 \t: ['THE BROOKLYN CIRCUS']\n",
      "\n",
      "Cannot be found in 4 \t: ['auxmoney']\n",
      "\n",
      "Cannot be found in 6 \t: ['Hampshire Trust Bank']\n",
      "\n"
     ]
    },
    {
     "name": "stderr",
     "output_type": "stream",
     "text": [
      "5it [00:00, 17.63it/s]"
     ]
    },
    {
     "name": "stdout",
     "output_type": "stream",
     "text": [
      "Cannot be found in 7 \t: ['tsB']\n",
      "\n",
      "Cannot be found in 9 \t: ['Ball Corporation', 'Level 3', 'United Launch Alliance', 'APC Automotive Technologies']\n",
      "\n",
      "Cannot be found in 10 \t: ['ConAgra Foods', 'Sony', 'HP', 'VF Corp', 'Waste Management', 'Direct Energy']\n",
      "\n"
     ]
    },
    {
     "name": "stderr",
     "output_type": "stream",
     "text": [
      "8it [00:00, 19.52it/s]"
     ]
    },
    {
     "name": "stdout",
     "output_type": "stream",
     "text": [
      "Cannot be found in 11 \t: ['Texas Lottery', 'Popeyes', 'Subway', 'Pizza Hut', 'ConocoPhillips', 'Success Rice', 'Shiner Beer']\n",
      "\n",
      "Cannot be found in 12 \t: ['JCPenney', 'Brinker International - On The Border', 'Alcon', 'AHA']\n",
      "\n"
     ]
    },
    {
     "name": "stderr",
     "output_type": "stream",
     "text": [
      "11it [00:00, 22.05it/s]"
     ]
    },
    {
     "name": "stdout",
     "output_type": "stream",
     "text": [
      "Cannot be found in 13 \t: ['Activision', 'Nestlé', 'Nissan', 'CKE Restaurants', 'Microsoft']\n",
      "\n",
      "Cannot be found in 14 \t: ['Kohana Rum', 'Rise Broadband', 'Cox Communications', 'Cologix', 'Onesta']\n",
      "\n",
      "Cannot be found in 15 \t: ['Mattel (Barbie, Hot Wheels, Fisher Price, American Girl)', 'adidas', 'Bank of America', 'Six Flags/Time Warner']\n",
      "\n",
      "Cannot be found in 16 \t: ['Honda Powersports', 'Singapore Airlines', 'Disney', 'Ohio State University', 'Vail Resorts', 'Dole Packaged Foods']\n",
      "\n"
     ]
    },
    {
     "name": "stderr",
     "output_type": "stream",
     "text": [
      "14it [00:00, 22.80it/s]"
     ]
    },
    {
     "name": "stdout",
     "output_type": "stream",
     "text": [
      "Cannot be found in 19 \t: ['https://cdn.agilitycms.com/9th-wonder/mediagroupings/27/aha_logo_1-black.png', 'https://cdn.agilitycms.com/9th-wonder/mediagroupings/27/group-1102.png', 'https://cdn.agilitycms.com/9th-wonder/mediagroupings/27/arizona.png', 'https://cdn.agilitycms.com/9th-wonder/mediagroupings/27/jack_in_the_box-01.png', 'https://cdn.agilitycms.com/9th-wonder/mediagroupings/27/panasonic_logo_black.png', 'https://cdn.agilitycms.com/9th-wonder/mediagroupings/27/black-samsung-logo-png-21.png', 'https://cdn.agilitycms.com/9th-wonder/mediagroupings/27/amazon-logo-black-transparent.png', 'https://cdn.agilitycms.com/9th-wonder/mediagroupings/27/memorial-hermann-logo-black.png', 'https://cdn.agilitycms.com/9th-wonder/mediagroupings/27/ergomotion_logo_black.png', 'https://cdn.agilitycms.com/9th-wonder/mediagroupings/27/mattressfirm.png', 'https://cdn.agilitycms.com/9th-wonder/mediagroupings/27/group-1104.png', 'https://cdn.agilitycms.com/9th-wonder/mediagroupings/27/background.png', 'https://cdn.agilitycms.com/9th-wonder/mediagroupings/27/tourism-fiji-black.png', 'https://cdn.agilitycms.com/9th-wonder/mediagroupings/27/group-1110.png', 'https://cdn.agilitycms.com/9th-wonder/mediagroupings/27/bosley.png', 'https://cdn.agilitycms.com/9th-wonder/mediagroupings/27/bell-logo.png']\n",
      "\n",
      "Cannot be found in 20 \t: [\"Adam's Camp\"]\n",
      "\n"
     ]
    },
    {
     "name": "stderr",
     "output_type": "stream",
     "text": [
      "18it [00:00, 26.27it/s]"
     ]
    },
    {
     "name": "stdout",
     "output_type": "stream",
     "text": [
      "Cannot be found in 21 \t: ['APC Automotive Technologies.']\n",
      "\n",
      "Cannot be found in 22 \t: ['Benjamin Franklin Plumbing', 'One Hour Heating and Air Conditioning', 'Mister Sparky Electricians']\n",
      "\n",
      "Cannot be found in 23 \t: ['BAND-IT']\n",
      "\n",
      "Cannot be found in 24 \t: ['Coleman Natural Foods', 'Budweiser']\n",
      "\n",
      "Cannot be found in 25 \t: ['Codence']\n",
      "\n"
     ]
    },
    {
     "name": "stderr",
     "output_type": "stream",
     "text": [
      "22it [00:00, 28.13it/s]"
     ]
    },
    {
     "name": "stdout",
     "output_type": "stream",
     "text": [
      "Cannot be found in 26 \t: ['Dole Packaged Foods']\n",
      "\n",
      "Cannot be found in 27 \t: ['Good Local Market']\n",
      "\n"
     ]
    },
    {
     "name": "stderr",
     "output_type": "stream",
     "text": [
      "26it [00:01, 29.13it/s]"
     ]
    },
    {
     "name": "stdout",
     "output_type": "stream",
     "text": [
      "Cannot be found in 29 \t: ['Inteliquent']\n",
      "\n",
      "Cannot be found in 30 \t: ['LAX']\n",
      "\n",
      "Cannot be found in 31 \t: ['Essilor']\n",
      "\n",
      "Cannot be found in 34 \t: ['Public Storage']\n",
      "\n",
      "Cannot be found in 36 \t: ['Tahiti']\n",
      "\n",
      "Cannot be found in 37 \t: ['Tilson']\n",
      "\n",
      "Cannot be found in 39 \t: ['Western Dental']\n",
      "\n"
     ]
    },
    {
     "name": "stderr",
     "output_type": "stream",
     "text": [
      "35it [00:01, 34.27it/s]"
     ]
    },
    {
     "name": "stdout",
     "output_type": "stream",
     "text": [
      "Cannot be found in 40 \t: ['Windstream']\n",
      "\n",
      "Cannot be found in 58 \t: ['1st (United Kingdom) Division']\n",
      "\n",
      "Cannot be found in 59 \t: ['42 Engineer Regiment']\n",
      "\n",
      "Cannot be found in 60 \t: ['4site']\n",
      "\n",
      "Cannot be found in 61 \t: ['Actavo']\n",
      "\n",
      "Cannot be found in 62 \t: ['Affinity Water']\n",
      "\n",
      "Cannot be found in 63 \t: ['Air Warfare Centre']\n",
      "\n",
      "Cannot be found in 64 \t: ['Alcis']\n",
      "\n",
      "Cannot be found in 65 \t: ['AOC Archaeology Group']\n",
      "\n"
     ]
    },
    {
     "name": "stderr",
     "output_type": "stream",
     "text": [
      "43it [00:01, 36.26it/s]"
     ]
    },
    {
     "name": "stdout",
     "output_type": "stream",
     "text": [
      "Cannot be found in 66 \t: ['Arcadis']\n",
      "\n",
      "Cannot be found in 67 \t: ['Argent']\n",
      "\n",
      "Cannot be found in 68 \t: ['Aster Group']\n",
      "\n",
      "Cannot be found in 69 \t: ['Aster Group']\n",
      "\n",
      "Cannot be found in 70 \t: ['Atkins']\n",
      "\n",
      "Cannot be found in 71 \t: ['Atmos Consulting']\n",
      "\n",
      "Cannot be found in 72 \t: ['Aveillant']\n",
      "\n",
      "Cannot be found in 73 \t: ['Aviva']\n",
      "\n"
     ]
    },
    {
     "name": "stderr",
     "output_type": "stream",
     "text": [
      "52it [00:01, 40.04it/s]"
     ]
    },
    {
     "name": "stdout",
     "output_type": "stream",
     "text": [
      "Cannot be found in 74 \t: ['Avon & Somerset Constabulary']\n",
      "\n",
      "Cannot be found in 75 \t: ['Aylesbury Vale District Council']\n",
      "\n",
      "Cannot be found in 76 \t: ['Basingstoke and Deane Borough Council']\n",
      "\n",
      "Cannot be found in 77 \t: ['Black & Veatch']\n",
      "\n",
      "Cannot be found in 78 \t: ['Black & Veatch']\n",
      "\n",
      "Cannot be found in 79 \t: ['Bournemouth University']\n",
      "\n",
      "Cannot be found in 80 \t: ['British Geology Survey']\n",
      "\n",
      "Cannot be found in 81 \t: ['Broads Authority']\n",
      "\n",
      "Cannot be found in 82 \t: ['Business2Schools']\n",
      "\n",
      "Cannot be found in 83 \t: ['The Canal & River Trust']\n",
      "\n"
     ]
    },
    {
     "name": "stderr",
     "output_type": "stream",
     "text": [
      "62it [00:01, 39.96it/s]"
     ]
    },
    {
     "name": "stdout",
     "output_type": "stream",
     "text": [
      "Cannot be found in 84 \t: ['Carlow County Council']\n",
      "\n",
      "Cannot be found in 85 \t: ['City of London Police']\n",
      "\n",
      "Cannot be found in 86 \t: ['City of York Council']\n",
      "\n",
      "Cannot be found in 87 \t: ['Colas Ltd']\n",
      "\n",
      "Cannot be found in 88 \t: ['Colas Ltd']\n",
      "\n",
      "Cannot be found in 89 \t: ['Connect Plus Services']\n",
      "\n",
      "Cannot be found in 90 \t: ['Cork County Council']\n",
      "\n",
      "Cannot be found in 91 \t: ['Cornwall Council']\n",
      "\n"
     ]
    },
    {
     "name": "stderr",
     "output_type": "stream",
     "text": [
      "67it [00:02, 39.01it/s]"
     ]
    },
    {
     "name": "stdout",
     "output_type": "stream",
     "text": [
      "Cannot be found in 92 \t: ['Costain']\n",
      "\n",
      "Cannot be found in 93 \t: ['Crossrail']\n",
      "\n",
      "Cannot be found in 94 \t: ['Crowther Lab']\n",
      "\n",
      "Cannot be found in 95 \t: ['Central Statistics Office & Ordnance Survey Ireland']\n",
      "\n",
      "Cannot be found in 96 \t: ['Cheshire, Warrington and Halton Info Consortium']\n",
      "\n",
      "Cannot be found in 97 \t: ['Defence Estates']\n",
      "\n"
     ]
    },
    {
     "name": "stderr",
     "output_type": "stream",
     "text": [
      "71it [00:02, 39.07it/s]"
     ]
    },
    {
     "name": "stdout",
     "output_type": "stream",
     "text": [
      "Cannot be found in 98 \t: ['Direct Line Group']\n",
      "\n",
      "Cannot be found in 99 \t: ['Donegal County Council']\n",
      "\n",
      "Cannot be found in 100 \t: ['Dover District Council']\n",
      "\n"
     ]
    },
    {
     "name": "stderr",
     "output_type": "stream",
     "text": [
      "75it [00:02, 37.79it/s]"
     ]
    },
    {
     "name": "stdout",
     "output_type": "stream",
     "text": [
      "Cannot be found in 101 \t: ['Dublin Airport']\n",
      "\n",
      "Cannot be found in 102 \t: ['Durham County Council']\n",
      "\n",
      "Cannot be found in 103 \t: ['Dŵr Cymru Welsh Water']\n",
      "\n",
      "Cannot be found in 104 \t: ['East Northants and Wellingborough']\n",
      "\n"
     ]
    },
    {
     "name": "stderr",
     "output_type": "stream",
     "text": [
      "79it [00:02, 37.33it/s]"
     ]
    },
    {
     "name": "stdout",
     "output_type": "stream",
     "text": [
      "Cannot be found in 105 \t: ['Education Authority Northern Ireland']\n",
      "\n",
      "Cannot be found in 106 \t: ['EE']\n",
      "\n",
      "Cannot be found in 107 \t: ['Everything is Somewhere']\n",
      "\n",
      "Cannot be found in 108 \t: ['Emu Analytics']\n",
      "\n"
     ]
    },
    {
     "name": "stderr",
     "output_type": "stream",
     "text": [
      "84it [00:02, 37.98it/s]"
     ]
    },
    {
     "name": "stdout",
     "output_type": "stream",
     "text": [
      "Cannot be found in 109 \t: ['Energy Saving Trust']\n",
      "\n",
      "Cannot be found in 110 \t: ['English Heritage']\n",
      "\n",
      "Cannot be found in 111 \t: ['Environment Agency']\n",
      "\n",
      "Cannot be found in 112 \t: ['Environment Agency']\n",
      "\n",
      "Cannot be found in 113 \t: ['Environmental Science Group']\n",
      "\n"
     ]
    },
    {
     "name": "stderr",
     "output_type": "stream",
     "text": [
      "88it [00:02, 38.01it/s]"
     ]
    },
    {
     "name": "stdout",
     "output_type": "stream",
     "text": [
      "Cannot be found in 114 \t: ['Epping Forest District Council']\n",
      "\n",
      "Cannot be found in 115 \t: ['Fera Science']\n",
      "\n",
      "Cannot be found in 116 \t: ['Fera Science']\n",
      "\n"
     ]
    },
    {
     "name": "stderr",
     "output_type": "stream",
     "text": [
      "93it [00:02, 38.82it/s]"
     ]
    },
    {
     "name": "stdout",
     "output_type": "stream",
     "text": [
      "Cannot be found in 117 \t: ['Field Studies Council']\n",
      "\n",
      "Cannot be found in 118 \t: ['Fields in Trust']\n",
      "\n",
      "Cannot be found in 119 \t: ['Flagship Group']\n",
      "\n",
      "Cannot be found in 120 \t: ['Flagship Housing']\n",
      "\n",
      "Cannot be found in 121 \t: ['The Forestry Commission']\n",
      "\n",
      "Cannot be found in 122 \t: ['The Forestry Commission Scotland']\n",
      "\n"
     ]
    },
    {
     "name": "stderr",
     "output_type": "stream",
     "text": [
      "98it [00:02, 39.67it/s]"
     ]
    },
    {
     "name": "stdout",
     "output_type": "stream",
     "text": [
      "Cannot be found in 123 \t: ['Forestry & Land Scotland']\n",
      "\n",
      "Cannot be found in 124 \t: ['Galway County Council']\n",
      "\n",
      "Cannot be found in 125 \t: ['Garsdale Design']\n",
      "\n",
      "Cannot be found in 126 \t: ['Greater London Authority']\n",
      "\n"
     ]
    },
    {
     "name": "stderr",
     "output_type": "stream",
     "text": [
      "103it [00:02, 40.61it/s]"
     ]
    },
    {
     "name": "stdout",
     "output_type": "stream",
     "text": [
      "Cannot be found in 127 \t: ['Greater London Authority']\n",
      "\n",
      "Cannot be found in 128 \t: ['GreenSquare Group']\n",
      "\n",
      "Cannot be found in 129 \t: ['Gwynedd Council']\n",
      "\n",
      "Cannot be found in 130 \t: ['Headquarters Land Forces, British Army']\n",
      "\n",
      "Cannot be found in 131 \t: ['Highways England']\n",
      "\n"
     ]
    },
    {
     "name": "stderr",
     "output_type": "stream",
     "text": [
      "108it [00:03, 40.18it/s]"
     ]
    },
    {
     "name": "stdout",
     "output_type": "stream",
     "text": [
      "Cannot be found in 132 \t: ['Hinckley & Bosworth Borough Council']\n",
      "\n",
      "Cannot be found in 133 \t: ['Homes England']\n",
      "\n",
      "Cannot be found in 134 \t: ['Homes in Havering']\n",
      "\n",
      "Cannot be found in 135 \t: ['HS2']\n",
      "\n"
     ]
    },
    {
     "name": "stderr",
     "output_type": "stream",
     "text": [
      "113it [00:03, 40.71it/s]"
     ]
    },
    {
     "name": "stdout",
     "output_type": "stream",
     "text": [
      "Cannot be found in 136 \t: ['Humberside Fire & Rescue Service']\n",
      "\n",
      "Cannot be found in 137 \t: ['Ipswich Hospital NHS Trust']\n",
      "\n",
      "Cannot be found in 138 \t: ['Jacobs']\n",
      "\n",
      "Cannot be found in 139 \t: ['Joint Aeronautical Geospatial Organisation (JAGO)']\n",
      "\n",
      "Cannot be found in 140 \t: ['Kent County Council']\n",
      "\n"
     ]
    },
    {
     "name": "stderr",
     "output_type": "stream",
     "text": [
      "118it [00:03, 42.01it/s]"
     ]
    },
    {
     "name": "stdout",
     "output_type": "stream",
     "text": [
      "Cannot be found in 141 \t: ['Kingston University']\n",
      "\n",
      "Cannot be found in 142 \t: ['Knight Frank']\n",
      "\n",
      "Cannot be found in 143 \t: ['Lambeth Council']\n",
      "\n",
      "Cannot be found in 144 \t: ['Lancashire County Council']\n",
      "\n",
      "Cannot be found in 145 \t: ['Land and Property Services']\n",
      "\n"
     ]
    },
    {
     "name": "stderr",
     "output_type": "stream",
     "text": [
      "123it [00:03, 42.82it/s]"
     ]
    },
    {
     "name": "stdout",
     "output_type": "stream",
     "text": [
      "Cannot be found in 146 \t: ['Land Use Consultants']\n",
      "\n",
      "Cannot be found in 147 \t: ['Lichfield District Council']\n",
      "\n",
      "Cannot be found in 148 \t: ['Loch Lomond']\n",
      "\n",
      "Cannot be found in 149 \t: ['London Borough of Hammersmith & Fulham']\n",
      "\n",
      "Cannot be found in 150 \t: ['London Borough of Harrow']\n",
      "\n"
     ]
    },
    {
     "name": "stderr",
     "output_type": "stream",
     "text": [
      "128it [00:03, 43.18it/s]"
     ]
    },
    {
     "name": "stdout",
     "output_type": "stream",
     "text": [
      "Cannot be found in 151 \t: ['LUC – Working on behalf of CPRE']\n",
      "\n",
      "Cannot be found in 152 \t: ['Manchester Airport Group']\n",
      "\n",
      "Cannot be found in 153 \t: ['MapAction']\n",
      "\n",
      "Cannot be found in 154 \t: ['Marine Management Organisation']\n",
      "\n",
      "Cannot be found in 155 \t: ['Maritime and Coastguard Agency']\n",
      "\n"
     ]
    },
    {
     "name": "stderr",
     "output_type": "stream",
     "text": [
      "133it [00:03, 44.23it/s]"
     ]
    },
    {
     "name": "stdout",
     "output_type": "stream",
     "text": [
      "Cannot be found in 156 \t: ['Masdar City']\n",
      "\n",
      "Cannot be found in 157 \t: ['Meat Hygiene Service']\n",
      "\n",
      "Cannot be found in 158 \t: ['Methodist College Belfast']\n",
      "\n",
      "Cannot be found in 159 \t: ['Mines Advisory Group']\n",
      "\n",
      "Cannot be found in 160 \t: ['Mott MacDonald']\n",
      "\n",
      "Cannot be found in 162 \t: ['National Grid: Gas Distribution']\n",
      "\n",
      "Cannot be found in 163 \t: ['National Trust']\n",
      "\n",
      "Cannot be found in 164 \t: ['National Trust']\n",
      "\n",
      "Cannot be found in 165 \t: ['National Trust']\n",
      "\n"
     ]
    },
    {
     "name": "stderr",
     "output_type": "stream",
     "text": [
      "138it [00:03, 42.22it/s]"
     ]
    },
    {
     "name": "stdout",
     "output_type": "stream",
     "text": [
      "Cannot be found in 166 \t: ['Natural England']\n",
      "\n",
      "Cannot be found in 167 \t: ['Natural Resources Wales']\n",
      "\n",
      "Cannot be found in 168 \t: ['Natural Resources Wales']\n",
      "\n",
      "Cannot be found in 169 \t: ['Newham Council']\n",
      "\n",
      "Cannot be found in 170 \t: ['Norfolk County Council']\n",
      "\n"
     ]
    },
    {
     "name": "stderr",
     "output_type": "stream",
     "text": [
      "143it [00:03, 42.55it/s]"
     ]
    },
    {
     "name": "stdout",
     "output_type": "stream",
     "text": [
      "Cannot be found in 171 \t: ['Norfolk County Council']\n",
      "\n",
      "Cannot be found in 172 \t: ['Northern Gas Networks']\n",
      "\n",
      "Cannot be found in 173 \t: ['Northern Ireland Water']\n",
      "\n",
      "Cannot be found in 174 \t: ['Northumberland National Park Authority']\n",
      "\n"
     ]
    },
    {
     "name": "stderr",
     "output_type": "stream",
     "text": [
      "148it [00:04, 42.59it/s]"
     ]
    },
    {
     "name": "stdout",
     "output_type": "stream",
     "text": [
      "Cannot be found in 175 \t: ['Norwich City Council']\n",
      "\n",
      "Cannot be found in 176 \t: ['Oil and Gas Authority']\n",
      "\n",
      "Cannot be found in 177 \t: ['OSI GeoHive']\n",
      "\n",
      "Cannot be found in 178 \t: ['Oxfordshire County Council']\n",
      "\n",
      "Cannot be found in 179 \t: ['Oxfordshire County Council and Oxfordshire Fire & Rescue Service']\n",
      "\n"
     ]
    },
    {
     "name": "stderr",
     "output_type": "stream",
     "text": [
      "153it [00:04, 41.49it/s]"
     ]
    },
    {
     "name": "stdout",
     "output_type": "stream",
     "text": [
      "Cannot be found in 180 \t: ['Pearl Mussel Project']\n",
      "\n",
      "Cannot be found in 181 \t: ['Presentation College Headford']\n",
      "\n",
      "Cannot be found in 182 \t: ['Red Kite Community Housing']\n",
      "\n",
      "Cannot be found in 183 \t: ['Royal Engineers']\n",
      "\n"
     ]
    },
    {
     "name": "stderr",
     "output_type": "stream",
     "text": [
      "158it [00:04, 41.24it/s]"
     ]
    },
    {
     "name": "stdout",
     "output_type": "stream",
     "text": [
      "Cannot be found in 184 \t: ['Royal Sun Alliance (RSA)']\n",
      "\n",
      "Cannot be found in 185 \t: ['RSA Insurance Group']\n",
      "\n",
      "Cannot be found in 186 \t: ['RSPB']\n",
      "\n",
      "Cannot be found in 187 \t: ['Sadler Consultants']\n",
      "\n",
      "Cannot be found in 188 \t: ['Saxon Weald']\n",
      "\n"
     ]
    },
    {
     "name": "stderr",
     "output_type": "stream",
     "text": [
      "163it [00:04, 41.05it/s]"
     ]
    },
    {
     "name": "stdout",
     "output_type": "stream",
     "text": [
      "Cannot be found in 189 \t: ['Scania']\n",
      "\n",
      "Cannot be found in 190 \t: ['Schiphol Airport']\n",
      "\n",
      "Cannot be found in 191 \t: ['Scotland’s Coastal Change Assessment']\n",
      "\n",
      "Cannot be found in 192 \t: ['Scottish Natural Heritage: Data Services']\n",
      "\n"
     ]
    },
    {
     "name": "stderr",
     "output_type": "stream",
     "text": [
      "168it [00:04, 40.14it/s]"
     ]
    },
    {
     "name": "stdout",
     "output_type": "stream",
     "text": [
      "Cannot be found in 193 \t: ['Scottish Violence Reduction Unit']\n",
      "\n",
      "Cannot be found in 194 \t: ['Scottish Water']\n",
      "\n",
      "Cannot be found in 195 \t: ['ScottishPower']\n",
      "\n",
      "Cannot be found in 196 \t: ['SeaRoc Group']\n",
      "\n",
      "Cannot be found in 197 \t: ['Sellafield']\n",
      "\n"
     ]
    },
    {
     "name": "stderr",
     "output_type": "stream",
     "text": [
      "173it [00:04, 39.89it/s]"
     ]
    },
    {
     "name": "stdout",
     "output_type": "stream",
     "text": [
      "Cannot be found in 198 \t: ['Sellafield Ltd']\n",
      "\n",
      "Cannot be found in 199 \t: ['Serco']\n",
      "\n",
      "Cannot be found in 200 \t: ['Severn Trent']\n",
      "\n",
      "Cannot be found in 205 \t: ['Sightsavers']\n",
      "\n"
     ]
    },
    {
     "name": "stderr",
     "output_type": "stream",
     "text": [
      "177it [00:04, 39.66it/s]"
     ]
    },
    {
     "name": "stdout",
     "output_type": "stream",
     "text": [
      "Cannot be found in 206 \t: ['Silva Homes']\n",
      "\n",
      "Cannot be found in 207 \t: ['Skanska, Costain and STRABAG Joint Venture (SCS JV)']\n",
      "\n",
      "Cannot be found in 208 \t: ['Sompo Canopius']\n",
      "\n",
      "Cannot be found in 209 \t: ['South Ayrshire Council']\n",
      "\n",
      "Cannot be found in 210 \t: ['South Dublin County Council']\n",
      "\n"
     ]
    },
    {
     "name": "stderr",
     "output_type": "stream",
     "text": [
      "181it [00:04, 39.24it/s]"
     ]
    },
    {
     "name": "stdout",
     "output_type": "stream",
     "text": [
      "Cannot be found in 211 \t: ['South Yorkshire Passenger Transport Executive']\n",
      "\n",
      "Cannot be found in 212 \t: ['South Yorkshire Passenger Transport Executive']\n",
      "\n",
      "Cannot be found in 213 \t: ['Sovereign Housing Association']\n",
      "\n"
     ]
    },
    {
     "name": "stderr",
     "output_type": "stream",
     "text": [
      "185it [00:04, 38.83it/s]"
     ]
    },
    {
     "name": "stdout",
     "output_type": "stream",
     "text": [
      "Cannot be found in 214 \t: ['Sport Wales']\n",
      "\n",
      "Cannot be found in 215 \t: ['St Conleth’s Community College']\n",
      "\n",
      "Cannot be found in 216 \t: ['St Kevin’s College']\n",
      "\n",
      "Cannot be found in 217 \t: ['Strutt & Parker']\n",
      "\n",
      "Cannot be found in 218 \t: ['Sustrans']\n",
      "\n"
     ]
    },
    {
     "name": "stderr",
     "output_type": "stream",
     "text": [
      "189it [00:05, 38.52it/s]"
     ]
    },
    {
     "name": "stdout",
     "output_type": "stream",
     "text": [
      "Cannot be found in 219 \t: ['Thames Estuary Partnership']\n",
      "\n",
      "Cannot be found in 220 \t: ['The Cabinet Office']\n",
      "\n",
      "Cannot be found in 221 \t: ['The Crown Estate']\n",
      "\n"
     ]
    },
    {
     "name": "stderr",
     "output_type": "stream",
     "text": [
      "193it [00:05, 38.66it/s]"
     ]
    },
    {
     "name": "stdout",
     "output_type": "stream",
     "text": [
      "Cannot be found in 222 \t: ['The Mighty Creatives']\n",
      "\n",
      "Cannot be found in 223 \t: ['The Queen’s Diamond Jubilee Beacons']\n",
      "\n",
      "Cannot be found in 224 \t: ['The RSPB']\n",
      "\n",
      "Cannot be found in 225 \t: ['Thirteen']\n",
      "\n",
      "Cannot be found in 226 \t: ['Transport for London']\n",
      "\n",
      "Cannot be found in 227 \t: ['Transport Infrastructure Ireland']\n",
      "\n"
     ]
    },
    {
     "name": "stderr",
     "output_type": "stream",
     "text": [
      "197it [00:05, 38.95it/s]"
     ]
    },
    {
     "name": "stdout",
     "output_type": "stream",
     "text": [
      "Cannot be found in 228 \t: ['University College London']\n",
      "\n",
      "Cannot be found in 229 \t: ['University of Cambridge']\n",
      "\n",
      "Cannot be found in 230 \t: ['University of Northampton']\n",
      "\n"
     ]
    },
    {
     "name": "stderr",
     "output_type": "stream",
     "text": [
      "201it [00:05, 39.13it/s]"
     ]
    },
    {
     "name": "stdout",
     "output_type": "stream",
     "text": [
      "Cannot be found in 231 \t: ['Veolia Water']\n",
      "\n",
      "Cannot be found in 232 \t: ['Wales & West Utilities']\n",
      "\n",
      "Cannot be found in 233 \t: ['Wales & West Utilities: Design & Build']\n",
      "\n",
      "Cannot be found in 234 \t: ['Dŵr Cymru Welsh Water']\n",
      "\n",
      "Cannot be found in 235 \t: ['Wessex Water']\n",
      "\n",
      "Cannot be found in 236 \t: ['West Coast Group']\n",
      "\n"
     ]
    },
    {
     "name": "stderr",
     "output_type": "stream",
     "text": [
      "206it [00:05, 40.01it/s]"
     ]
    },
    {
     "name": "stdout",
     "output_type": "stream",
     "text": [
      "Cannot be found in 237 \t: ['Westcountry Rivers Trust']\n",
      "\n",
      "Cannot be found in 238 \t: ['Westminster City Council']\n",
      "\n",
      "Cannot be found in 239 \t: ['Westminster City Council: Waste Management']\n",
      "\n"
     ]
    },
    {
     "name": "stderr",
     "output_type": "stream",
     "text": [
      "211it [00:05, 40.37it/s]"
     ]
    },
    {
     "name": "stdout",
     "output_type": "stream",
     "text": [
      "Cannot be found in 240 \t: ['Willis']\n",
      "\n",
      "Cannot be found in 241 \t: ['Willis Group']\n",
      "\n",
      "Cannot be found in 242 \t: ['Wiltshire Council']\n",
      "\n",
      "Cannot be found in 243 \t: ['Worcestershire Community Safety Partnerships']\n",
      "\n",
      "Cannot be found in 244 \t: ['Worcestershire County Council']\n",
      "\n",
      "Cannot be found in 245 \t: ['Worcestershire County Council']\n",
      "\n"
     ]
    },
    {
     "name": "stderr",
     "output_type": "stream",
     "text": [
      "216it [00:05, 41.64it/s]"
     ]
    },
    {
     "name": "stdout",
     "output_type": "stream",
     "text": [
      "Cannot be found in 246 \t: ['Worcestershire County Council']\n",
      "\n",
      "Cannot be found in 247 \t: ['WSP Global']\n",
      "\n",
      "Cannot be found in 248 \t: ['Yarlington Housing Group']\n",
      "\n",
      "Cannot be found in 251 \t: ['LOOMIS']\n",
      "\n",
      "Cannot be found in 252 \t: ['National Westminster Bank']\n",
      "\n",
      "Cannot be found in 253 \t: ['Island View Casino Resort']\n",
      "\n",
      "Cannot be found in 257 \t: ['Golden State Warriors', 'Mancinis Bakery']\n",
      "\n"
     ]
    },
    {
     "name": "stderr",
     "output_type": "stream",
     "text": [
      "221it [00:05, 36.16it/s]"
     ]
    },
    {
     "name": "stdout",
     "output_type": "stream",
     "text": [
      "Cannot be found in 258 \t: ['Deer Valley Resort']\n",
      "\n",
      "Cannot be found in 259 \t: ['DeFoe Corp.']\n",
      "\n",
      "Cannot be found in 260 \t: ['Envirosystems Inc.']\n",
      "\n",
      "Cannot be found in 262 \t: ['Gas Field Specialists, Inc.']\n",
      "\n"
     ]
    },
    {
     "name": "stderr",
     "output_type": "stream",
     "text": [
      "225it [00:06, 26.96it/s]"
     ]
    },
    {
     "name": "stdout",
     "output_type": "stream",
     "text": [
      "Cannot be found in 263 \t: ['Metro Group']\n",
      "\n",
      "Cannot be found in 264 \t: ['https://f.hubspotusercontent00.net/hubfs/1616151/hippo%20master%20folder/american-baptist-homes-of-the-midwest-logo.jpg', 'https://f.hubspotusercontent00.net/hubfs/1616151/hippo%20master%20folder/cambridge-village-retirement-living-logo.jpg', 'https://f.hubspotusercontent00.net/hubfs/1616151/hippo%20master%20folder/davis-health-system-foundation-logo.jpg', 'https://f.hubspotusercontent00.net/hubfs/1616151/hippo%20master%20folder/brunswick-forest-company-logo.png', 'Lee Bivins Foundation']\n",
      "\n",
      "Cannot be found in 265 \t: ['https://f.hubspotusercontent00.net/hubfs/1616151/hippo%20master%20folder/temple-bnai-synagogue-logo.png', 'https://f.hubspotusercontent00.net/hubfs/1616151/hippo%20master%20folder/resurrection-life-church-logo.png', 'https://f.hubspotusercontent00.net/hubfs/1616151/hippo%20master%20folder/columbia-christian-schools-logo.jpg', 'https://f.hubspotusercontent00.net/hubfs/1616151/hippo%20master%20folder/abundant-life-christian-center-logo.jpg']\n",
      "\n",
      "Cannot be found in 266 \t: ['https://f.hubspotusercontent00.net/hubfs/1616151/hippo%20master%20folder/theme-hippo/images/client-logo-shrimp.png', 'https://f.hubspotusercontent00.net/hubfs/1616151/hippo%20master%20folder/theme-hippo/images/client-logo-borden.png', 'https://f.hubspotusercontent00.net/hubfs/1616151/hippo%20master%20folder/theme-hippo/images/client-logo-columbus.png', 'https://f.hubspotusercontent00.net/hubfs/1616151/hippo%20master%20folder/theme-hippo/images/client-logo-upland.png']\n",
      "\n"
     ]
    },
    {
     "name": "stderr",
     "output_type": "stream",
     "text": [
      "229it [00:06, 21.42it/s]"
     ]
    },
    {
     "name": "stdout",
     "output_type": "stream",
     "text": [
      "Cannot be found in 267 \t: ['https://f.hubspotusercontent00.net/hubfs/1616151/hippo%20master%20folder/lmi-aerospace-logo.png', 'https://f.hubspotusercontent00.net/hubfs/1616151/hippo%20master%20folder/chem-plate-industries-logo.jpg']\n",
      "\n",
      "Cannot be found in 268 \t: ['https://f.hubspotusercontent00.net/hubfs/1616151/hippo%20master%20folder/city-of-fitchburg-logo.jpg', 'https://f.hubspotusercontent00.net/hubfs/1616151/logo-assiniboinepark.png']\n",
      "\n",
      "Cannot be found in 269 \t: ['https://f.hubspotusercontent00.net/hubfs/1616151/hippo%20master%20folder/the-museum-of-modern-art-logo.jpg', 'https://f.hubspotusercontent00.net/hubfs/1616151/hippo%20master%20folder/world-vision-logo.png']\n",
      "\n"
     ]
    },
    {
     "name": "stderr",
     "output_type": "stream",
     "text": [
      "232it [00:06, 19.73it/s]"
     ]
    },
    {
     "name": "stdout",
     "output_type": "stream",
     "text": [
      "Cannot be found in 270 \t: ['https://f.hubspotusercontent00.net/hubfs/1616151/hippo%20master%20folder/mountain-equipment-co-op-company-logo.jpg', 'https://f.hubspotusercontent00.net/hubfs/1616151/hippo%20master%20folder/the-dufresne-group-company-logo.png', 'https://f.hubspotusercontent00.net/hubfs/1616151/hippo%20master%20folder/the-bay-centre-company-logo.png']\n",
      "\n",
      "Cannot be found in 271 \t: ['https://f.hubspotusercontent00.net/hubfs/1616151/hippo%20master%20folder/td-place-stadium-logo.jpg', 'https://f.hubspotusercontent00.net/hubfs/1616151/hippo%20master%20folder/hippo%20-%20logos/fac_logo/investors-group-field-logo.png']\n",
      "\n",
      "Cannot be found in 278 \t: ['Luxottica']\n",
      "\n"
     ]
    },
    {
     "name": "stderr",
     "output_type": "stream",
     "text": [
      "235it [00:06, 18.25it/s]"
     ]
    },
    {
     "name": "stdout",
     "output_type": "stream",
     "text": [
      "Cannot be found in 279 \t: ['Volvo Construction Equipment Haulers Ltd']\n",
      "\n",
      "Cannot be found in 280 \t: ['AXA Belgium']\n",
      "\n"
     ]
    },
    {
     "name": "stderr",
     "output_type": "stream",
     "text": [
      "238it [00:07, 17.59it/s]"
     ]
    },
    {
     "name": "stdout",
     "output_type": "stream",
     "text": [
      "Cannot be found in 281 \t: ['Deloitte']\n",
      "\n",
      "Cannot be found in 282 \t: ['Raymond James']\n",
      "\n",
      "Cannot be found in 283 \t: ['Express Scripts']\n",
      "\n",
      "Cannot be found in 284 \t: ['https://consulting.sva.com/hubfs/verastem-oncology-logo-3x.png', 'https://consulting.sva.com/hubfs/exact-sciences-logo-3x.png', 'https://consulting.sva.com/hubfs/nordic-logo-3x.png', 'https://consulting.sva.com/hubfs/cleary-logo-3x.png', 'https://consulting.sva.com/hubfs/wra-logo-3x.png', 'https://consulting.sva.com/hubfs/giordanos-logo-3x.png']\n",
      "\n"
     ]
    },
    {
     "name": "stderr",
     "output_type": "stream",
     "text": [
      "241it [00:07, 17.10it/s]"
     ]
    },
    {
     "name": "stdout",
     "output_type": "stream",
     "text": [
      "Cannot be found in 285 \t: ['Associated British Foods plc', 'Bayern LB', 'BNP Paribas', 'British Land', 'emirates', 'nz', 'GlaxoSmithKline', 'hitachi', 'hsbc', 'multiplex', 'nhs', 'Oman Investment Corporation', 'siemens', 'sse', 'Ted Baker London', 'Terra Firma', 'we work']\n",
      "\n",
      "Cannot be found in 286 \t: ['Delio']\n",
      "\n"
     ]
    },
    {
     "name": "stderr",
     "output_type": "stream",
     "text": [
      "245it [00:07, 13.57it/s]"
     ]
    },
    {
     "name": "stdout",
     "output_type": "stream",
     "text": [
      "Cannot be found in 290 \t: ['BP LIGHTSOURCE']\n",
      "\n",
      "Cannot be found in 292 \t: ['MACQUARIE – SOLAR PANELS FOR TESCO']\n",
      "\n",
      "Cannot be found in 293 \t: ['PEEL GROUP – DISPOSAL OF ONSHORE WIND FARMS']\n",
      "\n"
     ]
    },
    {
     "name": "stderr",
     "output_type": "stream",
     "text": [
      "247it [00:07, 12.57it/s]"
     ]
    },
    {
     "name": "stdout",
     "output_type": "stream",
     "text": [
      "Cannot be found in 295 \t: ['UK Water Industry Research (UKWIR) Guidance']\n",
      "\n",
      "Cannot be found in 326 \t: ['ohpen', 'parmenion', 'partnership', 'Platform Securities', 'premier', 'principality', 'prudential', 'quilter', 'saga', 'santander', 'sei', 'sigfig', 'smarterly', 'spence', 'stanlib', 'stepchange', 'sovereign', 'tilney', 'uss', 'wealthify', 'wesleyan', 'winterflood', 'yatta', 'zeux', 'zurich', 'ajbell', 'admiral', 'aegon', 'aib', 'anacap', 'asb', 'ascentric', 'atos', 'aviva', 'AXA', 'bbs', 'blackrock', 'bmo', 'bravura', 'bwci', 'capita', 'cardano', 'caf', 'ch', 'clifton', 'cobens', 'conduent', 'corpad', 'dhl', 'dst', 'embark', 'equiniti', 'euroclear', 'evalue', 'exponent', 'fidelity', 'finimize', 'fundsquare', 'gbst', 'genpact', 'holloway', 'hsbc', 'hubwise', 'inchora', 'inflexion', 'instanda', 'investec', 'jlt', 'liberty', 'mercer', 'Metfriendly', 'mobius', 'momentum', 'nationwide', 'novia', 'nucleus', 'nutmeg']\n",
      "\n",
      "Cannot be found in 363 \t: ['https://www.amnetgroup.com/app/uploads/expedia.png', 'https://www.amnetgroup.com/app/uploads/gm.png', 'https://www.amnetgroup.com/app/uploads/mattel.png', 'https://www.amnetgroup.com/app/uploads/oriflame.png', 'https://www.amnetgroup.com/app/uploads/mondelez.png', 'https://www.amnetgroup.com/app/uploads/burberry.png']\n",
      "\n"
     ]
    },
    {
     "name": "stderr",
     "output_type": "stream",
     "text": [
      "254it [00:08, 19.65it/s]"
     ]
    },
    {
     "name": "stdout",
     "output_type": "stream",
     "text": [
      "Cannot be found in 364 \t: ['https://www.amnetgroup.com/app/uploads/diageo.png', 'https://www.amnetgroup.com/app/uploads/kelloggs.png', 'https://www.amnetgroup.com/app/uploads/sony.png']\n",
      "\n",
      "Cannot be found in 457 \t: ['Honduras']\n",
      "\n",
      "Cannot be found in 474 \t: ['blockbuster']\n",
      "\n",
      "Cannot be found in 504 \t: ['curoxen', 'swift', 'femiclear', 'pilgrims']\n",
      "\n",
      "Cannot be found in 507 \t: ['Clear Eyes']\n",
      "\n",
      "Cannot be found in 508 \t: ['Dewar’s']\n",
      "\n",
      "Cannot be found in 510 \t: ['Super Derivatives']\n",
      "\n",
      "Cannot be found in 511 \t: ['Parlux']\n",
      "\n"
     ]
    },
    {
     "name": "stderr",
     "output_type": "stream",
     "text": [
      "258it [00:08, 22.98it/s]"
     ]
    },
    {
     "name": "stdout",
     "output_type": "stream",
     "text": [
      "Cannot be found in 512 \t: ['St. Regis Hotels']\n",
      "\n",
      "Cannot be found in 513 \t: ['Van Cleef & Arpels']\n",
      "\n",
      "Cannot be found in 515 \t: ['FAA’s STEM AVSED']\n",
      "\n",
      "Cannot be found in 517 \t: ['bt']\n",
      "\n"
     ]
    },
    {
     "name": "stderr",
     "output_type": "stream",
     "text": [
      "261it [00:08, 15.67it/s]"
     ]
    },
    {
     "name": "stdout",
     "output_type": "stream",
     "text": [
      "Cannot be found in 520 \t: ['HUD', 'NWAF', 'HHS', 'Prudential Foundation', 'DOL', 'YouthBuild Newark', 'SSA PROMISE', 'EPRI', 'NY Power Authority', 'Tennessee Valley Authority (TVA)', 'Duke Energy', 'RWJ', 'RWJF', 'Knight Foundation', 'State Childcare Systems Network (AFI)', 'ED Promise Neighborhoods', 'Harlem Children’s Zone', 'University System of Georgia', 'RWJBH', 'Pfizer', 'Merck', 'Novartis', 'University of Maryland', 'Walmart', 'Eaton']\n",
      "\n"
     ]
    },
    {
     "name": "stderr",
     "output_type": "stream",
     "text": [
      "264it [00:08, 12.93it/s]"
     ]
    },
    {
     "name": "stdout",
     "output_type": "stream",
     "text": [
      "Cannot be found in 521 \t: ['U.S. Department of Housing and Urban Development', 'U.S. Department of Labor', 'Robert Wood Johnson Foundation', 'Office of Head Start (OHS)']\n",
      "\n",
      "Cannot be found in 523 \t: ['PIMCO', 'axpo', 'shell', 'statkraft']\n",
      "\n",
      "Cannot be found in 526 \t: ['Lathrop GPM']\n",
      "\n",
      "Cannot be found in 527 \t: ['Area Ambulance Service (AAS)']\n",
      "\n",
      "Cannot be found in 528 \t: ['Giving Back Time in Your Day', 'Air Mechanical, Inc.']\n",
      "\n",
      "Cannot be found in 529 \t: ['Nuel Capital Holdings']\n",
      "\n"
     ]
    },
    {
     "name": "stderr",
     "output_type": "stream",
     "text": [
      "272it [00:09, 19.57it/s]"
     ]
    },
    {
     "name": "stdout",
     "output_type": "stream",
     "text": [
      "Cannot be found in 530 \t: ['Kann Manufacturing Corporation']\n",
      "\n",
      "Cannot be found in 531 \t: ['ANIMART']\n",
      "\n",
      "Cannot be found in 532 \t: ['Crittenton Center Fiscal Services']\n",
      "\n",
      "Cannot be found in 533 \t: ['Veritas HHS']\n",
      "\n",
      "Cannot be found in 534 \t: ['American Rental Association (ARA)']\n",
      "\n"
     ]
    },
    {
     "name": "stderr",
     "output_type": "stream",
     "text": [
      "275it [00:09, 18.14it/s]"
     ]
    },
    {
     "name": "stdout",
     "output_type": "stream",
     "text": [
      "Cannot be found in 544 \t: ['https://www.berkley-group.com/wp-content/uploads/2020/09/depuy_resized_greyscale.jpg', 'https://www.berkley-group.com/wp-content/uploads/2020/09/gilead_resized_greyscale.jpg', 'https://www.berkley-group.com/wp-content/uploads/2020/09/lilly_resized_greyscale.jpg', 'https://www.berkley-group.com/wp-content/uploads/2020/09/msd_resized_greyscale.jpg', 'https://www.berkley-group.com/wp-content/uploads/2020/09/wuxi_resized_greyscale.jpg', 'https://www.berkley-group.com/wp-content/uploads/2020/09/apple-resized-v2.jpg', 'https://www.berkley-group.com/wp-content/uploads/2020/09/avenade_resized_greyscale.jpg', 'https://www.berkley-group.com/wp-content/uploads/2020/09/bt_ireland_resized_greyscale.jpg', 'https://www.berkley-group.com/wp-content/uploads/2020/09/clearstream_resized_greyscale.jpg', 'https://www.berkley-group.com/wp-content/uploads/2020/09/dell_emc_resized_greyscale.jpg', 'https://www.berkley-group.com/work-with-us/', 'https://www.berkley-group.com/wp-content/uploads/2020/09/musgrave_resized.jpg', 'https://www.berkley-group.com/wp-content/uploads/2020/09/pepsico_resized_greyscale.jpg', 'https://www.berkley-group.com/wp-content/uploads/2020/09/transunion_resized_greyscale.jpg', 'https://www.berkley-group.com/wp-content/uploads/2020/09/astrazeneca_resized_greyscale.jpg', 'https://www.berkley-group.com/wp-content/uploads/2020/09/stada_resized_greyscale.jpg', 'https://www.berkley-group.com/wp-content/uploads/2020/09/zoetis_resized_greyscale.jpg', 'https://www.berkley-group.com/wp-content/uploads/2020/09/amgen_resized_b_w.jpg', 'https://www.berkley-group.com/wp-content/uploads/2020/09/boi_resized_b_w.jpg', 'https://www.berkley-group.com/wp-content/uploads/2020/09/citco_resized_b_w.jpg', 'https://www.berkley-group.com/wp-content/uploads/2020/09/dassault_systems_resized_grayscale.jpg', 'https://www.berkley-group.com/wp-content/uploads/2020/09/depuy_resized_b_w.jpg', 'https://www.berkley-group.com/wp-content/uploads/2020/09/janssen_resized_b_w.jpg', 'https://www.berkley-group.com/wp-content/uploads/2020/09/laya_resized_b_w.jpg', 'https://www.berkley-group.com/wp-content/uploads/2020/09/mckesson_resized_b_w.jpg', 'https://www.berkley-group.com/wp-content/uploads/2020/09/nginx_resized_b_w.jpg', 'https://www.berkley-group.com/wp-content/uploads/2020/09/novartis_resized_b_w.jpg', 'https://www.berkley-group.com/wp-content/uploads/2020/09/pfizer_resized_b_w.jpg', 'https://www.berkley-group.com/wp-content/uploads/2020/09/planet_payments_resized.jpg', 'https://www.berkley-group.com/wp-content/uploads/2020/09/rsa_resized_b_w.jpg', 'https://www.berkley-group.com/wp-content/uploads/2020/09/trilogy_resized_b_w.jpg']\n",
      "\n",
      "Cannot be found in 545 \t: ['Carbery Group']\n",
      "\n",
      "Cannot be found in 548 \t: ['https://www.berkley-group.com/wp-content/uploads/2020/10/arkphire-greyscale-705x705.jpg', 'https://www.berkley-group.com/wp-content/uploads/2020/10/capita-705x705.jpg']\n",
      "\n",
      "Cannot be found in 550 \t: ['3% Movement Conference']\n",
      "\n",
      "Cannot be found in 553 \t: ['Los Angeles Football Club']\n",
      "\n"
     ]
    },
    {
     "name": "stderr",
     "output_type": "stream",
     "text": [
      "281it [00:09, 18.88it/s]"
     ]
    },
    {
     "name": "stdout",
     "output_type": "stream",
     "text": [
      "Cannot be found in 554 \t: ['Bang & Olufsen']\n",
      "\n",
      "Cannot be found in 556 \t: ['Activision Blizzard']\n",
      "\n",
      "Cannot be found in 558 \t: ['Children’s Hospital of Michigan']\n",
      "\n",
      "Cannot be found in 559 \t: ['Coffee Beanery']\n",
      "\n",
      "Cannot be found in 560 \t: ['SPECTRE']\n",
      "\n"
     ]
    },
    {
     "name": "stderr",
     "output_type": "stream",
     "text": [
      "287it [00:09, 20.40it/s]"
     ]
    },
    {
     "name": "stdout",
     "output_type": "stream",
     "text": [
      "Cannot be found in 563 \t: ['Icon Guitars']\n",
      "\n",
      "Cannot be found in 564 \t: ['Lakers']\n",
      "\n",
      "Cannot be found in 567 \t: ['MTN DEW']\n",
      "\n",
      "Cannot be found in 568 \t: ['Nike']\n",
      "\n",
      "Cannot be found in 572 \t: ['The Donald W. Maine College of Business']\n",
      "\n"
     ]
    },
    {
     "name": "stderr",
     "output_type": "stream",
     "text": [
      "290it [00:10, 19.61it/s]"
     ]
    },
    {
     "name": "stdout",
     "output_type": "stream",
     "text": [
      "Cannot be found in 573 \t: ['Madison Square Garden']\n",
      "\n",
      "Cannot be found in 582 \t: ['White Castle']\n",
      "\n",
      "Cannot be found in 583 \t: ['https://2s08wn33lgit3odusbd69xw1-wpengine.netdna-ssl.com/wp-content/uploads/2019/10/wells-fargo.png', 'https://2s08wn33lgit3odusbd69xw1-wpengine.netdna-ssl.com/wp-content/uploads/2019/10/walmart.png', 'https://2s08wn33lgit3odusbd69xw1-wpengine.netdna-ssl.com/wp-content/uploads/2019/10/union-pacific.png', 'https://2s08wn33lgit3odusbd69xw1-wpengine.netdna-ssl.com/wp-content/uploads/2019/10/university-of-michigan.png', 'https://2s08wn33lgit3odusbd69xw1-wpengine.netdna-ssl.com/wp-content/uploads/2019/10/carhartt.png', 'https://2s08wn33lgit3odusbd69xw1-wpengine.netdna-ssl.com/wp-content/uploads/2019/10/ul.png', 'https://2s08wn33lgit3odusbd69xw1-wpengine.netdna-ssl.com/wp-content/uploads/2019/10/jaguar.png', 'https://2s08wn33lgit3odusbd69xw1-wpengine.netdna-ssl.com/wp-content/uploads/2019/10/spartannash.png', 'https://2s08wn33lgit3odusbd69xw1-wpengine.netdna-ssl.com/wp-content/uploads/2019/10/michigan-state-universtiy.png', 'https://2s08wn33lgit3odusbd69xw1-wpengine.netdna-ssl.com/wp-content/uploads/2019/10/campbell-ewald.png', 'https://2s08wn33lgit3odusbd69xw1-wpengine.netdna-ssl.com/wp-content/uploads/2019/10/buffalo-wild-wings.png', 'https://2s08wn33lgit3odusbd69xw1-wpengine.netdna-ssl.com/wp-content/uploads/2019/10/progressive.png', 'https://2s08wn33lgit3odusbd69xw1-wpengine.netdna-ssl.com/wp-content/uploads/2019/10/lions.png', 'https://2s08wn33lgit3odusbd69xw1-wpengine.netdna-ssl.com/wp-content/uploads/2019/10/motive.png', 'https://2s08wn33lgit3odusbd69xw1-wpengine.netdna-ssl.com/wp-content/uploads/2019/10/lord.png', 'https://2s08wn33lgit3odusbd69xw1-wpengine.netdna-ssl.com/wp-content/uploads/2019/10/match.png', 'https://2s08wn33lgit3odusbd69xw1-wpengine.netdna-ssl.com/wp-content/uploads/2019/10/little-caesars.png', 'https://2s08wn33lgit3odusbd69xw1-wpengine.netdna-ssl.com/wp-content/uploads/2019/10/white-castle.png', 'https://2s08wn33lgit3odusbd69xw1-wpengine.netdna-ssl.com/wp-content/uploads/2019/10/lexus-symbol-1988-1920x1080.png', 'https://2s08wn33lgit3odusbd69xw1-wpengine.netdna-ssl.com/wp-content/uploads/2019/10/adidas.png', 'https://2s08wn33lgit3odusbd69xw1-wpengine.netdna-ssl.com/wp-content/uploads/2019/10/ford.png']\n",
      "\n",
      "Cannot be found in 598 \t: ['Ace Hardware']\n",
      "\n",
      "Cannot be found in 599 \t: ['ARYTZA']\n",
      "\n"
     ]
    },
    {
     "name": "stderr",
     "output_type": "stream",
     "text": [
      "296it [00:10, 22.50it/s]"
     ]
    },
    {
     "name": "stdout",
     "output_type": "stream",
     "text": [
      "Cannot be found in 600 \t: ['Colony Brands']\n",
      "\n",
      "Cannot be found in 601 \t: ['Dawn Foods']\n",
      "\n",
      "Cannot be found in 602 \t: ['DW van Rooijen Warehousing B.V.']\n",
      "\n",
      "Cannot be found in 603 \t: ['Ferrara Candy']\n",
      "\n",
      "Cannot be found in 604 \t: ['Heineken UK Ltd']\n",
      "\n",
      "Cannot be found in 605 \t: ['humedica e.V.']\n",
      "\n"
     ]
    },
    {
     "name": "stderr",
     "output_type": "stream",
     "text": [
      "302it [00:10, 25.05it/s]"
     ]
    },
    {
     "name": "stdout",
     "output_type": "stream",
     "text": [
      "Cannot be found in 606 \t: ['IFCO']\n",
      "\n",
      "Cannot be found in 607 \t: ['Kichler']\n",
      "\n",
      "Cannot be found in 608 \t: ['Qatar Post']\n",
      "\n",
      "Cannot be found in 609 \t: ['Quorn']\n",
      "\n",
      "Cannot be found in 610 \t: ['Raben Group']\n",
      "\n",
      "Cannot be found in 611 \t: ['Sargento Food Inc.']\n",
      "\n"
     ]
    },
    {
     "name": "stderr",
     "output_type": "stream",
     "text": [
      "308it [00:10, 23.14it/s]"
     ]
    },
    {
     "name": "stdout",
     "output_type": "stream",
     "text": [
      "Cannot be found in 612 \t: ['Streck Transport']\n",
      "\n",
      "Cannot be found in 613 \t: ['The Very Group']\n",
      "\n",
      "Cannot be found in 614 \t: ['Volvo']\n",
      "\n",
      "Cannot be found in 615 \t: ['Damco', 'Hostess Brands', 'Seacon Logistics', 'Rich Products', 'Republic Plastics', 'MTD', 'Keystone Foods', 'Jel Sert', 'Chiquita', 'CHEP', 'Barilla', 'Air Canada', 'AEP', 'Newark', 'National Instruments', 'Mothercare']\n",
      "\n"
     ]
    },
    {
     "name": "stderr",
     "output_type": "stream",
     "text": [
      "311it [00:11, 18.58it/s]"
     ]
    },
    {
     "name": "stdout",
     "output_type": "stream",
     "text": [
      "Cannot be found in 635 \t: ['Defense Logistics Agency', 'Department of Agriculture', 'Department of Housing and Urban Development', 'Department of the Interior', 'Department of Veteran Affairs', 'Intelligence Community', 'Office of the Secretary of Defense', 'U.S. Air Force', 'U.S. Army', 'U.S. Marine Corps', 'U.S. Navy']\n",
      "\n",
      "Cannot be found in 636 \t: ['Centers for Disease Control and Prevention', 'Centers for Medicare and Medicaid Services', 'Defense Health Agency', 'Defense Information Systems Agency', 'Department of Health and Human Services', 'Department of the Treasury', 'Environmental Protection Agency', 'Federal Aviation Administration', 'National Aeronautics and Space Administration', 'National Institutes of Health', 'Securities and Exchange Commission', 'Unified Combatant Commands']\n",
      "\n",
      "Cannot be found in 637 \t: ['Drug Enforcement Administration', 'Executive Office for U.S. Attorneys', 'Federal Bureau of Investigation', 'U.S. Transportation Command']\n",
      "\n"
     ]
    },
    {
     "name": "stderr",
     "output_type": "stream",
     "text": [
      "314it [00:11, 19.08it/s]"
     ]
    },
    {
     "name": "stdout",
     "output_type": "stream",
     "text": [
      "Cannot be found in 638 \t: ['https://camunda.com/wp-content/uploads/2020/05/logo-telekom-case.svg', 'https://camunda.com/wp-content/uploads/2021/01/deloitte.png', 'https://camunda.com/wp-content/uploads/2020/05/allianz.svg', 'https://camunda.com/wp-content/uploads/2020/05/fitness-logo.svg', 'https://camunda.com/wp-content/uploads/2020/07/universal.svg', 'https://camunda.com/wp-content/uploads/2020/07/airbus.svg', 'https://camunda.com/wp-content/uploads/2021/04/us-dept-va-noseal.png', 'https://camunda.com/wp-content/uploads/2020/07/panasonic.svg', 'https://camunda.com/wp-content/uploads/2020/07/atlassian.svg', 'https://camunda.com/wp-content/uploads/2019/04/ing.svg', 'https://camunda.com/wp-content/uploads/2020/07/fujitsu_logo_.gif', 'https://camunda.com/wp-content/uploads/2020/07/lufthansa-technik.svg', 'https://camunda.com/wp-content/uploads/2020/07/logo-intuit-preferred.svg', 'https://camunda.com/wp-content/uploads/2018/05/db-logo-data.svg', 'https://camunda.com/wp-content/uploads/2020/07/warner-music.svg', 'https://camunda.com/wp-content/uploads/2020/07/dab-bnp-paribas.svg', 'https://camunda.com/wp-content/uploads/2020/07/hannover-re.svg', 'https://camunda.com/wp-content/uploads/2020/05/zalando.svg', 'https://camunda.com/wp-content/uploads/2020/07/k_h_en.png', 'https://camunda.com/wp-content/uploads/2020/07/1_1.svg', 'https://camunda.com/wp-content/uploads/2020/05/axa.svg', 'https://camunda.com/wp-content/uploads/2020/07/logo-orange_1234_mediatheque-lightbox.jpg', 'https://camunda.com/wp-content/uploads/2020/07/c_a.png', 'https://camunda.com/wp-content/uploads/2020/07/1200px-e__lectricite___de_france.svg.png']\n",
      "\n",
      "Cannot be found in 668 \t: ['MARCA', 'Sport']\n",
      "\n",
      "Cannot be found in 670 \t: ['VITAC', 'Communication Service for the Deaf', 'Gallaudet University', 'Northern Kentucky University', 'Inside Higher Ed', 'Access Living', 'Captioning and CaptionMatch.com', 'Symmes Maini & McKee Associates', 'Saint Louis University', 'WeCo Accessibility Services']\n",
      "\n",
      "Cannot be found in 675 \t: ['UNC Kenan-Flagler']\n",
      "\n"
     ]
    },
    {
     "name": "stderr",
     "output_type": "stream",
     "text": [
      "317it [00:11, 15.59it/s]"
     ]
    },
    {
     "name": "stdout",
     "output_type": "stream",
     "text": [
      "Cannot be found in 676 \t: ['The American College of Chest Physicians (CHEST)']\n",
      "\n",
      "Cannot be found in 677 \t: ['Serendipity Labs']\n",
      "\n",
      "Cannot be found in 678 \t: ['100 Prince']\n",
      "\n"
     ]
    },
    {
     "name": "stderr",
     "output_type": "stream",
     "text": [
      "321it [00:11, 13.74it/s]"
     ]
    },
    {
     "name": "stdout",
     "output_type": "stream",
     "text": [
      "Cannot be found in 679 \t: ['Associated Hardwoods']\n",
      "\n",
      "Cannot be found in 680 \t: ['Boys & Girls Club of Cabarrus County']\n",
      "\n",
      "Cannot be found in 681 \t: ['Boys & Girls Club of Fort Wayne']\n",
      "\n"
     ]
    },
    {
     "name": "stderr",
     "output_type": "stream",
     "text": [
      "323it [00:11, 13.42it/s]"
     ]
    },
    {
     "name": "stdout",
     "output_type": "stream",
     "text": [
      "Cannot be found in 682 \t: ['Gaffney']\n",
      "\n",
      "Cannot be found in 683 \t: ['Commonwealth Crossing Business Centre (CCBC)']\n",
      "\n",
      "Cannot be found in 684 \t: ['Conwood I']\n",
      "\n"
     ]
    },
    {
     "name": "stderr",
     "output_type": "stream",
     "text": [
      "327it [00:12, 12.55it/s]"
     ]
    },
    {
     "name": "stdout",
     "output_type": "stream",
     "text": [
      "Cannot be found in 685 \t: ['Fairfield Government Center']\n",
      "\n",
      "Cannot be found in 686 \t: ['Greenco Beverage Co']\n",
      "\n",
      "Cannot be found in 687 \t: ['Gregg Community Center']\n",
      "\n"
     ]
    },
    {
     "name": "stderr",
     "output_type": "stream",
     "text": [
      "329it [00:12, 12.33it/s]"
     ]
    },
    {
     "name": "stdout",
     "output_type": "stream",
     "text": [
      "Cannot be found in 688 \t: ['Jetro Restaurant Depot']\n",
      "\n",
      "Cannot be found in 689 \t: ['Judson Mills']\n",
      "\n",
      "Cannot be found in 690 \t: ['Kingsley House']\n",
      "\n"
     ]
    },
    {
     "name": "stderr",
     "output_type": "stream",
     "text": [
      "333it [00:12, 11.99it/s]"
     ]
    },
    {
     "name": "stdout",
     "output_type": "stream",
     "text": [
      "Cannot be found in 691 \t: ['Legacy Charter School']\n",
      "\n",
      "Cannot be found in 692 \t: ['Charleston']\n",
      "\n",
      "Cannot be found in 693 \t: ['The Lindsey Wilson College']\n",
      "\n"
     ]
    },
    {
     "name": "stderr",
     "output_type": "stream",
     "text": [
      "335it [00:12, 12.40it/s]"
     ]
    },
    {
     "name": "stdout",
     "output_type": "stream",
     "text": [
      "Cannot be found in 696 \t: ['Sweet Street Desserts']\n",
      "\n",
      "Cannot be found in 697 \t: ['YMCA']\n",
      "\n",
      "Cannot be found in 698 \t: ['SWISS KRONO Group']\n",
      "\n"
     ]
    },
    {
     "name": "stderr",
     "output_type": "stream",
     "text": [
      "339it [00:13, 12.99it/s]"
     ]
    },
    {
     "name": "stdout",
     "output_type": "stream",
     "text": [
      "Cannot be found in 699 \t: ['TAG Truck Center']\n",
      "\n",
      "Cannot be found in 700 \t: ['TDC Cutting Tools']\n",
      "\n",
      "Cannot be found in 701 \t: ['The Franklin School']\n",
      "\n"
     ]
    },
    {
     "name": "stderr",
     "output_type": "stream",
     "text": [
      "341it [00:13, 13.28it/s]"
     ]
    },
    {
     "name": "stdout",
     "output_type": "stream",
     "text": [
      "Cannot be found in 703 \t: ['Thrive Academy']\n",
      "\n",
      "Cannot be found in 704 \t: ['Tippah County Hospital']\n",
      "\n",
      "Cannot be found in 707 \t: ['Cree']\n",
      "\n"
     ]
    },
    {
     "name": "stderr",
     "output_type": "stream",
     "text": [
      "345it [00:13, 12.28it/s]"
     ]
    },
    {
     "name": "stdout",
     "output_type": "stream",
     "text": [
      "Cannot be found in 708 \t: ['Investor Management Services']\n",
      "\n",
      "Cannot be found in 709 \t: ['Purple Wave']\n",
      "\n",
      "Cannot be found in 710 \t: ['the Prince George’s County Memorial Library System']\n",
      "\n",
      "Cannot be found in 711 \t: ['The Alzheimer’s Association']\n",
      "\n"
     ]
    },
    {
     "name": "stderr",
     "output_type": "stream",
     "text": [
      "347it [00:14,  6.43it/s]"
     ]
    },
    {
     "name": "stdout",
     "output_type": "stream",
     "text": [
      "Cannot be found in 725 \t: ['A+E Networks']\n",
      "\n"
     ]
    },
    {
     "name": "stderr",
     "output_type": "stream",
     "text": [
      "348it [00:15,  4.15it/s]"
     ]
    },
    {
     "name": "stdout",
     "output_type": "stream",
     "text": [
      "Cannot be found in 726 \t: ['Bicycle Therapeutics']\n",
      "\n"
     ]
    },
    {
     "name": "stderr",
     "output_type": "stream",
     "text": [
      "349it [00:15,  3.25it/s]"
     ]
    },
    {
     "name": "stdout",
     "output_type": "stream",
     "text": [
      "Cannot be found in 727 \t: ['Blackpool Pleasure Beach']\n",
      "\n"
     ]
    },
    {
     "name": "stderr",
     "output_type": "stream",
     "text": [
      "350it [00:16,  2.67it/s]"
     ]
    },
    {
     "name": "stdout",
     "output_type": "stream",
     "text": [
      "Cannot be found in 728 \t: ['Blandy & Blandy']\n",
      "\n"
     ]
    },
    {
     "name": "stderr",
     "output_type": "stream",
     "text": [
      "351it [00:16,  2.39it/s]"
     ]
    },
    {
     "name": "stdout",
     "output_type": "stream",
     "text": [
      "Cannot be found in 729 \t: ['Bryanston School']\n",
      "\n"
     ]
    },
    {
     "name": "stderr",
     "output_type": "stream",
     "text": [
      "352it [00:17,  2.18it/s]"
     ]
    },
    {
     "name": "stdout",
     "output_type": "stream",
     "text": [
      "Cannot be found in 730 \t: ['CityWest Homes']\n",
      "\n"
     ]
    },
    {
     "name": "stderr",
     "output_type": "stream",
     "text": [
      "353it [00:17,  2.07it/s]"
     ]
    },
    {
     "name": "stdout",
     "output_type": "stream",
     "text": [
      "Cannot be found in 731 \t: ['Cornwall Hospice Care']\n",
      "\n"
     ]
    },
    {
     "name": "stderr",
     "output_type": "stream",
     "text": [
      "354it [00:18,  1.98it/s]"
     ]
    },
    {
     "name": "stdout",
     "output_type": "stream",
     "text": [
      "Cannot be found in 732 \t: ['Cotswold Archaeology']\n",
      "\n"
     ]
    },
    {
     "name": "stderr",
     "output_type": "stream",
     "text": [
      "355it [00:18,  1.93it/s]"
     ]
    },
    {
     "name": "stdout",
     "output_type": "stream",
     "text": [
      "Cannot be found in 733 \t: ['Countrywide']\n",
      "\n"
     ]
    },
    {
     "name": "stderr",
     "output_type": "stream",
     "text": [
      "356it [00:19,  1.89it/s]"
     ]
    },
    {
     "name": "stdout",
     "output_type": "stream",
     "text": [
      "Cannot be found in 734 \t: ['Crisis UK']\n",
      "\n"
     ]
    },
    {
     "name": "stderr",
     "output_type": "stream",
     "text": [
      "357it [00:20,  1.84it/s]"
     ]
    },
    {
     "name": "stdout",
     "output_type": "stream",
     "text": [
      "Cannot be found in 735 \t: ['Dudley Building Society']\n",
      "\n"
     ]
    },
    {
     "name": "stderr",
     "output_type": "stream",
     "text": [
      "358it [00:20,  1.83it/s]"
     ]
    },
    {
     "name": "stdout",
     "output_type": "stream",
     "text": [
      "Cannot be found in 736 \t: ['Focus Group']\n",
      "\n"
     ]
    },
    {
     "name": "stderr",
     "output_type": "stream",
     "text": [
      "359it [00:21,  1.80it/s]"
     ]
    },
    {
     "name": "stdout",
     "output_type": "stream",
     "text": [
      "Cannot be found in 737 \t: ['Iliffe Media']\n",
      "\n"
     ]
    },
    {
     "name": "stderr",
     "output_type": "stream",
     "text": [
      "360it [00:21,  1.76it/s]"
     ]
    },
    {
     "name": "stdout",
     "output_type": "stream",
     "text": [
      "Cannot be found in 738 \t: ['Isabel Hospice']\n",
      "\n"
     ]
    },
    {
     "name": "stderr",
     "output_type": "stream",
     "text": [
      "361it [00:22,  1.75it/s]"
     ]
    },
    {
     "name": "stdout",
     "output_type": "stream",
     "text": [
      "Cannot be found in 739 \t: ['Kavli']\n",
      "\n"
     ]
    },
    {
     "name": "stderr",
     "output_type": "stream",
     "text": [
      "362it [00:23,  1.74it/s]"
     ]
    },
    {
     "name": "stdout",
     "output_type": "stream",
     "text": [
      "Cannot be found in 740 \t: ['Kiwi Power']\n",
      "\n"
     ]
    },
    {
     "name": "stderr",
     "output_type": "stream",
     "text": [
      "363it [00:23,  1.75it/s]"
     ]
    },
    {
     "name": "stdout",
     "output_type": "stream",
     "text": [
      "Cannot be found in 741 \t: ['Latymer Upper School']\n",
      "\n"
     ]
    },
    {
     "name": "stderr",
     "output_type": "stream",
     "text": [
      "364it [00:24,  1.73it/s]"
     ]
    },
    {
     "name": "stdout",
     "output_type": "stream",
     "text": [
      "Cannot be found in 742 \t: ['Lebara']\n",
      "\n"
     ]
    },
    {
     "name": "stderr",
     "output_type": "stream",
     "text": [
      "365it [00:24,  1.69it/s]"
     ]
    },
    {
     "name": "stdout",
     "output_type": "stream",
     "text": [
      "Cannot be found in 743 \t: ['Lawn Tennis Association']\n",
      "\n"
     ]
    },
    {
     "name": "stderr",
     "output_type": "stream",
     "text": [
      "366it [00:25,  1.68it/s]"
     ]
    },
    {
     "name": "stdout",
     "output_type": "stream",
     "text": [
      "Cannot be found in 744 \t: ['Nescot']\n",
      "\n"
     ]
    },
    {
     "name": "stderr",
     "output_type": "stream",
     "text": [
      "367it [00:25,  1.69it/s]"
     ]
    },
    {
     "name": "stdout",
     "output_type": "stream",
     "text": [
      "Cannot be found in 745 \t: ['Oakhaven Hospice Trust']\n",
      "\n"
     ]
    },
    {
     "name": "stderr",
     "output_type": "stream",
     "text": [
      "368it [00:26,  1.65it/s]"
     ]
    },
    {
     "name": "stdout",
     "output_type": "stream",
     "text": [
      "Cannot be found in 746 \t: ['Pro:Direct']\n",
      "\n"
     ]
    },
    {
     "name": "stderr",
     "output_type": "stream",
     "text": [
      "369it [00:27,  1.66it/s]"
     ]
    },
    {
     "name": "stdout",
     "output_type": "stream",
     "text": [
      "Cannot be found in 747 \t: ['RCNi']\n",
      "\n"
     ]
    },
    {
     "name": "stderr",
     "output_type": "stream",
     "text": [
      "370it [00:27,  1.59it/s]"
     ]
    },
    {
     "name": "stdout",
     "output_type": "stream",
     "text": [
      "Cannot be found in 748 \t: ['Richard House']\n",
      "\n"
     ]
    },
    {
     "name": "stderr",
     "output_type": "stream",
     "text": [
      "371it [00:28,  1.61it/s]"
     ]
    },
    {
     "name": "stdout",
     "output_type": "stream",
     "text": [
      "Cannot be found in 749 \t: ['Royal Russell School']\n",
      "\n"
     ]
    },
    {
     "name": "stderr",
     "output_type": "stream",
     "text": [
      "372it [00:29,  1.61it/s]"
     ]
    },
    {
     "name": "stdout",
     "output_type": "stream",
     "text": [
      "Cannot be found in 750 \t: ['S4C']\n",
      "\n"
     ]
    },
    {
     "name": "stderr",
     "output_type": "stream",
     "text": [
      "373it [00:29,  1.58it/s]"
     ]
    },
    {
     "name": "stdout",
     "output_type": "stream",
     "text": [
      "Cannot be found in 751 \t: ['Scholastic']\n",
      "\n"
     ]
    },
    {
     "name": "stderr",
     "output_type": "stream",
     "text": [
      "374it [00:30,  1.58it/s]"
     ]
    },
    {
     "name": "stdout",
     "output_type": "stream",
     "text": [
      "Cannot be found in 752 \t: ['Social Care Wales']\n",
      "\n"
     ]
    },
    {
     "name": "stderr",
     "output_type": "stream",
     "text": [
      "375it [00:31,  1.60it/s]"
     ]
    },
    {
     "name": "stdout",
     "output_type": "stream",
     "text": [
      "Cannot be found in 753 \t: ['St Mary’s Hospice']\n",
      "\n"
     ]
    },
    {
     "name": "stderr",
     "output_type": "stream",
     "text": [
      "376it [00:31,  1.58it/s]"
     ]
    },
    {
     "name": "stdout",
     "output_type": "stream",
     "text": [
      "Cannot be found in 754 \t: ['Surrey Satellite Technology']\n",
      "\n"
     ]
    },
    {
     "name": "stderr",
     "output_type": "stream",
     "text": [
      "377it [00:32,  1.61it/s]"
     ]
    },
    {
     "name": "stdout",
     "output_type": "stream",
     "text": [
      "Cannot be found in 755 \t: ['The Cambridge']\n",
      "\n"
     ]
    },
    {
     "name": "stderr",
     "output_type": "stream",
     "text": [
      "378it [00:32,  1.62it/s]"
     ]
    },
    {
     "name": "stdout",
     "output_type": "stream",
     "text": [
      "Cannot be found in 756 \t: ['United Welsh']\n",
      "\n"
     ]
    },
    {
     "name": "stderr",
     "output_type": "stream",
     "text": [
      "379it [00:33,  1.62it/s]"
     ]
    },
    {
     "name": "stdout",
     "output_type": "stream",
     "text": [
      "Cannot be found in 757 \t: ['Walsall Housing Group']\n",
      "\n"
     ]
    },
    {
     "name": "stderr",
     "output_type": "stream",
     "text": [
      "380it [00:34,  1.62it/s]"
     ]
    },
    {
     "name": "stdout",
     "output_type": "stream",
     "text": [
      "Cannot be found in 758 \t: ['Zoopla Property Group']\n",
      "\n"
     ]
    },
    {
     "name": "stderr",
     "output_type": "stream",
     "text": [
      "384it [00:34,  3.48it/s]"
     ]
    },
    {
     "name": "stdout",
     "output_type": "stream",
     "text": [
      "Cannot be found in 759 \t: ['roadchef', 'chattertons', 'ecb', 'Battersea', 'abingdon', 'greenpeace', 'dreams', 'citysprint', 'kcom', 'plusnet']\n",
      "\n",
      "Cannot be found in 793 \t: ['https://www.cirtuo.com/wp-content/uploads/2017/05/logo-adria.png', 'https://www.cirtuo.com/wp-content/uploads/2017/05/logo-adris-grupa.png', 'https://www.cirtuo.com/wp-content/uploads/2017/05/logo-andritz.png', 'https://www.cirtuo.com/wp-content/uploads/2017/05/logo-atlantic-1.png', 'https://www.cirtuo.com/wp-content/uploads/2017/05/logo-co.png', 'https://www.cirtuo.com/wp-content/uploads/2017/05/logo-cromaris.png', 'https://www.cirtuo.com/wp-content/uploads/2017/05/logo-droga.png', 'https://www.cirtuo.com/wp-content/uploads/2019/03/epirop.png', 'https://www.cirtuo.com/wp-content/uploads/2019/11/logo-a1.png', 'https://www.cirtuo.com/wp-content/uploads/2017/05/logo-eti.png', 'https://www.cirtuo.com/wp-content/uploads/2017/05/logo-gorenje.png', 'https://www.cirtuo.com/wp-content/uploads/2019/11/logo-sij.png', 'https://www.cirtuo.com/wp-content/uploads/2017/05/logo-hidria.png', 'https://www.cirtuo.com/wp-content/uploads/2017/05/logo-hirtenberger.png', 'https://www.cirtuo.com/wp-content/uploads/2019/03/hoerbiger.png', 'https://www.cirtuo.com/wp-content/uploads/2019/03/jm.png', 'https://www.cirtuo.com/wp-content/uploads/2017/05/khs.png', 'https://www.cirtuo.com/wp-content/uploads/2017/05/logo-knapp.png', 'https://www.cirtuo.com/wp-content/uploads/2017/05/logo-komptech.png', 'https://www.cirtuo.com/wp-content/uploads/2017/05/logo-maistra.png', 'https://www.cirtuo.com/wp-content/uploads/2019/03/mall-group.png', 'https://www.cirtuo.com/wp-content/uploads/2017/05/logo-molson.png', 'https://www.cirtuo.com/wp-content/uploads/2017/05/logo-mosdorfer.png', 'https://www.cirtuo.com/wp-content/uploads/2019/03/posta-slovenije.png', 'https://www.cirtuo.com/wp-content/uploads/2017/05/logo-xellia.png', 'https://www.cirtuo.com/wp-content/uploads/2017/05/weber-hydraulik.png', 'Podravka']\n",
      "\n",
      "Cannot be found in 855 \t: ['Revive Active']\n",
      "\n",
      "Cannot be found in 857 \t: ['STARBUCKS']\n",
      "\n",
      "Cannot be found in 858 \t: ['AMAZON']\n",
      "\n",
      "Cannot be found in 861 \t: [\"Primary Children's Hospital\", 'Adobe', 'Life360']\n",
      "\n",
      "Cannot be found in 862 \t: ['Lexus']\n",
      "\n"
     ]
    },
    {
     "name": "stderr",
     "output_type": "stream",
     "text": [
      "392it [00:35,  9.81it/s]"
     ]
    },
    {
     "name": "stdout",
     "output_type": "stream",
     "text": [
      "Cannot be found in 863 \t: ['Asics']\n",
      "\n",
      "Cannot be found in 864 \t: ['PSA']\n",
      "\n",
      "Cannot be found in 865 \t: ['Nissan USA', 'Olga', \"Director's Cut\", 'Family']\n",
      "\n",
      "Cannot be found in 866 \t: ['MERCK', 'BAYER']\n",
      "\n",
      "Cannot be found in 867 \t: ['Sir Rosevelt', 'Ford', 'BiCentennial']\n",
      "\n",
      "Cannot be found in 868 \t: ['Starling Bank', 'Sony', 'Samsung']\n",
      "\n",
      "Cannot be found in 869 \t: ['Fond de Cave', 'AARP', 'Movistar']\n",
      "\n"
     ]
    },
    {
     "name": "stderr",
     "output_type": "stream",
     "text": [
      "400it [00:35, 16.96it/s]"
     ]
    },
    {
     "name": "stdout",
     "output_type": "stream",
     "text": [
      "Cannot be found in 870 \t: ['Cirque Du Soleil']\n",
      "\n",
      "Cannot be found in 871 \t: ['LINCOLN', 'NIKE', 'INFINITI', 'MERCEDES BENZ', 'HARLEY DAVIDSON x ARMOUR SC']\n",
      "\n",
      "Cannot be found in 872 \t: ['HUAWEI', 'HARNAŚ', \"McDONALD'Ss\"]\n",
      "\n",
      "Cannot be found in 873 \t: ['Cricket Wireless', 'Ford Trucks', 'Olympikus']\n",
      "\n",
      "Cannot be found in 874 \t: ['Wire Cash']\n",
      "\n",
      "Cannot be found in 875 \t: ['Pepsi']\n",
      "\n",
      "Cannot be found in 876 \t: ['Budweiser', 'Comcast']\n",
      "\n"
     ]
    },
    {
     "name": "stderr",
     "output_type": "stream",
     "text": [
      "408it [00:35, 21.65it/s]"
     ]
    },
    {
     "name": "stdout",
     "output_type": "stream",
     "text": [
      "Cannot be found in 877 \t: ['Santa Lucia']\n",
      "\n",
      "Cannot be found in 878 \t: ['Adidas']\n",
      "\n",
      "Cannot be found in 881 \t: ['Royal Society for the Prevention of Cruelty to Animals', 'Lloyds Banking Group', 'BBC', 'National Rail Enquiries']\n",
      "\n",
      "Cannot be found in 882 \t: ['Get Safe Online']\n",
      "\n",
      "Cannot be found in 883 \t: ['Rest']\n",
      "\n",
      "Cannot be found in 914 \t: ['Cory Brothers', 'Smartestenergy']\n",
      "\n",
      "Cannot be found in 915 \t: ['Akbank']\n",
      "\n"
     ]
    },
    {
     "name": "stderr",
     "output_type": "stream",
     "text": [
      "411it [00:35, 19.48it/s]"
     ]
    },
    {
     "name": "stdout",
     "output_type": "stream",
     "text": [
      "Cannot be found in 916 \t: ['Comcast']\n",
      "\n",
      "Cannot be found in 919 \t: ['Sophos', 'PrivacyMaxx', 'https://mk0datameergow2e6393.kinstacdn.com/wp-content/uploads/2021/03/cotiviti_hc_logo_rgb-729d13b4ce.svg', 'https://mk0datameergow2e6393.kinstacdn.com/wp-content/uploads/2021/03/scotiabank-logo2.svg', 'https://mk0datameergow2e6393.kinstacdn.com/wp-content/uploads/2021/03/labcorp-log.svg', 'https://mk0datameergow2e6393.kinstacdn.com/wp-content/uploads/2020/09/bmo-logo.svg', 'https://mk0datameergow2e6393.kinstacdn.com/wp-content/uploads/2021/03/etstur-logo.svg', 'https://mk0datameergow2e6393.kinstacdn.com/wp-content/uploads/2021/03/akbank_logo.svg', 'https://mk0datameergow2e6393.kinstacdn.com/wp-content/uploads/2021/03/oxxo_logo.svg', 'https://mk0datameergow2e6393.kinstacdn.com/wp-content/uploads/2021/03/rbc-logo.svg', 'https://mk0datameergow2e6393.kinstacdn.com/wp-content/uploads/2021/03/health_care_service_corporation_logo.svg', 'https://mk0datameergow2e6393.kinstacdn.com/wp-content/uploads/2021/03/cibc_logo.svg', 'https://mk0datameergow2e6393.kinstacdn.com/wp-content/uploads/2021/03/targobank_logo.svg', 'https://mk0datameergow2e6393.kinstacdn.com/wp-content/uploads/2021/03/sgk-logo.svg', 'https://mk0datameergow2e6393.kinstacdn.com/wp-content/uploads/2021/03/npd-logo.svg', 'https://mk0datameergow2e6393.kinstacdn.com/wp-content/uploads/2021/03/take-ad-logo-2.svg', 'https://mk0datameergow2e6393.kinstacdn.com/wp-content/uploads/2021/03/anthem-bluecross-logo.svg', 'https://mk0datameergow2e6393.kinstacdn.com/wp-content/uploads/2021/03/zebra-logo.svg', 'https://mk0datameergow2e6393.kinstacdn.com/wp-content/uploads/2021/03/3m-logo.png', 'https://mk0datameergow2e6393.kinstacdn.com/wp-content/uploads/2021/03/jcpenny2.svg', 'https://mk0datameergow2e6393.kinstacdn.com/wp-content/uploads/2021/03/comcast_logo.svg', 'https://mk0datameergow2e6393.kinstacdn.com/wp-content/uploads/2021/03/ni-logo.svg', 'https://mk0datameergow2e6393.kinstacdn.com/wp-content/uploads/2021/03/openreach-logo.svg', 'https://mk0datameergow2e6393.kinstacdn.com/wp-content/uploads/2021/03/citi-logo-3.svg', 'https://mk0datameergow2e6393.kinstacdn.com/wp-content/uploads/2021/03/sophos_logo.svg', 'https://mk0datameergow2e6393.kinstacdn.com/wp-content/uploads/2021/04/i-50-logo.png', 'https://mk0datameergow2e6393.kinstacdn.com/wp-content/uploads/2021/03/privacy-maxx-identity-protection-logo.svg']\n",
      "\n",
      "Cannot be found in 920 \t: ['https://mk0datameergow2e6393.kinstacdn.com/wp-content/uploads/2020/10/chevron-logo.png', 'https://mk0datameergow2e6393.kinstacdn.com/wp-content/uploads/2020/10/exxonmobil-logo.png', 'https://mk0datameergow2e6393.kinstacdn.com/wp-content/uploads/2020/10/new-york-power-authority-logo.png']\n",
      "\n",
      "Cannot be found in 921 \t: ['Etstur']\n",
      "\n"
     ]
    },
    {
     "name": "stderr",
     "output_type": "stream",
     "text": [
      "414it [00:35, 18.42it/s]"
     ]
    },
    {
     "name": "stdout",
     "output_type": "stream",
     "text": [
      "Cannot be found in 922 \t: ['https://mk0datameergow2e6393.kinstacdn.com/wp-content/uploads/2020/10/american-express-logo.png', 'https://mk0datameergow2e6393.kinstacdn.com/wp-content/uploads/2020/10/hsbc-logo.png', 'https://mk0datameergow2e6393.kinstacdn.com/wp-content/uploads/2020/10/thomson-reuters-logo.png', 'https://mk0datameergow2e6393.kinstacdn.com/wp-content/uploads/2020/10/vanguard-logo.png']\n",
      "\n",
      "Cannot be found in 923 \t: ['https://mk0datameergow2e6393.kinstacdn.com/wp-content/uploads/2020/10/cotiviti_logo-e1603404003489.png', 'https://mk0datameergow2e6393.kinstacdn.com/wp-content/uploads/2020/09/aetna-logo.svg']\n",
      "\n",
      "Cannot be found in 924 \t: ['i-5O']\n",
      "\n"
     ]
    },
    {
     "name": "stderr",
     "output_type": "stream",
     "text": [
      "419it [00:36, 16.49it/s]"
     ]
    },
    {
     "name": "stdout",
     "output_type": "stream",
     "text": [
      "Cannot be found in 926 \t: ['https://mk0datameergow2e6393.kinstacdn.com/wp-content/uploads/2020/09/siemens-logo.png', 'https://mk0datameergow2e6393.kinstacdn.com/wp-content/uploads/2020/09/toyota-logo.png', 'https://mk0datameergow2e6393.kinstacdn.com/wp-content/uploads/2020/09/national-instruments-logo.png', 'https://mk0datameergow2e6393.kinstacdn.com/wp-content/uploads/2020/09/bmo-logo.png']\n",
      "\n",
      "Cannot be found in 927 \t: ['https://mk0datameergow2e6393.kinstacdn.com/wp-content/uploads/2020/09/customer-4.svg', 'https://mk0datameergow2e6393.kinstacdn.com/wp-content/uploads/2020/09/customer-3.svg']\n",
      "\n",
      "Cannot be found in 928 \t: ['https://mk0datameergow2e6393.kinstacdn.com/wp-content/uploads/2020/09/telecom-bt-logo.png', 'https://mk0datameergow2e6393.kinstacdn.com/wp-content/uploads/2020/09/telecom-vodafone-logo.png']\n",
      "\n",
      "Cannot be found in 995 \t: ['Shire', 'PSEG', 'Caterpillar', 'gaf', 'PFIZER', 'cochlear', 'j.p. morgan', 'Nextgen Healthcare', 'General Electric', 'Carnegie Hall', 'Southwestern energy', 'Prudential', 'Shutterfly', 'Time Inc', 'Citi', 'American Express', 'Deutsche Bank', 'john hancock', 'merrill lynch', 'lockheed martin', 'BioMarin', 'Valeant', 'SANOFI', 'Merck', 'Clorox', 'Allstate', 'UBS', 'new york philharmonic', 'Xerox', '3M', 'UPS', 'GAP', 'Harley-Davidson Motor Company']\n",
      "\n"
     ]
    },
    {
     "name": "stderr",
     "output_type": "stream",
     "text": [
      "424it [00:36, 19.30it/s]"
     ]
    },
    {
     "name": "stdout",
     "output_type": "stream",
     "text": [
      "Cannot be found in 996 \t: ['Pepsico']\n",
      "\n",
      "Cannot be found in 997 \t: ['Franklin Templeton Investment']\n",
      "\n",
      "Cannot be found in 999 \t: ['alps']\n",
      "\n",
      "Cannot be found in 1023 \t: ['ESP']\n",
      "\n",
      "Cannot be found in 1033 \t: ['Grass Valley']\n",
      "\n",
      "Cannot be found in 1041 \t: ['The Center for Donation & Transplant (CDT)']\n",
      "\n"
     ]
    },
    {
     "name": "stderr",
     "output_type": "stream",
     "text": [
      "427it [00:36, 20.41it/s]"
     ]
    },
    {
     "name": "stdout",
     "output_type": "stream",
     "text": [
      "Cannot be found in 1047 \t: ['Dominos']\n",
      "\n",
      "Cannot be found in 1060 \t: ['Bird & Bird']\n",
      "\n",
      "Cannot be found in 1061 \t: ['Adam Corporate']\n",
      "\n",
      "Cannot be found in 1063 \t: ['Aegon']\n",
      "\n"
     ]
    },
    {
     "name": "stderr",
     "output_type": "stream",
     "text": [
      "433it [00:37, 18.19it/s]"
     ]
    },
    {
     "name": "stdout",
     "output_type": "stream",
     "text": [
      "Cannot be found in 1064 \t: ['Alltech']\n",
      "\n",
      "Cannot be found in 1065 \t: ['FirstBank']\n",
      "\n",
      "Cannot be found in 1066 \t: ['Barclays']\n",
      "\n",
      "Cannot be found in 1067 \t: ['Berry Gardens']\n",
      "\n"
     ]
    },
    {
     "name": "stderr",
     "output_type": "stream",
     "text": [
      "437it [00:37, 17.75it/s]"
     ]
    },
    {
     "name": "stdout",
     "output_type": "stream",
     "text": [
      "Cannot be found in 1068 \t: ['William Hill']\n",
      "\n",
      "Cannot be found in 1069 \t: ['British Gas']\n",
      "\n",
      "Cannot be found in 1070 \t: ['Minas Buenaventura Company']\n",
      "\n",
      "Cannot be found in 1071 \t: ['Shaftesbury']\n",
      "\n"
     ]
    },
    {
     "name": "stderr",
     "output_type": "stream",
     "text": [
      "441it [00:37, 16.93it/s]"
     ]
    },
    {
     "name": "stdout",
     "output_type": "stream",
     "text": [
      "Cannot be found in 1072 \t: ['Computacenter']\n",
      "\n",
      "Cannot be found in 1073 \t: ['Eaton']\n",
      "\n",
      "Cannot be found in 1074 \t: ['Champlain College']\n",
      "\n",
      "Cannot be found in 1075 \t: ['Anglo American']\n",
      "\n"
     ]
    },
    {
     "name": "stderr",
     "output_type": "stream",
     "text": [
      "445it [00:37, 17.13it/s]"
     ]
    },
    {
     "name": "stdout",
     "output_type": "stream",
     "text": [
      "Cannot be found in 1076 \t: ['City of Sydney']\n",
      "\n",
      "Cannot be found in 1077 \t: ['The Common Application']\n",
      "\n",
      "Cannot be found in 1078 \t: ['Community First Credit Union']\n",
      "\n",
      "Cannot be found in 1079 \t: ['CRICO']\n",
      "\n"
     ]
    },
    {
     "name": "stderr",
     "output_type": "stream",
     "text": [
      "449it [00:37, 17.01it/s]"
     ]
    },
    {
     "name": "stdout",
     "output_type": "stream",
     "text": [
      "Cannot be found in 1080 \t: ['Rio Tinto']\n",
      "\n",
      "Cannot be found in 1081 \t: ['The ExtraCare Charitable Trust']\n",
      "\n",
      "Cannot be found in 1082 \t: ['Randstad Holding']\n",
      "\n",
      "Cannot be found in 1083 \t: ['The Princess Alexandra Hospital NHS Trust']\n",
      "\n"
     ]
    },
    {
     "name": "stderr",
     "output_type": "stream",
     "text": [
      "453it [00:38, 17.12it/s]"
     ]
    },
    {
     "name": "stdout",
     "output_type": "stream",
     "text": [
      "Cannot be found in 1084 \t: ['Time Warner Inc.']\n",
      "\n",
      "Cannot be found in 1085 \t: ['Ladbrokes plc']\n",
      "\n",
      "Cannot be found in 1086 \t: ['Medtronic plc']\n",
      "\n",
      "Cannot be found in 1087 \t: ['Southern Railway']\n",
      "\n"
     ]
    },
    {
     "name": "stderr",
     "output_type": "stream",
     "text": [
      "457it [00:38, 17.69it/s]"
     ]
    },
    {
     "name": "stdout",
     "output_type": "stream",
     "text": [
      "Cannot be found in 1088 \t: ['Tyler Technologies']\n",
      "\n",
      "Cannot be found in 1089 \t: ['DSM Pension Services B.V. (DPS)']\n",
      "\n",
      "Cannot be found in 1090 \t: ['Regus']\n",
      "\n",
      "Cannot be found in 1091 \t: ['Kingfisher PLC']\n",
      "\n"
     ]
    },
    {
     "name": "stderr",
     "output_type": "stream",
     "text": [
      "461it [00:38, 17.92it/s]"
     ]
    },
    {
     "name": "stdout",
     "output_type": "stream",
     "text": [
      "Cannot be found in 1092 \t: ['Ernst Göhner Foundation']\n",
      "\n",
      "Cannot be found in 1093 \t: ['First Rand Bank']\n",
      "\n",
      "Cannot be found in 1094 \t: ['Gwinnett Medical Center']\n",
      "\n",
      "Cannot be found in 1095 \t: ['International Personal Finance plc']\n",
      "\n"
     ]
    },
    {
     "name": "stderr",
     "output_type": "stream",
     "text": [
      "465it [00:38, 18.22it/s]"
     ]
    },
    {
     "name": "stdout",
     "output_type": "stream",
     "text": [
      "Cannot be found in 1096 \t: ['Heineken']\n",
      "\n",
      "Cannot be found in 1098 \t: ['IndianOil']\n",
      "\n",
      "Cannot be found in 1099 \t: ['The Canadian Tourism Commission (CTC)']\n",
      "\n",
      "Cannot be found in 1100 \t: ['Intu Properties']\n",
      "\n"
     ]
    },
    {
     "name": "stderr",
     "output_type": "stream",
     "text": [
      "469it [00:39, 18.13it/s]"
     ]
    },
    {
     "name": "stdout",
     "output_type": "stream",
     "text": [
      "Cannot be found in 1101 \t: ['Investors Group']\n",
      "\n",
      "Cannot be found in 1102 \t: ['Kenon Holdings']\n",
      "\n",
      "Cannot be found in 1103 \t: ['Kingfisher']\n",
      "\n",
      "Cannot be found in 1104 \t: ['La Parisienne']\n",
      "\n"
     ]
    },
    {
     "name": "stderr",
     "output_type": "stream",
     "text": [
      "473it [00:39, 17.20it/s]"
     ]
    },
    {
     "name": "stdout",
     "output_type": "stream",
     "text": [
      "Cannot be found in 1105 \t: ['Livability']\n",
      "\n",
      "Cannot be found in 1106 \t: ['Lonmin']\n",
      "\n",
      "Cannot be found in 1107 \t: ['Majid Al Futtaim Holding LLC']\n",
      "\n",
      "Cannot be found in 1108 \t: ['Nacional Monte de Piedad']\n",
      "\n"
     ]
    },
    {
     "name": "stderr",
     "output_type": "stream",
     "text": [
      "477it [00:39, 16.18it/s]"
     ]
    },
    {
     "name": "stdout",
     "output_type": "stream",
     "text": [
      "Cannot be found in 1110 \t: ['The Department of Family and Community Services (FACS']\n",
      "\n",
      "Cannot be found in 1111 \t: ['Parker Hannifin']\n",
      "\n",
      "Cannot be found in 1112 \t: ['Panalpina Group']\n",
      "\n",
      "Cannot be found in 1113 \t: ['Electricity North West']\n",
      "\n"
     ]
    },
    {
     "name": "stderr",
     "output_type": "stream",
     "text": [
      "481it [00:39, 16.30it/s]"
     ]
    },
    {
     "name": "stdout",
     "output_type": "stream",
     "text": [
      "Cannot be found in 1114 \t: ['Resolution Group', 'Deutsche Börse']\n",
      "\n",
      "Cannot be found in 1115 \t: ['General Mills']\n",
      "\n",
      "Cannot be found in 1116 \t: ['DS Smith plc']\n",
      "\n",
      "Cannot be found in 1117 \t: ['Standard Life plc']\n",
      "\n"
     ]
    },
    {
     "name": "stderr",
     "output_type": "stream",
     "text": [
      "485it [00:40, 16.39it/s]"
     ]
    },
    {
     "name": "stdout",
     "output_type": "stream",
     "text": [
      "Cannot be found in 1118 \t: ['Andbank Group']\n",
      "\n",
      "Cannot be found in 1119 \t: ['Suncorp Group']\n",
      "\n",
      "Cannot be found in 1120 \t: ['Sysco']\n",
      "\n",
      "Cannot be found in 1121 \t: ['The Texas Medical Liability Trust (TMLT)']\n",
      "\n"
     ]
    },
    {
     "name": "stderr",
     "output_type": "stream",
     "text": [
      "489it [00:40, 17.50it/s]"
     ]
    },
    {
     "name": "stdout",
     "output_type": "stream",
     "text": [
      "Cannot be found in 1122 \t: ['Private Equity Administrators (PEA)']\n",
      "\n",
      "Cannot be found in 1123 \t: ['MN']\n",
      "\n",
      "Cannot be found in 1124 \t: ['Viridian Housing']\n",
      "\n",
      "Cannot be found in 1125 \t: ['WEX Inc.']\n",
      "\n"
     ]
    },
    {
     "name": "stderr",
     "output_type": "stream",
     "text": [
      "494it [00:40, 18.54it/s]"
     ]
    },
    {
     "name": "stdout",
     "output_type": "stream",
     "text": [
      "Cannot be found in 1126 \t: ['The Procter & Gamble Company']\n",
      "\n",
      "Cannot be found in 1127 \t: ['Blue Grass Airport']\n",
      "\n",
      "Cannot be found in 1128 \t: ['Castellini Group of Companies']\n",
      "\n",
      "Cannot be found in 1129 \t: ['MadTree Brewing']\n",
      "\n",
      "Cannot be found in 1130 \t: ['LBP Manufacturing LLC']\n",
      "\n"
     ]
    },
    {
     "name": "stderr",
     "output_type": "stream",
     "text": [
      "499it [00:40, 19.10it/s]"
     ]
    },
    {
     "name": "stdout",
     "output_type": "stream",
     "text": [
      "Cannot be found in 1131 \t: ['HealthScape Advisors']\n",
      "\n",
      "Cannot be found in 1132 \t: ['RELX Group']\n",
      "\n",
      "Cannot be found in 1133 \t: ['Split Rock Jumping Tour']\n",
      "\n",
      "Cannot be found in 1134 \t: ['Bluegrass Cellular']\n",
      "\n",
      "Cannot be found in 1135 \t: ['USA Baseball']\n",
      "\n"
     ]
    },
    {
     "name": "stderr",
     "output_type": "stream",
     "text": [
      "511it [00:41, 34.26it/s]"
     ]
    },
    {
     "name": "stdout",
     "output_type": "stream",
     "text": [
      "Cannot be found in 1136 \t: ['Cincinnati Reds']\n",
      "\n",
      "Cannot be found in 1168 \t: ['Subaru']\n",
      "\n",
      "Cannot be found in 1169 \t: ['Toyota']\n",
      "\n",
      "Cannot be found in 1170 \t: ['Hollister', 'Nike', 'Airbnb', 'The New York Times', 'Adidas', 'Noah Clothing']\n",
      "\n",
      "Cannot be found in 1171 \t: ['VMware', 'HP']\n",
      "\n",
      "Cannot be found in 1172 \t: ['Beverly Hills']\n",
      "\n",
      "Cannot be found in 1173 \t: ['Granola Bars', 'Clifbar', 'Kentucky']\n",
      "\n",
      "Cannot be found in 1174 \t: ['https://ecs.co.uk/wp-content/uploads/2019/12/1280px-lloyds_banking_group.svg_.png', 'https://ecs.co.uk/wp-content/uploads/2019/12/hsbc.png', 'https://ecs.co.uk/wp-content/uploads/2019/12/the-royal-bank-of-scotland-logo-8c3975e5cf-seeklogo.com_.png', 'https://ecs.co.uk/wp-content/uploads/2019/12/bp-helios-card.png', 'https://ecs.co.uk/wp-content/uploads/2019/12/direct_line_270x1761.png', 'https://ecs.co.uk/wp-content/uploads/2019/12/greenflag-logo.png', 'https://ecs.co.uk/wp-content/uploads/2019/12/tsb_logo_2013.svg_.png', 'https://ecs.co.uk/wp-content/uploads/2019/09/gsk-e1568306168332.png', 'https://ecs.co.uk/wp-content/uploads/2019/10/pearson-partner-e1571905952145.png', 'https://ecs.co.uk/wp-content/uploads/2019/12/58429101a6515b1e0ad75ac7.png', 'https://ecs.co.uk/wp-content/uploads/2019/12/the_co-operative_bank_logo.svg_.png', 'https://ecs.co.uk/wp-content/uploads/2019/12/tescobank_250_250.png', 'https://ecs.co.uk/wp-content/uploads/2019/12/sainsburysbank_250_250.png', 'https://ecs.co.uk/wp-content/uploads/2019/12/1280px-cybg_logo.svg_.png', 'https://ecs.co.uk/wp-content/uploads/2019/12/prudential_plc_logo.png', 'https://ecs.co.uk/wp-content/uploads/2019/12/aberdeen-standard-investments-logo.png', 'https://ecs.co.uk/wp-content/uploads/2019/12/5884a9334549c0b81ec05475.png', 'https://ecs.co.uk/wp-content/uploads/2019/12/the_coop_logo-1.png']\n",
      "\n",
      "Cannot be found in 1177 \t: ['South East Water']\n",
      "\n",
      "Cannot be found in 1187 \t: ['Telco']\n",
      "\n",
      "Cannot be found in 1188 \t: ['Green Flag']\n",
      "\n",
      "Cannot be found in 1201 \t: ['https://newsroom.edicomgroup.com/wp-content/uploads/2013/11/img_business_case_kraft.jpg']\n",
      "\n"
     ]
    },
    {
     "name": "stderr",
     "output_type": "stream",
     "text": [
      "515it [00:41, 28.19it/s]"
     ]
    },
    {
     "name": "stdout",
     "output_type": "stream",
     "text": [
      "Cannot be found in 1324 \t: ['China Unicom']\n",
      "\n",
      "Cannot be found in 1326 \t: ['Brighter']\n",
      "\n",
      "Cannot be found in 1329 \t: ['Southern Linc']\n",
      "\n",
      "Cannot be found in 1332 \t: ['Ooredoo Qatar']\n",
      "\n",
      "Cannot be found in 1333 \t: ['VodafoneZiggo']\n",
      "\n"
     ]
    },
    {
     "name": "stderr",
     "output_type": "stream",
     "text": [
      "521it [00:41, 26.83it/s]"
     ]
    },
    {
     "name": "stdout",
     "output_type": "stream",
     "text": [
      "Cannot be found in 1334 \t: ['MIMO energy management']\n",
      "\n",
      "Cannot be found in 1336 \t: ['Bridge Alliance']\n",
      "\n",
      "Cannot be found in 1338 \t: ['China Telecom']\n",
      "\n",
      "Cannot be found in 1339 \t: ['Grundfos']\n",
      "\n",
      "Cannot be found in 1342 \t: ['Dialog Axiata']\n",
      "\n",
      "Cannot be found in 1362 \t: ['Rotterdam World Gateway']\n",
      "\n"
     ]
    },
    {
     "name": "stderr",
     "output_type": "stream",
     "text": [
      "527it [00:41, 25.60it/s]"
     ]
    },
    {
     "name": "stdout",
     "output_type": "stream",
     "text": [
      "Cannot be found in 1365 \t: ['Steelcase']\n",
      "\n",
      "Cannot be found in 1372 \t: ['Telia']\n",
      "\n",
      "Cannot be found in 1373 \t: ['WIND Hellas']\n",
      "\n",
      "Cannot be found in 1374 \t: ['Turkcell']\n",
      "\n",
      "Cannot be found in 1376 \t: ['Bell Canada', 'BeWhere']\n",
      "\n"
     ]
    },
    {
     "name": "stderr",
     "output_type": "stream",
     "text": [
      "533it [00:41, 26.12it/s]"
     ]
    },
    {
     "name": "stdout",
     "output_type": "stream",
     "text": [
      "Cannot be found in 1377 \t: ['StarHub']\n",
      "\n",
      "Cannot be found in 1378 \t: ['MTN']\n",
      "\n",
      "Cannot be found in 1379 \t: ['Zain Group']\n",
      "\n",
      "Cannot be found in 1380 \t: ['Unitel']\n",
      "\n",
      "Cannot be found in 1381 \t: ['Far EasTone (FET)']\n",
      "\n",
      "Cannot be found in 1382 \t: ['Fraunhofer IPT']\n",
      "\n",
      "Cannot be found in 1383 \t: ['Globe Tracker']\n",
      "\n"
     ]
    },
    {
     "name": "stderr",
     "output_type": "stream",
     "text": [
      "539it [00:42, 25.71it/s]"
     ]
    },
    {
     "name": "stdout",
     "output_type": "stream",
     "text": [
      "Cannot be found in 1384 \t: ['GrandPad', 'Orange Belgium']\n",
      "\n",
      "Cannot be found in 1385 \t: ['Teracom']\n",
      "\n",
      "Cannot be found in 1386 \t: ['IntraGrain']\n",
      "\n",
      "Cannot be found in 1387 \t: ['KT']\n",
      "\n",
      "Cannot be found in 1388 \t: ['Erillisverkot']\n",
      "\n",
      "Cannot be found in 1389 \t: ['Stanley Black & Decker']\n",
      "\n"
     ]
    },
    {
     "name": "stderr",
     "output_type": "stream",
     "text": [
      "545it [00:42, 25.55it/s]"
     ]
    },
    {
     "name": "stdout",
     "output_type": "stream",
     "text": [
      "Cannot be found in 1390 \t: ['Sony']\n",
      "\n",
      "Cannot be found in 1391 \t: ['Telstra']\n",
      "\n",
      "Cannot be found in 1393 \t: ['Worcester Bosch']\n",
      "\n",
      "Cannot be found in 1394 \t: ['COSMOTE']\n",
      "\n",
      "Cannot be found in 1395 \t: ['Faroese Telecom']\n",
      "\n"
     ]
    },
    {
     "name": "stderr",
     "output_type": "stream",
     "text": [
      "548it [00:42, 23.85it/s]"
     ]
    },
    {
     "name": "stdout",
     "output_type": "stream",
     "text": [
      "Cannot be found in 1396 \t: ['BeWinner']\n",
      "\n",
      "Cannot be found in 1397 \t: ['Axon']\n",
      "\n",
      "Cannot be found in 1398 \t: ['TDC NET']\n",
      "\n",
      "Cannot be found in 1399 \t: ['XL Axiata']\n",
      "\n",
      "Cannot be found in 1411 \t: ['Polis Center at Indiana University']\n",
      "\n",
      "Cannot be found in 1412 \t: ['Lawrence Livermore National Laboratory']\n",
      "\n"
     ]
    },
    {
     "name": "stderr",
     "output_type": "stream",
     "text": [
      "555it [00:42, 21.65it/s]"
     ]
    },
    {
     "name": "stdout",
     "output_type": "stream",
     "text": [
      "Cannot be found in 1413 \t: ['https://images.prismic.io/faethm/60e4a678-f7bd-4a64-9e40-9d05027af4bd_adobe.svg', 'https://images.prismic.io/faethm/a185be1f-1686-4205-adac-9d690b89fddd_rio-tinto.svg', 'https://images.prismic.io/faethm/ba70f911-e389-4116-b478-beb40964a3ae_uk-gov.svg', 'https://images.prismic.io/faethm/ab1eb8b8-3350-4ae7-a992-032e1ddaabd3_telstra.svg', 'https://images.prismic.io/faethm/f81c668b-19b6-4f6f-92d1-1d47ff5be3b8_mastercard.svg']\n",
      "\n",
      "Cannot be found in 1446 \t: ['National Bank of Belgium']\n",
      "\n",
      "Cannot be found in 1484 \t: ['Adobe Systems']\n",
      "\n",
      "Cannot be found in 1485 \t: ['Benchmark Senior Living']\n",
      "\n"
     ]
    },
    {
     "name": "stderr",
     "output_type": "stream",
     "text": [
      "561it [00:43, 24.48it/s]"
     ]
    },
    {
     "name": "stdout",
     "output_type": "stream",
     "text": [
      "Cannot be found in 1486 \t: ['Capital One']\n",
      "\n",
      "Cannot be found in 1487 \t: ['Comcast NBCUniversal']\n",
      "\n",
      "Cannot be found in 1488 \t: ['Intuit Inc.']\n",
      "\n",
      "Cannot be found in 1489 \t: ['JM Family Enterprises, Inc.']\n",
      "\n",
      "Cannot be found in 1490 \t: ['Perkins Coie LLP']\n",
      "\n",
      "Cannot be found in 1491 \t: ['Rocket Companies']\n",
      "\n"
     ]
    },
    {
     "name": "stderr",
     "output_type": "stream",
     "text": [
      "569it [00:43, 28.18it/s]"
     ]
    },
    {
     "name": "stdout",
     "output_type": "stream",
     "text": [
      "Cannot be found in 1492 \t: ['Dow']\n",
      "\n",
      "Cannot be found in 1493 \t: ['QuikTrip']\n",
      "\n",
      "Cannot be found in 1494 \t: ['Dixon Schwabl']\n",
      "\n",
      "Cannot be found in 1495 \t: ['ENGEO Incorporated']\n",
      "\n",
      "Cannot be found in 1496 \t: ['Freese and Nichols']\n",
      "\n",
      "Cannot be found in 1497 \t: ['Granite Properties']\n",
      "\n",
      "Cannot be found in 1498 \t: ['Cox Enterprises Inc.']\n",
      "\n",
      "Cannot be found in 1499 \t: ['Merck']\n",
      "\n"
     ]
    },
    {
     "name": "stderr",
     "output_type": "stream",
     "text": [
      "575it [00:43, 27.98it/s]"
     ]
    },
    {
     "name": "stdout",
     "output_type": "stream",
     "text": [
      "Cannot be found in 1500 \t: ['Silverado Senior Living']\n",
      "\n",
      "Cannot be found in 1501 \t: ['Grow Financial Federal Credit Union']\n",
      "\n",
      "Cannot be found in 1502 \t: ['National Corporate Housing']\n",
      "\n",
      "Cannot be found in 1503 \t: ['West Monroe Partners']\n",
      "\n",
      "Cannot be found in 1504 \t: ['Stryker']\n",
      "\n",
      "Cannot be found in 1505 \t: ['SAP America']\n",
      "\n"
     ]
    },
    {
     "name": "stderr",
     "output_type": "stream",
     "text": [
      "583it [00:43, 29.98it/s]"
     ]
    },
    {
     "name": "stdout",
     "output_type": "stream",
     "text": [
      "Cannot be found in 1506 \t: ['CBIZ']\n",
      "\n",
      "Cannot be found in 1507 \t: ['Citrix']\n",
      "\n",
      "Cannot be found in 1508 \t: ['Licking Memorial Health Systems']\n",
      "\n",
      "Cannot be found in 1509 \t: ['MasterCard International']\n",
      "\n",
      "Cannot be found in 1510 \t: ['Talent Plus']\n",
      "\n",
      "Cannot be found in 1511 \t: ['Torch Technologies']\n",
      "\n",
      "Cannot be found in 1512 \t: ['Panda Restaurant Group Inc.']\n",
      "\n",
      "Cannot be found in 1513 \t: ['BH Management Services LLC']\n",
      "\n"
     ]
    },
    {
     "name": "stderr",
     "output_type": "stream",
     "text": [
      "587it [00:44, 28.10it/s]"
     ]
    },
    {
     "name": "stdout",
     "output_type": "stream",
     "text": [
      "Cannot be found in 1514 \t: ['Blue Shield of California']\n",
      "\n",
      "Cannot be found in 1515 \t: ['Wellstar Health System']\n",
      "\n",
      "Cannot be found in 1516 \t: ['ESL Federal Credit Union']\n",
      "\n",
      "Cannot be found in 1517 \t: ['Radio Flyer Inc.']\n",
      "\n",
      "Cannot be found in 1518 \t: ['American Savings Bank F.S.B.']\n",
      "\n",
      "Cannot be found in 1519 \t: ['XPLANE']\n",
      "\n"
     ]
    },
    {
     "name": "stderr",
     "output_type": "stream",
     "text": [
      "593it [00:44, 28.78it/s]"
     ]
    },
    {
     "name": "stdout",
     "output_type": "stream",
     "text": [
      "Cannot be found in 1520 \t: ['Relativity']\n",
      "\n",
      "Cannot be found in 1521 \t: ['Nationwide']\n",
      "\n",
      "Cannot be found in 1522 \t: ['Total Quality Logistics']\n",
      "\n",
      "Cannot be found in 1523 \t: ['PVH Corp.']\n",
      "\n",
      "Cannot be found in 1524 \t: ['Alliant Credit Union']\n",
      "\n",
      "Cannot be found in 1525 \t: ['Builders Mutual Insurance Company']\n",
      "\n",
      "Cannot be found in 1526 \t: ['Carle Health System']\n",
      "\n"
     ]
    },
    {
     "name": "stderr",
     "output_type": "stream",
     "text": [
      "600it [00:44, 29.01it/s]"
     ]
    },
    {
     "name": "stdout",
     "output_type": "stream",
     "text": [
      "Cannot be found in 1527 \t: ['Sunrise Senior Living']\n",
      "\n",
      "Cannot be found in 1528 \t: ['Takeda Pharmaceuticals']\n",
      "\n",
      "Cannot be found in 1529 \t: ['Hewlett Packard Enterprise Company']\n",
      "\n",
      "Cannot be found in 1530 \t: ['Zocdoc']\n",
      "\n",
      "Cannot be found in 1531 \t: ['LaSalle Network']\n",
      "\n",
      "Cannot be found in 1532 \t: ['Veterans United Home Loans']\n",
      "\n"
     ]
    },
    {
     "name": "stderr",
     "output_type": "stream",
     "text": [
      "606it [00:44, 27.68it/s]"
     ]
    },
    {
     "name": "stdout",
     "output_type": "stream",
     "text": [
      "Cannot be found in 1533 \t: ['Graco Inc.']\n",
      "\n",
      "Cannot be found in 1534 \t: ['Centro']\n",
      "\n",
      "Cannot be found in 1535 \t: ['Holiday Retirement']\n",
      "\n",
      "Cannot be found in 1536 \t: ['Nuance Communications, Inc.']\n",
      "\n",
      "Cannot be found in 1537 \t: ['United Therapeutics Corporation']\n",
      "\n",
      "Cannot be found in 1538 \t: ['Scorpion']\n",
      "\n"
     ]
    },
    {
     "name": "stderr",
     "output_type": "stream",
     "text": [
      "614it [00:44, 29.43it/s]"
     ]
    },
    {
     "name": "stdout",
     "output_type": "stream",
     "text": [
      "Cannot be found in 1539 \t: ['New American Funding']\n",
      "\n",
      "Cannot be found in 1540 \t: ['Vi Living']\n",
      "\n",
      "Cannot be found in 1541 \t: ['Capco']\n",
      "\n",
      "Cannot be found in 1542 \t: ['Southern Pipe & Supply Company, Inc.']\n",
      "\n",
      "Cannot be found in 1543 \t: ['Teladoc Health (formerly Livongo)']\n",
      "\n",
      "Cannot be found in 1544 \t: ['24 Hour Home Care']\n",
      "\n",
      "Cannot be found in 1545 \t: ['Convene']\n",
      "\n"
     ]
    },
    {
     "name": "stderr",
     "output_type": "stream",
     "text": [
      "622it [00:45, 29.92it/s]"
     ]
    },
    {
     "name": "stdout",
     "output_type": "stream",
     "text": [
      "Cannot be found in 1546 \t: ['AlphaSights']\n",
      "\n",
      "Cannot be found in 1547 \t: ['AMS']\n",
      "\n",
      "Cannot be found in 1548 \t: ['The Informatics Applications Group (TIAG)']\n",
      "\n",
      "Cannot be found in 1549 \t: ['Hagerty']\n",
      "\n",
      "Cannot be found in 1550 \t: ['United Wholesale Mortgage']\n",
      "\n",
      "Cannot be found in 1551 \t: ['Momentive']\n",
      "\n",
      "Cannot be found in 1552 \t: ['Actualize Consulting']\n",
      "\n"
     ]
    },
    {
     "name": "stderr",
     "output_type": "stream",
     "text": [
      "628it [00:45, 28.58it/s]"
     ]
    },
    {
     "name": "stdout",
     "output_type": "stream",
     "text": [
      "Cannot be found in 1553 \t: ['Sevan Multi-Site Solutions, Inc.']\n",
      "\n",
      "Cannot be found in 1554 \t: ['The Trade Desk']\n",
      "\n",
      "Cannot be found in 1555 \t: ['ALKU']\n",
      "\n",
      "Cannot be found in 1556 \t: ['Tri County Technology Center']\n",
      "\n",
      "Cannot be found in 1557 \t: ['Chegg Inc.']\n",
      "\n",
      "Cannot be found in 1558 \t: ['Splunk Inc.']\n",
      "\n"
     ]
    },
    {
     "name": "stderr",
     "output_type": "stream",
     "text": [
      "634it [00:45, 27.75it/s]"
     ]
    },
    {
     "name": "stdout",
     "output_type": "stream",
     "text": [
      "Cannot be found in 1559 \t: ['American Transmission Co.']\n",
      "\n",
      "Cannot be found in 1560 \t: ['VMS BioMarketing']\n",
      "\n",
      "Cannot be found in 1561 \t: ['Gainsight']\n",
      "\n",
      "Cannot be found in 1562 \t: ['Advanced Correctional Healthcare']\n",
      "\n",
      "Cannot be found in 1563 \t: ['Enovation Controls']\n",
      "\n",
      "Cannot be found in 1564 \t: ['Premier Nutrition Corporation']\n",
      "\n"
     ]
    },
    {
     "name": "stderr",
     "output_type": "stream",
     "text": [
      "640it [00:45, 26.70it/s]"
     ]
    },
    {
     "name": "stdout",
     "output_type": "stream",
     "text": [
      "Cannot be found in 1565 \t: ['Collaborative Solutions']\n",
      "\n",
      "Cannot be found in 1566 \t: ['Hired']\n",
      "\n",
      "Cannot be found in 1567 \t: ['Astellas US']\n",
      "\n",
      "Cannot be found in 1568 \t: ['Buckner Retirement Services']\n",
      "\n",
      "Cannot be found in 1569 \t: ['Cloud for Good']\n",
      "\n",
      "Cannot be found in 1570 \t: ['Tuft & Needle']\n",
      "\n"
     ]
    },
    {
     "name": "stderr",
     "output_type": "stream",
     "text": [
      "646it [00:46, 25.87it/s]"
     ]
    },
    {
     "name": "stdout",
     "output_type": "stream",
     "text": [
      "Cannot be found in 1571 \t: ['Roth Staffing Companies, L.P.']\n",
      "\n",
      "Cannot be found in 1572 \t: ['Evergreen Home Loans']\n",
      "\n",
      "Cannot be found in 1573 \t: ['Horizon Media']\n",
      "\n",
      "Cannot be found in 1574 \t: ['Hausmann-Johnson Insurance, Inc.']\n",
      "\n",
      "Cannot be found in 1575 \t: ['Horizon Therapeutics']\n",
      "\n",
      "Cannot be found in 1576 \t: ['WP Engine']\n",
      "\n"
     ]
    },
    {
     "name": "stderr",
     "output_type": "stream",
     "text": [
      "653it [00:46, 27.94it/s]"
     ]
    },
    {
     "name": "stdout",
     "output_type": "stream",
     "text": [
      "Cannot be found in 1577 \t: ['Primary Residential Mortgage, Inc.']\n",
      "\n",
      "Cannot be found in 1578 \t: ['JMBullion.com']\n",
      "\n",
      "Cannot be found in 1579 \t: ['Landscape Forms']\n",
      "\n",
      "Cannot be found in 1580 \t: ['Ascent Resources']\n",
      "\n",
      "Cannot be found in 1581 \t: ['Keeping Current Matters']\n",
      "\n",
      "Cannot be found in 1582 \t: ['Mutual of Omaha']\n",
      "\n",
      "Cannot be found in 1583 \t: ['Preferred Home Health Care & Nursing Services']\n",
      "\n"
     ]
    },
    {
     "name": "stderr",
     "output_type": "stream",
     "text": [
      "659it [00:46, 28.66it/s]"
     ]
    },
    {
     "name": "stdout",
     "output_type": "stream",
     "text": [
      "Cannot be found in 1584 \t: ['Elevate']\n",
      "\n",
      "Cannot be found in 1585 \t: ['Credera']\n",
      "\n",
      "Cannot be found in 1586 \t: ['Merchants Fleet']\n",
      "\n",
      "Cannot be found in 1587 \t: ['HRMS Solutions, Inc.']\n",
      "\n",
      "Cannot be found in 1588 \t: ['OnPrem Solution Partners']\n",
      "\n",
      "Cannot be found in 1589 \t: ['MediaAlpha']\n",
      "\n",
      "Cannot be found in 1590 \t: ['HARIBO of America, Inc.']\n",
      "\n"
     ]
    },
    {
     "name": "stderr",
     "output_type": "stream",
     "text": [
      "665it [00:46, 28.88it/s]"
     ]
    },
    {
     "name": "stdout",
     "output_type": "stream",
     "text": [
      "Cannot be found in 1591 \t: ['Pariveda Solutions']\n",
      "\n",
      "Cannot be found in 1592 \t: ['RUBY+ASSOCIATES, INC.']\n",
      "\n",
      "Cannot be found in 1593 \t: ['Five Guys Enterprises LLC']\n",
      "\n",
      "Cannot be found in 1594 \t: ['Justworks']\n",
      "\n",
      "Cannot be found in 1595 \t: ['Ameren Corporation']\n",
      "\n",
      "Cannot be found in 1596 \t: ['Blue Beyond Consulting']\n",
      "\n"
     ]
    },
    {
     "name": "stderr",
     "output_type": "stream",
     "text": [
      "672it [00:46, 29.18it/s]"
     ]
    },
    {
     "name": "stdout",
     "output_type": "stream",
     "text": [
      "Cannot be found in 1597 \t: ['Burwood Group, Inc']\n",
      "\n",
      "Cannot be found in 1598 \t: ['Sprinklr']\n",
      "\n",
      "Cannot be found in 1599 \t: ['VTS']\n",
      "\n",
      "Cannot be found in 1600 \t: ['BambooHR']\n",
      "\n",
      "Cannot be found in 1601 \t: ['Digital Prospectors']\n",
      "\n",
      "Cannot be found in 1602 \t: ['Propeller, Inc.']\n",
      "\n",
      "Cannot be found in 1603 \t: ['Vynamic LLC']\n",
      "\n"
     ]
    },
    {
     "name": "stderr",
     "output_type": "stream",
     "text": [
      "680it [00:47, 30.20it/s]"
     ]
    },
    {
     "name": "stdout",
     "output_type": "stream",
     "text": [
      "Cannot be found in 1604 \t: ['Take-Two Interactive Software, Inc.']\n",
      "\n",
      "Cannot be found in 1605 \t: ['Dechert LLP']\n",
      "\n",
      "Cannot be found in 1606 \t: ['Basware']\n",
      "\n",
      "Cannot be found in 1607 \t: ['Salsify']\n",
      "\n",
      "Cannot be found in 1608 \t: ['BlueGranite, Inc']\n",
      "\n",
      "Cannot be found in 1609 \t: ['Maven Wave Partners']\n",
      "\n",
      "Cannot be found in 1610 \t: ['Aya Healthcare']\n",
      "\n"
     ]
    },
    {
     "name": "stderr",
     "output_type": "stream",
     "text": [
      "684it [00:47, 30.69it/s]"
     ]
    },
    {
     "name": "stdout",
     "output_type": "stream",
     "text": [
      "Cannot be found in 1611 \t: ['Schweiger Dermatology Group']\n",
      "\n",
      "Cannot be found in 1612 \t: ['Moss Construction Management']\n",
      "\n",
      "Cannot be found in 1613 \t: ['Lucid Software Inc.']\n",
      "\n",
      "Cannot be found in 1614 \t: ['Hillmann Consulting, LLC']\n",
      "\n",
      "Cannot be found in 1615 \t: ['McCownGordon Construction']\n",
      "\n",
      "Cannot be found in 1616 \t: ['Ballantyne Center for Dentistry']\n",
      "\n",
      "Cannot be found in 1617 \t: ['Roofstock, Inc.']\n",
      "\n"
     ]
    },
    {
     "name": "stderr",
     "output_type": "stream",
     "text": [
      "692it [00:47, 30.63it/s]"
     ]
    },
    {
     "name": "stdout",
     "output_type": "stream",
     "text": [
      "Cannot be found in 1618 \t: ['REPAY']\n",
      "\n",
      "Cannot be found in 1619 \t: ['Hueman']\n",
      "\n",
      "Cannot be found in 1620 \t: ['IntelePeer']\n",
      "\n",
      "Cannot be found in 1621 \t: ['Synergy Flavors']\n",
      "\n",
      "Cannot be found in 1622 \t: ['Eureka Casino Resort']\n",
      "\n",
      "Cannot be found in 1623 \t: ['ShareThis, Inc']\n",
      "\n",
      "Cannot be found in 1624 \t: ['Terakeet']\n",
      "\n"
     ]
    },
    {
     "name": "stderr",
     "output_type": "stream",
     "text": [
      "700it [00:47, 31.16it/s]"
     ]
    },
    {
     "name": "stdout",
     "output_type": "stream",
     "text": [
      "Cannot be found in 1625 \t: ['Exact Sciences Corp']\n",
      "\n",
      "Cannot be found in 1626 \t: ['Thumbtack, Inc.']\n",
      "\n",
      "Cannot be found in 1627 \t: ['The Bloc']\n",
      "\n",
      "Cannot be found in 1628 \t: ['Bank Leumi']\n",
      "\n",
      "Cannot be found in 1629 \t: ['Inspire']\n",
      "\n",
      "Cannot be found in 1630 \t: ['Castle & Cooke Mortgage, LLC']\n",
      "\n",
      "Cannot be found in 1631 \t: ['LiveRamp']\n",
      "\n"
     ]
    },
    {
     "name": "stderr",
     "output_type": "stream",
     "text": [
      "708it [00:48, 30.80it/s]"
     ]
    },
    {
     "name": "stdout",
     "output_type": "stream",
     "text": [
      "Cannot be found in 1632 \t: ['Black Marjieh & Sanford LLP']\n",
      "\n",
      "Cannot be found in 1633 \t: ['Intercare Therapy']\n",
      "\n",
      "Cannot be found in 1634 \t: ['Trilogy Health Services']\n",
      "\n",
      "Cannot be found in 1635 \t: ['BetterUp']\n",
      "\n",
      "Cannot be found in 1636 \t: ['Bombas']\n",
      "\n",
      "Cannot be found in 1637 \t: ['Sugar Mountain']\n",
      "\n",
      "Cannot be found in 1638 \t: ['MDVIP']\n",
      "\n"
     ]
    },
    {
     "name": "stderr",
     "output_type": "stream",
     "text": [
      "712it [00:48, 30.48it/s]"
     ]
    },
    {
     "name": "stdout",
     "output_type": "stream",
     "text": [
      "Cannot be found in 1639 \t: ['Alpine Investors']\n",
      "\n",
      "Cannot be found in 1640 \t: ['AdAction']\n",
      "\n",
      "Cannot be found in 1641 \t: ['TBI, Inc.']\n",
      "\n",
      "Cannot be found in 1642 \t: ['Agemark']\n",
      "\n",
      "Cannot be found in 1643 \t: ['Doctor On Demand']\n",
      "\n",
      "Cannot be found in 1644 \t: ['IntraFi Network LLC']\n",
      "\n",
      "Cannot be found in 1645 \t: ['LBMC']\n",
      "\n"
     ]
    },
    {
     "name": "stderr",
     "output_type": "stream",
     "text": [
      "720it [00:48, 30.50it/s]"
     ]
    },
    {
     "name": "stdout",
     "output_type": "stream",
     "text": [
      "Cannot be found in 1646 \t: ['Constellation Health Services']\n",
      "\n",
      "Cannot be found in 1647 \t: ['AnswerFirst Communications, Inc.']\n",
      "\n",
      "Cannot be found in 1648 \t: ['Scribe Media']\n",
      "\n",
      "Cannot be found in 1649 \t: ['Allied Mortgage Group']\n",
      "\n",
      "Cannot be found in 1650 \t: ['Vari']\n",
      "\n",
      "Cannot be found in 1651 \t: ['Branded Group']\n",
      "\n",
      "Cannot be found in 1652 \t: ['Lever']\n",
      "\n"
     ]
    },
    {
     "name": "stderr",
     "output_type": "stream",
     "text": [
      "728it [00:48, 31.43it/s]"
     ]
    },
    {
     "name": "stdout",
     "output_type": "stream",
     "text": [
      "Cannot be found in 1653 \t: ['The Educe Group']\n",
      "\n",
      "Cannot be found in 1654 \t: ['Logistics Plus Inc.']\n",
      "\n",
      "Cannot be found in 1655 \t: ['Carlton Senior Living']\n",
      "\n",
      "Cannot be found in 1656 \t: ['Chaparral House']\n",
      "\n",
      "Cannot be found in 1657 \t: ['Forcura']\n",
      "\n",
      "Cannot be found in 1658 \t: ['Phenom People']\n",
      "\n",
      "Cannot be found in 1659 \t: ['Compass Care']\n",
      "\n"
     ]
    },
    {
     "name": "stderr",
     "output_type": "stream",
     "text": [
      "732it [00:48, 31.00it/s]"
     ]
    },
    {
     "name": "stdout",
     "output_type": "stream",
     "text": [
      "Cannot be found in 1660 \t: ['Riskified, Inc.']\n",
      "\n",
      "Cannot be found in 1661 \t: ['CareerStaff Unlimited']\n",
      "\n",
      "Cannot be found in 1662 \t: ['MBK Senior Living']\n",
      "\n",
      "Cannot be found in 1663 \t: ['Greenhouse']\n",
      "\n",
      "Cannot be found in 1664 \t: ['SB Architects']\n",
      "\n",
      "Cannot be found in 1665 \t: ['StrataCore']\n",
      "\n"
     ]
    },
    {
     "name": "stderr",
     "output_type": "stream",
     "text": [
      "740it [00:49, 30.56it/s]"
     ]
    },
    {
     "name": "stdout",
     "output_type": "stream",
     "text": [
      "Cannot be found in 1666 \t: ['Continuing Life']\n",
      "\n",
      "Cannot be found in 1667 \t: ['Senior Star']\n",
      "\n",
      "Cannot be found in 1668 \t: ['Carol Woods Retirement Community']\n",
      "\n",
      "Cannot be found in 1669 \t: ['NextLevel Internet']\n",
      "\n",
      "Cannot be found in 1670 \t: ['AMFM Nursing and Rehab']\n",
      "\n",
      "Cannot be found in 1672 \t: ['Covia']\n",
      "\n",
      "Cannot be found in 1673 \t: ['Asbury Communities']\n",
      "\n",
      "Cannot be found in 1674 \t: ['P2S, Inc.']\n",
      "\n"
     ]
    },
    {
     "name": "stderr",
     "output_type": "stream",
     "text": [
      "748it [00:49, 31.36it/s]"
     ]
    },
    {
     "name": "stdout",
     "output_type": "stream",
     "text": [
      "Cannot be found in 1675 \t: ['Klick Health']\n",
      "\n",
      "Cannot be found in 1676 \t: ['Juliette Fowler Communities']\n",
      "\n",
      "Cannot be found in 1677 \t: ['Peace Village']\n",
      "\n",
      "Cannot be found in 1678 \t: ['Cascadia Senior Living and Fieldstone Communities']\n",
      "\n",
      "Cannot be found in 1679 \t: ['Masonic Homes Kentucky']\n",
      "\n",
      "Cannot be found in 1680 \t: ['Robinhood']\n",
      "\n",
      "Cannot be found in 1681 \t: ['Vetter Senior Living']\n",
      "\n"
     ]
    },
    {
     "name": "stderr",
     "output_type": "stream",
     "text": [
      "756it [00:49, 32.06it/s]"
     ]
    },
    {
     "name": "stdout",
     "output_type": "stream",
     "text": [
      "Cannot be found in 1682 \t: ['Embrace Living Communities']\n",
      "\n",
      "Cannot be found in 1683 \t: ['Van Dyk Health Care']\n",
      "\n",
      "Cannot be found in 1684 \t: ['Anthem Engineering']\n",
      "\n",
      "Cannot be found in 1685 \t: ['JCW Search']\n",
      "\n",
      "Cannot be found in 1686 \t: ['WesleyLife']\n",
      "\n",
      "Cannot be found in 1687 \t: ['Grandcare Health Services']\n",
      "\n",
      "Cannot be found in 1688 \t: ['Wesley Enhanced Living']\n",
      "\n"
     ]
    },
    {
     "name": "stderr",
     "output_type": "stream",
     "text": [
      "764it [00:49, 32.21it/s]"
     ]
    },
    {
     "name": "stdout",
     "output_type": "stream",
     "text": [
      "Cannot be found in 1689 \t: ['Continued']\n",
      "\n",
      "Cannot be found in 1690 \t: ['Albert & Mackenzie']\n",
      "\n",
      "Cannot be found in 1691 \t: ['Braze']\n",
      "\n",
      "Cannot be found in 1692 \t: ['Thrive Senior Living']\n",
      "\n",
      "Cannot be found in 1693 \t: ['Strongbridge Biopharma']\n",
      "\n",
      "Cannot be found in 1694 \t: ['UserTesting']\n",
      "\n",
      "Cannot be found in 1695 \t: ['Conviva']\n",
      "\n"
     ]
    },
    {
     "name": "stderr",
     "output_type": "stream",
     "text": [
      "768it [00:50, 32.31it/s]"
     ]
    },
    {
     "name": "stdout",
     "output_type": "stream",
     "text": [
      "Cannot be found in 1696 \t: ['The Garrett Companies']\n",
      "\n",
      "Cannot be found in 1697 \t: ['The Springs Living']\n",
      "\n",
      "Cannot be found in 1698 \t: ['Veridian']\n",
      "\n",
      "Cannot be found in 1699 \t: ['Schellman']\n",
      "\n",
      "Cannot be found in 1700 \t: ['Encyclopaedia Britannica']\n",
      "\n",
      "Cannot be found in 1701 \t: ['TecFac Business Services Group']\n",
      "\n",
      "Cannot be found in 1702 \t: ['Senior Care Partners P.A.C.E.']\n",
      "\n"
     ]
    },
    {
     "name": "stderr",
     "output_type": "stream",
     "text": [
      "776it [00:50, 31.86it/s]"
     ]
    },
    {
     "name": "stdout",
     "output_type": "stream",
     "text": [
      "Cannot be found in 1703 \t: ['Databricks']\n",
      "\n",
      "Cannot be found in 1704 \t: ['SalesLoft']\n",
      "\n",
      "Cannot be found in 1705 \t: ['Ameriflex']\n",
      "\n",
      "Cannot be found in 1706 \t: ['Harmony Biosciences']\n",
      "\n",
      "Cannot be found in 1707 \t: ['Cone Health']\n",
      "\n",
      "Cannot be found in 1708 \t: ['Canvas Credit Union']\n",
      "\n",
      "Cannot be found in 1709 \t: ['Toast, Inc']\n",
      "\n"
     ]
    },
    {
     "name": "stderr",
     "output_type": "stream",
     "text": [
      "784it [00:50, 32.25it/s]"
     ]
    },
    {
     "name": "stdout",
     "output_type": "stream",
     "text": [
      "Cannot be found in 1710 \t: ['Bolt']\n",
      "\n",
      "Cannot be found in 1711 \t: ['Nextep, Inc.']\n",
      "\n",
      "Cannot be found in 1712 \t: ['WestPac Wealth Partners']\n",
      "\n",
      "Cannot be found in 1713 \t: ['AppZen, Inc.']\n",
      "\n",
      "Cannot be found in 1714 \t: ['Orlando Senior Health Network']\n",
      "\n",
      "Cannot be found in 1715 \t: ['Protenus']\n",
      "\n",
      "Cannot be found in 1716 \t: ['Avantiico']\n",
      "\n"
     ]
    },
    {
     "name": "stderr",
     "output_type": "stream",
     "text": [
      "792it [00:50, 31.25it/s]"
     ]
    },
    {
     "name": "stdout",
     "output_type": "stream",
     "text": [
      "Cannot be found in 1717 \t: ['National Lutheran Communities & Services']\n",
      "\n",
      "Cannot be found in 1718 \t: ['E.A.G. Services, Incorporated']\n",
      "\n",
      "Cannot be found in 1719 \t: ['Impact Wealth Management']\n",
      "\n",
      "Cannot be found in 1720 \t: ['CerpassRx']\n",
      "\n",
      "Cannot be found in 1721 \t: ['IAA']\n",
      "\n",
      "Cannot be found in 1722 \t: ['Amply Media']\n",
      "\n",
      "Cannot be found in 1723 \t: ['EmpiRx Health']\n",
      "\n"
     ]
    },
    {
     "name": "stderr",
     "output_type": "stream",
     "text": [
      "796it [00:50, 30.92it/s]"
     ]
    },
    {
     "name": "stdout",
     "output_type": "stream",
     "text": [
      "Cannot be found in 1724 \t: ['Playa Hotels and Resorts']\n",
      "\n",
      "Cannot be found in 1725 \t: ['Embark LLC']\n",
      "\n",
      "Cannot be found in 1726 \t: ['Summit Vista']\n",
      "\n",
      "Cannot be found in 1727 \t: ['United Material Handling']\n",
      "\n",
      "Cannot be found in 1728 \t: ['Schnepp Senior Care & Rehab Center']\n",
      "\n",
      "Cannot be found in 1729 \t: ['ShorePoint Inc.']\n",
      "\n",
      "Cannot be found in 1730 \t: ['Zoro']\n",
      "\n"
     ]
    },
    {
     "name": "stderr",
     "output_type": "stream",
     "text": [
      "804it [00:51, 29.76it/s]"
     ]
    },
    {
     "name": "stdout",
     "output_type": "stream",
     "text": [
      "Cannot be found in 1731 \t: ['Accelalpha']\n",
      "\n",
      "Cannot be found in 1732 \t: ['Brightview Senior Living']\n",
      "\n",
      "Cannot be found in 1733 \t: ['Sprout Social']\n",
      "\n",
      "Cannot be found in 1734 \t: ['Breyer Law Offices']\n",
      "\n",
      "Cannot be found in 1735 \t: ['Senior Helpers']\n",
      "\n",
      "Cannot be found in 1736 \t: ['Sequoia Equities Inc']\n",
      "\n"
     ]
    },
    {
     "name": "stderr",
     "output_type": "stream",
     "text": [
      "810it [00:51, 28.41it/s]"
     ]
    },
    {
     "name": "stdout",
     "output_type": "stream",
     "text": [
      "Cannot be found in 1737 \t: ['Boldly']\n",
      "\n",
      "Cannot be found in 1738 \t: ['ProPath']\n",
      "\n",
      "Cannot be found in 1739 \t: ['AArete']\n",
      "\n",
      "Cannot be found in 1740 \t: ['Canvas, Inc.']\n",
      "\n",
      "Cannot be found in 1741 \t: ['EM Key Solutions, Inc']\n",
      "\n",
      "Cannot be found in 1742 \t: ['Evolytics']\n",
      "\n"
     ]
    },
    {
     "name": "stderr",
     "output_type": "stream",
     "text": [
      "816it [00:51, 27.99it/s]"
     ]
    },
    {
     "name": "stdout",
     "output_type": "stream",
     "text": [
      "Cannot be found in 1743 \t: ['Assistance Home Care']\n",
      "\n",
      "Cannot be found in 1744 \t: ['LaBella Associates']\n",
      "\n",
      "Cannot be found in 1745 \t: ['Citadel Healthcare']\n",
      "\n",
      "Cannot be found in 1746 \t: ['Double Good']\n",
      "\n",
      "Cannot be found in 1747 \t: ['CTG Federal']\n",
      "\n",
      "Cannot be found in 1748 \t: ['Qwick']\n",
      "\n",
      "Cannot be found in 1749 \t: ['Selective Insurance Company of America']\n",
      "\n"
     ]
    },
    {
     "name": "stderr",
     "output_type": "stream",
     "text": [
      "823it [00:51, 27.55it/s]"
     ]
    },
    {
     "name": "stdout",
     "output_type": "stream",
     "text": [
      "Cannot be found in 1750 \t: ['KYOCERA SLD Laser, Inc.\\nUpdated June 2021.']\n",
      "\n",
      "Cannot be found in 1751 \t: ['Sisense Inc']\n",
      "\n",
      "Cannot be found in 1752 \t: ['Curology']\n",
      "\n",
      "Cannot be found in 1753 \t: ['Clear Street']\n",
      "\n",
      "Cannot be found in 1754 \t: ['Eden Health']\n",
      "\n",
      "Cannot be found in 1755 \t: ['Lower.com']\n",
      "\n"
     ]
    },
    {
     "name": "stderr",
     "output_type": "stream",
     "text": [
      "831it [00:52, 30.14it/s]"
     ]
    },
    {
     "name": "stdout",
     "output_type": "stream",
     "text": [
      "Cannot be found in 1756 \t: ['Activus Connect']\n",
      "\n",
      "Cannot be found in 1757 \t: ['BeyondTrust']\n",
      "\n",
      "Cannot be found in 1758 \t: ['PPSEL']\n",
      "\n",
      "Cannot be found in 1759 \t: ['pMD']\n",
      "\n",
      "Cannot be found in 1760 \t: ['Electric']\n",
      "\n",
      "Cannot be found in 1761 \t: ['Spinsys']\n",
      "\n",
      "Cannot be found in 1762 \t: ['Haven Life Insurance Agency, LLC']\n",
      "\n"
     ]
    },
    {
     "name": "stderr",
     "output_type": "stream",
     "text": [
      "835it [00:52, 31.15it/s]"
     ]
    },
    {
     "name": "stdout",
     "output_type": "stream",
     "text": [
      "Cannot be found in 1763 \t: ['HR Green']\n",
      "\n",
      "Cannot be found in 1764 \t: ['TruAmerica Multifamily, LLC']\n",
      "\n",
      "Cannot be found in 1765 \t: ['Itero Group LLC']\n",
      "\n",
      "Cannot be found in 1766 \t: ['Sun Health']\n",
      "\n",
      "Cannot be found in 1767 \t: ['Lalor Family Dental']\n",
      "\n",
      "Cannot be found in 1768 \t: ['BigHand']\n",
      "\n",
      "Cannot be found in 1769 \t: ['Agile Physical Therapy']\n",
      "\n"
     ]
    },
    {
     "name": "stderr",
     "output_type": "stream",
     "text": [
      "843it [00:52, 30.79it/s]"
     ]
    },
    {
     "name": "stdout",
     "output_type": "stream",
     "text": [
      "Cannot be found in 1770 \t: ['United Church Homes and Services']\n",
      "\n",
      "Cannot be found in 1771 \t: ['Mather']\n",
      "\n",
      "Cannot be found in 1772 \t: ['Vizient']\n",
      "\n",
      "Cannot be found in 1773 \t: ['Erie Materials, Inc']\n",
      "\n",
      "Cannot be found in 1774 \t: ['Wesley Financial Group, LLC']\n",
      "\n",
      "Cannot be found in 1775 \t: ['Nationwide Mortgage Bankers']\n",
      "\n",
      "Cannot be found in 1776 \t: ['eAssist Dental Solutions']\n",
      "\n"
     ]
    },
    {
     "name": "stderr",
     "output_type": "stream",
     "text": [
      "851it [00:52, 31.71it/s]"
     ]
    },
    {
     "name": "stdout",
     "output_type": "stream",
     "text": [
      "Cannot be found in 1777 \t: ['Keystone Senior']\n",
      "\n",
      "Cannot be found in 1778 \t: ['Pelitas']\n",
      "\n",
      "Cannot be found in 1779 \t: ['ER2']\n",
      "\n",
      "Cannot be found in 1780 \t: ['Eclipse Senior Living']\n",
      "\n",
      "Cannot be found in 1781 \t: ['The Estates at Carpenters']\n",
      "\n",
      "Cannot be found in 1782 \t: ['Maven Clinic']\n",
      "\n",
      "Cannot be found in 1783 \t: ['VPD Government Solutions']\n",
      "\n"
     ]
    },
    {
     "name": "stderr",
     "output_type": "stream",
     "text": [
      "859it [00:53, 31.97it/s]"
     ]
    },
    {
     "name": "stdout",
     "output_type": "stream",
     "text": [
      "Cannot be found in 1784 \t: ['10x Genomics']\n",
      "\n",
      "Cannot be found in 1785 \t: ['DearDoc']\n",
      "\n",
      "Cannot be found in 1786 \t: ['TDI Technologies, Inc.']\n",
      "\n",
      "Cannot be found in 1787 \t: ['Auguste Escoffier School of Culinary Arts']\n",
      "\n",
      "Cannot be found in 1788 \t: ['Gem']\n",
      "\n",
      "Cannot be found in 1789 \t: ['HR Acuity']\n",
      "\n",
      "Cannot be found in 1790 \t: ['Reliant at Home']\n",
      "\n"
     ]
    },
    {
     "name": "stderr",
     "output_type": "stream",
     "text": [
      "867it [00:53, 32.75it/s]"
     ]
    },
    {
     "name": "stdout",
     "output_type": "stream",
     "text": [
      "Cannot be found in 1791 \t: ['Lakewood University']\n",
      "\n",
      "Cannot be found in 1792 \t: ['ComForCare / At Your Side']\n",
      "\n",
      "Cannot be found in 1793 \t: ['Abile Group']\n",
      "\n",
      "Cannot be found in 1794 \t: ['Gemini Industries Inc.']\n",
      "\n",
      "Cannot be found in 1795 \t: ['Cprime']\n",
      "\n",
      "Cannot be found in 1796 \t: ['SterlingRisk']\n",
      "\n",
      "Cannot be found in 1797 \t: ['monday.com']\n",
      "\n",
      "Cannot be found in 1798 \t: ['e.l.f. Beauty']\n",
      "\n"
     ]
    },
    {
     "name": "stderr",
     "output_type": "stream",
     "text": [
      "871it [00:53, 32.85it/s]"
     ]
    },
    {
     "name": "stdout",
     "output_type": "stream",
     "text": [
      "Cannot be found in 1799 \t: ['AttackIQ']\n",
      "\n",
      "Cannot be found in 1800 \t: ['Thrasio']\n",
      "\n",
      "Cannot be found in 1801 \t: ['cBEYONData']\n",
      "\n",
      "Cannot be found in 1802 \t: ['Mediavine']\n",
      "\n",
      "Cannot be found in 1803 \t: ['Iovino Enterprises']\n",
      "\n",
      "Cannot be found in 1804 \t: ['Sedera Health']\n",
      "\n",
      "Cannot be found in 1805 \t: ['Rite Way Auto Transport']\n",
      "\n"
     ]
    },
    {
     "name": "stderr",
     "output_type": "stream",
     "text": [
      "879it [00:53, 31.53it/s]"
     ]
    },
    {
     "name": "stdout",
     "output_type": "stream",
     "text": [
      "Cannot be found in 1806 \t: ['BECHT']\n",
      "\n",
      "Cannot be found in 1807 \t: ['WorkRamp']\n",
      "\n",
      "Cannot be found in 1808 \t: ['Invisors']\n",
      "\n",
      "Cannot be found in 1809 \t: ['Mobius']\n",
      "\n",
      "Cannot be found in 1810 \t: ['Amplify Consulting Partners']\n",
      "\n",
      "Cannot be found in 1811 \t: ['Butte Home Health and Hospice']\n",
      "\n",
      "Cannot be found in 1812 \t: ['Airkit']\n",
      "\n"
     ]
    },
    {
     "name": "stderr",
     "output_type": "stream",
     "text": [
      "887it [00:53, 31.71it/s]"
     ]
    },
    {
     "name": "stdout",
     "output_type": "stream",
     "text": [
      "Cannot be found in 1813 \t: ['The Zebra']\n",
      "\n",
      "Cannot be found in 1814 \t: ['EHE Health']\n",
      "\n",
      "Cannot be found in 1815 \t: ['isolved']\n",
      "\n",
      "Cannot be found in 1816 \t: ['Equillium']\n",
      "\n",
      "Cannot be found in 1817 \t: ['Tax Relief Advocates']\n",
      "\n",
      "Cannot be found in 1818 \t: ['HigherEchelon, Inc.']\n",
      "\n",
      "Cannot be found in 1819 \t: ['IRI']\n",
      "\n"
     ]
    },
    {
     "name": "stderr",
     "output_type": "stream",
     "text": [
      "895it [00:54, 32.44it/s]"
     ]
    },
    {
     "name": "stdout",
     "output_type": "stream",
     "text": [
      "Cannot be found in 1820 \t: ['Iron Galaxy Studios']\n",
      "\n",
      "Cannot be found in 1821 \t: ['ProductPlan']\n",
      "\n",
      "Cannot be found in 1822 \t: ['Rhino']\n",
      "\n",
      "Cannot be found in 1823 \t: ['LTVCo']\n",
      "\n",
      "Cannot be found in 1824 \t: ['Gerent LLC']\n",
      "\n",
      "Cannot be found in 1825 \t: ['Octane AI']\n",
      "\n",
      "Cannot be found in 1826 \t: ['Patriot Group Global']\n",
      "\n"
     ]
    },
    {
     "name": "stderr",
     "output_type": "stream",
     "text": [
      "899it [00:54, 32.39it/s]"
     ]
    },
    {
     "name": "stdout",
     "output_type": "stream",
     "text": [
      "Cannot be found in 1827 \t: ['Point Digital Finance']\n",
      "\n",
      "Cannot be found in 1828 \t: ['Persona']\n",
      "\n",
      "Cannot be found in 1829 \t: ['Pacaso']\n",
      "\n",
      "Cannot be found in 1830 \t: ['Instinct Science']\n",
      "\n",
      "Cannot be found in 1831 \t: ['Simucase']\n",
      "\n",
      "Cannot be found in 1832 \t: ['GRIN']\n",
      "\n",
      "Cannot be found in 1833 \t: ['Florence Healthcare']\n",
      "\n"
     ]
    },
    {
     "name": "stderr",
     "output_type": "stream",
     "text": [
      "907it [00:54, 31.75it/s]"
     ]
    },
    {
     "name": "stdout",
     "output_type": "stream",
     "text": [
      "Cannot be found in 1834 \t: ['Quantum Metric Inc']\n",
      "\n",
      "Cannot be found in 1835 \t: ['Axonius']\n",
      "\n",
      "Cannot be found in 1836 \t: ['Martins Point Health Care, Inc.']\n",
      "\n",
      "Cannot be found in 1838 \t: ['Bankers Healthcare Group']\n",
      "\n",
      "Cannot be found in 1840 \t: ['Brains on Fire']\n",
      "\n",
      "Cannot be found in 1841 \t: ['BentoBox']\n",
      "\n",
      "Cannot be found in 1842 \t: ['Bestop']\n",
      "\n"
     ]
    },
    {
     "name": "stderr",
     "output_type": "stream",
     "text": [
      "915it [00:54, 34.49it/s]"
     ]
    },
    {
     "name": "stdout",
     "output_type": "stream",
     "text": [
      "Cannot be found in 1843 \t: [\"Children's Healthcare of Atlanta\"]\n",
      "\n",
      "Cannot be found in 1844 \t: ['WEX']\n",
      "\n",
      "Cannot be found in 1845 \t: ['WellStar Health System']\n",
      "\n",
      "Cannot be found in 1846 \t: ['Wonolo']\n",
      "\n",
      "Cannot be found in 1848 \t: ['Cannes']\n",
      "\n",
      "Cannot be found in 1850 \t: ['Dodge', 'United States Space Force', 'Capital One', 'Universal Parks & REsorts', 'Pizza Hut', 'Avocados From Mexico', 'Food Lion', 'Hilton Garden Inn', 'Blue Bunny', 'Storck', 'ADCOLOR', 'People for Bikes']\n",
      "\n",
      "Cannot be found in 1853 \t: [\"Harry's\"]\n",
      "\n",
      "Cannot be found in 1854 \t: ['Lennox']\n",
      "\n",
      "Cannot be found in 1856 \t: ['PGA TOUR']\n",
      "\n",
      "Cannot be found in 1857 \t: ['Popeyes']\n",
      "\n"
     ]
    },
    {
     "name": "stderr",
     "output_type": "stream",
     "text": [
      "921it [00:55, 28.20it/s]"
     ]
    },
    {
     "name": "stdout",
     "output_type": "stream",
     "text": [
      "Cannot be found in 1860 \t: ['RADIOSHACK']\n",
      "\n",
      "Cannot be found in 7481 \t: ['https://imimobile-production.ams3.cdn.digitaloceanspaces.com/logos/barclays.svg', 'https://imimobile-production.ams3.cdn.digitaloceanspaces.com/logos/bt.svg', 'https://imimobile-production.ams3.cdn.digitaloceanspaces.com/logos/walgreens.svg']\n",
      "\n",
      "Cannot be found in 7483 \t: ['Arc (Europe) Ltd\\nA new customer contact management solution for a specialist debt recovery agency.']\n",
      "\n",
      "Cannot be found in 7484 \t: ['Pharmacy2U\\nExploring new ways to engage with patients using RCS']\n",
      "\n",
      "Cannot be found in 7485 \t: ['ScS Group\\nTransforming online sales for one of the UK’s largest furniture and flooring retailers.']\n",
      "\n"
     ]
    },
    {
     "name": "stderr",
     "output_type": "stream",
     "text": [
      "925it [00:55, 18.64it/s]"
     ]
    },
    {
     "name": "stdout",
     "output_type": "stream",
     "text": [
      "Cannot be found in 7486 \t: ['British Gas', 'Telia Norway', 'https://imimobile-production.ams3.cdn.digitaloceanspaces.com//logos/capitec.svg', 'https://imimobile-production.ams3.cdn.digitaloceanspaces.com//logos/npower.svg', 'https://imimobile-production.ams3.cdn.digitaloceanspaces.com//logos/amey.svg', 'https://imimobile-production.ams3.cdn.digitaloceanspaces.com//logos/kirklees.svg', 'https://imimobile-production.ams3.cdn.digitaloceanspaces.com//logos/pizzahut.svg', 'https://imimobile-production.ams3.cdn.digitaloceanspaces.com//logos/americanseniorcommunities.svg']\n",
      "\n",
      "Cannot be found in 7487 \t: ['Cambridge University Hospitals NHS Foundation Trust']\n",
      "\n",
      "Cannot be found in 7488 \t: ['Centrica']\n",
      "\n"
     ]
    },
    {
     "name": "stderr",
     "output_type": "stream",
     "text": [
      "928it [00:55, 15.66it/s]"
     ]
    },
    {
     "name": "stdout",
     "output_type": "stream",
     "text": [
      "Cannot be found in 7489 \t: ['Lavazza Pro']\n",
      "\n",
      "Cannot be found in 7490 \t: ['United Lincolnshire Hospitals NHS Trust']\n",
      "\n"
     ]
    },
    {
     "name": "stderr",
     "output_type": "stream",
     "text": [
      "933it [00:56, 13.65it/s]"
     ]
    },
    {
     "name": "stdout",
     "output_type": "stream",
     "text": [
      "Cannot be found in 7491 \t: ['Vodafone']\n",
      "\n",
      "Cannot be found in 7509 \t: ['Johns Hopkins Healthcare']\n",
      "\n",
      "Cannot be found in 7510 \t: ['2-1-1 San Diego']\n",
      "\n",
      "Cannot be found in 7511 \t: ['AARP']\n",
      "\n"
     ]
    },
    {
     "name": "stderr",
     "output_type": "stream",
     "text": [
      "935it [00:56, 13.57it/s]"
     ]
    },
    {
     "name": "stdout",
     "output_type": "stream",
     "text": [
      "Cannot be found in 7512 \t: ['Abu Dhabi Department of Culture and Tourism (DCT)']\n",
      "\n",
      "Cannot be found in 7513 \t: ['Ace Hardware']\n",
      "\n",
      "Cannot be found in 7514 \t: ['AIA Singapore']\n",
      "\n"
     ]
    },
    {
     "name": "stderr",
     "output_type": "stream",
     "text": [
      "939it [00:56, 14.00it/s]"
     ]
    },
    {
     "name": "stdout",
     "output_type": "stream",
     "text": [
      "Cannot be found in 7515 \t: ['Air Force Knowledge Services']\n",
      "\n",
      "Cannot be found in 7516 \t: ['Al-Jeel medical company']\n",
      "\n",
      "Cannot be found in 7517 \t: ['Amdocs']\n",
      "\n",
      "Cannot be found in 7518 \t: ['Ameren']\n",
      "\n"
     ]
    },
    {
     "name": "stderr",
     "output_type": "stream",
     "text": [
      "943it [00:56, 14.78it/s]"
     ]
    },
    {
     "name": "stdout",
     "output_type": "stream",
     "text": [
      "Cannot be found in 7519 \t: ['AmerisourceBergen']\n",
      "\n",
      "Cannot be found in 7520 \t: ['Amgen']\n",
      "\n",
      "Cannot be found in 7521 \t: ['Anaplan']\n",
      "\n",
      "Cannot be found in 7522 \t: ['Assicurazioni Generali']\n",
      "\n"
     ]
    },
    {
     "name": "stderr",
     "output_type": "stream",
     "text": [
      "947it [00:57, 15.32it/s]"
     ]
    },
    {
     "name": "stdout",
     "output_type": "stream",
     "text": [
      "Cannot be found in 7523 \t: ['Austin Community College District']\n",
      "\n",
      "Cannot be found in 7524 \t: ['AutoTrader.com']\n",
      "\n",
      "Cannot be found in 7525 \t: ['Avis Budget Group']\n",
      "\n",
      "Cannot be found in 7526 \t: ['Avnet']\n",
      "\n"
     ]
    },
    {
     "name": "stderr",
     "output_type": "stream",
     "text": [
      "951it [00:57, 15.68it/s]"
     ]
    },
    {
     "name": "stdout",
     "output_type": "stream",
     "text": [
      "Cannot be found in 7527 \t: ['Avvo']\n",
      "\n",
      "Cannot be found in 7528 \t: ['AXA XL']\n",
      "\n",
      "Cannot be found in 7529 \t: ['BMW']\n",
      "\n",
      "Cannot be found in 7530 \t: ['Bouwmaat']\n",
      "\n"
     ]
    },
    {
     "name": "stderr",
     "output_type": "stream",
     "text": [
      "955it [00:57, 14.76it/s]"
     ]
    },
    {
     "name": "stdout",
     "output_type": "stream",
     "text": [
      "Cannot be found in 7531 \t: ['Bradley Corporation']\n",
      "\n",
      "Cannot be found in 7532 \t: ['Braskem']\n",
      "\n",
      "Cannot be found in 7533 \t: ['British Telecom']\n",
      "\n"
     ]
    },
    {
     "name": "stderr",
     "output_type": "stream",
     "text": [
      "957it [00:57, 14.54it/s]"
     ]
    },
    {
     "name": "stdout",
     "output_type": "stream",
     "text": [
      "Cannot be found in 7534 \t: ['CA Technologies']\n",
      "\n",
      "Cannot be found in 7535 \t: ['Camping World']\n",
      "\n",
      "Cannot be found in 7536 \t: ['Capitol Lighting']\n",
      "\n"
     ]
    },
    {
     "name": "stderr",
     "output_type": "stream",
     "text": [
      "961it [00:58, 14.02it/s]"
     ]
    },
    {
     "name": "stdout",
     "output_type": "stream",
     "text": [
      "Cannot be found in 7537 \t: ['Carphone Warehouse']\n",
      "\n",
      "Cannot be found in 7538 \t: ['Celcom Axiata Berhad']\n",
      "\n",
      "Cannot be found in 7539 \t: ['Central Bank of Brazil']\n",
      "\n"
     ]
    },
    {
     "name": "stderr",
     "output_type": "stream",
     "text": [
      "965it [00:58, 14.83it/s]"
     ]
    },
    {
     "name": "stdout",
     "output_type": "stream",
     "text": [
      "Cannot be found in 7540 \t: ['CHRISTUS Health']\n",
      "\n",
      "Cannot be found in 7541 \t: ['Chubb Insurance Company of Europe']\n",
      "\n",
      "Cannot be found in 7542 \t: ['Citrix']\n",
      "\n",
      "Cannot be found in 7543 \t: ['Click Clack Limited']\n",
      "\n"
     ]
    },
    {
     "name": "stderr",
     "output_type": "stream",
     "text": [
      "969it [00:58, 15.53it/s]"
     ]
    },
    {
     "name": "stdout",
     "output_type": "stream",
     "text": [
      "Cannot be found in 7544 \t: ['Clinical Software Company']\n",
      "\n",
      "Cannot be found in 7545 \t: ['Clopay Corporation']\n",
      "\n",
      "Cannot be found in 7546 \t: ['Cloud-Computing Health Tech Company']\n",
      "\n",
      "Cannot be found in 7547 \t: ['CNP Assurances']\n",
      "\n"
     ]
    },
    {
     "name": "stderr",
     "output_type": "stream",
     "text": [
      "973it [00:58, 15.89it/s]"
     ]
    },
    {
     "name": "stdout",
     "output_type": "stream",
     "text": [
      "Cannot be found in 7548 \t: ['Colruyt Group']\n",
      "\n",
      "Cannot be found in 7549 \t: ['Comcast']\n",
      "\n",
      "Cannot be found in 7550 \t: ['Community Technology Alliance']\n",
      "\n",
      "Cannot be found in 7551 \t: ['Condé Nast']\n",
      "\n"
     ]
    },
    {
     "name": "stderr",
     "output_type": "stream",
     "text": [
      "975it [00:58, 15.16it/s]"
     ]
    },
    {
     "name": "stdout",
     "output_type": "stream",
     "text": [
      "Cannot be found in 7552 \t: ['Coop Alleanza 3.0']\n",
      "\n",
      "Cannot be found in 7553 \t: ['COPIC Insurance']\n",
      "\n",
      "Cannot be found in 7554 \t: ['Covéa']\n",
      "\n"
     ]
    },
    {
     "name": "stderr",
     "output_type": "stream",
     "text": [
      "979it [00:59, 15.47it/s]"
     ]
    },
    {
     "name": "stdout",
     "output_type": "stream",
     "text": [
      "Cannot be found in 7555 \t: ['De Mandemakers Group']\n",
      "\n",
      "Cannot be found in 7556 \t: ['Discount Tire']\n",
      "\n",
      "Cannot be found in 7557 \t: ['Driver and Vehicle Standards Agency']\n",
      "\n",
      "Cannot be found in 7558 \t: ['eBay']\n",
      "\n"
     ]
    },
    {
     "name": "stderr",
     "output_type": "stream",
     "text": [
      "983it [00:59, 14.97it/s]"
     ]
    },
    {
     "name": "stdout",
     "output_type": "stream",
     "text": [
      "Cannot be found in 7559 \t: ['EDF']\n",
      "\n",
      "Cannot be found in 7560 \t: ['Elektro-Material']\n",
      "\n",
      "Cannot be found in 7561 \t: ['Eli Lilly & Co.']\n",
      "\n"
     ]
    },
    {
     "name": "stderr",
     "output_type": "stream",
     "text": [
      "987it [00:59, 14.77it/s]"
     ]
    },
    {
     "name": "stdout",
     "output_type": "stream",
     "text": [
      "Cannot be found in 7562 \t: ['Elkjøp']\n",
      "\n",
      "Cannot be found in 7563 \t: ['EMC Insurance Companies']\n",
      "\n",
      "Cannot be found in 7564 \t: ['Emirates NBD']\n",
      "\n",
      "Cannot be found in 7565 \t: ['Equinix']\n",
      "\n"
     ]
    },
    {
     "name": "stderr",
     "output_type": "stream",
     "text": [
      "991it [01:00, 14.82it/s]"
     ]
    },
    {
     "name": "stdout",
     "output_type": "stream",
     "text": [
      "Cannot be found in 7566 \t: ['Ergotron']\n",
      "\n",
      "Cannot be found in 7567 \t: ['Etiqa']\n",
      "\n",
      "Cannot be found in 7568 \t: ['Europcar']\n",
      "\n",
      "Cannot be found in 7569 \t: ['Eurovia']\n",
      "\n"
     ]
    },
    {
     "name": "stderr",
     "output_type": "stream",
     "text": [
      "995it [01:00, 15.50it/s]"
     ]
    },
    {
     "name": "stdout",
     "output_type": "stream",
     "text": [
      "Cannot be found in 7570 \t: ['Feeding America']\n",
      "\n",
      "Cannot be found in 7571 \t: ['Financial Services Company']\n",
      "\n",
      "Cannot be found in 7572 \t: ['Financial Services Mutual Holding Organization']\n",
      "\n",
      "Cannot be found in 7573 \t: ['Fjordkraft']\n",
      "\n"
     ]
    },
    {
     "name": "stderr",
     "output_type": "stream",
     "text": [
      "999it [01:00, 15.81it/s]"
     ]
    },
    {
     "name": "stdout",
     "output_type": "stream",
     "text": [
      "Cannot be found in 7574 \t: ['Flagship State University']\n",
      "\n",
      "Cannot be found in 7575 \t: ['Fresno Pacific University']\n",
      "\n",
      "Cannot be found in 7576 \t: ['Franciscan Alliance']\n",
      "\n",
      "Cannot be found in 7577 \t: ['French Multinational Insurance Firm, Regional Office']\n",
      "\n"
     ]
    },
    {
     "name": "stderr",
     "output_type": "stream",
     "text": [
      "1003it [01:00, 16.19it/s]"
     ]
    },
    {
     "name": "stdout",
     "output_type": "stream",
     "text": [
      "Cannot be found in 7578 \t: ['Full-Service U.S. Bank']\n",
      "\n",
      "Cannot be found in 7579 \t: ['German Automaker']\n",
      "\n",
      "Cannot be found in 7580 \t: ['GlaxoSmithKline']\n",
      "\n",
      "Cannot be found in 7581 \t: ['Global Asset Management Company']\n",
      "\n"
     ]
    },
    {
     "name": "stderr",
     "output_type": "stream",
     "text": [
      "1007it [01:01, 15.98it/s]"
     ]
    },
    {
     "name": "stdout",
     "output_type": "stream",
     "text": [
      "Cannot be found in 7582 \t: ['Global BioTech Organization']\n",
      "\n",
      "Cannot be found in 7583 \t: ['Global Car Rental Company']\n",
      "\n",
      "Cannot be found in 7584 \t: ['Global Computer Security Software Company']\n",
      "\n",
      "Cannot be found in 7585 \t: ['Global Investments Bank']\n",
      "\n"
     ]
    },
    {
     "name": "stderr",
     "output_type": "stream",
     "text": [
      "1009it [01:01, 15.14it/s]"
     ]
    },
    {
     "name": "stdout",
     "output_type": "stream",
     "text": [
      "Cannot be found in 7586 \t: ['Global Oil and Gas Leader']\n",
      "\n",
      "Cannot be found in 7587 \t: ['Grant Thornton']\n",
      "\n",
      "Cannot be found in 7588 \t: ['Grupo Martí']\n",
      "\n"
     ]
    },
    {
     "name": "stderr",
     "output_type": "stream",
     "text": [
      "1013it [01:01, 14.31it/s]"
     ]
    },
    {
     "name": "stdout",
     "output_type": "stream",
     "text": [
      "Cannot be found in 7589 \t: ['Hackensack Meridian Health']\n",
      "\n",
      "Cannot be found in 7590 \t: ['Hartford Hospital']\n",
      "\n",
      "Cannot be found in 7591 \t: ['HealthNow New York']\n",
      "\n"
     ]
    },
    {
     "name": "stderr",
     "output_type": "stream",
     "text": [
      "1015it [01:01, 13.94it/s]"
     ]
    },
    {
     "name": "stdout",
     "output_type": "stream",
     "text": [
      "Cannot be found in 7592 \t: ['HelloFresh']\n",
      "\n",
      "Cannot be found in 7593 \t: ['Highmark']\n",
      "\n",
      "Cannot be found in 7594 \t: ['Home Point Financial']\n",
      "\n"
     ]
    },
    {
     "name": "stderr",
     "output_type": "stream",
     "text": [
      "1019it [01:01, 13.40it/s]"
     ]
    },
    {
     "name": "stdout",
     "output_type": "stream",
     "text": [
      "Cannot be found in 7595 \t: ['HP']\n",
      "\n",
      "Cannot be found in 7596 \t: ['The Hartford Steam Boiler Inspection and Insurance Company']\n",
      "\n",
      "Cannot be found in 7597 \t: ['Hubo']\n",
      "\n"
     ]
    },
    {
     "name": "stderr",
     "output_type": "stream",
     "text": [
      "1023it [01:02, 14.44it/s]"
     ]
    },
    {
     "name": "stdout",
     "output_type": "stream",
     "text": [
      "Cannot be found in 7598 \t: ['Humana']\n",
      "\n",
      "Cannot be found in 7599 \t: ['Independence Health Group']\n",
      "\n",
      "Cannot be found in 7600 \t: ['Indian Oil']\n",
      "\n",
      "Cannot be found in 7601 \t: ['Industry Leading Automotive Manufacturer']\n",
      "\n"
     ]
    },
    {
     "name": "stderr",
     "output_type": "stream",
     "text": [
      "1025it [01:02, 14.06it/s]"
     ]
    },
    {
     "name": "stdout",
     "output_type": "stream",
     "text": [
      "Cannot be found in 7602 \t: ['Informatica']\n",
      "\n",
      "Cannot be found in 7603 \t: ['Instituto de Crédito Oficial']\n",
      "\n",
      "Cannot be found in 7604 \t: ['Interfor']\n",
      "\n"
     ]
    },
    {
     "name": "stderr",
     "output_type": "stream",
     "text": [
      "1029it [01:02, 14.34it/s]"
     ]
    },
    {
     "name": "stdout",
     "output_type": "stream",
     "text": [
      "Cannot be found in 7605 \t: ['Intermountain Healthcare']\n",
      "\n",
      "Cannot be found in 7606 \t: ['International Oilfield Services Company']\n",
      "\n",
      "Cannot be found in 7607 \t: ['IQVIA']\n",
      "\n",
      "Cannot be found in 7608 \t: ['Japan for UNHCR']\n",
      "\n"
     ]
    },
    {
     "name": "stderr",
     "output_type": "stream",
     "text": [
      "1033it [01:02, 14.43it/s]"
     ]
    },
    {
     "name": "stdout",
     "output_type": "stream",
     "text": [
      "Cannot be found in 7609 \t: ['Jardine Motors Group']\n",
      "\n",
      "Cannot be found in 7610 \t: ['JDRF']\n",
      "\n",
      "Cannot be found in 7611 \t: ['JLL']\n",
      "\n"
     ]
    },
    {
     "name": "stderr",
     "output_type": "stream",
     "text": [
      "1035it [01:03, 14.24it/s]"
     ]
    },
    {
     "name": "stdout",
     "output_type": "stream",
     "text": [
      "Cannot be found in 7612 \t: ['Kelly Services']\n",
      "\n",
      "Cannot be found in 7613 \t: ['King Faisal Specialist Hospital and Research Center']\n",
      "\n",
      "Cannot be found in 7614 \t: ['KLiNGEL']\n",
      "\n"
     ]
    },
    {
     "name": "stderr",
     "output_type": "stream",
     "text": [
      "1039it [01:03, 14.08it/s]"
     ]
    },
    {
     "name": "stdout",
     "output_type": "stream",
     "text": [
      "Cannot be found in 7615 \t: ['Kmart Australia']\n",
      "\n",
      "Cannot be found in 7616 \t: ['KPN']\n",
      "\n",
      "Cannot be found in 7617 \t: ['Kroton']\n",
      "\n"
     ]
    },
    {
     "name": "stderr",
     "output_type": "stream",
     "text": [
      "1043it [01:03, 14.35it/s]"
     ]
    },
    {
     "name": "stdout",
     "output_type": "stream",
     "text": [
      "Cannot be found in 7618 \t: ['L.A. Care Health Plan']\n",
      "\n",
      "Cannot be found in 7619 \t: ['Lagardère']\n",
      "\n",
      "Cannot be found in 7620 \t: ['Land O’Lakes']\n",
      "\n",
      "Cannot be found in 7621 \t: ['Lenovo']\n",
      "\n"
     ]
    },
    {
     "name": "stderr",
     "output_type": "stream",
     "text": [
      "1045it [01:03, 13.92it/s]"
     ]
    },
    {
     "name": "stdout",
     "output_type": "stream",
     "text": [
      "Cannot be found in 7622 \t: ['Life Time']\n",
      "\n",
      "Cannot be found in 7623 \t: ['Lippo Group']\n",
      "\n",
      "Cannot be found in 7624 \t: [\"L'Oréal\"]\n",
      "\n"
     ]
    },
    {
     "name": "stderr",
     "output_type": "stream",
     "text": [
      "1049it [01:04, 13.90it/s]"
     ]
    },
    {
     "name": "stdout",
     "output_type": "stream",
     "text": [
      "Cannot be found in 7625 \t: ['Maastro']\n",
      "\n",
      "Cannot be found in 7626 \t: ['Majid al Futtaim']\n",
      "\n",
      "Cannot be found in 7627 \t: ['Marks & Spencer Money']\n",
      "\n"
     ]
    },
    {
     "name": "stderr",
     "output_type": "stream",
     "text": [
      "1051it [01:04, 13.98it/s]"
     ]
    },
    {
     "name": "stdout",
     "output_type": "stream",
     "text": [
      "Cannot be found in 7628 \t: ['Matrimony.com']\n",
      "\n",
      "Cannot be found in 7629 \t: ['McGraw-Hill Education']\n",
      "\n",
      "Cannot be found in 7630 \t: ['MCPS-PRS Alliance']\n",
      "\n"
     ]
    },
    {
     "name": "stderr",
     "output_type": "stream",
     "text": [
      "1055it [01:04, 13.87it/s]"
     ]
    },
    {
     "name": "stdout",
     "output_type": "stream",
     "text": [
      "Cannot be found in 7631 \t: ['Michigan State University']\n",
      "\n",
      "Cannot be found in 7632 \t: ['MDIC']\n",
      "\n",
      "Cannot be found in 7633 \t: ['Metropolitan Thames Valley Housing']\n",
      "\n"
     ]
    },
    {
     "name": "stderr",
     "output_type": "stream",
     "text": [
      "1059it [01:04, 14.58it/s]"
     ]
    },
    {
     "name": "stdout",
     "output_type": "stream",
     "text": [
      "Cannot be found in 7634 \t: ['Millenium: The Takeda Oncology Company']\n",
      "\n",
      "Cannot be found in 7635 \t: ['MTN Group']\n",
      "\n",
      "Cannot be found in 7636 \t: ['Multi-Hospital Health System']\n",
      "\n",
      "Cannot be found in 7637 \t: ['Multinational Automotive Corporation']\n",
      "\n"
     ]
    },
    {
     "name": "stderr",
     "output_type": "stream",
     "text": [
      "1061it [01:04, 14.68it/s]"
     ]
    },
    {
     "name": "stdout",
     "output_type": "stream",
     "text": [
      "Cannot be found in 7638 \t: ['Multinational Toy Manufacturing Company']\n",
      "\n",
      "Cannot be found in 7639 \t: [\"Nanjing Children's Hospital\"]\n",
      "\n",
      "Cannot be found in 7640 \t: ['NI']\n",
      "\n"
     ]
    },
    {
     "name": "stderr",
     "output_type": "stream",
     "text": [
      "1065it [01:05, 14.23it/s]"
     ]
    },
    {
     "name": "stdout",
     "output_type": "stream",
     "text": [
      "Cannot be found in 7641 \t: ['National Interstate Insurance']\n",
      "\n",
      "Cannot be found in 7642 \t: ['Natixis']\n",
      "\n",
      "Cannot be found in 7643 \t: ['Natura']\n",
      "\n"
     ]
    },
    {
     "name": "stderr",
     "output_type": "stream",
     "text": [
      "1069it [01:05, 14.61it/s]"
     ]
    },
    {
     "name": "stdout",
     "output_type": "stream",
     "text": [
      "Cannot be found in 7644 \t: ['nCino']\n",
      "\n",
      "Cannot be found in 7645 \t: ['New York Life']\n",
      "\n",
      "Cannot be found in 7646 \t: ['Nissan Europe']\n",
      "\n",
      "Cannot be found in 7647 \t: ['Nokia Siemens Networks']\n",
      "\n"
     ]
    },
    {
     "name": "stderr",
     "output_type": "stream",
     "text": [
      "1071it [01:05, 14.11it/s]"
     ]
    },
    {
     "name": "stdout",
     "output_type": "stream",
     "text": [
      "Cannot be found in 7648 \t: ['Oi']\n",
      "\n",
      "Cannot be found in 7649 \t: ['Olympus']\n",
      "\n",
      "Cannot be found in 7650 \t: ['Pan-Asian Insurer']\n",
      "\n"
     ]
    },
    {
     "name": "stderr",
     "output_type": "stream",
     "text": [
      "1075it [01:05, 14.41it/s]"
     ]
    },
    {
     "name": "stdout",
     "output_type": "stream",
     "text": [
      "Cannot be found in 7651 \t: ['Paycor']\n",
      "\n",
      "Cannot be found in 7652 \t: ['PayPal']\n",
      "\n",
      "Cannot be found in 7653 \t: ['Project Management Institute (PMI)']\n",
      "\n",
      "Cannot be found in 7654 \t: ['Providence St. Joseph Health']\n",
      "\n"
     ]
    },
    {
     "name": "stderr",
     "output_type": "stream",
     "text": [
      "1079it [01:06, 15.21it/s]"
     ]
    },
    {
     "name": "stdout",
     "output_type": "stream",
     "text": [
      "Cannot be found in 7655 \t: ['Puma']\n",
      "\n",
      "Cannot be found in 7656 \t: ['Qualcomm']\n",
      "\n",
      "Cannot be found in 7657 \t: ['Rabobank']\n",
      "\n",
      "Cannot be found in 7658 \t: ['RAC']\n",
      "\n"
     ]
    },
    {
     "name": "stderr",
     "output_type": "stream",
     "text": [
      "1083it [01:06, 15.73it/s]"
     ]
    },
    {
     "name": "stdout",
     "output_type": "stream",
     "text": [
      "Cannot be found in 7659 \t: ['RACSA']\n",
      "\n",
      "Cannot be found in 7660 \t: ['Railinc']\n",
      "\n",
      "Cannot be found in 7661 \t: ['RBC Wealth Management']\n",
      "\n",
      "Cannot be found in 7662 \t: ['Realogy']\n",
      "\n"
     ]
    },
    {
     "name": "stderr",
     "output_type": "stream",
     "text": [
      "1087it [01:06, 16.04it/s]"
     ]
    },
    {
     "name": "stdout",
     "output_type": "stream",
     "text": [
      "Cannot be found in 7663 \t: ['Reitmans (Canada) Limited']\n",
      "\n",
      "Cannot be found in 7664 \t: ['RENT A CAR']\n",
      "\n",
      "Cannot be found in 7665 \t: ['Responsys']\n",
      "\n",
      "Cannot be found in 7666 \t: ['RingCentral']\n",
      "\n"
     ]
    },
    {
     "name": "stderr",
     "output_type": "stream",
     "text": [
      "1091it [01:06, 16.01it/s]"
     ]
    },
    {
     "name": "stdout",
     "output_type": "stream",
     "text": [
      "Cannot be found in 7667 \t: ['Rockwool Group']\n",
      "\n",
      "Cannot be found in 7668 \t: ['Saint Gobain']\n",
      "\n",
      "Cannot be found in 7669 \t: ['Samsung Life Insurance']\n",
      "\n",
      "Cannot be found in 7670 \t: ['Sanofi-Aventis']\n",
      "\n"
     ]
    },
    {
     "name": "stderr",
     "output_type": "stream",
     "text": [
      "1095it [01:07, 16.01it/s]"
     ]
    },
    {
     "name": "stdout",
     "output_type": "stream",
     "text": [
      "Cannot be found in 7671 \t: ['Santa Fe Relocation']\n",
      "\n",
      "Cannot be found in 7672 \t: ['Santalucía Seguros']\n",
      "\n",
      "Cannot be found in 7673 \t: ['Seagate']\n",
      "\n",
      "Cannot be found in 7674 \t: ['SendGrid']\n",
      "\n"
     ]
    },
    {
     "name": "stderr",
     "output_type": "stream",
     "text": [
      "1099it [01:07, 16.07it/s]"
     ]
    },
    {
     "name": "stdout",
     "output_type": "stream",
     "text": [
      "Cannot be found in 7675 \t: ['Shire Pharmaceuticals']\n",
      "\n",
      "Cannot be found in 7676 \t: ['Siemens AG']\n",
      "\n",
      "Cannot be found in 7677 \t: ['Société Générale']\n",
      "\n",
      "Cannot be found in 7678 \t: ['Southwest Power Pool']\n",
      "\n"
     ]
    },
    {
     "name": "stderr",
     "output_type": "stream",
     "text": [
      "1103it [01:07, 16.13it/s]"
     ]
    },
    {
     "name": "stdout",
     "output_type": "stream",
     "text": [
      "Cannot be found in 7679 \t: ['SparkCognition']\n",
      "\n",
      "Cannot be found in 7680 \t: ['State Health Care Network']\n",
      "\n",
      "Cannot be found in 7681 \t: ['State Healthcare Agency']\n",
      "\n",
      "Cannot be found in 7682 \t: ['State Human Services Provider']\n",
      "\n"
     ]
    },
    {
     "name": "stderr",
     "output_type": "stream",
     "text": [
      "1107it [01:07, 16.13it/s]"
     ]
    },
    {
     "name": "stdout",
     "output_type": "stream",
     "text": [
      "Cannot be found in 7683 \t: ['Stuller']\n",
      "\n",
      "Cannot be found in 7684 \t: ['SulAmerica Seguros']\n",
      "\n",
      "Cannot be found in 7685 \t: ['Sunrun']\n",
      "\n",
      "Cannot be found in 7686 \t: ['Sutter Health']\n",
      "\n"
     ]
    },
    {
     "name": "stderr",
     "output_type": "stream",
     "text": [
      "1111it [01:08, 16.25it/s]"
     ]
    },
    {
     "name": "stdout",
     "output_type": "stream",
     "text": [
      "Cannot be found in 7687 \t: ['TELUS']\n",
      "\n",
      "Cannot be found in 7688 \t: ['Texas Health and Human Services']\n",
      "\n",
      "Cannot be found in 7689 \t: ['Thames Water Utilities Ltd.']\n",
      "\n",
      "Cannot be found in 7690 \t: ['The Netherlands Ministry of Defense']\n",
      "\n"
     ]
    },
    {
     "name": "stderr",
     "output_type": "stream",
     "text": [
      "1115it [01:08, 16.21it/s]"
     ]
    },
    {
     "name": "stdout",
     "output_type": "stream",
     "text": [
      "Cannot be found in 7691 \t: ['The Principal Financial Group']\n",
      "\n",
      "Cannot be found in 7692 \t: ['M.D. Anderson Cancer Center']\n",
      "\n",
      "Cannot be found in 7693 \t: ['Thomson Reuters']\n",
      "\n",
      "Cannot be found in 7694 \t: ['Tools Retailer']\n",
      "\n"
     ]
    },
    {
     "name": "stderr",
     "output_type": "stream",
     "text": [
      "1119it [01:08, 16.38it/s]"
     ]
    },
    {
     "name": "stdout",
     "output_type": "stream",
     "text": [
      "Cannot be found in 7695 \t: ['Top-Rated HealthCare Provider']\n",
      "\n",
      "Cannot be found in 7696 \t: ['Transamerica']\n",
      "\n",
      "Cannot be found in 7697 \t: ['The Travel Corporation']\n",
      "\n",
      "Cannot be found in 7698 \t: ['Tsinghua University']\n",
      "\n"
     ]
    },
    {
     "name": "stderr",
     "output_type": "stream",
     "text": [
      "1123it [01:08, 16.48it/s]"
     ]
    },
    {
     "name": "stdout",
     "output_type": "stream",
     "text": [
      "Cannot be found in 7699 \t: ['UBS']\n",
      "\n",
      "Cannot be found in 7700 \t: ['Ultimate Software']\n",
      "\n",
      "Cannot be found in 7701 \t: ['Ultramar Diamond Shamrock']\n",
      "\n",
      "Cannot be found in 7702 \t: ['University of North Carolina at Chapel Hill']\n",
      "\n"
     ]
    },
    {
     "name": "stderr",
     "output_type": "stream",
     "text": [
      "1127it [01:09, 16.51it/s]"
     ]
    },
    {
     "name": "stdout",
     "output_type": "stream",
     "text": [
      "Cannot be found in 7703 \t: ['UNC Health Uses Data Governance to Deliver a Coordinated Response to COVID-19']\n",
      "\n",
      "Cannot be found in 7704 \t: ['Unilever']\n",
      "\n",
      "Cannot be found in 7705 \t: ['Union Bank of the Philippines']\n",
      "\n",
      "Cannot be found in 7706 \t: ['University of New Orleans']\n",
      "\n"
     ]
    },
    {
     "name": "stderr",
     "output_type": "stream",
     "text": [
      "1131it [01:09, 16.40it/s]"
     ]
    },
    {
     "name": "stdout",
     "output_type": "stream",
     "text": [
      "Cannot be found in 7707 \t: ['U.S. Food and Drug Administration Center for Drug Evaluation and Research']\n",
      "\n",
      "Cannot be found in 7708 \t: ['V and B']\n",
      "\n",
      "Cannot be found in 7709 \t: ['Vale']\n",
      "\n",
      "Cannot be found in 7710 \t: ['Valley Health System']\n",
      "\n"
     ]
    },
    {
     "name": "stderr",
     "output_type": "stream",
     "text": [
      "1135it [01:09, 16.54it/s]"
     ]
    },
    {
     "name": "stdout",
     "output_type": "stream",
     "text": [
      "Cannot be found in 7711 \t: ['Vemo Education']\n",
      "\n",
      "Cannot be found in 7712 \t: ['Veraction']\n",
      "\n",
      "Cannot be found in 7713 \t: ['Verizon']\n",
      "\n",
      "Cannot be found in 7714 \t: ['Verizon Business']\n",
      "\n"
     ]
    },
    {
     "name": "stderr",
     "output_type": "stream",
     "text": [
      "1139it [01:09, 16.66it/s]"
     ]
    },
    {
     "name": "stdout",
     "output_type": "stream",
     "text": [
      "Cannot be found in 7715 \t: ['Vertex']\n",
      "\n",
      "Cannot be found in 7716 \t: ['Vita Coco']\n",
      "\n",
      "Cannot be found in 7717 \t: ['Vitakraft']\n",
      "\n",
      "Cannot be found in 7718 \t: ['Washington State Department of Transportation']\n",
      "\n"
     ]
    },
    {
     "name": "stderr",
     "output_type": "stream",
     "text": [
      "1143it [01:09, 16.53it/s]"
     ]
    },
    {
     "name": "stdout",
     "output_type": "stream",
     "text": [
      "Cannot be found in 7719 \t: ['Weatherford International']\n",
      "\n",
      "Cannot be found in 7720 \t: ['Western Union']\n",
      "\n",
      "Cannot be found in 7721 \t: ['Winsupply']\n",
      "\n",
      "Cannot be found in 7722 \t: ['Wolters Kluwer']\n",
      "\n"
     ]
    },
    {
     "name": "stderr",
     "output_type": "stream",
     "text": [
      "1157it [01:10, 43.00it/s]"
     ]
    },
    {
     "name": "stdout",
     "output_type": "stream",
     "text": [
      "Cannot be found in 7723 \t: ['Xtime']\n",
      "\n",
      "Cannot be found in 7909 \t: ['Dr. Hauschka']\n",
      "\n",
      "Cannot be found in 7910 \t: ['HBO']\n",
      "\n",
      "Cannot be found in 7911 \t: ['Diet Pepsi']\n",
      "\n",
      "Cannot be found in 7912 \t: ['WellPet']\n",
      "\n",
      "Cannot be found in 7913 \t: ['Muck Boots']\n",
      "\n",
      "Cannot be found in 7914 \t: [\"Victoria's Secret\"]\n",
      "\n",
      "Cannot be found in 7915 \t: ['Talbots']\n",
      "\n",
      "Cannot be found in 7916 \t: [\"Dick's Sporting Goods\"]\n",
      "\n",
      "Cannot be found in 7917 \t: ['Pure Leaf']\n",
      "\n",
      "Cannot be found in 7918 \t: ['Arkansas Federal Credit Union']\n",
      "\n",
      "Cannot be found in 7919 \t: ['Grocery Retailer']\n",
      "\n",
      "Cannot be found in 7920 \t: ['Dorothy Lane Market']\n",
      "\n",
      "Cannot be found in 7921 \t: ['Western Digital']\n",
      "\n",
      "Cannot be found in 7925 \t: ['https://innotec.security/images/clientes/innotec/grupo-aval.jpg', 'https://innotec.security/images/clientes/innotec/bancolombia.jpg']\n",
      "\n"
     ]
    },
    {
     "name": "stderr",
     "output_type": "stream",
     "text": [
      "1162it [01:10, 33.22it/s]"
     ]
    },
    {
     "name": "stdout",
     "output_type": "stream",
     "text": [
      "Cannot be found in 7928 \t: ['ABB']\n",
      "\n",
      "Cannot be found in 7929 \t: ['Air Liquide']\n",
      "\n",
      "Cannot be found in 7930 \t: ['Big Fish Games']\n",
      "\n",
      "Cannot be found in 7931 \t: ['Dynegy']\n",
      "\n"
     ]
    },
    {
     "name": "stderr",
     "output_type": "stream",
     "text": [
      "1166it [01:10, 25.36it/s]"
     ]
    },
    {
     "name": "stdout",
     "output_type": "stream",
     "text": [
      "Cannot be found in 7933 \t: ['FBL Financial Group']\n",
      "\n",
      "Cannot be found in 7934 \t: ['HMS']\n",
      "\n",
      "Cannot be found in 7935 \t: ['McKesson']\n",
      "\n",
      "Cannot be found in 7936 \t: ['Organic Valley']\n",
      "\n"
     ]
    },
    {
     "name": "stderr",
     "output_type": "stream",
     "text": [
      "1170it [01:10, 21.42it/s]"
     ]
    },
    {
     "name": "stdout",
     "output_type": "stream",
     "text": [
      "Cannot be found in 7937 \t: ['Sephora']\n",
      "\n",
      "Cannot be found in 7938 \t: ['Sodexo']\n",
      "\n",
      "Cannot be found in 7939 \t: ['SPX FLOW']\n",
      "\n",
      "Cannot be found in 7940 \t: ['ufg insurance']\n",
      "\n"
     ]
    },
    {
     "name": "stderr",
     "output_type": "stream",
     "text": [
      "1173it [01:11, 19.45it/s]"
     ]
    },
    {
     "name": "stdout",
     "output_type": "stream",
     "text": [
      "Cannot be found in 7941 \t: ['Under Armour']\n",
      "\n",
      "Cannot be found in 7942 \t: ['Vertex']\n",
      "\n",
      "Cannot be found in 7943 \t: ['Microsoft', 'Chanel', 'Global Logistic Properties', 'Starbucks', 'Dairy Farm', 'easyJet', 'Edwin Tey – GLP', 'Viacom', 'Tesco', 'Goshawk Aviation Limited', 'National Grid', 'Kerry Logistics', 'Hasbro, Inc.', 'Jaguar Land Rover', 'Cigna', 'Ingredion Incorporated', 'SABMiller plc', 'Itron Inc.']\n",
      "\n"
     ]
    },
    {
     "name": "stderr",
     "output_type": "stream",
     "text": [
      "1176it [01:11, 14.78it/s]"
     ]
    },
    {
     "name": "stdout",
     "output_type": "stream",
     "text": [
      "Cannot be found in 7944 \t: ['Ricoh Europe PLC']\n",
      "\n",
      "Cannot be found in 7946 \t: ['Uniper']\n",
      "\n"
     ]
    },
    {
     "name": "stderr",
     "output_type": "stream",
     "text": [
      "1178it [01:11, 13.07it/s]"
     ]
    },
    {
     "name": "stdout",
     "output_type": "stream",
     "text": [
      "Cannot be found in 7947 \t: ['Anglian Water Group']\n",
      "\n",
      "Cannot be found in 7948 \t: ['Austin Industries']\n",
      "\n"
     ]
    },
    {
     "name": "stderr",
     "output_type": "stream",
     "text": [
      "1180it [01:11, 11.74it/s]"
     ]
    },
    {
     "name": "stdout",
     "output_type": "stream",
     "text": [
      "Cannot be found in 7949 \t: ['Bosch Group']\n",
      "\n",
      "Cannot be found in 7950 \t: ['CLP Holdings']\n",
      "\n"
     ]
    },
    {
     "name": "stderr",
     "output_type": "stream",
     "text": [
      "1182it [01:12, 10.80it/s]"
     ]
    },
    {
     "name": "stdout",
     "output_type": "stream",
     "text": [
      "Cannot be found in 7951 \t: ['Emerson']\n",
      "\n",
      "Cannot be found in 7952 \t: ['Hilton']\n",
      "\n"
     ]
    },
    {
     "name": "stderr",
     "output_type": "stream",
     "text": [
      "1184it [01:12, 10.16it/s]"
     ]
    },
    {
     "name": "stdout",
     "output_type": "stream",
     "text": [
      "Cannot be found in 7953 \t: ['Kongsberg']\n",
      "\n",
      "Cannot be found in 7954 \t: ['Linamar']\n",
      "\n"
     ]
    },
    {
     "name": "stderr",
     "output_type": "stream",
     "text": [
      "1186it [01:12,  9.71it/s]"
     ]
    },
    {
     "name": "stdout",
     "output_type": "stream",
     "text": [
      "Cannot be found in 7955 \t: ['Municipality Finance']\n",
      "\n",
      "Cannot be found in 7956 \t: ['NorgesGruppen']\n",
      "\n"
     ]
    },
    {
     "name": "stderr",
     "output_type": "stream",
     "text": [
      "1188it [01:12,  9.33it/s]"
     ]
    },
    {
     "name": "stdout",
     "output_type": "stream",
     "text": [
      "Cannot be found in 7957 \t: ['PageGroup']\n",
      "\n",
      "Cannot be found in 7958 \t: ['Petrofac']\n",
      "\n"
     ]
    },
    {
     "name": "stderr",
     "output_type": "stream",
     "text": [
      "1190it [01:13,  8.94it/s]"
     ]
    },
    {
     "name": "stdout",
     "output_type": "stream",
     "text": [
      "Cannot be found in 7959 \t: ['Prudential Corporation Asia']\n",
      "\n",
      "Cannot be found in 7960 \t: ['SEEK']\n",
      "\n"
     ]
    },
    {
     "name": "stderr",
     "output_type": "stream",
     "text": [
      "1192it [01:13,  8.70it/s]"
     ]
    },
    {
     "name": "stdout",
     "output_type": "stream",
     "text": [
      "Cannot be found in 7961 \t: ['Toyota Financial Services']\n",
      "\n",
      "Cannot be found in 7962 \t: ['UPS']\n",
      "\n",
      "Cannot be found in 7963 \t: ['HP', 'Microsoft', 'BT', 'IBM', 'eir']\n",
      "\n",
      "Cannot be found in 7968 \t: ['https://janusww.com/wp-content/uploads/2020/04/hp.png', 'https://janusww.com/wp-content/uploads/2020/04/microsoft.png', 'https://janusww.com/wp-content/uploads/2020/04/siemens.png', 'https://janusww.com/wp-content/uploads/2020/04/scania.png', 'https://janusww.com/wp-content/uploads/2020/04/schlumberger.png', 'https://janusww.com/wp-content/uploads/2020/04/fujifilm.png', 'https://janusww.com/wp-content/uploads/2020/04/abb.png', 'https://janusww.com/wp-content/uploads/2020/04/thyssenkrupp.png', 'https://janusww.com/wp-content/uploads/2020/04/canon.png', 'https://janusww.com/wp-content/uploads/2020/04/fujitsu.png', 'https://janusww.com/wp-content/uploads/2020/04/kasto.png', 'https://janusww.com/wp-content/uploads/2020/04/buerkert.png', 'https://janusww.com/wp-content/uploads/2020/08/developing-experts-cover-for-web.png', 'https://janusww.com/wp-content/uploads/2020/12/bathmate.png', 'https://janusww.com/wp-content/uploads/2020/12/estee.png', 'https://janusww.com/wp-content/uploads/2020/12/sochi.png', 'https://janusww.com/wp-content/uploads/2020/12/stahl.png', 'https://janusww.com/wp-content/uploads/2021/03/fifa.png', 'https://janusww.com/wp-content/uploads/2021/04/rampf.png']\n",
      "\n"
     ]
    },
    {
     "name": "stderr",
     "output_type": "stream",
     "text": [
      "1197it [01:13, 12.94it/s]"
     ]
    },
    {
     "name": "stdout",
     "output_type": "stream",
     "text": [
      "Cannot be found in 7994 \t: ['Monkhouse Schoolwear']\n",
      "\n",
      "Cannot be found in 7995 \t: ['Barnsley Council']\n",
      "\n",
      "Cannot be found in 7999 \t: ['https://www.jrni.com/uploads/transforms/05048b4661fc8d8058952a1394bf5912/73941/lifesearch-logo-finance_w115.png', 'https://www.jrni.com/uploads/transforms/05048b4661fc8d8058952a1394bf5912/73801/golden-1-credit-union-logo-finance_w115.png', 'https://www.jrni.com/uploads/transforms/05048b4661fc8d8058952a1394bf5912/70141/hsbc-logo-finance_w115.png', 'https://www.jrni.com/uploads/transforms/05048b4661fc8d8058952a1394bf5912/70110/us-bank-logo-finance_w115.png', 'https://www.jrni.com/uploads/transforms/05048b4661fc8d8058952a1394bf5912/70106/santander-logo-finance_w115.png', 'https://www.jrni.com/uploads/transforms/05048b4661fc8d8058952a1394bf5912/2097/co-operative-bank_w115.png', 'https://www.jrni.com/uploads/transforms/05048b4661fc8d8058952a1394bf5912/2095/bnz_w115.png', 'https://www.jrni.com/uploads/transforms/05048b4661fc8d8058952a1394bf5912/1417/kbc_bank_logo_colour_w115.png']\n",
      "\n"
     ]
    },
    {
     "name": "stderr",
     "output_type": "stream",
     "text": [
      "1199it [01:13, 13.13it/s]"
     ]
    },
    {
     "name": "stdout",
     "output_type": "stream",
     "text": [
      "Cannot be found in 8000 \t: ['https://www.jrni.com/uploads/transforms/05048b4661fc8d8058952a1394bf5912/51058/west-berkshire-no-background_w115.png', 'https://www.jrni.com/uploads/transforms/05048b4661fc8d8058952a1394bf5912/2200/kent-county-council_logo-min_w115.jpg', 'https://www.jrni.com/uploads/transforms/05048b4661fc8d8058952a1394bf5912/2180/west-sussex-country-council_w115.png', 'https://www.jrni.com/uploads/transforms/05048b4661fc8d8058952a1394bf5912/2178/home-office_w115.png', 'https://www.jrni.com/uploads/transforms/05048b4661fc8d8058952a1394bf5912/2174/plymouth-city-council-logo-330px-wide_w115.png', 'https://www.jrni.com/uploads/transforms/05048b4661fc8d8058952a1394bf5912/2172/essex-council_w115.png', 'https://www.jrni.com/uploads/transforms/05048b4661fc8d8058952a1394bf5912/2167/city-of-sydney_w115.png', 'https://www.jrni.com/uploads/transforms/05048b4661fc8d8058952a1394bf5912/2165/coventry-city-council-compressor_w115.png', 'https://www.jrni.com/uploads/transforms/05048b4661fc8d8058952a1394bf5912/2153/bath-and-somerset-council-min-1_w115.png']\n",
      "\n",
      "Cannot be found in 8001 \t: ['https://www.jrni.com/uploads/transforms/05048b4661fc8d8058952a1394bf5912/80459/vail-resorts-logo-other_w115.png', 'https://www.jrni.com/uploads/transforms/05048b4661fc8d8058952a1394bf5912/79840/sky-garden-logo_w115.png', 'https://www.jrni.com/uploads/transforms/05048b4661fc8d8058952a1394bf5912/77292/bill-melinda-gates-foundation-logo-other_w115.png', 'https://www.jrni.com/uploads/transforms/05048b4661fc8d8058952a1394bf5912/77069/nuffield-health_w115.png', 'https://www.jrni.com/uploads/transforms/05048b4661fc8d8058952a1394bf5912/74164/vireo-health-logo-other_w115.png', 'https://www.jrni.com/uploads/transforms/05048b4661fc8d8058952a1394bf5912/73827/schiphol-logo-other_w115.png', 'https://www.jrni.com/uploads/transforms/05048b4661fc8d8058952a1394bf5912/73814/score-logo-other_w115.png', 'https://www.jrni.com/uploads/transforms/05048b4661fc8d8058952a1394bf5912/70038/jaguar-land-rover-logo-other_w115.png']\n",
      "\n",
      "Cannot be found in 8002 \t: ['https://www.jrni.com/uploads/transforms/05048b4661fc8d8058952a1394bf5912/78379/ralph_lauren_logo_w115.png', 'https://www.jrni.com/uploads/transforms/05048b4661fc8d8058952a1394bf5912/73797/suitsupply-logo-retail_w115.png', 'https://www.jrni.com/uploads/transforms/05048b4661fc8d8058952a1394bf5912/73750/harry-rosen-logo-retail_w115.png', 'https://www.jrni.com/uploads/transforms/05048b4661fc8d8058952a1394bf5912/70033/vineyard-vines-retail_w115.png', 'https://www.jrni.com/uploads/transforms/05048b4661fc8d8058952a1394bf5912/55365/bensons-for-beds_w115.jpg', 'https://www.jrni.com/uploads/transforms/05048b4661fc8d8058952a1394bf5912/40512/carpetright_logo_w115.png', 'https://www.jrni.com/uploads/transforms/05048b4661fc8d8058952a1394bf5912/37680/kingfisher-plc-united-kingdom-logo-retail-company-kingfisher_w115.png', 'https://www.jrni.com/uploads/transforms/05048b4661fc8d8058952a1394bf5912/37048/anthropologie_logo-copy_w115.png', 'https://www.jrni.com/uploads/transforms/05048b4661fc8d8058952a1394bf5912/29939/talbots-logo_w115.png', 'https://www.jrni.com/uploads/transforms/05048b4661fc8d8058952a1394bf5912/17765/total-wine-more-logo_w115.png', 'https://www.jrni.com/bh-photo', 'https://www.jrni.com/uploads/transforms/05048b4661fc8d8058952a1394bf5912/2183/levis_w115.png', 'https://www.jrni.com/uploads/transforms/05048b4661fc8d8058952a1394bf5912/1016/halfords-logo-colour_w115.png', 'https://www.jrni.com/uploads/transforms/05048b4661fc8d8058952a1394bf5912/815/bed-bath-and-beyond-colour_w115.png', 'https://www.jrni.com/uploads/transforms/05048b4661fc8d8058952a1394bf5912/814/lego-logo-colour_w115.png']\n",
      "\n"
     ]
    },
    {
     "name": "stderr",
     "output_type": "stream",
     "text": [
      "1203it [01:14, 12.64it/s]"
     ]
    },
    {
     "name": "stdout",
     "output_type": "stream",
     "text": [
      "Cannot be found in 8003 \t: ['https://www.jrni.com/uploads/transforms/05048b4661fc8d8058952a1394bf5912/7862/spark-compressor_w115.jpeg', 'https://www.jrni.com/uploads/transforms/3531e30b064cd0d4f8a8b92292bf3baa/2290/proximus_w115.png', 'https://www.jrni.com/uploads/transforms/05048b4661fc8d8058952a1394bf5912/1425/rogers_logo_w115.png']\n",
      "\n",
      "Cannot be found in 8004 \t: ['Dunelm']\n",
      "\n",
      "Cannot be found in 8005 \t: ['Falck']\n",
      "\n"
     ]
    },
    {
     "name": "stderr",
     "output_type": "stream",
     "text": [
      "1207it [01:14, 13.44it/s]"
     ]
    },
    {
     "name": "stdout",
     "output_type": "stream",
     "text": [
      "Cannot be found in 8007 \t: ['JoJo Maman Bébé']\n",
      "\n",
      "Cannot be found in 8008 \t: ['Oriental Bank']\n",
      "\n",
      "Cannot be found in 8009 \t: ['Room & Board']\n",
      "\n",
      "Cannot be found in 8010 \t: ['URBN']\n",
      "\n"
     ]
    },
    {
     "name": "stderr",
     "output_type": "stream",
     "text": [
      "1209it [01:14, 13.35it/s]"
     ]
    },
    {
     "name": "stdout",
     "output_type": "stream",
     "text": [
      "Cannot be found in 8036 \t: ['paypal']\n",
      "\n",
      "Cannot be found in 8038 \t: ['Beckman Coulter Life Sciences']\n",
      "\n",
      "Cannot be found in 8039 \t: ['BNP Paribas Cardif']\n",
      "\n"
     ]
    },
    {
     "name": "stderr",
     "output_type": "stream",
     "text": [
      "1213it [01:14, 13.27it/s]"
     ]
    },
    {
     "name": "stdout",
     "output_type": "stream",
     "text": [
      "Cannot be found in 8040 \t: ['GF Forsikring']\n",
      "\n",
      "Cannot be found in 8044 \t: ['Voogd & Voogd']\n",
      "\n",
      "Cannot be found in 8045 \t: ['Investec']\n",
      "\n"
     ]
    },
    {
     "name": "stderr",
     "output_type": "stream",
     "text": [
      "1215it [01:15, 13.46it/s]"
     ]
    },
    {
     "name": "stdout",
     "output_type": "stream",
     "text": [
      "Cannot be found in 8046 \t: ['JF Hillebrand']\n",
      "\n",
      "Cannot be found in 8047 \t: ['NNIT']\n",
      "\n",
      "Cannot be found in 8049 \t: ['Telrock']\n",
      "\n"
     ]
    },
    {
     "name": "stderr",
     "output_type": "stream",
     "text": [
      "1219it [01:15, 13.03it/s]"
     ]
    },
    {
     "name": "stdout",
     "output_type": "stream",
     "text": [
      "Cannot be found in 8051 \t: ['Visma']\n",
      "\n",
      "Cannot be found in 8057 \t: ['LambdaTest']\n",
      "\n",
      "Cannot be found in 8058 \t: ['mercedes-benz', 'total']\n",
      "\n"
     ]
    },
    {
     "name": "stderr",
     "output_type": "stream",
     "text": [
      "1221it [01:15, 12.63it/s]"
     ]
    },
    {
     "name": "stdout",
     "output_type": "stream",
     "text": [
      "Cannot be found in 8061 \t: ['Pepsi', 'Sony', 'Vivitrol', 'Phytoceuticals', 'Purdue Pharma', 'Amneal Pharmaceuticals', 'Dr. Reddy’s Laboratories', 'Bed Bath & Beyond', 'Buffalo Americas', 'LifeScan Global Corporation', 'Phytoceuticals, Inc.', 'Kashiv Pharma, LLC', 'Amneal Pharmaceuticals, LLC', 'Rutgers University', 'Harmon Store', 'New York University', 'Delta Air Lines', 'Vipshop (US) Inc', 'Luye Pharma Group Ltd.', 'SA']\n",
      "\n",
      "Cannot be found in 8064 \t: ['https://24graj2x2dk813ys0w26mhu5-wpengine.netdna-ssl.com/wp-content/uploads/2019/05/united_logo.png', 'https://24graj2x2dk813ys0w26mhu5-wpengine.netdna-ssl.com/wp-content/uploads/2019/07/580b57fcd9996e24bc43c51f.png', 'https://24graj2x2dk813ys0w26mhu5-wpengine.netdna-ssl.com/wp-content/uploads/2020/02/transunion-logo.png', 'https://24graj2x2dk813ys0w26mhu5-wpengine.netdna-ssl.com/wp-content/uploads/2019/07/bombora_logo-orange.png', 'https://24graj2x2dk813ys0w26mhu5-wpengine.netdna-ssl.com/wp-content/uploads/2020/02/800px-hewlett_packard_enterprise_logo.png', 'hulu', 'https://24graj2x2dk813ys0w26mhu5-wpengine.netdna-ssl.com/wp-content/uploads/2020/02/jp-morgan-logo.png', 'https://24graj2x2dk813ys0w26mhu5-wpengine.netdna-ssl.com/wp-content/uploads/2019/06/400-4007993_marketo-adobe-transparent-marketo-logo-png.png', 'https://24graj2x2dk813ys0w26mhu5-wpengine.netdna-ssl.com/wp-content/uploads/2020/02/marriottnews.brightspotcdn.png', 'https://24graj2x2dk813ys0w26mhu5-wpengine.netdna-ssl.com/wp-content/uploads/2019/05/sprint_logo.png', 'https://24graj2x2dk813ys0w26mhu5-wpengine.netdna-ssl.com/wp-content/uploads/2019/05/office-depot_logo.png', 'https://24graj2x2dk813ys0w26mhu5-wpengine.netdna-ssl.com/wp-content/uploads/2019/05/golds-gym_logo.png', 'https://24graj2x2dk813ys0w26mhu5-wpengine.netdna-ssl.com/wp-content/uploads/2020/02/ampersand-logo.png', 'https://24graj2x2dk813ys0w26mhu5-wpengine.netdna-ssl.com/wp-content/uploads/2019/05/shiseido_logo.png', 'https://24graj2x2dk813ys0w26mhu5-wpengine.netdna-ssl.com/wp-content/uploads/2020/02/walmart_logo_transparent_png.png', 'https://24graj2x2dk813ys0w26mhu5-wpengine.netdna-ssl.com/wp-content/uploads/2021/05/danone-logo-1.png', '20th Century Fox', 'Ancestry', 'Allant Group', 'Marketo']\n",
      "\n",
      "Cannot be found in 8065 \t: ['Goodway Group']\n",
      "\n"
     ]
    },
    {
     "name": "stderr",
     "output_type": "stream",
     "text": [
      "1225it [01:15, 12.23it/s]"
     ]
    },
    {
     "name": "stdout",
     "output_type": "stream",
     "text": [
      "Cannot be found in 8066 \t: ['T-Mobile']\n",
      "\n",
      "Cannot be found in 8069 \t: ['IRI', 'The Weather Company']\n",
      "\n",
      "Cannot be found in 8071 \t: ['criteo']\n",
      "\n"
     ]
    },
    {
     "name": "stderr",
     "output_type": "stream",
     "text": [
      "1227it [01:16, 12.01it/s]"
     ]
    },
    {
     "name": "stdout",
     "output_type": "stream",
     "text": [
      "Cannot be found in 8072 \t: ['Bayer Consumer Health CMO']\n",
      "\n",
      "Cannot be found in 8073 \t: ['DMP']\n",
      "\n",
      "Cannot be found in 8074 \t: ['Uber']\n",
      "\n"
     ]
    },
    {
     "name": "stderr",
     "output_type": "stream",
     "text": [
      "1229it [01:16, 11.67it/s]"
     ]
    },
    {
     "name": "stdout",
     "output_type": "stream",
     "text": [
      "Cannot be found in 8075 \t: ['Choozle']\n",
      "\n",
      "Cannot be found in 8077 \t: ['TiVo', 'Comcast Spotlight', 'MODI Media']\n",
      "\n"
     ]
    },
    {
     "name": "stderr",
     "output_type": "stream",
     "text": [
      "1231it [01:16, 10.37it/s]"
     ]
    },
    {
     "name": "stdout",
     "output_type": "stream",
     "text": [
      "Cannot be found in 8078 \t: ['Town of Brookhaven', 'State of Idaho', 'TurnItIn LLC', 'GHL Bank', 'United Center', 'Froedtert Health', 'The State of Colorado', 'Idaho Forest Group', 'American Eagle', 'Indiana Wesleyan University', 'Morgan Lewis', 'Valero - Benicia, CA', 'Valero - Three Rivers', 'University Health Systems']\n",
      "\n",
      "Cannot be found in 8079 \t: ['Atlas Copco']\n",
      "\n"
     ]
    },
    {
     "name": "stderr",
     "output_type": "stream",
     "text": [
      "1233it [01:17,  6.51it/s]"
     ]
    },
    {
     "name": "stdout",
     "output_type": "stream",
     "text": [
      "Cannot be found in 8085 \t: ['American Educational Research Association', 'American Girl', 'AT&T', 'Bill & Melinda Gates Foundation', 'Bind', 'Brotherton Strategies', 'Center for Educational Leadership', 'Centers for Disease Control (CDC)', 'Chicago Symphony Orchestra', 'CityDance Dream', 'Clinton Foundation', 'Clinton Global Initiative', 'Communities in Schools', 'COMPASS', 'Cone Communications', 'CURE Epilepsy', 'Filmfest DC', 'David Lynch Foundation', 'Drink Company', 'Dufour & Co.', 'Elizabeth Glaser Pediatric AIDS Foundation', 'ETS', 'Esri', 'Everglades Foundation', 'Facing History and Ourselves', 'Fetzer Institute', 'Framework Productions', 'FutureView', 'Georgetown University', 'The Giving Pledge', 'Global Health Strategies', 'Global Education Network', 'Google', 'Golin', 'Griffin Schein / Rally', 'Hargrove', 'H.C. Wainwright & Co.', 'HEAF', 'The Honest Co.', 'Housing Authority Insurance Group', 'iCivics', 'The Institute for Inclusive Security', 'The International Initiative for Impact Evaluation (3ie)', 'International Institute for Nanotechnology (IIN)', 'John Snow, Inc. (JSI)', 'The John Templeton Foundation', 'KaBOOM!', 'Kaiser Family Foundation', 'Kaplan', 'The Lab School', 'The Lemelson Foundation', 'Linder & Associates', 'MARS Inc.', 'Memorial Sloan Kettering Cancer Center', 'Mozilla', 'National Archives Foundation', 'National Democratic Institute (NDI)', 'National Cherry Blossom Festival', 'National Parkinson Foundation', 'Nature Valley', 'NBC', 'New America Foundation', 'Nike', 'ONE', 'The Oprah Winfrey Network (OWN)', 'Panera Bread', 'Pentagon Memorial Fund', 'Pentair', 'PEPFAR', 'Optum', 'PepsiCo', 'Planet Word Museum', 'The Rainforest Foundation', 'Red Nose Day', 'Riverkeeper', 'RTI International', 'The Rockefeller Foundation', 'Sabin Vaccine Institute', 'Safe Kids Worldwide', 'Save the Children', 'SellersEaston', 'TB Alliance', 'Tiller Global', 'Tru Vue', 'UNAIDS', 'UNESCO', 'UnitedHealthcare', 'UnitedHealth Group', 'Unleashed Media', 'Upworthy', 'USAID', 'VH1', 'Villgro', 'WW, Inc', 'Washington Performing Arts', 'Weber Shandwick', 'The White House Historical Association', 'The World Bank', 'World Food Program USA']\n",
      "\n"
     ]
    },
    {
     "name": "stderr",
     "output_type": "stream",
     "text": [
      "1234it [01:17,  5.26it/s]"
     ]
    },
    {
     "name": "stdout",
     "output_type": "stream",
     "text": [
      "Cannot be found in 8090 \t: ['Clarke Schools for Hearing and Speech']\n",
      "\n"
     ]
    },
    {
     "name": "stderr",
     "output_type": "stream",
     "text": [
      "1235it [01:17,  4.39it/s]"
     ]
    },
    {
     "name": "stdout",
     "output_type": "stream",
     "text": [
      "Cannot be found in 8100 \t: ['The World Bank']\n",
      "\n"
     ]
    },
    {
     "name": "stderr",
     "output_type": "stream",
     "text": [
      "1236it [01:18,  3.86it/s]"
     ]
    },
    {
     "name": "stdout",
     "output_type": "stream",
     "text": [
      "Cannot be found in 8101 \t: ['Green Mountain Coffee']\n",
      "\n"
     ]
    },
    {
     "name": "stderr",
     "output_type": "stream",
     "text": [
      "1237it [01:18,  3.54it/s]"
     ]
    },
    {
     "name": "stdout",
     "output_type": "stream",
     "text": [
      "Cannot be found in 8111 \t: ['Nuclear Threat Initiative']\n",
      "\n"
     ]
    },
    {
     "name": "stderr",
     "output_type": "stream",
     "text": [
      "1238it [01:18,  3.29it/s]"
     ]
    },
    {
     "name": "stdout",
     "output_type": "stream",
     "text": [
      "Cannot be found in 8114 \t: ['Panera Bread']\n",
      "\n"
     ]
    },
    {
     "name": "stderr",
     "output_type": "stream",
     "text": [
      "1239it [01:19,  3.16it/s]"
     ]
    },
    {
     "name": "stdout",
     "output_type": "stream",
     "text": [
      "Cannot be found in 8116 \t: ['Yahoo News']\n",
      "\n"
     ]
    },
    {
     "name": "stderr",
     "output_type": "stream",
     "text": [
      "1240it [01:19,  3.10it/s]"
     ]
    },
    {
     "name": "stdout",
     "output_type": "stream",
     "text": [
      "Cannot be found in 8117 \t: ['The Economist']\n",
      "\n"
     ]
    },
    {
     "name": "stderr",
     "output_type": "stream",
     "text": [
      "1241it [01:19,  3.08it/s]"
     ]
    },
    {
     "name": "stdout",
     "output_type": "stream",
     "text": [
      "Cannot be found in 8118 \t: ['Principal Financial']\n",
      "\n"
     ]
    },
    {
     "name": "stderr",
     "output_type": "stream",
     "text": [
      "1242it [01:20,  3.03it/s]"
     ]
    },
    {
     "name": "stdout",
     "output_type": "stream",
     "text": [
      "Cannot be found in 8119 \t: ['ReThink Housing']\n",
      "\n"
     ]
    },
    {
     "name": "stderr",
     "output_type": "stream",
     "text": [
      "1243it [01:20,  2.90it/s]"
     ]
    },
    {
     "name": "stdout",
     "output_type": "stream",
     "text": [
      "Cannot be found in 8121 \t: ['SMART']\n",
      "\n"
     ]
    },
    {
     "name": "stderr",
     "output_type": "stream",
     "text": [
      "1244it [01:20,  2.92it/s]"
     ]
    },
    {
     "name": "stdout",
     "output_type": "stream",
     "text": [
      "Cannot be found in 8122 \t: ['Smile Network International']\n",
      "\n"
     ]
    },
    {
     "name": "stderr",
     "output_type": "stream",
     "text": [
      "1245it [01:21,  2.91it/s]"
     ]
    },
    {
     "name": "stdout",
     "output_type": "stream",
     "text": [
      "Cannot be found in 8131 \t: ['Virginia Distillers Association']\n",
      "\n"
     ]
    },
    {
     "name": "stderr",
     "output_type": "stream",
     "text": [
      "1246it [01:21,  2.91it/s]"
     ]
    },
    {
     "name": "stdout",
     "output_type": "stream",
     "text": [
      "Cannot be found in 8133 \t: ['The Templeton World Charity Foundation']\n",
      "\n"
     ]
    },
    {
     "name": "stderr",
     "output_type": "stream",
     "text": [
      "1247it [01:22,  2.71it/s]"
     ]
    },
    {
     "name": "stdout",
     "output_type": "stream",
     "text": [
      "Cannot be found in 8134 \t: ['White House Teacher Institute']\n",
      "\n"
     ]
    },
    {
     "name": "stderr",
     "output_type": "stream",
     "text": [
      "1251it [01:22,  5.34it/s]"
     ]
    },
    {
     "name": "stdout",
     "output_type": "stream",
     "text": [
      "Cannot be found in 8135 \t: ['World Education Forum']\n",
      "\n",
      "Cannot be found in 8137 \t: ['https://assets-global.website-files.com/5fe1e5ab342569725c29e137/602396c086d4d50b4a62c56d_gjensidige_logo.svg', 'https://assets-global.website-files.com/5fe1e5ab342569725c29e137/602396c0850ccfb6f44c9022_apg-logo.svg', 'https://assets-global.website-files.com/5fe1e5ab342569725c29e137/602396c171ede445ba239d56_bankinvest-logo.svg', 'https://assets-global.website-files.com/5fe1e5ab342569725c29e137/602396c16375594cac44f8cd_interfundmanagement_logo.svg', 'https://assets-global.website-files.com/5fe1e5ab342569725c29e137/602396c282cdeb5db6a4bdc9_knightfrank_logo.svg', 'https://assets-global.website-files.com/5fe1e5ab342569725c29e137/602396c19e32587db646344e_sparebank.svg', 'https://assets-global.website-files.com/5fe1e5ab342569725c29e137/602396c30953a472407a97be_jyskebank_logo.svg', 'https://assets-global.website-files.com/5fe1e5ab342569725c29e137/604a2e114746da318c3b3dab_6022fdf508bbba7b0c4574ab_nab_logo%20(2)%20(1)%20(1).png', 'https://assets-global.website-files.com/5fe1e5ab342569725c29e137/602396c14309053e16d9ba85_donner_%26_reuschel_logo.svg', 'https://assets-global.website-files.com/5fe1e5ab342569725c29e137/602396c22a8eeb385ade09c9_gwk-investment-management-vector-logo.svg', 'https://assets-global.website-files.com/5fe1e5ab342569725c29e137/60489fb97590e57669d6c0ea_harbouram-original-logo---harbour-blue%20with%20clear%20back%20-%20cropped%201.png', 'https://assets-global.website-files.com/5fe1e5ab342569725c29e137/602396c37a2e0a56440ddc5e_lansforsakringar_logo.svg', 'https://assets-global.website-files.com/5fe1e5ab342569725c29e137/602396c1868402c05ad4c65c_swisslife_logo.svg', 'https://assets-global.website-files.com/5fe1e5ab342569725c29e137/6022fe0640a448c45de55162_jss_am_logo.svg', 'https://assets-global.website-files.com/5fe1e5ab342569725c29e137/602396c33969ef913ee9eb1e_pinpoint_logo.svg', 'https://assets-global.website-files.com/5fe1e5ab342569725c29e137/6024eaadfc3d9606a6adc1d4_unioninvestment_logo.svg']\n",
      "\n",
      "Cannot be found in 8139 \t: ['Exante Data', 'PineBridge Investments', 'Erik Penser Bank', 'KNOT ANALYTICS']\n",
      "\n",
      "Cannot be found in 8140 \t: ['Air Canada Jazz']\n",
      "\n",
      "Cannot be found in 8141 \t: ['City of Ottawa']\n",
      "\n",
      "Cannot be found in 8142 \t: ['Shrewsbury and Telford Hospital']\n",
      "\n"
     ]
    },
    {
     "name": "stderr",
     "output_type": "stream",
     "text": [
      "1257it [01:22, 11.25it/s]"
     ]
    },
    {
     "name": "stdout",
     "output_type": "stream",
     "text": [
      "Cannot be found in 8143 \t: ['Leicestershire County Council']\n",
      "\n",
      "Cannot be found in 8144 \t: ['University of the Arts London']\n",
      "\n",
      "Cannot be found in 8145 \t: ['HM Land Registry (HMLR)']\n",
      "\n",
      "Cannot be found in 8146 \t: ['DXS International']\n",
      "\n",
      "Cannot be found in 8147 \t: ['Sakhalin Energy']\n",
      "\n",
      "Cannot be found in 8148 \t: ['Nipissing-Parry Sound Student Transportation Services']\n",
      "\n"
     ]
    },
    {
     "name": "stderr",
     "output_type": "stream",
     "text": [
      "1264it [01:23, 18.29it/s]"
     ]
    },
    {
     "name": "stdout",
     "output_type": "stream",
     "text": [
      "Cannot be found in 8149 \t: ['The University of Westminster']\n",
      "\n",
      "Cannot be found in 8176 \t: ['Perry Ellis']\n",
      "\n",
      "Cannot be found in 8180 \t: ['Google']\n",
      "\n",
      "Cannot be found in 8181 \t: ['Gmail']\n",
      "\n",
      "Cannot be found in 8182 \t: ['Heluva Good']\n",
      "\n",
      "Cannot be found in 8183 \t: ['jcpenney']\n",
      "\n",
      "Cannot be found in 8184 \t: ['JOHNSON & JOHNSON']\n",
      "\n"
     ]
    },
    {
     "name": "stderr",
     "output_type": "stream",
     "text": [
      "1272it [01:23, 25.64it/s]"
     ]
    },
    {
     "name": "stdout",
     "output_type": "stream",
     "text": [
      "Cannot be found in 8185 \t: ['Morton Salt']\n",
      "\n",
      "Cannot be found in 8186 \t: ['Nivea Men']\n",
      "\n",
      "Cannot be found in 8187 \t: ['Moe’s Southwest Grill']\n",
      "\n",
      "Cannot be found in 8188 \t: ['The Macallan']\n",
      "\n",
      "Cannot be found in 8189 \t: ['WYNDHAM DESTINATIONS']\n",
      "\n",
      "Cannot be found in 8190 \t: ['https://www.metabroadcast.com/wp-content/uploads/2020/08/logo8-1.png', 'https://www.metabroadcast.com/wp-content/uploads/2020/08/logo6-1.png', 'https://www.metabroadcast.com/wp-content/uploads/2020/08/logo7-1.png', 'https://www.metabroadcast.com/wp-content/uploads/2020/08/logo12-1.png', 'https://www.metabroadcast.com/wp-content/uploads/2020/08/logo13-1.png', 'https://www.metabroadcast.com/wp-content/uploads/2020/08/logo5-1.png', 'https://www.metabroadcast.com/wp-content/uploads/2020/08/logo3-1.png', 'https://www.metabroadcast.com/wp-content/uploads/2020/08/logo4-1.png', 'https://www.metabroadcast.com/wp-content/uploads/2020/08/logo10-1.png', 'https://www.metabroadcast.com/wp-content/uploads/2020/08/logo9-1.png', 'https://www.metabroadcast.com/wp-content/uploads/2020/08/logo17-1.png', 'https://www.metabroadcast.com/wp-content/uploads/2020/08/logo14-1.png', 'https://www.metabroadcast.com/wp-content/uploads/2020/08/logo16-1.png', 'https://www.metabroadcast.com/wp-content/uploads/2020/08/logo15-1.png', 'https://www.metabroadcast.com/wp-content/uploads/2020/08/logo19-1.png', 'https://www.metabroadcast.com/wp-content/uploads/2020/08/logo11-1.png', 'https://www.metabroadcast.com/wp-content/uploads/2020/08/logo18-1.png']\n",
      "\n",
      "Cannot be found in 8191 \t: ['A-Plant']\n",
      "\n",
      "Cannot be found in 8192 \t: ['Abraxas']\n",
      "\n",
      "Cannot be found in 8193 \t: ['Accenture']\n",
      "\n"
     ]
    },
    {
     "name": "stderr",
     "output_type": "stream",
     "text": [
      "1276it [01:23, 17.85it/s]"
     ]
    },
    {
     "name": "stdout",
     "output_type": "stream",
     "text": [
      "Cannot be found in 8194 \t: ['ACI Worldwide']\n",
      "\n",
      "Cannot be found in 8195 \t: ['Adriatic Slovenica']\n",
      "\n",
      "Cannot be found in 8196 \t: ['Advanced']\n",
      "\n"
     ]
    },
    {
     "name": "stderr",
     "output_type": "stream",
     "text": [
      "1279it [01:23, 15.68it/s]"
     ]
    },
    {
     "name": "stdout",
     "output_type": "stream",
     "text": [
      "Cannot be found in 8197 \t: ['AgustaWestland']\n",
      "\n",
      "Cannot be found in 8198 \t: ['All-American Publishing']\n",
      "\n",
      "Cannot be found in 8201 \t: ['Allied Motion Technologies Inc.']\n",
      "\n"
     ]
    },
    {
     "name": "stderr",
     "output_type": "stream",
     "text": [
      "1282it [01:24, 13.80it/s]"
     ]
    },
    {
     "name": "stdout",
     "output_type": "stream",
     "text": [
      "Cannot be found in 8202 \t: ['AMI Information Systems']\n",
      "\n",
      "Cannot be found in 8203 \t: ['AstraZeneca']\n",
      "\n"
     ]
    },
    {
     "name": "stderr",
     "output_type": "stream",
     "text": [
      "1284it [01:24, 12.62it/s]"
     ]
    },
    {
     "name": "stdout",
     "output_type": "stream",
     "text": [
      "Cannot be found in 8204 \t: ['Auckland Transport']\n",
      "\n",
      "Cannot be found in 8205 \t: ['Banca Popolare di Sondrio']\n",
      "\n"
     ]
    },
    {
     "name": "stderr",
     "output_type": "stream",
     "text": [
      "1286it [01:24, 11.65it/s]"
     ]
    },
    {
     "name": "stdout",
     "output_type": "stream",
     "text": [
      "Cannot be found in 8206 \t: ['Banco Guayaquil']\n",
      "\n",
      "Cannot be found in 8207 \t: ['Bancomext']\n",
      "\n"
     ]
    },
    {
     "name": "stderr",
     "output_type": "stream",
     "text": [
      "1290it [01:24, 11.16it/s]"
     ]
    },
    {
     "name": "stdout",
     "output_type": "stream",
     "text": [
      "Cannot be found in 8208 \t: ['BDO Israel']\n",
      "\n",
      "Cannot be found in 8209 \t: ['Beijing Future Advertising']\n",
      "\n",
      "Cannot be found in 8210 \t: ['Bon Secours']\n",
      "\n",
      "Cannot be found in 8211 \t: ['CACI']\n",
      "\n"
     ]
    },
    {
     "name": "stderr",
     "output_type": "stream",
     "text": [
      "1294it [01:25, 11.14it/s]"
     ]
    },
    {
     "name": "stdout",
     "output_type": "stream",
     "text": [
      "Cannot be found in 8212 \t: ['Camden Council']\n",
      "\n",
      "Cannot be found in 8213 \t: ['CANNEX']\n",
      "\n",
      "Cannot be found in 8214 \t: ['Canopius']\n",
      "\n"
     ]
    },
    {
     "name": "stderr",
     "output_type": "stream",
     "text": [
      "1296it [01:25, 11.22it/s]"
     ]
    },
    {
     "name": "stdout",
     "output_type": "stream",
     "text": [
      "Cannot be found in 8215 \t: ['Capax Discovery, Inc.']\n",
      "\n",
      "Cannot be found in 8218 \t: ['Cimubisa']\n",
      "\n",
      "Cannot be found in 8219 \t: ['City of Portland']\n",
      "\n"
     ]
    },
    {
     "name": "stderr",
     "output_type": "stream",
     "text": [
      "1300it [01:25, 10.97it/s]"
     ]
    },
    {
     "name": "stdout",
     "output_type": "stream",
     "text": [
      "Cannot be found in 8220 \t: ['CLARO']\n",
      "\n",
      "Cannot be found in 8221 \t: ['Coca-Cola FEMSA']\n",
      "\n",
      "Cannot be found in 8222 \t: ['Community Health Systems, Inc.']\n",
      "\n"
     ]
    },
    {
     "name": "stderr",
     "output_type": "stream",
     "text": [
      "1302it [01:26, 11.12it/s]"
     ]
    },
    {
     "name": "stdout",
     "output_type": "stream",
     "text": [
      "Cannot be found in 8223 \t: ['Continental AG']\n",
      "\n",
      "Cannot be found in 8224 \t: ['Cooper Farms']\n",
      "\n",
      "Cannot be found in 8225 \t: ['CoreTech']\n",
      "\n"
     ]
    },
    {
     "name": "stderr",
     "output_type": "stream",
     "text": [
      "1306it [01:26, 11.09it/s]"
     ]
    },
    {
     "name": "stdout",
     "output_type": "stream",
     "text": [
      "Cannot be found in 8226 \t: ['CSH Surrey']\n",
      "\n",
      "Cannot be found in 8227 \t: ['CWS Capital Partners']\n",
      "\n",
      "Cannot be found in 8228 \t: ['DGRIT']\n",
      "\n"
     ]
    },
    {
     "name": "stderr",
     "output_type": "stream",
     "text": [
      "1308it [01:26, 11.12it/s]"
     ]
    },
    {
     "name": "stdout",
     "output_type": "stream",
     "text": [
      "Cannot be found in 8229 \t: ['Digital Guardian']\n",
      "\n",
      "Cannot be found in 8231 \t: ['Dubai Electricity and Water Authority']\n",
      "\n",
      "Cannot be found in 8232 \t: ['Dubai Police']\n",
      "\n"
     ]
    },
    {
     "name": "stderr",
     "output_type": "stream",
     "text": [
      "1312it [01:26, 10.97it/s]"
     ]
    },
    {
     "name": "stdout",
     "output_type": "stream",
     "text": [
      "Cannot be found in 8233 \t: ['East Gippsland Water']\n",
      "\n",
      "Cannot be found in 8234 \t: ['Efcom']\n",
      "\n",
      "Cannot be found in 8235 \t: ['E.Miroglio EAD']\n",
      "\n"
     ]
    },
    {
     "name": "stderr",
     "output_type": "stream",
     "text": [
      "1314it [01:27, 10.89it/s]"
     ]
    },
    {
     "name": "stdout",
     "output_type": "stream",
     "text": [
      "Cannot be found in 8236 \t: ['Exelon']\n",
      "\n",
      "Cannot be found in 8237 \t: ['Expertos en TI']\n",
      "\n",
      "Cannot be found in 8238 \t: ['FCP Fritsch, Chiari & Partner ZT GmbH']\n",
      "\n"
     ]
    },
    {
     "name": "stderr",
     "output_type": "stream",
     "text": [
      "1316it [01:27, 10.18it/s]"
     ]
    },
    {
     "name": "stdout",
     "output_type": "stream",
     "text": [
      "Cannot be found in 8239 \t: ['Federal Agency']\n",
      "\n",
      "Cannot be found in 8240 \t: ['FIATC']\n",
      "\n"
     ]
    },
    {
     "name": "stderr",
     "output_type": "stream",
     "text": [
      "1319it [01:27,  9.63it/s]"
     ]
    },
    {
     "name": "stdout",
     "output_type": "stream",
     "text": [
      "Cannot be found in 8241 \t: ['Finnova']\n",
      "\n",
      "Cannot be found in 8242 \t: ['Gemeente Montferland']\n",
      "\n"
     ]
    },
    {
     "name": "stderr",
     "output_type": "stream",
     "text": [
      "1321it [01:27,  9.53it/s]"
     ]
    },
    {
     "name": "stdout",
     "output_type": "stream",
     "text": [
      "Cannot be found in 8243 \t: ['Geneva Software Co.']\n",
      "\n",
      "Cannot be found in 8244 \t: ['HCL America, Inc']\n",
      "\n"
     ]
    },
    {
     "name": "stderr",
     "output_type": "stream",
     "text": [
      "1323it [01:28,  9.06it/s]"
     ]
    },
    {
     "name": "stdout",
     "output_type": "stream",
     "text": [
      "Cannot be found in 8245 \t: ['Helbako']\n",
      "\n",
      "Cannot be found in 8248 \t: ['Istanbul Grand Airport']\n",
      "\n"
     ]
    },
    {
     "name": "stderr",
     "output_type": "stream",
     "text": [
      "1325it [01:28,  9.48it/s]"
     ]
    },
    {
     "name": "stdout",
     "output_type": "stream",
     "text": [
      "Cannot be found in 8249 \t: ['Kuwait Finance House']\n",
      "\n",
      "Cannot be found in 8250 \t: ['Lantik']\n",
      "\n",
      "Cannot be found in 8253 \t: ['LV 1871']\n",
      "\n"
     ]
    },
    {
     "name": "stderr",
     "output_type": "stream",
     "text": [
      "1328it [01:28,  9.93it/s]"
     ]
    },
    {
     "name": "stdout",
     "output_type": "stream",
     "text": [
      "Cannot be found in 8254 \t: ['Major Global Insurer']\n",
      "\n",
      "Cannot be found in 8256 \t: ['Maxcom Telecomunicaciones']\n",
      "\n"
     ]
    },
    {
     "name": "stderr",
     "output_type": "stream",
     "text": [
      "1331it [01:28, 10.34it/s]"
     ]
    },
    {
     "name": "stdout",
     "output_type": "stream",
     "text": [
      "Cannot be found in 8257 \t: ['McGraw-Hill']\n",
      "\n",
      "Cannot be found in 8258 \t: ['Meijer Inc.']\n",
      "\n",
      "Cannot be found in 8261 \t: ['Mozarteum University Salzburg']\n",
      "\n",
      "Cannot be found in 8262 \t: ['National Settlement Depository']\n",
      "\n"
     ]
    },
    {
     "name": "stderr",
     "output_type": "stream",
     "text": [
      "1335it [01:29, 11.01it/s]"
     ]
    },
    {
     "name": "stdout",
     "output_type": "stream",
     "text": [
      "Cannot be found in 8263 \t: ['Nationwide Mutual']\n",
      "\n",
      "Cannot be found in 8264 \t: ['Netstal']\n",
      "\n",
      "Cannot be found in 8265 \t: ['New Era Life Insurance Companies (New Era Life)']\n",
      "\n"
     ]
    },
    {
     "name": "stderr",
     "output_type": "stream",
     "text": [
      "1337it [01:29, 11.24it/s]"
     ]
    },
    {
     "name": "stdout",
     "output_type": "stream",
     "text": [
      "Cannot be found in 8266 \t: ['Parklane Systems']\n",
      "\n",
      "Cannot be found in 8267 \t: ['Public and Commercial Services Union (PCS)']\n",
      "\n",
      "Cannot be found in 8268 \t: ['Quest Diagnostics']\n",
      "\n"
     ]
    },
    {
     "name": "stderr",
     "output_type": "stream",
     "text": [
      "1341it [01:29, 11.07it/s]"
     ]
    },
    {
     "name": "stdout",
     "output_type": "stream",
     "text": [
      "Cannot be found in 8270 \t: ['RTVE']\n",
      "\n",
      "Cannot be found in 8271 \t: ['Sage']\n",
      "\n",
      "Cannot be found in 8272 \t: ['San Mateo Credit Union']\n",
      "\n"
     ]
    },
    {
     "name": "stderr",
     "output_type": "stream",
     "text": [
      "1343it [01:29, 11.27it/s]"
     ]
    },
    {
     "name": "stdout",
     "output_type": "stream",
     "text": [
      "Cannot be found in 8273 \t: ['SEED Infotech']\n",
      "\n",
      "Cannot be found in 8275 \t: ['SMS Engineering']\n",
      "\n",
      "Cannot be found in 8276 \t: ['Spanish Ministry']\n",
      "\n"
     ]
    },
    {
     "name": "stderr",
     "output_type": "stream",
     "text": [
      "1345it [01:30, 11.31it/s]"
     ]
    },
    {
     "name": "stdout",
     "output_type": "stream",
     "text": [
      "Cannot be found in 8278 \t: ['The Cluster']\n",
      "\n",
      "Cannot be found in 8279 \t: ['The Empire Life Insurance Company']\n",
      "\n"
     ]
    },
    {
     "name": "stderr",
     "output_type": "stream",
     "text": [
      "1349it [01:30, 10.57it/s]"
     ]
    },
    {
     "name": "stdout",
     "output_type": "stream",
     "text": [
      "Cannot be found in 8280 \t: ['The James Hutton Institute']\n",
      "\n",
      "Cannot be found in 8281 \t: ['Travianet GmbH']\n",
      "\n",
      "Cannot be found in 8282 \t: ['UBS AG']\n",
      "\n"
     ]
    },
    {
     "name": "stderr",
     "output_type": "stream",
     "text": [
      "1351it [01:30, 10.82it/s]"
     ]
    },
    {
     "name": "stdout",
     "output_type": "stream",
     "text": [
      "Cannot be found in 8283 \t: ['University of Bristol']\n",
      "\n",
      "Cannot be found in 8284 \t: ['Vancity']\n",
      "\n",
      "Cannot be found in 8285 \t: ['Vodafone']\n",
      "\n"
     ]
    },
    {
     "name": "stderr",
     "output_type": "stream",
     "text": [
      "1353it [01:30, 10.92it/s]"
     ]
    },
    {
     "name": "stdout",
     "output_type": "stream",
     "text": [
      "Cannot be found in 8286 \t: ['Washington State Department of Transportation']\n",
      "\n",
      "Cannot be found in 8287 \t: ['Wuppermann Business Services GmbH']\n",
      "\n"
     ]
    },
    {
     "name": "stderr",
     "output_type": "stream",
     "text": [
      "1358it [01:31, 12.81it/s]"
     ]
    },
    {
     "name": "stdout",
     "output_type": "stream",
     "text": [
      "Cannot be found in 8288 \t: ['Xellia Pharmaceuticals']\n",
      "\n",
      "Cannot be found in 8322 \t: ['PT Mandiri Tunas Finance']\n",
      "\n",
      "Cannot be found in 8323 \t: ['PT PP London Sumatera Tbk']\n",
      "\n",
      "Cannot be found in 8324 \t: ['Mandiri Sekuritas']\n",
      "\n",
      "Cannot be found in 8325 \t: ['KPEI']\n",
      "\n"
     ]
    },
    {
     "name": "stderr",
     "output_type": "stream",
     "text": [
      "1364it [01:31, 17.39it/s]"
     ]
    },
    {
     "name": "stdout",
     "output_type": "stream",
     "text": [
      "Cannot be found in 8326 \t: ['FIF Group']\n",
      "\n",
      "Cannot be found in 8327 \t: ['PT Perusahaan Industri Ceres']\n",
      "\n",
      "Cannot be found in 8329 \t: ['Summit Auto Group Experiences']\n",
      "\n",
      "Cannot be found in 8330 \t: ['PT Radana Bhaskara Finance Tbk']\n",
      "\n",
      "Cannot be found in 8331 \t: ['PT United Tractors Tbk']\n",
      "\n"
     ]
    },
    {
     "name": "stderr",
     "output_type": "stream",
     "text": [
      "1367it [01:31, 19.09it/s]"
     ]
    },
    {
     "name": "stdout",
     "output_type": "stream",
     "text": [
      "Cannot be found in 8332 \t: ['PT Ultrajaya Milk Industry Tbk']\n",
      "\n",
      "Cannot be found in 8333 \t: ['Telkomsel']\n",
      "\n",
      "Cannot be found in 8334 \t: ['PT Redpath Indonesia']\n",
      "\n",
      "Cannot be found in 8335 \t: ['PT Energi Mega Persada Tbk']\n",
      "\n",
      "Cannot be found in 8336 \t: ['RS Pondok Indah']\n",
      "\n"
     ]
    },
    {
     "name": "stderr",
     "output_type": "stream",
     "text": [
      "1373it [01:31, 20.96it/s]"
     ]
    },
    {
     "name": "stdout",
     "output_type": "stream",
     "text": [
      "Cannot be found in 8337 \t: ['PT Pertamina EP']\n",
      "\n",
      "Cannot be found in 8338 \t: ['Atmajaya']\n",
      "\n",
      "Cannot be found in 8339 \t: ['PT Buana Finance Tbk']\n",
      "\n",
      "Cannot be found in 8340 \t: ['Matahari Terbit']\n",
      "\n",
      "Cannot be found in 8341 \t: ['Ceres']\n",
      "\n"
     ]
    },
    {
     "name": "stderr",
     "output_type": "stream",
     "text": [
      "1382it [01:32, 29.96it/s]"
     ]
    },
    {
     "name": "stdout",
     "output_type": "stream",
     "text": [
      "Cannot be found in 8342 \t: ['Bank OCBC NISP']\n",
      "\n",
      "Cannot be found in 8343 \t: ['Unika Atma Jaya']\n",
      "\n",
      "Cannot be found in 8346 \t: ['PT AKR Corporindo (AKR)']\n",
      "\n",
      "Cannot be found in 8348 \t: ['A-one+']\n",
      "\n",
      "Cannot be found in 8349 \t: ['Atkins']\n",
      "\n",
      "Cannot be found in 8350 \t: ['Babergh & Mid Suffolk District Councils']\n",
      "\n",
      "Cannot be found in 8351 \t: ['Bristol City Council']\n",
      "\n",
      "Cannot be found in 8352 \t: ['Costain']\n",
      "\n",
      "Cannot be found in 8353 \t: ['Cyngor Gwynedd Council']\n",
      "\n",
      "Cannot be found in 8354 \t: ['The Dioceses of Portsmouth and Winchester']\n",
      "\n",
      "Cannot be found in 8355 \t: ['Dorset Council']\n",
      "\n",
      "Cannot be found in 8356 \t: ['Electricity North West Ltd. (ENWL)']\n",
      "\n",
      "Cannot be found in 8357 \t: ['Environment Agency']\n",
      "\n"
     ]
    },
    {
     "name": "stderr",
     "output_type": "stream",
     "text": [
      "1391it [01:32, 44.88it/s]"
     ]
    },
    {
     "name": "stdout",
     "output_type": "stream",
     "text": [
      "Cannot be found in 8358 \t: ['London Borough of Hackney Council']\n",
      "\n",
      "Cannot be found in 8359 \t: ['Halton Borough Council']\n",
      "\n",
      "Cannot be found in 8360 \t: ['Herefordshire Council']\n",
      "\n",
      "Cannot be found in 8362 \t: ['Runnymede Borough Council']\n",
      "\n",
      "Cannot be found in 8363 \t: ['Somerset County Council']\n",
      "\n",
      "Cannot be found in 8364 \t: ['Warrington Borough Council']\n",
      "\n",
      "Cannot be found in 8377 \t: ['https://www.multivariablesolutions.com/wp-content/uploads/2015/05/sage-hp-240x300.jpg', 'https://www.multivariablesolutions.com/wp-content/uploads/2015/05/vsh-logo-hp-240x300.jpg', 'https://www.multivariablesolutions.com/wp-content/uploads/2016/04/bae-logo.jpg']\n",
      "\n",
      "Cannot be found in 8379 \t: ['https://www.multivariablesolutions.com/wp-content/uploads/2015/07/aba-logo-270x180.jpg', 'https://www.multivariablesolutions.com/wp-content/uploads/2015/07/advanced-custom-manufacturing-270x180.jpg', 'https://www.multivariablesolutions.com/wp-content/uploads/2015/07/bae-logo-270x180.jpg', 'https://www.multivariablesolutions.com/wp-content/uploads/2015/07/belladia-stacked-logo-270x180.jpg', 'https://www.multivariablesolutions.com/wp-content/uploads/2015/07/blue-horizon-insurance-270x180.jpg', 'https://www.multivariablesolutions.com/wp-content/uploads/2015/07/pamela-logo-270x180.jpg', 'https://www.multivariablesolutions.com/wp-content/uploads/2015/07/childrens-physicians-270x180.jpg', 'https://www.multivariablesolutions.com/wp-content/uploads/2015/07/chip-header-logo-270x180.jpg', 'https://www.multivariablesolutions.com/wp-content/uploads/2015/07/dalton-trucking-270x180.jpg', 'https://www.multivariablesolutions.com/wp-content/uploads/2015/07/merrianne-logo-270x180.jpg', 'https://www.multivariablesolutions.com/wp-content/uploads/2015/07/ht-logo-270x180.jpg', 'https://www.multivariablesolutions.com/wp-content/uploads/2015/07/final-gear-leaf-270x180.jpg', 'https://www.multivariablesolutions.com/wp-content/uploads/2015/07/macroair_finallogo-270x180.jpg', 'https://www.multivariablesolutions.com/wp-content/uploads/2015/07/meissner-jacquet-270x180.jpg', 'https://www.multivariablesolutions.com/wp-content/uploads/2015/07/one-source-recycling-270x180.jpg', 'https://www.multivariablesolutions.com/wp-content/uploads/2015/07/pacific-ergonomics-270x180.jpg', 'https://www.multivariablesolutions.com/wp-content/uploads/2015/07/pciheader-270x180.jpg', 'https://www.multivariablesolutions.com/wp-content/uploads/2015/07/quiel-signs-logo-270x180.jpg', 'https://www.multivariablesolutions.com/wp-content/uploads/2015/07/ravx-logo-270x180.jpg', 'https://www.multivariablesolutions.com/wp-content/uploads/2015/07/sage.270x80jpg.jpg', 'https://www.multivariablesolutions.com/wp-content/uploads/2015/07/san_diego_port_tenants_association_270x180.jpg', 'https://www.multivariablesolutions.com/wp-content/uploads/2015/07/source-logo-270x180.jpg', 'https://www.multivariablesolutions.com/wp-content/uploads/2015/07/terradyne-logo-270x180.jpg', 'https://www.multivariablesolutions.com/wp-content/uploads/2015/07/toys4trucks-270x180.jpg', 'https://www.multivariablesolutions.com/wp-content/uploads/2015/07/vas-engineering-logo-270x180.jpg', 'https://www.multivariablesolutions.com/wp-content/uploads/2015/07/vsh-logo-270x180.jpg', 'https://www.multivariablesolutions.com/wp-content/uploads/2015/07/xenonics-logo-270x180.jpg']\n",
      "\n"
     ]
    },
    {
     "name": "stderr",
     "output_type": "stream",
     "text": [
      "1396it [01:32, 34.14it/s]"
     ]
    },
    {
     "name": "stdout",
     "output_type": "stream",
     "text": [
      "Cannot be found in 8381 \t: ['https://myclouddoor.com/wp-content/uploads/2020/06/simplementlogoweb-190x143.png', 'https://myclouddoor.com/wp-content/uploads/2020/06/gonvarrilogo-190x143.png', 'https://myclouddoor.com/wp-content/uploads/2018/08/santander-800x600-300x225.png', 'https://myclouddoor.com/wp-content/uploads/2018/08/beeah-800x600-300x225.png', 'https://myclouddoor.com/wp-content/uploads/2018/08/adveo-800x600-300x225.png', 'https://myclouddoor.com/wp-content/uploads/2020/06/zurichstlogo-190x143.png', 'https://myclouddoor.com/wp-content/uploads/2018/08/tmdrive-800x600-300x225.png', 'https://myclouddoor.com/wp-content/uploads/2019/06/iturri86-190x143.png', 'https://myclouddoor.com/wp-content/uploads/2018/08/prodiel-800x600-300x225.png', 'https://myclouddoor.com/wp-content/uploads/2019/06/urb866-190x143.png', 'https://myclouddoor.com/wp-content/uploads/2018/08/philips-800x600-300x225.png', 'https://myclouddoor.com/wp-content/uploads/2018/08/achmea-800x600-300x225.png', 'https://myclouddoor.com/wp-content/uploads/2019/03/danagas-logo-190x143.png', 'https://myclouddoor.com/wp-content/uploads/2019/03/d2o-190x143.png', 'https://myclouddoor.com/wp-content/uploads/2019/06/ega86-190x143.png', 'https://myclouddoor.com/wp-content/uploads/2020/06/eo-logoweb-190x143.png', 'https://myclouddoor.com/wp-content/uploads/2019/06/gpssa866-190x143.png', 'https://myclouddoor.com/wp-content/uploads/2019/03/indra-logo-1-190x143.png', 'https://myclouddoor.com/wp-content/uploads/2019/03/konica-minolta-1-190x143.png', 'https://myclouddoor.com/wp-content/uploads/2018/08/kyocera-800x600-300x225.png', 'https://myclouddoor.com/wp-content/uploads/2018/08/leroymerlin-800x600-300x225.png', 'https://myclouddoor.com/wp-content/uploads/2018/08/logista-800x600-300x225.png', 'https://myclouddoor.com/wp-content/uploads/2018/08/mapfre-800x600-300x225.png', 'https://myclouddoor.com/wp-content/uploads/2020/06/msflogo-190x143.png', 'https://myclouddoor.com/wp-content/uploads/2019/06/petro86-190x143.png', 'https://myclouddoor.com/wp-content/uploads/2019/03/qatar-190x143.png', 'https://myclouddoor.com/wp-content/uploads/2020/06/redington-190x143.png', 'https://myclouddoor.com/wp-content/uploads/2018/08/repsol-800x600-300x225.png', 'https://myclouddoor.com/wp-content/uploads/2019/06/sgs86-190x143.png', 'https://myclouddoor.com/wp-content/uploads/2018/08/sios-800x600-300x225.png', 'https://myclouddoor.com/wp-content/uploads/2020/06/sm-logo-190x143.png', 'https://myclouddoor.com/wp-content/uploads/2018/08/uptake-800x600-300x225.png', 'https://myclouddoor.com/wp-content/uploads/2018/08/telefonica-800x600-300x225.png', 'https://myclouddoor.com/wp-content/uploads/2020/06/sisecam-190x143.png']\n",
      "\n",
      "Cannot be found in 8397 \t: ['Accenture']\n",
      "\n",
      "Cannot be found in 8419 \t: ['A1 Telecom Austria Group']\n",
      "\n",
      "Cannot be found in 8420 \t: ['AIS']\n",
      "\n",
      "Cannot be found in 8421 \t: ['Alestra']\n",
      "\n"
     ]
    },
    {
     "name": "stderr",
     "output_type": "stream",
     "text": [
      "1405it [01:32, 28.32it/s]"
     ]
    },
    {
     "name": "stdout",
     "output_type": "stream",
     "text": [
      "Cannot be found in 8422 \t: ['América Móvil']\n",
      "\n",
      "Cannot be found in 8423 \t: ['Andorra Telecom']\n",
      "\n",
      "Cannot be found in 8424 \t: ['Bechtle']\n",
      "\n",
      "Cannot be found in 8425 \t: ['Blue Ridge Communications']\n",
      "\n",
      "Cannot be found in 8426 \t: ['Blue Stream']\n",
      "\n"
     ]
    },
    {
     "name": "stderr",
     "output_type": "stream",
     "text": [
      "1409it [01:33, 27.41it/s]"
     ]
    },
    {
     "name": "stdout",
     "output_type": "stream",
     "text": [
      "Cannot be found in 8427 \t: ['Andorra Telecom']\n",
      "\n",
      "Cannot be found in 8428 \t: ['Bouygues Telecom']\n",
      "\n",
      "Cannot be found in 8429 \t: ['C Spire']\n",
      "\n",
      "Cannot be found in 8430 \t: ['Chorus']\n",
      "\n",
      "Cannot be found in 8431 \t: ['Colt']\n",
      "\n",
      "Cannot be found in 8432 \t: ['Consolidated Communications']\n",
      "\n"
     ]
    },
    {
     "name": "stderr",
     "output_type": "stream",
     "text": [
      "1416it [01:33, 25.96it/s]"
     ]
    },
    {
     "name": "stdout",
     "output_type": "stream",
     "text": [
      "Cannot be found in 8433 \t: ['Deutsche Telekom Germany']\n",
      "\n",
      "Cannot be found in 8434 \t: ['Dialog']\n",
      "\n",
      "Cannot be found in 8435 \t: ['DISH']\n",
      "\n",
      "Cannot be found in 8436 \t: ['Embratel']\n",
      "\n",
      "Cannot be found in 8437 \t: ['ER-Telecom']\n",
      "\n",
      "Cannot be found in 8438 \t: ['Etisalat']\n",
      "\n"
     ]
    },
    {
     "name": "stderr",
     "output_type": "stream",
     "text": [
      "1422it [01:33, 25.47it/s]"
     ]
    },
    {
     "name": "stdout",
     "output_type": "stream",
     "text": [
      "Cannot be found in 8441 \t: ['Etisalat']\n",
      "\n",
      "Cannot be found in 8442 \t: ['Fastweb']\n",
      "\n",
      "Cannot be found in 8443 \t: [\"Germany's Tele Columbus\"]\n",
      "\n",
      "Cannot be found in 8444 \t: ['Globe Telecom']\n",
      "\n",
      "Cannot be found in 8445 \t: ['Grupo Gtd']\n",
      "\n",
      "Cannot be found in 8448 \t: ['Rakuten Mobile']\n",
      "\n"
     ]
    },
    {
     "name": "stderr",
     "output_type": "stream",
     "text": [
      "1428it [01:33, 25.16it/s]"
     ]
    },
    {
     "name": "stdout",
     "output_type": "stream",
     "text": [
      "Cannot be found in 8449 \t: ['Hrvatski Telekom']\n",
      "\n",
      "Cannot be found in 8450 \t: ['Indosat']\n",
      "\n",
      "Cannot be found in 8451 \t: ['Lightpath']\n",
      "\n",
      "Cannot be found in 8452 \t: ['Maxis']\n",
      "\n",
      "Cannot be found in 8453 \t: ['Midco']\n",
      "\n",
      "Cannot be found in 8454 \t: ['TELUS']\n",
      "\n"
     ]
    },
    {
     "name": "stderr",
     "output_type": "stream",
     "text": [
      "1434it [01:34, 25.19it/s]"
     ]
    },
    {
     "name": "stdout",
     "output_type": "stream",
     "text": [
      "Cannot be found in 8455 \t: ['Maxcom']\n",
      "\n",
      "Cannot be found in 8456 \t: ['NEC']\n",
      "\n",
      "Cannot be found in 8458 \t: ['Turkcell']\n",
      "\n",
      "Cannot be found in 8459 \t: ['Tiscali']\n",
      "\n",
      "Cannot be found in 8460 \t: ['GCI']\n",
      "\n",
      "Cannot be found in 8461 \t: ['Shaw Communications']\n",
      "\n"
     ]
    },
    {
     "name": "stderr",
     "output_type": "stream",
     "text": [
      "1440it [01:34, 25.29it/s]"
     ]
    },
    {
     "name": "stdout",
     "output_type": "stream",
     "text": [
      "Cannot be found in 8463 \t: ['Cox Communications']\n",
      "\n",
      "Cannot be found in 8464 \t: ['Turk Telecom']\n",
      "\n",
      "Cannot be found in 8467 \t: ['Viasat']\n",
      "\n",
      "Cannot be found in 8468 \t: ['du']\n",
      "\n",
      "Cannot be found in 8469 \t: ['yes']\n",
      "\n",
      "Cannot be found in 8470 \t: ['Telenet']\n",
      "\n"
     ]
    },
    {
     "name": "stderr",
     "output_type": "stream",
     "text": [
      "1446it [01:34, 25.07it/s]"
     ]
    },
    {
     "name": "stdout",
     "output_type": "stream",
     "text": [
      "Cannot be found in 8472 \t: ['O2']\n",
      "\n",
      "Cannot be found in 8475 \t: ['Robi Axiata']\n",
      "\n",
      "Cannot be found in 8476 \t: ['Schurz Communications']\n",
      "\n",
      "Cannot be found in 8477 \t: ['Singtel']\n",
      "\n",
      "Cannot be found in 8478 \t: ['SKY']\n",
      "\n",
      "Cannot be found in 8479 \t: ['Sri Lanka Telecom']\n",
      "\n"
     ]
    },
    {
     "name": "stderr",
     "output_type": "stream",
     "text": [
      "1452it [01:34, 23.19it/s]"
     ]
    },
    {
     "name": "stdout",
     "output_type": "stream",
     "text": [
      "Cannot be found in 8480 \t: ['Suddenlink']\n",
      "\n",
      "Cannot be found in 8481 \t: ['Swisscom']\n",
      "\n",
      "Cannot be found in 8482 \t: ['T-Mobile']\n",
      "\n",
      "Cannot be found in 8483 \t: ['Taiwan Star']\n",
      "\n",
      "Cannot be found in 8486 \t: ['Telefónica']\n",
      "\n"
     ]
    },
    {
     "name": "stderr",
     "output_type": "stream",
     "text": [
      "1458it [01:35, 24.13it/s]"
     ]
    },
    {
     "name": "stdout",
     "output_type": "stream",
     "text": [
      "Cannot be found in 8487 \t: ['Telesat']\n",
      "\n",
      "Cannot be found in 8488 \t: ['Vast Broadband']\n",
      "\n",
      "Cannot be found in 8489 \t: ['Virgin Media']\n",
      "\n",
      "Cannot be found in 8490 \t: ['VIVACOM']\n",
      "\n",
      "Cannot be found in 8493 \t: ['Vivo']\n",
      "\n",
      "Cannot be found in 8495 \t: ['Vodafone']\n",
      "\n",
      "Cannot be found in 8504 \t: ['https://www.nexusrental.co.uk/wp-content/uploads/2021/02/rexel-400x400.png', 'https://www.nexusrental.co.uk/wp-content/uploads/2021/02/hss-400x400.png', 'https://www.nexusrental.co.uk/wp-content/uploads/2021/02/engie-400x400.png', 'https://www.nexusrental.co.uk/wp-content/uploads/2021/02/dhl-400x400.png', 'https://www.nexusrental.co.uk/wp-content/uploads/2021/02/ceva-400x400.png', 'https://www.nexusrental.co.uk/wp-content/uploads/2021/02/vinci-400x400.png', 'https://www.nexusrental.co.uk/wp-content/uploads/2021/02/stericycle-400x400.png', 'https://www.nexusrental.co.uk/wp-content/uploads/2021/02/sww-400x400.png', 'https://www.nexusrental.co.uk/wp-content/uploads/2021/02/stobart-400x400.png', 'VOLKSWAGEN']\n",
      "\n"
     ]
    },
    {
     "name": "stderr",
     "output_type": "stream",
     "text": [
      "1461it [01:35, 13.63it/s]"
     ]
    },
    {
     "name": "stdout",
     "output_type": "stream",
     "text": [
      "Cannot be found in 8559 \t: ['Procter & Gamble', 'RWJBarnabas Health', 'Pepsico', 'Kimberly-Clark', 'Shell Oil Company', 'Food and Drug Administration', 'U.S. Department of Health and Human Services (HHS)']\n",
      "\n",
      "Cannot be found in 8560 \t: ['NASA', 'Department of Commerce']\n",
      "\n"
     ]
    },
    {
     "name": "stderr",
     "output_type": "stream",
     "text": [
      "1465it [01:35, 12.81it/s]"
     ]
    },
    {
     "name": "stdout",
     "output_type": "stream",
     "text": [
      "Cannot be found in 8563 \t: ['BCT Partners']\n",
      "\n",
      "Cannot be found in 8565 \t: ['Mercury Insurance']\n",
      "\n",
      "Cannot be found in 8566 \t: ['Community Food Bank of New Jersey', 'HomeFront']\n",
      "\n",
      "Cannot be found in 8567 \t: ['https://olivehorse.com/wp-content/uploads/2016/06/client-logo-unilever-col2.png', 'https://olivehorse.com/wp-content/uploads/2016/06/client-logo-mccormick-col.png', 'https://olivehorse.com/wp-content/uploads/2016/06/client-logo-dyson-col.png', 'https://olivehorse.com/wp-content/uploads/2016/10/is_consumer_logo-e1475653327275.png', 'https://olivehorse.com/wp-content/uploads/2016/06/client-logo-diageo-col.png', 'https://olivehorse.com/wp-content/uploads/2016/06/client-logo-akzo-col.png', 'https://olivehorse.com/wp-content/uploads/2016/07/client-logo-dsm-col.png', 'https://olivehorse.com/wp-content/uploads/2016/07/client-logo-kelloggs-col.png', 'https://olivehorse.com/wp-content/uploads/2017/01/janssen.jpg', 'https://olivehorse.com/wp-content/uploads/2018/02/marstons-logo.png', 'https://olivehorse.com/wp-content/uploads/2018/11/hive_horizontal_logo_orange.png', 'https://olivehorse.com/wp-content/uploads/2019/01/sap_partner_gold.png', 'https://olivehorse.com/wp-content/uploads/2016/05/client-logo-carlsberg-col.png', 'https://olivehorse.com/wp-content/uploads/2016/06/client-logo-bat-col.png', 'https://olivehorse.com/wp-content/uploads/2016/06/client-logo-johnson-col.png']\n",
      "\n",
      "Cannot be found in 8568 \t: ['Olivehorse']\n",
      "\n"
     ]
    },
    {
     "name": "stderr",
     "output_type": "stream",
     "text": [
      "1469it [01:35, 16.93it/s]"
     ]
    },
    {
     "name": "stdout",
     "output_type": "stream",
     "text": [
      "Cannot be found in 8576 \t: ['Fitbit']\n",
      "\n",
      "Cannot be found in 8577 \t: ['IKEA', 'Allergan']\n",
      "\n",
      "Cannot be found in 8578 \t: ['Clementoni', 'Prada Group']\n",
      "\n",
      "Cannot be found in 8580 \t: ['A1 Telecom Austria Group']\n",
      "\n",
      "Cannot be found in 8581 \t: ['Algar Telecom']\n",
      "\n"
     ]
    },
    {
     "name": "stderr",
     "output_type": "stream",
     "text": [
      "1472it [01:36, 11.85it/s]"
     ]
    },
    {
     "name": "stdout",
     "output_type": "stream",
     "text": [
      "Cannot be found in 8582 \t: ['AT&T']\n",
      "\n",
      "Cannot be found in 8583 \t: ['Bell']\n",
      "\n"
     ]
    },
    {
     "name": "stderr",
     "output_type": "stream",
     "text": [
      "1474it [01:36, 10.23it/s]"
     ]
    },
    {
     "name": "stdout",
     "output_type": "stream",
     "text": [
      "Cannot be found in 8584 \t: ['BT group']\n",
      "\n",
      "Cannot be found in 8585 \t: ['Charter']\n",
      "\n"
     ]
    },
    {
     "name": "stderr",
     "output_type": "stream",
     "text": [
      "1476it [01:36,  9.07it/s]"
     ]
    },
    {
     "name": "stdout",
     "output_type": "stream",
     "text": [
      "Cannot be found in 8586 \t: ['Claro Brazil']\n",
      "\n",
      "Cannot be found in 8587 \t: ['Claro Puerto Rico']\n",
      "\n"
     ]
    },
    {
     "name": "stderr",
     "output_type": "stream",
     "text": [
      "1478it [01:37,  8.37it/s]"
     ]
    },
    {
     "name": "stdout",
     "output_type": "stream",
     "text": [
      "Cannot be found in 8588 \t: ['Globe']\n",
      "\n",
      "Cannot be found in 8589 \t: ['HT Mostar']\n",
      "\n"
     ]
    },
    {
     "name": "stderr",
     "output_type": "stream",
     "text": [
      "1481it [01:37,  7.66it/s]"
     ]
    },
    {
     "name": "stdout",
     "output_type": "stream",
     "text": [
      "Cannot be found in 8590 \t: ['INWI']\n",
      "\n",
      "Cannot be found in 8591 \t: ['Liberty Global']\n",
      "\n"
     ]
    },
    {
     "name": "stderr",
     "output_type": "stream",
     "text": [
      "1483it [01:38,  7.31it/s]"
     ]
    },
    {
     "name": "stdout",
     "output_type": "stream",
     "text": [
      "Cannot be found in 8592 \t: ['Magenta']\n",
      "\n",
      "Cannot be found in 8593 \t: ['NTT Pacific (Guam)']\n",
      "\n"
     ]
    },
    {
     "name": "stderr",
     "output_type": "stream",
     "text": [
      "1485it [01:38,  7.07it/s]"
     ]
    },
    {
     "name": "stdout",
     "output_type": "stream",
     "text": [
      "Cannot be found in 8594 \t: ['Orange Egypt']\n",
      "\n",
      "Cannot be found in 8595 \t: ['Orange Poland']\n",
      "\n"
     ]
    },
    {
     "name": "stderr",
     "output_type": "stream",
     "text": [
      "1487it [01:38,  6.93it/s]"
     ]
    },
    {
     "name": "stdout",
     "output_type": "stream",
     "text": [
      "Cannot be found in 8596 \t: ['redOne']\n",
      "\n",
      "Cannot be found in 8597 \t: ['Samsung Electronics', 'Hewlett Packard Enterprise (HPE)']\n",
      "\n"
     ]
    },
    {
     "name": "stderr",
     "output_type": "stream",
     "text": [
      "1489it [01:38,  6.85it/s]"
     ]
    },
    {
     "name": "stdout",
     "output_type": "stream",
     "text": [
      "Cannot be found in 8598 \t: ['Sasktel']\n",
      "\n",
      "Cannot be found in 8599 \t: ['Sri Lanka Telecom']\n",
      "\n"
     ]
    },
    {
     "name": "stderr",
     "output_type": "stream",
     "text": [
      "1491it [01:39,  6.88it/s]"
     ]
    },
    {
     "name": "stdout",
     "output_type": "stream",
     "text": [
      "Cannot be found in 8600 \t: ['Tele-Post']\n",
      "\n",
      "Cannot be found in 8601 \t: ['Telia Lithuania']\n",
      "\n"
     ]
    },
    {
     "name": "stderr",
     "output_type": "stream",
     "text": [
      "1493it [01:39,  6.90it/s]"
     ]
    },
    {
     "name": "stdout",
     "output_type": "stream",
     "text": [
      "Cannot be found in 8602 \t: ['Telkomsel']\n",
      "\n",
      "Cannot be found in 8603 \t: ['T-Mobile Netherlands']\n",
      "\n"
     ]
    },
    {
     "name": "stderr",
     "output_type": "stream",
     "text": [
      "1495it [01:39,  6.85it/s]"
     ]
    },
    {
     "name": "stdout",
     "output_type": "stream",
     "text": [
      "Cannot be found in 8604 \t: ['TracFone']\n",
      "\n",
      "Cannot be found in 8605 \t: ['VADSA']\n",
      "\n"
     ]
    },
    {
     "name": "stderr",
     "output_type": "stream",
     "text": [
      "1497it [01:40,  6.74it/s]"
     ]
    },
    {
     "name": "stdout",
     "output_type": "stream",
     "text": [
      "Cannot be found in 8606 \t: ['Videotron']\n",
      "\n",
      "Cannot be found in 8607 \t: ['Vodafone Ziggo']\n",
      "\n"
     ]
    },
    {
     "name": "stderr",
     "output_type": "stream",
     "text": [
      "1501it [01:40, 11.72it/s]"
     ]
    },
    {
     "name": "stdout",
     "output_type": "stream",
     "text": [
      "Cannot be found in 8608 \t: ['Abu Dhabi']\n",
      "\n",
      "Cannot be found in 8609 \t: ['https://www.optimalworkshop.com/wp-content/uploads/2020/11/logo_uber.webp', 'https://www.optimalworkshop.com/wp-content/uploads/2020/11/logo_ibm.webp', 'https://www.optimalworkshop.com/wp-content/uploads/2020/11/logo_capital-one.webp', 'https://www.optimalworkshop.com/wp-content/uploads/2020/11/logo_ge.webp', 'https://www.optimalworkshop.com/wp-content/uploads/2020/11/logo_yelp.webp', 'Eventbrite', 'Mesaaz.gov']\n",
      "\n",
      "Cannot be found in 8612 \t: ['Intercom', 'Xero', 'Assurity']\n",
      "\n",
      "Cannot be found in 8616 \t: ['ITUp Turn Up program', 'Royal Boskalis Westminster']\n",
      "\n",
      "Cannot be found in 8617 \t: ['Abt']\n",
      "\n",
      "Cannot be found in 8618 \t: ['BPL Global']\n",
      "\n"
     ]
    },
    {
     "name": "stderr",
     "output_type": "stream",
     "text": [
      "1506it [01:40, 16.62it/s]"
     ]
    },
    {
     "name": "stdout",
     "output_type": "stream",
     "text": [
      "Cannot be found in 8619 \t: ['ADEC']\n",
      "\n",
      "Cannot be found in 8620 \t: ['American Integrity Insurance']\n",
      "\n",
      "Cannot be found in 8621 \t: ['ARUP']\n",
      "\n",
      "Cannot be found in 8622 \t: ['Naval Asset']\n",
      "\n",
      "Cannot be found in 8624 \t: ['Banco CTT']\n",
      "\n"
     ]
    },
    {
     "name": "stderr",
     "output_type": "stream",
     "text": [
      "1512it [01:40, 20.51it/s]"
     ]
    },
    {
     "name": "stdout",
     "output_type": "stream",
     "text": [
      "Cannot be found in 8625 \t: ['bswift']\n",
      "\n",
      "Cannot be found in 8626 \t: ['BT']\n",
      "\n",
      "Cannot be found in 8627 \t: ['Vopak Mobilizes Workforce']\n",
      "\n",
      "Cannot be found in 8628 \t: ['NHS PHP']\n",
      "\n",
      "Cannot be found in 8629 \t: ['FinTech']\n",
      "\n"
     ]
    },
    {
     "name": "stderr",
     "output_type": "stream",
     "text": [
      "1518it [01:41, 22.55it/s]"
     ]
    },
    {
     "name": "stdout",
     "output_type": "stream",
     "text": [
      "Cannot be found in 8630 \t: ['Burton']\n",
      "\n",
      "Cannot be found in 8631 \t: ['Certis']\n",
      "\n",
      "Cannot be found in 8632 \t: ['CITIC Telecom']\n",
      "\n",
      "Cannot be found in 8633 \t: ['Universal Puerto Rico']\n",
      "\n",
      "Cannot be found in 8634 \t: ['Citizen Developers']\n",
      "\n",
      "Cannot be found in 8635 \t: ['Randstad']\n",
      "\n"
     ]
    },
    {
     "name": "stderr",
     "output_type": "stream",
     "text": [
      "1524it [01:41, 23.24it/s]"
     ]
    },
    {
     "name": "stdout",
     "output_type": "stream",
     "text": [
      "Cannot be found in 8636 \t: ['CM']\n",
      "\n",
      "Cannot be found in 8637 \t: ['CMS']\n",
      "\n",
      "Cannot be found in 8638 \t: ['Colliers International']\n",
      "\n",
      "Cannot be found in 8639 \t: ['CommunO2']\n",
      "\n",
      "Cannot be found in 8640 \t: ['Constellation®']\n",
      "\n"
     ]
    },
    {
     "name": "stderr",
     "output_type": "stream",
     "text": [
      "1527it [01:41, 23.24it/s]"
     ]
    },
    {
     "name": "stdout",
     "output_type": "stream",
     "text": [
      "Cannot be found in 8641 \t: ['Centralen']\n",
      "\n",
      "Cannot be found in 8642 \t: ['Cordstrap']\n",
      "\n",
      "Cannot be found in 8643 \t: ['Corporate One']\n",
      "\n",
      "Cannot be found in 8644 \t: ['Lucro']\n",
      "\n",
      "Cannot be found in 8645 \t: ['CredAbility']\n",
      "\n"
     ]
    },
    {
     "name": "stderr",
     "output_type": "stream",
     "text": [
      "1533it [01:41, 24.13it/s]"
     ]
    },
    {
     "name": "stdout",
     "output_type": "stream",
     "text": [
      "Cannot be found in 8646 \t: ['Zurich Insurance']\n",
      "\n",
      "Cannot be found in 8647 \t: ['Wodify Technologies']\n",
      "\n",
      "Cannot be found in 8648 \t: ['Portuguese Post Office']\n",
      "\n",
      "Cannot be found in 8649 \t: ['Beeztees']\n",
      "\n",
      "Cannot be found in 8651 \t: ['USACS']\n",
      "\n",
      "Cannot be found in 8653 \t: ['Rollins']\n",
      "\n"
     ]
    },
    {
     "name": "stderr",
     "output_type": "stream",
     "text": [
      "1539it [01:41, 23.29it/s]"
     ]
    },
    {
     "name": "stdout",
     "output_type": "stream",
     "text": [
      "Cannot be found in 8654 \t: ['CZ Health Insurance']\n",
      "\n",
      "Cannot be found in 8656 \t: ['De Mandemakers Groep']\n",
      "\n",
      "Cannot be found in 8657 \t: ['DNB Bank']\n",
      "\n",
      "Cannot be found in 8658 \t: ['Dorel Juvenile']\n",
      "\n",
      "Cannot be found in 8659 \t: ['BlueZest']\n",
      "\n"
     ]
    },
    {
     "name": "stderr",
     "output_type": "stream",
     "text": [
      "1545it [01:42, 23.47it/s]"
     ]
    },
    {
     "name": "stdout",
     "output_type": "stream",
     "text": [
      "Cannot be found in 8660 \t: ['EDP']\n",
      "\n",
      "Cannot be found in 8661 \t: ['Energy Group EDP']\n",
      "\n",
      "Cannot be found in 8662 \t: ['Total Produce']\n",
      "\n",
      "Cannot be found in 8664 \t: ['Logistics Giant Estafeta']\n",
      "\n",
      "Cannot be found in 8666 \t: ['England and Wales Cricket Board']\n",
      "\n"
     ]
    },
    {
     "name": "stderr",
     "output_type": "stream",
     "text": [
      "1548it [01:42, 23.15it/s]"
     ]
    },
    {
     "name": "stdout",
     "output_type": "stream",
     "text": [
      "Cannot be found in 8667 \t: ['Logitech Legacy']\n",
      "\n",
      "Cannot be found in 8668 \t: ['YESCO']\n",
      "\n",
      "Cannot be found in 8670 \t: ['Fundação José Neves']\n",
      "\n",
      "Cannot be found in 8671 \t: ['Flight Dispatch']\n",
      "\n",
      "Cannot be found in 8672 \t: ['Galp']\n",
      "\n"
     ]
    },
    {
     "name": "stderr",
     "output_type": "stream",
     "text": [
      "1554it [01:42, 22.97it/s]"
     ]
    },
    {
     "name": "stdout",
     "output_type": "stream",
     "text": [
      "Cannot be found in 8674 \t: ['Gradén Mattsson']\n",
      "\n",
      "Cannot be found in 8675 \t: ['Green Cargo']\n",
      "\n",
      "Cannot be found in 8677 \t: ['Grupo Marista']\n",
      "\n",
      "Cannot be found in 8678 \t: ['Deloitte']\n",
      "\n",
      "Cannot be found in 8679 \t: ['HDI']\n",
      "\n"
     ]
    },
    {
     "name": "stderr",
     "output_type": "stream",
     "text": [
      "1560it [01:42, 21.45it/s]"
     ]
    },
    {
     "name": "stdout",
     "output_type": "stream",
     "text": [
      "Cannot be found in 8680 \t: ['Promedico']\n",
      "\n",
      "Cannot be found in 8681 \t: ['Hermes']\n",
      "\n",
      "Cannot be found in 8684 \t: ['Inchcape Halves']\n",
      "\n",
      "Cannot be found in 8686 \t: ['CoorpID KYC']\n",
      "\n",
      "Cannot be found in 8687 \t: ['Van Ameyde']\n",
      "\n"
     ]
    },
    {
     "name": "stderr",
     "output_type": "stream",
     "text": [
      "1566it [01:43, 23.28it/s]"
     ]
    },
    {
     "name": "stdout",
     "output_type": "stream",
     "text": [
      "Cannot be found in 8688 \t: ['Fidelidade']\n",
      "\n",
      "Cannot be found in 8689 \t: ['Liberty Insurance']\n",
      "\n",
      "Cannot be found in 8690 \t: ['AXA']\n",
      "\n",
      "Cannot be found in 8691 \t: ['Charles River']\n",
      "\n",
      "Cannot be found in 8692 \t: ['ISB']\n",
      "\n",
      "Cannot be found in 8693 \t: ['Islandwide']\n",
      "\n"
     ]
    },
    {
     "name": "stderr",
     "output_type": "stream",
     "text": [
      "1569it [01:43, 22.89it/s]"
     ]
    },
    {
     "name": "stdout",
     "output_type": "stream",
     "text": [
      "Cannot be found in 8694 \t: ['IOOF']\n",
      "\n",
      "Cannot be found in 8695 \t: ['Jerónimo Martins']\n",
      "\n",
      "Cannot be found in 8696 \t: ['Kent State University']\n",
      "\n",
      "Cannot be found in 8697 \t: ['Keypoint Intelligence']\n",
      "\n",
      "Cannot be found in 8699 \t: ['Lendr']\n",
      "\n"
     ]
    },
    {
     "name": "stderr",
     "output_type": "stream",
     "text": [
      "1575it [01:43, 23.31it/s]"
     ]
    },
    {
     "name": "stdout",
     "output_type": "stream",
     "text": [
      "Cannot be found in 8700 \t: ['LGSS']\n",
      "\n",
      "Cannot be found in 8701 \t: ['MicroMain']\n",
      "\n",
      "Cannot be found in 8702 \t: ['Maravilha Farms']\n",
      "\n",
      "Cannot be found in 8703 \t: ['Maxtel']\n",
      "\n",
      "Cannot be found in 8704 \t: ['Mazda']\n",
      "\n"
     ]
    },
    {
     "name": "stderr",
     "output_type": "stream",
     "text": [
      "1581it [01:43, 23.96it/s]"
     ]
    },
    {
     "name": "stdout",
     "output_type": "stream",
     "text": [
      "Cannot be found in 8705 \t: ['Medtronic']\n",
      "\n",
      "Cannot be found in 8706 \t: ['Mercy Ships']\n",
      "\n",
      "Cannot be found in 8707 \t: ['SES']\n",
      "\n",
      "Cannot be found in 8709 \t: ['Lapis']\n",
      "\n",
      "Cannot be found in 8711 \t: ['Monimove']\n",
      "\n",
      "Cannot be found in 8712 \t: ['Montepio Crédito']\n",
      "\n"
     ]
    },
    {
     "name": "stderr",
     "output_type": "stream",
     "text": [
      "1587it [01:43, 24.36it/s]"
     ]
    },
    {
     "name": "stdout",
     "output_type": "stream",
     "text": [
      "Cannot be found in 8714 \t: ['New Zealand Transport Agency']\n",
      "\n",
      "Cannot be found in 8715 \t: ['Nimbi']\n",
      "\n",
      "Cannot be found in 8718 \t: ['FICO®']\n",
      "\n",
      "Cannot be found in 8719 \t: ['Personal Group']\n",
      "\n",
      "Cannot be found in 8720 \t: ['AFPMBAI']\n",
      "\n",
      "Cannot be found in 8721 \t: ['Planet']\n",
      "\n"
     ]
    },
    {
     "name": "stderr",
     "output_type": "stream",
     "text": [
      "1593it [01:44, 24.47it/s]"
     ]
    },
    {
     "name": "stdout",
     "output_type": "stream",
     "text": [
      "Cannot be found in 8722 \t: ['Post Office']\n",
      "\n",
      "Cannot be found in 8723 \t: ['PowrKidz']\n",
      "\n",
      "Cannot be found in 8724 \t: ['Koopman Logistics Group']\n",
      "\n",
      "Cannot be found in 8725 \t: ['GarantiBank']\n",
      "\n",
      "Cannot be found in 8726 \t: ['Prosegur']\n",
      "\n",
      "Cannot be found in 8727 \t: ['Randstad']\n",
      "\n"
     ]
    },
    {
     "name": "stderr",
     "output_type": "stream",
     "text": [
      "1599it [01:44, 25.07it/s]"
     ]
    },
    {
     "name": "stdout",
     "output_type": "stream",
     "text": [
      "Cannot be found in 8728 \t: ['McMillan']\n",
      "\n",
      "Cannot be found in 8730 \t: ['Redington Gulf']\n",
      "\n",
      "Cannot be found in 8732 \t: ['PlayRight']\n",
      "\n",
      "Cannot be found in 8734 \t: ['Sakata Seed Corporation']\n",
      "\n",
      "Cannot be found in 8735 \t: ['Delta Coffee']\n",
      "\n",
      "Cannot be found in 8736 \t: ['Salsa']\n",
      "\n"
     ]
    },
    {
     "name": "stderr",
     "output_type": "stream",
     "text": [
      "1605it [01:44, 24.62it/s]"
     ]
    },
    {
     "name": "stdout",
     "output_type": "stream",
     "text": [
      "Cannot be found in 8737 \t: ['Banco Santander']\n",
      "\n",
      "Cannot be found in 8738 \t: ['ISB Global']\n",
      "\n",
      "Cannot be found in 8739 \t: ['JTC Americas']\n",
      "\n",
      "Cannot be found in 8740 \t: ['Schneider Electric', 'Digital Factory']\n",
      "\n",
      "Cannot be found in 8741 \t: ['Shawcor']\n",
      "\n"
     ]
    },
    {
     "name": "stderr",
     "output_type": "stream",
     "text": [
      "1611it [01:44, 24.23it/s]"
     ]
    },
    {
     "name": "stdout",
     "output_type": "stream",
     "text": [
      "Cannot be found in 8743 \t: ['Shepherd and Wedderburn']\n",
      "\n",
      "Cannot be found in 8744 \t: ['SMART AIS']\n",
      "\n",
      "Cannot be found in 8745 \t: ['Sogrape']\n",
      "\n",
      "Cannot be found in 8746 \t: ['Sooth']\n",
      "\n",
      "Cannot be found in 8747 \t: ['Spotcheck']\n",
      "\n",
      "Cannot be found in 8748 \t: ['STEMCELL']\n",
      "\n"
     ]
    },
    {
     "name": "stderr",
     "output_type": "stream",
     "text": [
      "1614it [01:45, 24.30it/s]"
     ]
    },
    {
     "name": "stdout",
     "output_type": "stream",
     "text": [
      "Cannot be found in 8751 \t: ['BRI Security']\n",
      "\n",
      "Cannot be found in 8752 \t: ['thinkmoney']\n",
      "\n",
      "Cannot be found in 8753 \t: ['Thinkmoney']\n",
      "\n",
      "Cannot be found in 8754 \t: ['SaaS']\n",
      "\n",
      "Cannot be found in 8755 \t: ['Cofidis']\n",
      "\n"
     ]
    },
    {
     "name": "stderr",
     "output_type": "stream",
     "text": [
      "1620it [01:45, 24.12it/s]"
     ]
    },
    {
     "name": "stdout",
     "output_type": "stream",
     "text": [
      "Cannot be found in 8756 \t: ['Van Iperen']\n",
      "\n",
      "Cannot be found in 8757 \t: ['Vieira de Almeida']\n",
      "\n",
      "Cannot be found in 8759 \t: ['Via Verde']\n",
      "\n",
      "Cannot be found in 8760 \t: ['VNG']\n",
      "\n",
      "Cannot be found in 8762 \t: ['Worcestershire County Council']\n",
      "\n",
      "Cannot be found in 8763 \t: ['YAK MAT']\n",
      "\n"
     ]
    },
    {
     "name": "stderr",
     "output_type": "stream",
     "text": [
      "1626it [01:45, 23.05it/s]"
     ]
    },
    {
     "name": "stdout",
     "output_type": "stream",
     "text": [
      "Cannot be found in 8764 \t: ['Yorkshire']\n",
      "\n",
      "Cannot be found in 8769 \t: ['Monadelphous']\n",
      "\n",
      "Cannot be found in 8770 \t: ['Union Bank']\n",
      "\n",
      "Cannot be found in 8771 \t: ['https://www.overops.com/wp-content/uploads/2020/06/expedia-logo.png', 'https://www.overops.com/wp-content/uploads/2020/06/gap.png']\n",
      "\n",
      "Cannot be found in 8774 \t: ['BT']\n",
      "\n"
     ]
    },
    {
     "name": "stderr",
     "output_type": "stream",
     "text": [
      "1629it [01:45, 22.27it/s]"
     ]
    },
    {
     "name": "stdout",
     "output_type": "stream",
     "text": [
      "Cannot be found in 8775 \t: ['Cox Automotive']\n",
      "\n",
      "Cannot be found in 8776 \t: ['Empowered', 'Aflac']\n",
      "\n",
      "Cannot be found in 8778 \t: ['Fuze']\n",
      "\n",
      "Cannot be found in 8779 \t: ['Paga']\n",
      "\n"
     ]
    },
    {
     "name": "stderr",
     "output_type": "stream",
     "text": [
      "1637it [01:46, 26.12it/s]"
     ]
    },
    {
     "name": "stdout",
     "output_type": "stream",
     "text": [
      "Cannot be found in 8780 \t: ['Pet Circle']\n",
      "\n",
      "Cannot be found in 8791 \t: ['Amway']\n",
      "\n",
      "Cannot be found in 8796 \t: ['CONTI']\n",
      "\n",
      "Cannot be found in 8798 \t: ['Cummins Inc.']\n",
      "\n",
      "Cannot be found in 8803 \t: ['DNV GL']\n",
      "\n",
      "Cannot be found in 8810 \t: ['FiduciaryVest']\n",
      "\n",
      "Cannot be found in 8811 \t: ['Fluor']\n",
      "\n",
      "Cannot be found in 8821 \t: ['Johns Hopkins']\n",
      "\n",
      "Cannot be found in 8828 \t: ['Kinder Morgan']\n",
      "\n"
     ]
    },
    {
     "name": "stderr",
     "output_type": "stream",
     "text": [
      "1646it [01:46, 31.87it/s]"
     ]
    },
    {
     "name": "stdout",
     "output_type": "stream",
     "text": [
      "Cannot be found in 8832 \t: ['Cornell University']\n",
      "\n",
      "Cannot be found in 8833 \t: ['Lockheed Martin']\n",
      "\n",
      "Cannot be found in 8836 \t: ['Merck']\n",
      "\n",
      "Cannot be found in 8839 \t: ['National Grid UK']\n",
      "\n",
      "Cannot be found in 8847 \t: ['Petrobras']\n",
      "\n",
      "Cannot be found in 8857 \t: ['Sinopec']\n",
      "\n",
      "Cannot be found in 8861 \t: ['Thales']\n",
      "\n",
      "Cannot be found in 8866 \t: ['Unilever']\n",
      "\n"
     ]
    },
    {
     "name": "stderr",
     "output_type": "stream",
     "text": [
      "1653it [01:46, 25.68it/s]"
     ]
    },
    {
     "name": "stdout",
     "output_type": "stream",
     "text": [
      "Cannot be found in 8881 \t: ['Bryant University', 'Brunel Business School (UK', 'Cambridge University (UK)', 'Cardiff University (UK)', 'Columbia University', 'Cornell University', 'Cranfield University', 'George Mason University', 'Georgia Institute of Technology', 'Georgia State University', 'Harvard College', 'Harvard School of Public Health', 'Hong Kong Polytechnic University', 'Hyogo Pref. Inst of Pub Health (Japan)', 'Imperial College London (UK)', 'Indiana State University', 'International Christian University (Japan)', 'Institute Tecnológico y Estudios', 'Superiores de Monterrey', 'Kansas State University', 'Kochi Medical School (Japan)', 'Liverpool Business School (UK)', 'London Business School (the UK)', 'London School of Economics (UK)', 'MIT', 'NARO - Division of Upland Farming (Japan)', 'National Institute of Health Science', '(Japan)', 'National Institute of Infectious', 'Disease (Japan)', 'New Mexico State University', 'North Carolina Central University', 'Ohio State University', 'Panamerican School of Agriculture', 'Penn State University', 'Princeton', 'Queensland University of Technology', 'Rochester Institute of Technology', 'Stanford', 'Texas A&M University', 'University of Alberta (Canada)', 'University of Buenos Aires', 'University of California at Berkeley', 'University of Cambridge', 'Judge Business School (UK)', 'University of Canberra (Australia)', 'University of Central Florida', 'University of Chicago', 'University Federal de Rio De Janeiro', 'University of Illinois at Urbana-', 'Champagne', 'University of Marketing and Dist. Sciences (Japan)', 'University of Maryland', 'University of Michigan', 'University of New South Wales', 'Universite du Quebec a Rimouski', 'University of Texas – Austin', 'University of Tokyo', 'University of Twente (Netherlands)', 'University of Vermont', 'University of Western Ontario –', 'Richard Ivey School of Business', 'Virginia Commonwealth University', 'Virginia Tech', 'University of Wisconsin', 'Warwick Business School (UK)', 'Wharton School of Business', 'Yale School of Management', 'ADCO', 'Anadarko Petroleum', 'BHP', 'BP', 'Blade Energy', 'Cairn Energy', 'CDX Gas', 'Cinergy', 'Conoco', 'Dana Petroleum', 'Dubai Petroleum', 'Duke Energy', 'Eni', 'ExxonMobil', 'Fluor Daniel', 'GASCO', 'IHS Energy', 'Kuwait Petroleum Corporation', 'National Oilwell Varco', 'NDC', 'Nexen Petroleum', 'NIPSCO', 'RiskAdvisory (Canada)', 'PDO', 'Petrobras (Brasil)', 'PetroCanada', 'PetroSA', 'Phillips Petroleum', 'Qatar Petroleum', 'RasGas', 'Saudi Aramco', 'Schlumberger', 'Shell', 'StatOil', 'Teikoku Oil Co, Ltd. (Japan)', 'Unocal', 'ZADCO', 'CE Bermuda Insurance Co. Ltd.', 'ACE USA', 'AEGIS Insurance Services, Inc', 'Aetna Chile Seguros de Vida', 'AFLAC', 'Allianz Insurance Company', 'Allstate Insurance Company', 'American Re-Insurance Company', 'American Family Insurance', 'Aon Non-Marine Reinsurance Ltd', 'Aon Re Ireland', 'Aon Risk Services Japan Ltd.', 'Arab-Malaysian Assurance Berhad (Malaysia)', 'Arkwright Mutual Insurance', 'Aspinall & Associates', 'Chaucer Insurance Plc (UK)', 'C.G.U. Insurance S.A. (South Africa)', 'CNA Reinsurance Europe Ltd', 'Colonial Insurance (Bermuda)', 'Erc Frankona Reinsurance AS', 'General Reinsurance', 'G.I. Actuarial (UK)', 'ING Reinsurance Co Intl Ltd (Ireland)', 'Insurance Corporation of Barbados (Barbados)', 'Kemper Insurance', 'K.L.P. Insurance (Norway)', 'PMA Re', 'London Life & Casualty', 'Manulife Financial', 'Maritime Life Insurance', 'MMI Insurance (Australia)', 'NAC Reinsurance', 'National Grange Mutual Ins. Co', 'New York Life', 'No. Carolina Dept of Insurance', 'Northwestern MutualLife', 'Partner Reinsurance Company', 'Pearl Assurance Plc (UK)', 'Penn National Insurance Co.', 'Progressive', 'Renaissance Reinsurance', 'St. Paul Reinsurance Co. Ltd', \"Standard & Poor's Insurance\", 'Swiss Reinsurance', 'Texas Builders Insurance, Co.', 'Renaissance Reinsurance', 'Transatlantic Reinsurance Comp (UK)', 'Willis Faber', 'Zurich Insurance Group (Switzerland)', 'Abacus Technology', 'ADM', 'AMD', 'AT&T', 'Bank of America', 'Bankers Trust', 'BC Hydro', 'Bechtel', 'Becton Dickinson', 'Black and Decker', 'Blue Cross Blue Shield of Florida', 'Boeing', 'Bombardier', 'Borden Foods Co.', 'Borg Warner', 'Bristol-Myers Squibb', 'Center for Disease Control', 'Centre for Traffic and Transport', 'Chase Manhattan Bank', 'Citibank', 'Coca-Cola', 'Colgate Palmolive', 'Coopers & Lybrand', 'Corning', 'Corus', 'Cummins Engine Corp.', 'CVRD Brasil', 'Deloitte Tohmatsu Corp. Finance Co. (Japan)', 'Disney', 'Dow Chemical', 'Eastman Chemical', 'eBay', \"Employer's Reinsurance Corp.\", 'Ernst & Young', 'Facebook', 'Federal Highway Administration', 'Ford Motor Company', 'Gannett Fleming', 'Gap', 'GEICO', 'General Electric', 'Harley-Davidson', 'Hatch Associates', 'Her Majesty’s Prison Service (UK)', 'Hewlett-Packard', 'Hitachi', 'Honeywell International', 'Hospital Clinic Barcelona', 'Hughes Aircraft', 'IBM', 'Impex Corporation (Japan)', 'ING - Equitable Life', 'Istria Ltd', 'ITESO (Guadalajara, México)', 'Japan Food Research Labs (Japan)', 'John Deere', 'Johnson & Johnson', 'Katrina Disaster Response Center', 'Kennecott Utah Copper', 'Kirin Brewery Company, Ltd. (Japan)', 'Logion (Netherlands)', 'Los Alamos National Laboratories', 'Louis Berger Group', 'Lucent Technologies', 'Marsh Japan Inc.', 'McKinsey & Co.', 'Met-Mex Peñoles (Mexico)', 'Mettler Consulting', 'Mercantile Co. Ltd (Japan)', 'Merck', 'Microsoft’s Treasury Department', 'Mitsubishi Heavy Industries Ltd. (Japan)', 'NASA', 'National Reconnaissance Office Cost', 'Group (Virginia)', 'New Balance Athletic Shoe', 'Northrop Grumman', 'Ontario Hydro', 'Oracle', 'Owens Corning', 'Pantektor AB', 'Pareto Solutions', 'PepsiCo', 'PCA Life (Japan)', 'Pfizer', 'Post Denmark', 'Procter & Gamble', 'Raytheon', 'SAIC', 'Sara Lee', 'Shimadzu Corporation', 'Starbucks', 'Sumisho Electronics Co., Ltd. (Japan)', 'Sun Life Reinsurance Group', 'Society of Actuaries / Casualty Actuary Society', 'TAP Pharmaceuticals', 'Thales', 'Tillinghast Towers & Perrin', 'Toyota', 'Triangle Economic   Research', 'TRW', 'TVA (Tennessee Valley Authority)', 'UK Ministry of Defence', 'Unilever', 'US Dept. of Agriculture', 'US Army Corps of Engineers', 'US Steel', 'Verizon', 'Western Australia Department of Agriculture', 'Wal-Mart Stores', 'Westinghouse', 'The World Bank', 'World Conservation Union', 'Whirlpool', 'Xerox', '3M', 'Aetna', 'BP Amoco', 'Atlantic Richfield', 'BHP', 'Capital One', 'Centers for Disease Control', 'Citigroup', 'Conoco', 'Eli Lilly', 'FirstEnergy', 'Ford Motors', 'General Dynamics', 'General Motors', 'Georgia Pacific', 'Lockheed Martin', 'Marathon Oil', 'Merck & Co.', 'Motorola', 'NationsBank', 'Nokia', 'Northwest Airlines', 'Pennzoil', 'Prudential', 'Royal Bank of Canada', 'Swiss Re', 'Texas Instruments', 'US Bancorp', 'VISA International']\n",
      "\n",
      "Cannot be found in 8883 \t: ['NICE BUILDERS, INC.']\n",
      "\n",
      "Cannot be found in 8884 \t: ['UNIVERSAL CORPORATION']\n",
      "\n",
      "Cannot be found in 8886 \t: ['DYNAMIC AVIATION GROUP, INC']\n",
      "\n",
      "Cannot be found in 8887 \t: ['VIRGINIA CARDIOVASCULAR CONSULTANTS, P.C.']\n",
      "\n",
      "Cannot be found in 8888 \t: ['THE TOBACCO COMPANY RESTAURANTS']\n",
      "\n"
     ]
    },
    {
     "name": "stderr",
     "output_type": "stream",
     "text": [
      "1659it [01:46, 23.79it/s]"
     ]
    },
    {
     "name": "stdout",
     "output_type": "stream",
     "text": [
      "Cannot be found in 8889 \t: ['AN ACHIEVABLE DREAM']\n",
      "\n",
      "Cannot be found in 8890 \t: ['LAWSON ENTERPRISES']\n",
      "\n",
      "Cannot be found in 8904 \t: ['SPECTRA VENUE MANAGEMENT']\n",
      "\n",
      "Cannot be found in 8905 \t: ['HIRSCHLER FLEISCHER LAW']\n",
      "\n",
      "Cannot be found in 8906 \t: ['KNIFECENTER INC.']\n",
      "\n"
     ]
    },
    {
     "name": "stderr",
     "output_type": "stream",
     "text": [
      "1669it [01:47, 33.68it/s]"
     ]
    },
    {
     "name": "stdout",
     "output_type": "stream",
     "text": [
      "Cannot be found in 8907 \t: ['MELLOW MUSHROOM PIZZA BAKERS']\n",
      "\n",
      "Cannot be found in 8908 \t: ['https://piwik.pro/wp-content/uploads/2020/03/logo_hp.svg', 'https://piwik.pro/wp-content/uploads/2020/03/logo_ec.svg', 'https://piwik.pro/wp-content/uploads/2020/03/logo_accenture.svg', 'https://piwik.pro/wp-content/uploads/2020/03/logo_wurth.png', 'https://piwik.pro/wp-content/uploads/2020/03/logo_greiner.svg', 'https://piwik.pro/wp-content/uploads/2020/03/logo_svc.png', 'https://piwik.pro/wp-content/uploads/2020/03/credit-agricole.svg', 'https://piwik.pro/wp-content/uploads/2020/03/logo_xs4all.svg']\n",
      "\n",
      "Cannot be found in 8909 \t: ['AUSSDA', 'Three Palms Media']\n",
      "\n",
      "Cannot be found in 8912 \t: ['Acrolinx']\n",
      "\n",
      "Cannot be found in 8913 \t: ['The Austrian Social Science Data Archive']\n",
      "\n",
      "Cannot be found in 8914 \t: ['Candid']\n",
      "\n",
      "Cannot be found in 8915 \t: ['the Government of the Netherlands.']\n",
      "\n",
      "Cannot be found in 8916 \t: ['Greiner AG']\n",
      "\n",
      "Cannot be found in 8917 \t: ['HDI Global SE']\n",
      "\n",
      "Cannot be found in 8919 \t: ['SimpleSite']\n",
      "\n",
      "Cannot be found in 8920 \t: ['SVC - Sozialversicherungs- Chipkarten Betriebs- und Errichtungsgesellschaft m.b.H.']\n",
      "\n"
     ]
    },
    {
     "name": "stderr",
     "output_type": "stream",
     "text": [
      "1674it [01:47, 36.54it/s]"
     ]
    },
    {
     "name": "stdout",
     "output_type": "stream",
     "text": [
      "Cannot be found in 8921 \t: ['TecAlliance GmbH']\n",
      "\n",
      "Cannot be found in 8922 \t: ['The Anne Frank House']\n",
      "\n",
      "Cannot be found in 8924 \t: ['XS4ALL']\n",
      "\n",
      "Cannot be found in 8925 \t: ['J.B. Hunt']\n",
      "\n",
      "Cannot be found in 9026 \t: ['Aggreko']\n",
      "\n"
     ]
    },
    {
     "name": "stderr",
     "output_type": "stream",
     "text": [
      "1678it [01:47, 25.07it/s]"
     ]
    },
    {
     "name": "stdout",
     "output_type": "stream",
     "text": [
      "Cannot be found in 9027 \t: ['Aramark']\n",
      "\n",
      "Cannot be found in 9028 \t: ['AXA Belgium']\n",
      "\n",
      "Cannot be found in 9029 \t: ['Bajaj Auto India']\n",
      "\n"
     ]
    },
    {
     "name": "stderr",
     "output_type": "stream",
     "text": [
      "1682it [01:47, 20.11it/s]"
     ]
    },
    {
     "name": "stdout",
     "output_type": "stream",
     "text": [
      "Cannot be found in 9030 \t: ['Brüggen']\n",
      "\n",
      "Cannot be found in 9031 \t: ['Harman']\n",
      "\n",
      "Cannot be found in 9032 \t: ['Direct Relief']\n",
      "\n",
      "Cannot be found in 9033 \t: ['Generali Switzerland']\n",
      "\n"
     ]
    },
    {
     "name": "stderr",
     "output_type": "stream",
     "text": [
      "1685it [01:48, 18.12it/s]"
     ]
    },
    {
     "name": "stdout",
     "output_type": "stream",
     "text": [
      "Cannot be found in 9034 \t: ['HDFC Life']\n",
      "\n",
      "Cannot be found in 9035 \t: ['PwC']\n",
      "\n",
      "Cannot be found in 9036 \t: ['NSW Health']\n",
      "\n"
     ]
    },
    {
     "name": "stderr",
     "output_type": "stream",
     "text": [
      "1688it [01:48, 16.79it/s]"
     ]
    },
    {
     "name": "stdout",
     "output_type": "stream",
     "text": [
      "Cannot be found in 9037 \t: ['BT Financial Group']\n",
      "\n",
      "Cannot be found in 9038 \t: ['Rackspace Technology']\n",
      "\n",
      "Cannot be found in 9039 \t: ['Samsung Electronics UK (SEUK)']\n",
      "\n"
     ]
    },
    {
     "name": "stderr",
     "output_type": "stream",
     "text": [
      "1690it [01:48, 16.00it/s]"
     ]
    },
    {
     "name": "stdout",
     "output_type": "stream",
     "text": [
      "Cannot be found in 9040 \t: ['Samvardhana Motherson Group']\n",
      "\n",
      "Cannot be found in 9041 \t: ['SEGA Games']\n",
      "\n",
      "Cannot be found in 9042 \t: ['ShopperTrak']\n",
      "\n"
     ]
    },
    {
     "name": "stderr",
     "output_type": "stream",
     "text": [
      "1694it [01:48, 14.73it/s]"
     ]
    },
    {
     "name": "stdout",
     "output_type": "stream",
     "text": [
      "Cannot be found in 9043 \t: ['Cwm Taf University Health Board']\n",
      "\n",
      "Cannot be found in 9044 \t: ['East Kent Hospitals University NHS Foundation Trust']\n",
      "\n",
      "Cannot be found in 9045 \t: ['Vancouver International Airport (YVR)']\n",
      "\n"
     ]
    },
    {
     "name": "stderr",
     "output_type": "stream",
     "text": [
      "1696it [01:48, 14.21it/s]"
     ]
    },
    {
     "name": "stdout",
     "output_type": "stream",
     "text": [
      "Cannot be found in 9046 \t: ['VINCI Energies']\n",
      "\n",
      "Cannot be found in 9047 \t: ['Western Power Australia']\n",
      "\n"
     ]
    },
    {
     "name": "stderr",
     "output_type": "stream",
     "text": [
      "1698it [01:49, 12.96it/s]"
     ]
    },
    {
     "name": "stdout",
     "output_type": "stream",
     "text": [
      "Cannot be found in 9050 \t: ['HSBC', 'iaS', 'Airbus', 'https://qlik.imgix.net//us/-/media/images/global-us/customer-logos/white-logos/lloyds_white.png']\n",
      "\n",
      "Cannot be found in 9051 \t: ['RSA']\n",
      "\n",
      "Cannot be found in 9052 \t: ['Calabrio Teleopti WFM']\n",
      "\n"
     ]
    },
    {
     "name": "stderr",
     "output_type": "stream",
     "text": [
      "1700it [01:49,  6.89it/s]"
     ]
    },
    {
     "name": "stdout",
     "output_type": "stream",
     "text": [
      "Cannot be found in 9068 \t: ['https://riskfocus.com/wp-content/uploads/2020/10/confluent-2.svg']\n",
      "\n"
     ]
    },
    {
     "name": "stderr",
     "output_type": "stream",
     "text": [
      "1707it [01:50,  9.32it/s]"
     ]
    },
    {
     "name": "stdout",
     "output_type": "stream",
     "text": [
      "Cannot be found in 9073 \t: ['https://riskfocus.com/wp-content/uploads/2020/09/sema4-logo-pms1.png', 'https://riskfocus.com/wp-content/uploads/2020/10/regtek_2.png', 'https://riskfocus.com/wp-content/uploads/2020/10/td-bank-1.svg', 'https://riskfocus.com/wp-content/uploads/2020/09/instinet-logo.jpg', 'https://riskfocus.com/wp-content/uploads/2020/10/tudor-group.svg', 'https://riskfocus.com/wp-content/uploads/2020/10/dtcc-1.svg']\n",
      "\n",
      "Cannot be found in 9077 \t: ['http://rumphandassociates.com/wp-content/uploads/2020/09/untitled.png', 'http://rumphandassociates.com/wp-content/uploads/2020/09/untitled.png', 'http://rumphandassociates.com/wp-content/uploads/2020/09/untitled-2.png', 'http://rumphandassociates.com/wp-content/uploads/2020/09/untitled-1.png', 'http://rumphandassociates.com/wp-content/uploads/2020/09/untitled-3.png']\n",
      "\n",
      "Cannot be found in 9082 \t: ['Bowmark']\n",
      "\n",
      "Cannot be found in 9083 \t: ['International SOS']\n",
      "\n",
      "Cannot be found in 9084 \t: ['Industry Acting on Microfibres (IAM)', 'Foodservice Packaging Association (FPA)']\n",
      "\n",
      "Cannot be found in 9085 \t: ['Johnson Matthey']\n",
      "\n",
      "Cannot be found in 9102 \t: ['Big Yellow']\n",
      "\n"
     ]
    },
    {
     "name": "stderr",
     "output_type": "stream",
     "text": [
      "1711it [01:50, 12.45it/s]"
     ]
    },
    {
     "name": "stdout",
     "output_type": "stream",
     "text": [
      "Cannot be found in 9103 \t: ['Good Energy']\n",
      "\n",
      "Cannot be found in 9104 \t: ['High Street Bank']\n",
      "\n",
      "Cannot be found in 9106 \t: ['INRG Solar Ltd']\n",
      "\n",
      "Cannot be found in 9107 \t: ['ReFLEX Orkney']\n",
      "\n",
      "Cannot be found in 9108 \t: ['Social Energy']\n",
      "\n",
      "Cannot be found in 9110 \t: ['Total Gas & Power']\n",
      "\n",
      "Cannot be found in 9111 \t: ['Travelodge']\n",
      "\n"
     ]
    },
    {
     "name": "stderr",
     "output_type": "stream",
     "text": [
      "1719it [01:50, 19.06it/s]"
     ]
    },
    {
     "name": "stdout",
     "output_type": "stream",
     "text": [
      "Cannot be found in 9112 \t: ['Virgin Media']\n",
      "\n",
      "Cannot be found in 9115 \t: ['Ahead Partnership']\n",
      "\n",
      "Cannot be found in 9116 \t: ['Bournemouth Borough Council']\n",
      "\n",
      "Cannot be found in 9117 \t: ['Seymour Research CCG']\n",
      "\n",
      "Cannot be found in 9118 \t: ['Skills for Care (SFC)']\n",
      "\n",
      "Cannot be found in 9119 \t: ['Circadian Leisure']\n",
      "\n",
      "Cannot be found in 9120 \t: ['Sport Wales']\n",
      "\n"
     ]
    },
    {
     "name": "stderr",
     "output_type": "stream",
     "text": [
      "1726it [01:51, 23.43it/s]"
     ]
    },
    {
     "name": "stdout",
     "output_type": "stream",
     "text": [
      "Cannot be found in 9121 \t: ['Leeds Metropolitan University (Leeds Met)']\n",
      "\n",
      "Cannot be found in 9122 \t: ['The British Holiday & Home Parks Association']\n",
      "\n",
      "Cannot be found in 9123 \t: ['Frederick Community College']\n",
      "\n",
      "Cannot be found in 9127 \t: ['Service Science', 'Frenkel Topping']\n",
      "\n",
      "Cannot be found in 9128 \t: ['Brandon Trust']\n",
      "\n",
      "Cannot be found in 9129 \t: ['The Youth Sport Trust']\n",
      "\n",
      "Cannot be found in 9130 \t: ['Children’s Commissioner for Wales']\n",
      "\n"
     ]
    },
    {
     "name": "stderr",
     "output_type": "stream",
     "text": [
      "1734it [01:51, 27.71it/s]"
     ]
    },
    {
     "name": "stdout",
     "output_type": "stream",
     "text": [
      "Cannot be found in 9131 \t: ['CJM Research']\n",
      "\n",
      "Cannot be found in 9132 \t: ['CSM Live']\n",
      "\n",
      "Cannot be found in 9133 \t: ['NHS']\n",
      "\n",
      "Cannot be found in 9134 \t: ['The Health and Safety Executive (HSE)']\n",
      "\n",
      "Cannot be found in 9135 \t: ['Leeds Federated Housing Association']\n",
      "\n",
      "Cannot be found in 9136 \t: ['The Research Box']\n",
      "\n",
      "Cannot be found in 9137 \t: ['Service Insights Ltd']\n",
      "\n"
     ]
    },
    {
     "name": "stderr",
     "output_type": "stream",
     "text": [
      "1746it [01:51, 41.23it/s]"
     ]
    },
    {
     "name": "stdout",
     "output_type": "stream",
     "text": [
      "Cannot be found in 9138 \t: ['UCL']\n",
      "\n",
      "Cannot be found in 9147 \t: ['aig', 'citigroup', 'experian', 'GE Appliances', 'Juniper Networks', 'santander', 'BAE Systems', 'Iron Mountain', 'Molson Coors', 'sonifi', 'unilever', 'sabic']\n",
      "\n",
      "Cannot be found in 9150 \t: ['Forbes Marshall']\n",
      "\n",
      "Cannot be found in 9151 \t: ['TIBCO']\n",
      "\n",
      "Cannot be found in 9152 \t: ['T Hrvatski Telekom']\n",
      "\n",
      "Cannot be found in 9153 \t: ['ATD']\n",
      "\n",
      "Cannot be found in 9154 \t: ['Overstock.com']\n",
      "\n",
      "Cannot be found in 9155 \t: ['IMP Group']\n",
      "\n",
      "Cannot be found in 9156 \t: ['Rediff.com']\n",
      "\n",
      "Cannot be found in 9157 \t: ['Helen of Troy']\n",
      "\n",
      "Cannot be found in 9158 \t: ['LG Electronics']\n",
      "\n",
      "Cannot be found in 9159 \t: ['Korea Telecom']\n",
      "\n",
      "Cannot be found in 9166 \t: ['Dormitory Authority of the State of New York', 'County of Bergen State of New Jersey', 'Pennsylvania State University', 'Kansas Independent College Finance Authority', 'State of Oregon', 'University of Connecticut', 'State of Florida', 'Illinois Finance Authority', 'New York City Transitional Finance Authority', 'State of California', 'Massachusetts School Building Authority']\n",
      "\n",
      "Cannot be found in 9167 \t: ['The City of New York', 'The Metropolitan Parks and Recreation District', 'The City of Dallas, Texas']\n",
      "\n"
     ]
    },
    {
     "name": "stderr",
     "output_type": "stream",
     "text": [
      "1753it [01:51, 44.00it/s]"
     ]
    },
    {
     "name": "stdout",
     "output_type": "stream",
     "text": [
      "Cannot be found in 9168 \t: ['Santa Clara County Financing Authority', 'North Carolina Medical Care Commission', 'Michigan State Hospital Finance Authority', 'Maine Health and Higher Education Facilities Authority', 'Holmes (Florida) County Hospital Corporation', 'Oak Valley (California) Hospital District', 'Deaf Smith County Hospital District, Texas']\n",
      "\n",
      "Cannot be found in 9169 \t: ['Triborough Bridge and Tunnel Authority', 'The Port Authority of New York and New Jersey', 'City of St. Louis', 'Metropolitan Washington Airports Authority', 'City of Philadelphia, Pennsylvania', 'Metropolitan Transportation Authority, New York', 'New Jersey Transportation Trust Fund', 'Pennsylvania Turnpike Commission']\n",
      "\n",
      "Cannot be found in 9170 \t: ['City of Baltimore, Maryland', 'New York City Municipal Water Finance Authority', 'City of Bay City, Michigan', 'Massachusetts Water Resource Authority', 'State of California Department of Water Resources', 'St. Louis Metropolitan Sewer District']\n",
      "\n",
      "Cannot be found in 9173 \t: ['Maidenhead Rugby Club', 'Aylesbury Grammar School', 'Milton Keynes – MK Geek Nigh']\n",
      "\n",
      "Cannot be found in 9174 \t: ['Glen Dimplex']\n",
      "\n",
      "Cannot be found in 9176 \t: ['Abel & Cole']\n",
      "\n"
     ]
    },
    {
     "name": "stderr",
     "output_type": "stream",
     "text": [
      "1758it [01:51, 34.30it/s]"
     ]
    },
    {
     "name": "stdout",
     "output_type": "stream",
     "text": [
      "Cannot be found in 9177 \t: ['easyJet']\n",
      "\n",
      "Cannot be found in 9178 \t: ['NTT']\n",
      "\n",
      "Cannot be found in 9179 \t: ['Mercedes F1']\n",
      "\n",
      "Cannot be found in 9180 \t: ['Michael Kors']\n",
      "\n",
      "Cannot be found in 9181 \t: ['Santander']\n",
      "\n"
     ]
    },
    {
     "name": "stderr",
     "output_type": "stream",
     "text": [
      "1773it [01:52, 40.00it/s]"
     ]
    },
    {
     "name": "stdout",
     "output_type": "stream",
     "text": [
      "Cannot be found in 9182 \t: ['IGT', 'Northgate Public Services', 'Capita', 'Trimble Real Estate & Workplace', 'PEAC Finance UK', 'Lotus Cars', 'Crab Creative', 'EMEA', 'Digital Cinema Media', 'Michael Kors', 'Cognizant', '20 20 Technologies', 'AAC Services Ltd', 'Abbey National (now Santander)', 'Affiniti', 'Agrii Intelligence', 'Aircom International', 'Airtube Technologies', 'Anterec', 'Applabs (now part of CSC)', 'US Army', 'Ascendant Technologies (AVNET)', 'Bluesource', 'Bounty', 'Broadridge City Networks', 'Cache', 'Capita CS', 'CASS Business School', 'Citrix', 'CNL Software', 'Corporate Project Solutions', 'Creatormail', 'Dimensional Thinking', 'Digital Remarketing Solutions', 'Ebay', 'EE', 'EMC']\n",
      "\n",
      "Cannot be found in 9183 \t: ['F4F Agriculture', 'Fact-Finder', 'Fanstasy League', 'Feelunique.com', 'Future Systems', 'First Data Merchants', 'Gencon', 'GFK NOP', 'GS1', 'Hill + Knowlton Strategies', 'Hi-Tech Associates', 'HolidayTaxis.com', 'HostelBookers', 'HSBC', 'IBM', 'Indra', 'Just-Eat.co.uk', 'Kantar ITP', 'Kantar Media', 'Kuoni', 'Lancashire County Council', 'Leopard Business Solutions', 'Lexmark UK', 'Lorien Connect (TTI Global)', 'MBA IT', 'MintTwist', 'Morse Group', 'Network Rail', 'NC London NHS', 'Nice Group', 'Play.com (Rakuten)', 'PRA Solutions', 'Quantix', 'Quacquarelli Symonds (QS)', 'Ramtech Electronics', 'Reach Local', 'Red Prairie', 'Reich Insurance', 'serCo']\n",
      "\n",
      "Cannot be found in 9191 \t: ['gm', 'Pantaya']\n",
      "\n",
      "Cannot be found in 9192 \t: ['AAA Insurance']\n",
      "\n",
      "Cannot be found in 9193 \t: ['Abuelita']\n",
      "\n",
      "Cannot be found in 9194 \t: ['ALDI']\n",
      "\n",
      "Cannot be found in 9195 \t: ['Clorox']\n",
      "\n",
      "Cannot be found in 9196 \t: ['Covered California']\n",
      "\n",
      "Cannot be found in 9197 \t: ['Estrella Jalisco']\n",
      "\n",
      "Cannot be found in 9198 \t: ['Flonase']\n",
      "\n",
      "Cannot be found in 9199 \t: ['Malibu Black']\n",
      "\n",
      "Cannot be found in 9200 \t: ['MasterCard']\n",
      "\n",
      "Cannot be found in 9201 \t: ['Pine Sol']\n",
      "\n"
     ]
    },
    {
     "name": "stderr",
     "output_type": "stream",
     "text": [
      "1780it [01:52, 45.94it/s]"
     ]
    },
    {
     "name": "stdout",
     "output_type": "stream",
     "text": [
      "Cannot be found in 9202 \t: ['Spectrum']\n",
      "\n",
      "Cannot be found in 9226 \t: ['Caravan Health']\n",
      "\n",
      "Cannot be found in 9227 \t: ['CareCentrix']\n",
      "\n",
      "Cannot be found in 9228 \t: ['Community Health Innovations']\n",
      "\n",
      "Cannot be found in 9229 \t: ['Franciscan Missionaries of Our Lady Health System']\n",
      "\n",
      "Cannot be found in 9231 \t: ['Mary Bird Perkins – Our Lady of the Lake Cancer Center']\n",
      "\n",
      "Cannot be found in 9232 \t: ['Penn State Health']\n",
      "\n",
      "Cannot be found in 9233 \t: ['Robert Wood Johnson Foundation']\n",
      "\n",
      "Cannot be found in 9235 \t: ['allscripts', 'aetion', '3m', 'Central Logic', 'hanys', 'Geisinger', 'hlth', 'Intel', 'jefferson', 'Invitae', 'Onduo', 'Omada', 'multicare', 'Lumeris', 'Livongo', 'Landmark', 'VCU Health']\n",
      "\n",
      "Cannot be found in 9239 \t: ['Akinika']\n",
      "\n",
      "Cannot be found in 9240 \t: ['NS&I and Atos']\n",
      "\n",
      "Cannot be found in 9241 \t: ['Holmes Place']\n",
      "\n"
     ]
    },
    {
     "name": "stderr",
     "output_type": "stream",
     "text": [
      "1786it [01:52, 45.23it/s]"
     ]
    },
    {
     "name": "stdout",
     "output_type": "stream",
     "text": [
      "Cannot be found in 9242 \t: ['JBW Judicial Services Group']\n",
      "\n",
      "Cannot be found in 9243 \t: ['F5', 'aws']\n",
      "\n",
      "Cannot be found in 9248 \t: ['SAP', 'DELPHIX', 'Nuix', 'Imprivata', 'NEC', 'EdgeWave', 'uberflip']\n",
      "\n"
     ]
    },
    {
     "name": "stderr",
     "output_type": "stream",
     "text": [
      "1792it [01:52, 29.96it/s]"
     ]
    },
    {
     "name": "stdout",
     "output_type": "stream",
     "text": [
      "Cannot be found in 9252 \t: ['Micro:bit Educational Foundation']\n",
      "\n",
      "Cannot be found in 9253 \t: ['Finnish SGN Group Oy']\n",
      "\n",
      "Cannot be found in 9254 \t: ['Arm']\n",
      "\n",
      "Cannot be found in 9255 \t: ['Speedcast']\n",
      "\n",
      "Cannot be found in 9256 \t: [\"L'Appart Fitness\"]\n",
      "\n"
     ]
    },
    {
     "name": "stderr",
     "output_type": "stream",
     "text": [
      "1797it [01:53, 27.10it/s]"
     ]
    },
    {
     "name": "stdout",
     "output_type": "stream",
     "text": [
      "Cannot be found in 9257 \t: ['Lantmännen']\n",
      "\n",
      "Cannot be found in 9258 \t: ['Nokian Tyres']\n",
      "\n",
      "Cannot be found in 9259 \t: ['Precision']\n",
      "\n",
      "Cannot be found in 9260 \t: ['Riot Games']\n",
      "\n",
      "Cannot be found in 9261 \t: ['Gordonstoun School']\n",
      "\n"
     ]
    },
    {
     "name": "stderr",
     "output_type": "stream",
     "text": [
      "1801it [01:53, 24.83it/s]"
     ]
    },
    {
     "name": "stdout",
     "output_type": "stream",
     "text": [
      "Cannot be found in 9262 \t: ['Immersive Labs']\n",
      "\n",
      "Cannot be found in 9263 \t: ['Biofourmis']\n",
      "\n",
      "Cannot be found in 9264 \t: ['Serum Institute of India Pvt. Ltd (part of Cyrus Poonawalla Group)']\n",
      "\n",
      "Cannot be found in 9265 \t: ['KB SmartSolutions, s.r.o.']\n",
      "\n",
      "Cannot be found in 9266 \t: ['Finnish Shared Network Ltd (SYV)']\n",
      "\n"
     ]
    },
    {
     "name": "stderr",
     "output_type": "stream",
     "text": [
      "1808it [01:53, 23.21it/s]"
     ]
    },
    {
     "name": "stdout",
     "output_type": "stream",
     "text": [
      "Cannot be found in 9267 \t: ['Mitsubishi Electric Corporation']\n",
      "\n",
      "Cannot be found in 9268 \t: ['Lehto Group Plc']\n",
      "\n",
      "Cannot be found in 9269 \t: ['PSA Group']\n",
      "\n",
      "Cannot be found in 9270 \t: ['Elite World Group']\n",
      "\n",
      "Cannot be found in 9271 \t: ['Emirates Islamic Bank']\n",
      "\n"
     ]
    },
    {
     "name": "stderr",
     "output_type": "stream",
     "text": [
      "1811it [01:53, 22.63it/s]"
     ]
    },
    {
     "name": "stdout",
     "output_type": "stream",
     "text": [
      "Cannot be found in 9272 \t: ['PJSC Ukrnafta']\n",
      "\n",
      "Cannot be found in 9273 \t: ['Northern Green Canada']\n",
      "\n",
      "Cannot be found in 9274 \t: ['Iceland']\n",
      "\n",
      "Cannot be found in 9275 \t: ['Wento and Enterprise Investors']\n",
      "\n",
      "Cannot be found in 9276 \t: ['Arm pro bono']\n",
      "\n"
     ]
    },
    {
     "name": "stderr",
     "output_type": "stream",
     "text": [
      "1817it [01:54, 21.89it/s]"
     ]
    },
    {
     "name": "stdout",
     "output_type": "stream",
     "text": [
      "Cannot be found in 9277 \t: ['Dedica Group']\n",
      "\n",
      "Cannot be found in 9278 \t: ['Mothercare']\n",
      "\n",
      "Cannot be found in 9279 \t: ['Crowdcube and Seedrs']\n",
      "\n",
      "Cannot be found in 9280 \t: ['Berenberg and Grant Thornton']\n",
      "\n",
      "Cannot be found in 9281 \t: ['DP Poland plc']\n",
      "\n"
     ]
    },
    {
     "name": "stderr",
     "output_type": "stream",
     "text": [
      "1823it [01:54, 21.83it/s]"
     ]
    },
    {
     "name": "stdout",
     "output_type": "stream",
     "text": [
      "Cannot be found in 9282 \t: ['Urban-Air Port Ltd']\n",
      "\n",
      "Cannot be found in 9283 \t: ['Marks & Spencer Group plc']\n",
      "\n",
      "Cannot be found in 9284 \t: ['wflow.com']\n",
      "\n",
      "Cannot be found in 9285 \t: ['Sponsor Capital']\n",
      "\n",
      "Cannot be found in 9286 \t: ['Seedtag']\n",
      "\n"
     ]
    },
    {
     "name": "stderr",
     "output_type": "stream",
     "text": [
      "1826it [01:54, 21.59it/s]"
     ]
    },
    {
     "name": "stdout",
     "output_type": "stream",
     "text": [
      "Cannot be found in 9287 \t: ['Hamburg Commercial Bank']\n",
      "\n",
      "Cannot be found in 9288 \t: ['Obton']\n",
      "\n",
      "Cannot be found in 9289 \t: ['Jobandtalent']\n",
      "\n",
      "Cannot be found in 9290 \t: ['Terra Firma']\n",
      "\n",
      "Cannot be found in 9291 \t: ['TK Elevator']\n",
      "\n"
     ]
    },
    {
     "name": "stderr",
     "output_type": "stream",
     "text": [
      "1829it [01:54, 21.59it/s]"
     ]
    },
    {
     "name": "stdout",
     "output_type": "stream",
     "text": [
      "Cannot be found in 9292 \t: ['Statkraft']\n",
      "\n"
     ]
    },
    {
     "name": "stderr",
     "output_type": "stream",
     "text": [
      "1830it [01:55, 15.91it/s]"
     ]
    },
    {
     "name": "stdout",
     "output_type": "stream",
     "text": [
      "Cannot be found in 9332 \t: ['vodafone', 'cdc', 'hertz', 'circle', 'mcbride', 'jefferies', 'primary', 'tkmax', 'moneycorp', 'erm', 'groupm', 'imas', 'impilo', 'sage', 'rentify', 'achica', 'investec', 'aa', 'google', 'inflexion', 'centrica', 'novartis', 'grosvenor', 'ingenious', 'electronics', 'eqt', 'netjets', 'corestate', 'chelsfield', 'care', 'stephens', 'CDG', 'burgess', 'cinven', 'trispan', 'hospedia', 'cobham', 'kingfisher', 'cyrus', 'baird', 'heron', 'gan', 'laurel', 'hermes', 'ares', 'triton', 'schindler', 'viacom', 'gaucho', 'specsavers', 'inchcape', 'kelkoo', 'santander', 'genus', 'bluegem', 'intertek', 'grey', 'berkeley', 'clarion', 'omers', 'gmt', 'sky', 'phoenix', 'efront', 'sodexo', 'rileys', 'montagu', 'which', 'bowmark', 'coach', 'lgc', 'Senior', 'first', 'clearwater', 'paypal', 'pearson', 'permira', 'mec', 'crosstree', 'williams', 'ascential', 'Investment Partner', 'cerberus', 'alchemy', 'cbre', 'rutland', 'kaz', 'diageo', 'econet', 'itn', 'merlin', 'tui', 'ox', 'game', 'uniq', 'Keyhaven', 'gilead', 'uniqlo', 'cognita', 'rexam', 'lvmh', 'adaxia', 'helios', 'laird', 'aurora', 'mizuho', 'innocent', 'charterhouse', 'atkins', 'interserve', 'alvis', 'travelex', 'experian', 'hP', 'rightmove', 'pathway', 'mediabrands', 'keller', 'rhone', 'monitor', 'asprey', 'capa', 'avery', 'ennismore', 'voxbone', 'wellcome', 'bluebay', 'zs', 'ashcombe', 'mitie', 'SpaceNK', 'BT', 'bupa', 'barings', 'aol', 'hg', 'octo', 'aurelius', 'bcm', 'iglo', 'hult', 'smiths', 'leO', 'ubs', 'exporta', 'bcg', 'costa', 'greenhill', 'chime', 'Twinnings', 'ibstock', 'bpp', 'greenergy', 'flamingo']\n",
      "\n",
      "Final amount of labels: 2533\n",
      "Number of labels lost because they couldn't be found in the page: 834\n"
     ]
    },
    {
     "name": "stderr",
     "output_type": "stream",
     "text": [
      "\n"
     ]
    }
   ],
   "source": [
    "print(f\"Final amount of labels: {final_amount_of_label}\")\n",
    "print(f\"Number of labels lost because they couldn't be found in the page: {initial_amount_of_label - final_amount_of_label}\")"
   ]
  },
  {
   "cell_type": "code",
   "execution_count": 16,
   "id": "7dc5731b",
   "metadata": {
    "execution": {
     "iopub.execute_input": "2022-03-01T18:34:10.418520Z",
     "iopub.status.busy": "2022-03-01T18:34:10.418022Z",
     "iopub.status.idle": "2022-03-01T18:34:10.425855Z",
     "shell.execute_reply": "2022-03-01T18:34:10.424955Z",
     "shell.execute_reply.started": "2022-03-01T18:34:10.418489Z"
    },
    "tags": []
   },
   "outputs": [
    {
     "name": "stdout",
     "output_type": "stream",
     "text": [
      "Annotations: 2533 | Pages: 1830\n"
     ]
    }
   ],
   "source": [
    "current_annotations = len([y for x in df_positives.dropna(subset=[f'text-{tag}'])[f'text-{tag}'].values for y in x])\n",
    "print(f\"Annotations: {current_annotations} | Pages: {len(df_positives)}\")"
   ]
  },
  {
   "cell_type": "code",
   "execution_count": 19,
   "id": "bb7b1923",
   "metadata": {
    "execution": {
     "iopub.execute_input": "2022-03-01T18:34:56.821346Z",
     "iopub.status.busy": "2022-03-01T18:34:56.821025Z",
     "iopub.status.idle": "2022-03-01T18:34:56.825068Z",
     "shell.execute_reply": "2022-03-01T18:34:56.824375Z",
     "shell.execute_reply.started": "2022-03-01T18:34:56.821314Z"
    },
    "tags": []
   },
   "outputs": [
    {
     "name": "stdout",
     "output_type": "stream",
     "text": [
      "With text and tail the page coverage is: 92.15 %\n"
     ]
    }
   ],
   "source": [
    "print(f\"With text and tail the page coverage is: {100*len(df_positives)/df_positives_initial_len:.2f} %\")"
   ]
  },
  {
   "cell_type": "code",
   "execution_count": 20,
   "id": "f621bac6",
   "metadata": {
    "execution": {
     "iopub.execute_input": "2022-03-01T18:35:01.597529Z",
     "iopub.status.busy": "2022-03-01T18:35:01.597239Z",
     "iopub.status.idle": "2022-03-01T18:35:01.601526Z",
     "shell.execute_reply": "2022-03-01T18:35:01.600482Z",
     "shell.execute_reply.started": "2022-03-01T18:35:01.597497Z"
    },
    "tags": []
   },
   "outputs": [],
   "source": [
    "# print(f\"With text, tail and xpath_content the annotation coverage is: {100*11500/12085:.2f} %\") # outdated"
   ]
  },
  {
   "cell_type": "markdown",
   "id": "ebed7ddf",
   "metadata": {},
   "source": [
    "## Debug (find why annotation could not be found in html):"
   ]
  },
  {
   "cell_type": "code",
   "execution_count": 21,
   "id": "d4902920",
   "metadata": {
    "execution": {
     "iopub.execute_input": "2022-03-01T18:35:01.915798Z",
     "iopub.status.busy": "2022-03-01T18:35:01.915527Z",
     "iopub.status.idle": "2022-03-01T18:35:01.919065Z",
     "shell.execute_reply": "2022-03-01T18:35:01.918286Z",
     "shell.execute_reply.started": "2022-03-01T18:35:01.915768Z"
    },
    "tags": []
   },
   "outputs": [],
   "source": [
    "# row = df.iloc[3143]\n",
    "# print(row)\n",
    "# clean_dom_tree = get_dom_tree(row['html'], 'website')\n",
    "# print()\n",
    "# for node in clean_dom_tree.iter():\n",
    "#     for html_tag, xpath_content in node.items():\n",
    "#         print('text:', node.text)\n",
    "#         print('tail:', node.tail)\n",
    "#         print('xpath:', xpath_content)        "
   ]
  },
  {
   "cell_type": "code",
   "execution_count": 22,
   "id": "eda47e28",
   "metadata": {
    "execution": {
     "iopub.execute_input": "2022-03-01T18:35:02.056913Z",
     "iopub.status.busy": "2022-03-01T18:35:02.056653Z",
     "iopub.status.idle": "2022-03-01T18:35:02.060112Z",
     "shell.execute_reply": "2022-03-01T18:35:02.059364Z",
     "shell.execute_reply.started": "2022-03-01T18:35:02.056886Z"
    },
    "tags": []
   },
   "outputs": [],
   "source": [
    "# html = row['html']"
   ]
  },
  {
   "cell_type": "markdown",
   "id": "fb0524ec",
   "metadata": {},
   "source": [
    "# Remove image link annotations"
   ]
  },
  {
   "cell_type": "code",
   "execution_count": 23,
   "id": "eddb0db5",
   "metadata": {
    "execution": {
     "iopub.execute_input": "2022-03-01T18:36:28.618957Z",
     "iopub.status.busy": "2022-03-01T18:36:28.618551Z",
     "iopub.status.idle": "2022-03-01T18:36:28.626833Z",
     "shell.execute_reply": "2022-03-01T18:36:28.626122Z",
     "shell.execute_reply.started": "2022-03-01T18:36:28.618931Z"
    },
    "tags": []
   },
   "outputs": [
    {
     "name": "stdout",
     "output_type": "stream",
     "text": [
      "Annotations: 2533 | Pages: 1830\n"
     ]
    }
   ],
   "source": [
    "current_annotations = len([y for x in df_positives.dropna(subset=[f'text-{tag}'])[f'text-{tag}'].values for y in x])\n",
    "print(f\"Annotations: {current_annotations} | Pages: {len(df_positives)}\")"
   ]
  },
  {
   "cell_type": "code",
   "execution_count": 24,
   "id": "80bfee30",
   "metadata": {
    "execution": {
     "iopub.execute_input": "2022-03-01T18:36:30.328511Z",
     "iopub.status.busy": "2022-03-01T18:36:30.327956Z",
     "iopub.status.idle": "2022-03-01T18:36:30.335205Z",
     "shell.execute_reply": "2022-03-01T18:36:30.334530Z",
     "shell.execute_reply.started": "2022-03-01T18:36:30.328477Z"
    },
    "tags": []
   },
   "outputs": [],
   "source": [
    "df_positives[f'text-{tag}'] = df_positives[f'text-{tag}'].dropna().apply(lambda annotations: [annotation  for annotation in annotations if 'http' not in annotation])"
   ]
  },
  {
   "cell_type": "code",
   "execution_count": 25,
   "id": "41c4e663",
   "metadata": {
    "execution": {
     "iopub.execute_input": "2022-03-01T18:36:30.918515Z",
     "iopub.status.busy": "2022-03-01T18:36:30.918247Z",
     "iopub.status.idle": "2022-03-01T18:36:30.925886Z",
     "shell.execute_reply": "2022-03-01T18:36:30.925296Z",
     "shell.execute_reply.started": "2022-03-01T18:36:30.918485Z"
    },
    "tags": []
   },
   "outputs": [
    {
     "name": "stdout",
     "output_type": "stream",
     "text": [
      "Annotations: 2533 | Pages: 1830\n"
     ]
    }
   ],
   "source": [
    "current_annotations = len([y for x in df_positives.dropna(subset=[f'text-{tag}'])[f'text-{tag}'].values for y in x])\n",
    "print(f\"Annotations: {current_annotations} | Pages: {len(df_positives)}\")"
   ]
  },
  {
   "cell_type": "markdown",
   "id": "e0cc6f41",
   "metadata": {},
   "source": [
    "# Remove samples without annotation"
   ]
  },
  {
   "cell_type": "code",
   "execution_count": 26,
   "id": "de0bb797",
   "metadata": {
    "execution": {
     "iopub.execute_input": "2022-03-01T18:36:32.597107Z",
     "iopub.status.busy": "2022-03-01T18:36:32.596827Z",
     "iopub.status.idle": "2022-03-01T18:36:32.604436Z",
     "shell.execute_reply": "2022-03-01T18:36:32.603792Z",
     "shell.execute_reply.started": "2022-03-01T18:36:32.597076Z"
    },
    "tags": []
   },
   "outputs": [],
   "source": [
    "df_positives = df_positives[df_positives[f'text-{tag}'].fillna('').apply(list).apply(len) > 0]"
   ]
  },
  {
   "cell_type": "code",
   "execution_count": 27,
   "id": "37eee6eb",
   "metadata": {
    "execution": {
     "iopub.execute_input": "2022-03-01T18:36:32.996053Z",
     "iopub.status.busy": "2022-03-01T18:36:32.995778Z",
     "iopub.status.idle": "2022-03-01T18:36:33.005331Z",
     "shell.execute_reply": "2022-03-01T18:36:33.004378Z",
     "shell.execute_reply.started": "2022-03-01T18:36:32.996022Z"
    },
    "tags": []
   },
   "outputs": [
    {
     "name": "stdout",
     "output_type": "stream",
     "text": [
      "Annotations: 2533 | Pages: 1735\n"
     ]
    }
   ],
   "source": [
    "current_annotations = len([y for x in df_positives.dropna(subset=[f'text-{tag}'])[f'text-{tag}'].values for y in x])\n",
    "print(f\"Annotations: {current_annotations} | Pages: {len(df_positives)}\")"
   ]
  },
  {
   "cell_type": "markdown",
   "id": "a8fd7f24-ff2c-47d3-a2ad-d624da5c3eba",
   "metadata": {},
   "source": [
    "# Add negatives back"
   ]
  },
  {
   "cell_type": "code",
   "execution_count": 28,
   "id": "ccb30ab9-5915-4620-ac1b-a7dc88180988",
   "metadata": {
    "execution": {
     "iopub.execute_input": "2022-03-01T18:37:19.460699Z",
     "iopub.status.busy": "2022-03-01T18:37:19.460412Z",
     "iopub.status.idle": "2022-03-01T18:37:19.523008Z",
     "shell.execute_reply": "2022-03-01T18:37:19.522276Z",
     "shell.execute_reply.started": "2022-03-01T18:37:19.460671Z"
    },
    "tags": []
   },
   "outputs": [],
   "source": [
    "df_positives_negatives = df_positives.append(df_negatives_sample)"
   ]
  },
  {
   "cell_type": "markdown",
   "id": "84e1d716-cb43-4d39-89f1-cd0a32bebdba",
   "metadata": {},
   "source": [
    "# Save intermediate Data"
   ]
  },
  {
   "cell_type": "code",
   "execution_count": 29,
   "id": "047ac30e-0983-4c2f-854e-51b5f58526e9",
   "metadata": {
    "execution": {
     "iopub.execute_input": "2022-03-01T18:37:48.354170Z",
     "iopub.status.busy": "2022-03-01T18:37:48.353900Z",
     "iopub.status.idle": "2022-03-01T18:37:48.358736Z",
     "shell.execute_reply": "2022-03-01T18:37:48.357996Z",
     "shell.execute_reply.started": "2022-03-01T18:37:48.354143Z"
    },
    "tags": []
   },
   "outputs": [
    {
     "data": {
      "text/plain": [
       "'../../../web-annotation-extractor/data/processed/develop/dataset.avro'"
      ]
     },
     "execution_count": 29,
     "metadata": {},
     "output_type": "execute_result"
    }
   ],
   "source": [
    "data_path"
   ]
  },
  {
   "cell_type": "code",
   "execution_count": 32,
   "id": "9b62b04e-c636-427a-9441-88988eade49a",
   "metadata": {
    "execution": {
     "iopub.execute_input": "2022-03-01T18:39:55.352833Z",
     "iopub.status.busy": "2022-03-01T18:39:55.352548Z",
     "iopub.status.idle": "2022-03-01T18:40:04.933924Z",
     "shell.execute_reply": "2022-03-01T18:40:04.933171Z",
     "shell.execute_reply.started": "2022-03-01T18:39:55.352800Z"
    },
    "tags": []
   },
   "outputs": [
    {
     "name": "stdout",
     "output_type": "stream",
     "text": [
      "Saving file: ../../../web-annotation-extractor/data/processed/develop/dataset_pos(1735)_neg(5122)_intermediate.pkl\n",
      "Saving file: ../../../web-annotation-extractor/data/processed/develop/dataset_pos(1735)_intermediate.pkl\n"
     ]
    }
   ],
   "source": [
    "save_path = data_path.replace('.avro', f'_pos({len(df_positives)})_neg({len(df_negatives_sample)})_intermediate.pkl')\n",
    "print(f\"Saving file: {save_path}\")\n",
    "df_positives_negatives.to_pickle(save_path)\n",
    "\n",
    "save_path = data_path.replace(\".avro\", f\"_pos({len(df_positives)})_intermediate.pkl\")\n",
    "print(f\"Saving file: {save_path}\")\n",
    "df_positives.to_pickle(save_path)"
   ]
  },
  {
   "cell_type": "markdown",
   "id": "43fbe420",
   "metadata": {
    "tags": []
   },
   "source": [
    "# Format and Save data"
   ]
  },
  {
   "cell_type": "code",
   "execution_count": null,
   "id": "2db00692",
   "metadata": {
    "tags": []
   },
   "outputs": [],
   "source": [
    "raw_data_folder = Path.cwd().parents[2] / f'swde/my_data/{dataset}/my_CF_sourceCode'\n",
    "\n",
    "if os.path.exists(raw_data_folder):\n",
    "    print(f'Are you sure you want to remove this folder? (y/n) \\n{raw_data_folder}')\n",
    "    answer = input()    \n",
    "    if answer == 'y':\n",
    "        try:\n",
    "            shutil.rmtree(raw_data_folder)\n",
    "            print(f\"REMOVED: {raw_data_folder}\")\n",
    "        except OSError as e:\n",
    "            print (\"Error: %s - %s.\" % (e.filename, e.strerror))\n",
    "# else:\n",
    "#     print(f\"File '{groundtruth_data_path}' not found in the directory\")\n",
    "    \n",
    "domains = list(df.domain.value_counts().index)\n",
    "\n",
    "groundtruth_data_path = raw_data_folder / 'groundtruth'\n",
    "groundtruth_data_path.mkdir(parents=True, exist_ok=True)\n",
    "\n",
    "for e, domain in enumerate(domains):        \n",
    "    df_domain = df_positives_negatives[df_positives_negatives.domain == domain]\n",
    "    \n",
    "    print(f\"{e:>3}: {len(df_domain):>5} page(s) - {domain:>25}\")\n",
    "    \n",
    "    domain_annotations = {}    \n",
    "    \n",
    "    page_count = 0\n",
    "    domain_len = len(df_domain)\n",
    "    \n",
    "    for enum, df_page in df_domain.iterrows():\n",
    "        # Save html\n",
    "        html = df_page['html']\n",
    "        raw_data_path = raw_data_folder / 'WAE' / f\"{domain}({domain_len})\"\n",
    "        raw_data_path.mkdir(parents=True, exist_ok=True)\n",
    "        raw_data_path = (raw_data_path / str(page_count).zfill(4)).with_suffix('.htm')\n",
    "        print(raw_data_path)\n",
    "        \n",
    "        Html_file = open(raw_data_path, \"w\")\n",
    "        Html_file.write(html)\n",
    "        Html_file.close()\n",
    "        \n",
    "        page_count += 1\n",
    "                \n",
    "        # Get groundtruth for page for each tag\n",
    "        for tag in annotation_tags:            \n",
    "            domain_annotations[tag] = domain_annotations.get(tag, [])\n",
    "            if not df_page.isnull()[f'text-{tag}']:\n",
    "                annotations = df_page[f'text-{tag}']                \n",
    "                # Remove image links from text annotation\n",
    "                annotate = [annotation.strip() if (annotation and 'http' not in annotation.strip()) else '' for annotation in annotations]\n",
    "            else:\n",
    "                annotate = []\n",
    "            # print(f'annotate: \\n{annotate} - {len(annotate)}')            \n",
    "            domain_annotations[tag].append(annotate)            \n",
    "        print()\n",
    "        # if raw_data_path.name == '0042.htm':\n",
    "        #     break\n",
    "        \n",
    "    # Save groundtruth    \n",
    "    for tag, page_annotations in domain_annotations.items():\n",
    "        groundtruth_data_tag_path = groundtruth_data_path / f\"{domain}-{tag}.txt\"\n",
    "        print(groundtruth_data_tag_path)\n",
    "\n",
    "        page_annotations_df = pd.DataFrame(page_annotations)\n",
    "        \n",
    "        # Count number of annotations\n",
    "        page_annotations_df['number of values'] = page_annotations_df.T.count()        \n",
    "        \n",
    "        # Invert columns order \n",
    "        cols = page_annotations_df.columns.tolist()\n",
    "        page_annotations_df = page_annotations_df[cols[::-1]] \n",
    "        \n",
    "        # Get page index\n",
    "        page_annotations_df.reset_index(inplace=True)\n",
    "        page_annotations_df['index'] = page_annotations_df['index'].apply(lambda x: str(x).zfill(4))\n",
    "        \n",
    "        # Add one extra row on the top\n",
    "        page_annotations_df.loc[-1] = page_annotations_df.count()  # adding a row\n",
    "        page_annotations_df.index = page_annotations_df.index + 1  # shifting index\n",
    "        page_annotations_df = page_annotations_df.sort_index()\n",
    "        \n",
    "        page_annotations_df.to_csv(groundtruth_data_tag_path, sep=\"\\t\", index=False)"
   ]
  },
  {
   "cell_type": "markdown",
   "id": "0cb548af",
   "metadata": {},
   "source": [
    "# Final Stats"
   ]
  },
  {
   "cell_type": "markdown",
   "id": "e64368f8",
   "metadata": {
    "tags": []
   },
   "source": [
    "## Number of Domains"
   ]
  },
  {
   "cell_type": "code",
   "execution_count": 34,
   "id": "ba61942f",
   "metadata": {
    "execution": {
     "iopub.execute_input": "2022-03-01T18:41:04.461339Z",
     "iopub.status.busy": "2022-03-01T18:41:04.461015Z",
     "iopub.status.idle": "2022-03-01T18:41:04.496277Z",
     "shell.execute_reply": "2022-03-01T18:41:04.495097Z",
     "shell.execute_reply.started": "2022-03-01T18:41:04.461303Z"
    },
    "tags": []
   },
   "outputs": [
    {
     "data": {
      "text/plain": [
       "greatplacetowork.com    459\n",
       "esriuk.com              286\n",
       "outsystems.com          227\n",
       "informatica.com         223\n",
       "diligent.com            164\n",
       "                       ... \n",
       "ntouchstrategies.com      2\n",
       "captionaccess.com         2\n",
       "berkleygroup.com          1\n",
       "canelamedia.com           1\n",
       "metabroadcast.com         1\n",
       "Name: domain, Length: 105, dtype: int64"
      ]
     },
     "execution_count": 34,
     "metadata": {},
     "output_type": "execute_result"
    }
   ],
   "source": [
    "df_positives_negatives.domain.value_counts()"
   ]
  },
  {
   "cell_type": "markdown",
   "id": "a352d182",
   "metadata": {},
   "source": [
    "## Number of Pages"
   ]
  },
  {
   "cell_type": "code",
   "execution_count": 33,
   "id": "00599c40-5ea2-4ad3-b942-8d9408bd6563",
   "metadata": {
    "execution": {
     "iopub.execute_input": "2022-03-01T18:40:58.080447Z",
     "iopub.status.busy": "2022-03-01T18:40:58.080073Z",
     "iopub.status.idle": "2022-03-01T18:40:58.137897Z",
     "shell.execute_reply": "2022-03-01T18:40:58.137166Z",
     "shell.execute_reply.started": "2022-03-01T18:40:58.080416Z"
    }
   },
   "outputs": [
    {
     "name": "stdout",
     "output_type": "stream",
     "text": [
      "Annotations: 2533 | Pages: 6857\n"
     ]
    }
   ],
   "source": [
    "current_annotations = len([y for x in df_positives_negatives.dropna(subset=[f'text-{tag}'])[f'text-{tag}'].values for y in x])\n",
    "print(f\"Annotations: {current_annotations} | Pages: {len(df_positives_negatives)}\")"
   ]
  },
  {
   "cell_type": "markdown",
   "id": "4cbce928",
   "metadata": {},
   "source": [
    "---"
   ]
  }
 ],
 "metadata": {
  "jupytext": {
   "formats": "ipynb,py:percent"
  },
  "kernelspec": {
   "display_name": "markuplmft",
   "language": "python",
   "name": "markuplmft"
  },
  "language_info": {
   "codemirror_mode": {
    "name": "ipython",
    "version": 3
   },
   "file_extension": ".py",
   "mimetype": "text/x-python",
   "name": "python",
   "nbconvert_exporter": "python",
   "pygments_lexer": "ipython3",
   "version": "3.7.11"
  }
 },
 "nbformat": 4,
 "nbformat_minor": 5
}
